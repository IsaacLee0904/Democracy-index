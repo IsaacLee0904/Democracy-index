{
 "cells": [
  {
   "cell_type": "markdown",
   "metadata": {
    "id": "rUI3oiTBttdU"
   },
   "source": [
    "# Dataframe of Summit for Democracy and Democracy index "
   ]
  },
  {
   "attachments": {},
   "cell_type": "markdown",
   "metadata": {
    "id": "JS0hOAkzAXXo"
   },
   "source": [
    "## Import package"
   ]
  },
  {
   "cell_type": "code",
   "execution_count": 1,
   "metadata": {
    "id": "OR19dQhNAWqr"
   },
   "outputs": [],
   "source": [
    "# basic package\n",
    "import pandas as pd\n",
    "import numpy as np\n",
    "import plotly.express as px\n",
    "import matplotlib.pyplot as plt\n",
    "import seaborn as sns\n",
    "# for web scraping\n",
    "import requests\n",
    "from bs4 import BeautifulSoup\n",
    "import time\n",
    "# for Machine Learning\n",
    "from sklearn.model_selection import train_test_split\n",
    "from sklearn.metrics import r2_score, mean_absolute_error, mean_squared_error\n",
    "from sklearn.linear_model import LinearRegression "
   ]
  },
  {
   "cell_type": "markdown",
   "metadata": {
    "id": "6fJrtYyVuzmG"
   },
   "source": [
    "## Web crawler"
   ]
  },
  {
   "cell_type": "markdown",
   "metadata": {
    "id": "nxX84jNdbkya"
   },
   "source": [
    "### Summit table"
   ]
  },
  {
   "cell_type": "code",
   "execution_count": 2,
   "metadata": {
    "colab": {
     "base_uri": "https://localhost:8080/",
     "height": 419
    },
    "id": "5nR3FHLKuZmX",
    "outputId": "ce186442-00ac-44fa-f66e-524a607a43c0"
   },
   "outputs": [
    {
     "data": {
      "text/html": [
       "<div>\n",
       "<style scoped>\n",
       "    .dataframe tbody tr th:only-of-type {\n",
       "        vertical-align: middle;\n",
       "    }\n",
       "\n",
       "    .dataframe tbody tr th {\n",
       "        vertical-align: top;\n",
       "    }\n",
       "\n",
       "    .dataframe thead th {\n",
       "        text-align: right;\n",
       "    }\n",
       "</style>\n",
       "<table border=\"1\" class=\"dataframe\">\n",
       "  <thead>\n",
       "    <tr style=\"text-align: right;\">\n",
       "      <th></th>\n",
       "      <th>Participant</th>\n",
       "      <th>Region</th>\n",
       "      <th>Attending?[10]</th>\n",
       "      <th>Democracy Index[citation needed]</th>\n",
       "    </tr>\n",
       "  </thead>\n",
       "  <tbody>\n",
       "    <tr>\n",
       "      <th>0</th>\n",
       "      <td>Angola</td>\n",
       "      <td>Africa</td>\n",
       "      <td>Yes[11]</td>\n",
       "      <td>3.66</td>\n",
       "    </tr>\n",
       "    <tr>\n",
       "      <th>1</th>\n",
       "      <td>Botswana</td>\n",
       "      <td>Africa</td>\n",
       "      <td>Yes[12]</td>\n",
       "      <td>7.62</td>\n",
       "    </tr>\n",
       "    <tr>\n",
       "      <th>2</th>\n",
       "      <td>Cape Verde</td>\n",
       "      <td>Africa</td>\n",
       "      <td>Yes[13]</td>\n",
       "      <td>7.65</td>\n",
       "    </tr>\n",
       "    <tr>\n",
       "      <th>3</th>\n",
       "      <td>DR Congo</td>\n",
       "      <td>Africa</td>\n",
       "      <td>Yes[14]</td>\n",
       "      <td>1.13</td>\n",
       "    </tr>\n",
       "    <tr>\n",
       "      <th>4</th>\n",
       "      <td>Ghana</td>\n",
       "      <td>Africa</td>\n",
       "      <td>Yes[15]</td>\n",
       "      <td>6.50</td>\n",
       "    </tr>\n",
       "    <tr>\n",
       "      <th>...</th>\n",
       "      <td>...</td>\n",
       "      <td>...</td>\n",
       "      <td>...</td>\n",
       "      <td>...</td>\n",
       "    </tr>\n",
       "    <tr>\n",
       "      <th>107</th>\n",
       "      <td>Samoa</td>\n",
       "      <td>Oceania</td>\n",
       "      <td>Yes[115]</td>\n",
       "      <td>NaN</td>\n",
       "    </tr>\n",
       "    <tr>\n",
       "      <th>108</th>\n",
       "      <td>Solomon Islands</td>\n",
       "      <td>Oceania</td>\n",
       "      <td>NaN</td>\n",
       "      <td>NaN</td>\n",
       "    </tr>\n",
       "    <tr>\n",
       "      <th>109</th>\n",
       "      <td>Tonga</td>\n",
       "      <td>Oceania</td>\n",
       "      <td>NaN</td>\n",
       "      <td>NaN</td>\n",
       "    </tr>\n",
       "    <tr>\n",
       "      <th>110</th>\n",
       "      <td>Tuvalu</td>\n",
       "      <td>Oceania</td>\n",
       "      <td>NaN</td>\n",
       "      <td>NaN</td>\n",
       "    </tr>\n",
       "    <tr>\n",
       "      <th>111</th>\n",
       "      <td>Vanuatu</td>\n",
       "      <td>Oceania</td>\n",
       "      <td>NaN</td>\n",
       "      <td>NaN</td>\n",
       "    </tr>\n",
       "  </tbody>\n",
       "</table>\n",
       "<p>112 rows × 4 columns</p>\n",
       "</div>"
      ],
      "text/plain": [
       "         Participant   Region Attending?[10]  Democracy Index[citation needed]\n",
       "0             Angola   Africa        Yes[11]                              3.66\n",
       "1           Botswana   Africa        Yes[12]                              7.62\n",
       "2         Cape Verde   Africa        Yes[13]                              7.65\n",
       "3           DR Congo   Africa        Yes[14]                              1.13\n",
       "4              Ghana   Africa        Yes[15]                              6.50\n",
       "..               ...      ...            ...                               ...\n",
       "107            Samoa  Oceania       Yes[115]                               NaN\n",
       "108  Solomon Islands  Oceania            NaN                               NaN\n",
       "109            Tonga  Oceania            NaN                               NaN\n",
       "110           Tuvalu  Oceania            NaN                               NaN\n",
       "111          Vanuatu  Oceania            NaN                               NaN\n",
       "\n",
       "[112 rows x 4 columns]"
      ]
     },
     "execution_count": 2,
     "metadata": {},
     "output_type": "execute_result"
    }
   ],
   "source": [
    "# summit table crawler\n",
    "summiturl = requests.get('https://en.wikipedia.org/wiki/Summit_for_Democracy').text\n",
    "soup = BeautifulSoup(summiturl, 'lxml')\n",
    "my_table = soup.find('table',{'class': 'wikitable sortable'})\n",
    "summit_table = pd.read_html(str(my_table))\n",
    "# convert list to dataframe\n",
    "summit_table = pd.DataFrame(summit_table[0])\n",
    "summit_table"
   ]
  },
  {
   "cell_type": "code",
   "execution_count": 3,
   "metadata": {
    "colab": {
     "base_uri": "https://localhost:8080/",
     "height": 419
    },
    "id": "2g7YrCG2sHz4",
    "outputId": "55d7d3f5-d453-45c7-ad4a-17de7118d398"
   },
   "outputs": [
    {
     "data": {
      "text/html": [
       "<div>\n",
       "<style scoped>\n",
       "    .dataframe tbody tr th:only-of-type {\n",
       "        vertical-align: middle;\n",
       "    }\n",
       "\n",
       "    .dataframe tbody tr th {\n",
       "        vertical-align: top;\n",
       "    }\n",
       "\n",
       "    .dataframe thead th {\n",
       "        text-align: right;\n",
       "    }\n",
       "</style>\n",
       "<table border=\"1\" class=\"dataframe\">\n",
       "  <thead>\n",
       "    <tr style=\"text-align: right;\">\n",
       "      <th></th>\n",
       "      <th>Country</th>\n",
       "      <th>Region</th>\n",
       "      <th>Attending</th>\n",
       "      <th>2020</th>\n",
       "    </tr>\n",
       "  </thead>\n",
       "  <tbody>\n",
       "    <tr>\n",
       "      <th>0</th>\n",
       "      <td>Angola</td>\n",
       "      <td>Africa</td>\n",
       "      <td>1</td>\n",
       "      <td>3.66</td>\n",
       "    </tr>\n",
       "    <tr>\n",
       "      <th>1</th>\n",
       "      <td>Botswana</td>\n",
       "      <td>Africa</td>\n",
       "      <td>1</td>\n",
       "      <td>7.62</td>\n",
       "    </tr>\n",
       "    <tr>\n",
       "      <th>2</th>\n",
       "      <td>Cape Verde</td>\n",
       "      <td>Africa</td>\n",
       "      <td>1</td>\n",
       "      <td>7.65</td>\n",
       "    </tr>\n",
       "    <tr>\n",
       "      <th>3</th>\n",
       "      <td>DR Congo</td>\n",
       "      <td>Africa</td>\n",
       "      <td>1</td>\n",
       "      <td>1.13</td>\n",
       "    </tr>\n",
       "    <tr>\n",
       "      <th>4</th>\n",
       "      <td>Ghana</td>\n",
       "      <td>Africa</td>\n",
       "      <td>1</td>\n",
       "      <td>6.50</td>\n",
       "    </tr>\n",
       "    <tr>\n",
       "      <th>...</th>\n",
       "      <td>...</td>\n",
       "      <td>...</td>\n",
       "      <td>...</td>\n",
       "      <td>...</td>\n",
       "    </tr>\n",
       "    <tr>\n",
       "      <th>107</th>\n",
       "      <td>Samoa</td>\n",
       "      <td>Oceania</td>\n",
       "      <td>1</td>\n",
       "      <td>NaN</td>\n",
       "    </tr>\n",
       "    <tr>\n",
       "      <th>108</th>\n",
       "      <td>Solomon Islands</td>\n",
       "      <td>Oceania</td>\n",
       "      <td>NaN</td>\n",
       "      <td>NaN</td>\n",
       "    </tr>\n",
       "    <tr>\n",
       "      <th>109</th>\n",
       "      <td>Tonga</td>\n",
       "      <td>Oceania</td>\n",
       "      <td>NaN</td>\n",
       "      <td>NaN</td>\n",
       "    </tr>\n",
       "    <tr>\n",
       "      <th>110</th>\n",
       "      <td>Tuvalu</td>\n",
       "      <td>Oceania</td>\n",
       "      <td>NaN</td>\n",
       "      <td>NaN</td>\n",
       "    </tr>\n",
       "    <tr>\n",
       "      <th>111</th>\n",
       "      <td>Vanuatu</td>\n",
       "      <td>Oceania</td>\n",
       "      <td>NaN</td>\n",
       "      <td>NaN</td>\n",
       "    </tr>\n",
       "  </tbody>\n",
       "</table>\n",
       "<p>112 rows × 4 columns</p>\n",
       "</div>"
      ],
      "text/plain": [
       "             Country   Region Attending  2020\n",
       "0             Angola   Africa         1  3.66\n",
       "1           Botswana   Africa         1  7.62\n",
       "2         Cape Verde   Africa         1  7.65\n",
       "3           DR Congo   Africa         1  1.13\n",
       "4              Ghana   Africa         1  6.50\n",
       "..               ...      ...       ...   ...\n",
       "107            Samoa  Oceania         1   NaN\n",
       "108  Solomon Islands  Oceania       NaN   NaN\n",
       "109            Tonga  Oceania       NaN   NaN\n",
       "110           Tuvalu  Oceania       NaN   NaN\n",
       "111          Vanuatu  Oceania       NaN   NaN\n",
       "\n",
       "[112 rows x 4 columns]"
      ]
     },
     "execution_count": 3,
     "metadata": {},
     "output_type": "execute_result"
    }
   ],
   "source": [
    "# data cleaning\n",
    "summit_table.columns = ['Country', 'Region', 'Attending', '2020']\n",
    "a01 = summit_table['Attending'].str.contains('Yes', regex=False)\n",
    "a01.loc[a01 == True] = 1\n",
    "a01.loc[a01 == False] = 0\n",
    "summit_table['Attending'] = pd.DataFrame(a01)\n",
    "summit_table"
   ]
  },
  {
   "cell_type": "markdown",
   "metadata": {
    "id": "Vu1pLUXO6-9h"
   },
   "source": [
    "### Democracy Index table"
   ]
  },
  {
   "cell_type": "code",
   "execution_count": 4,
   "metadata": {
    "colab": {
     "base_uri": "https://localhost:8080/",
     "height": 684
    },
    "id": "DYo8balbxKt9",
    "outputId": "47bfa43f-0f90-404c-c536-d13de46cabaf"
   },
   "outputs": [
    {
     "data": {
      "text/html": [
       "<div>\n",
       "<style scoped>\n",
       "    .dataframe tbody tr th:only-of-type {\n",
       "        vertical-align: middle;\n",
       "    }\n",
       "\n",
       "    .dataframe tbody tr th {\n",
       "        vertical-align: top;\n",
       "    }\n",
       "\n",
       "    .dataframe thead th {\n",
       "        text-align: right;\n",
       "    }\n",
       "</style>\n",
       "<table border=\"1\" class=\"dataframe\">\n",
       "  <thead>\n",
       "    <tr style=\"text-align: right;\">\n",
       "      <th></th>\n",
       "      <th>Region</th>\n",
       "      <th>2021 rank</th>\n",
       "      <th>Country</th>\n",
       "      <th>Regime type</th>\n",
       "      <th>2021</th>\n",
       "      <th>2020</th>\n",
       "      <th>2019</th>\n",
       "      <th>2018</th>\n",
       "      <th>2017</th>\n",
       "      <th>2016</th>\n",
       "      <th>2015</th>\n",
       "      <th>2014</th>\n",
       "      <th>2013</th>\n",
       "      <th>2012</th>\n",
       "      <th>2011</th>\n",
       "      <th>2010</th>\n",
       "      <th>2008</th>\n",
       "      <th>2006</th>\n",
       "    </tr>\n",
       "  </thead>\n",
       "  <tbody>\n",
       "    <tr>\n",
       "      <th>16</th>\n",
       "      <td>Western Europe</td>\n",
       "      <td>1</td>\n",
       "      <td>Norway</td>\n",
       "      <td>Full democracy</td>\n",
       "      <td>9.75</td>\n",
       "      <td>9.81</td>\n",
       "      <td>9.87</td>\n",
       "      <td>9.87</td>\n",
       "      <td>9.87</td>\n",
       "      <td>9.93</td>\n",
       "      <td>9.93</td>\n",
       "      <td>9.93</td>\n",
       "      <td>9.93</td>\n",
       "      <td>9.93</td>\n",
       "      <td>9.80</td>\n",
       "      <td>9.80</td>\n",
       "      <td>9.68</td>\n",
       "      <td>9.55</td>\n",
       "    </tr>\n",
       "    <tr>\n",
       "      <th>91</th>\n",
       "      <td>Asia and Australasia</td>\n",
       "      <td>2</td>\n",
       "      <td>New Zealand</td>\n",
       "      <td>Full democracy</td>\n",
       "      <td>9.37</td>\n",
       "      <td>9.25</td>\n",
       "      <td>9.26</td>\n",
       "      <td>9.26</td>\n",
       "      <td>9.26</td>\n",
       "      <td>9.26</td>\n",
       "      <td>9.26</td>\n",
       "      <td>9.26</td>\n",
       "      <td>9.26</td>\n",
       "      <td>9.26</td>\n",
       "      <td>9.26</td>\n",
       "      <td>9.26</td>\n",
       "      <td>9.19</td>\n",
       "      <td>9.01</td>\n",
       "    </tr>\n",
       "    <tr>\n",
       "      <th>6</th>\n",
       "      <td>Western Europe</td>\n",
       "      <td>3</td>\n",
       "      <td>Finland</td>\n",
       "      <td>Full democracy</td>\n",
       "      <td>9.27</td>\n",
       "      <td>9.20</td>\n",
       "      <td>9.25</td>\n",
       "      <td>9.14</td>\n",
       "      <td>9.03</td>\n",
       "      <td>9.03</td>\n",
       "      <td>9.03</td>\n",
       "      <td>9.03</td>\n",
       "      <td>9.03</td>\n",
       "      <td>9.06</td>\n",
       "      <td>9.06</td>\n",
       "      <td>9.19</td>\n",
       "      <td>9.25</td>\n",
       "      <td>9.25</td>\n",
       "    </tr>\n",
       "    <tr>\n",
       "      <th>19</th>\n",
       "      <td>Western Europe</td>\n",
       "      <td>4</td>\n",
       "      <td>Sweden</td>\n",
       "      <td>Full democracy</td>\n",
       "      <td>9.26</td>\n",
       "      <td>9.26</td>\n",
       "      <td>9.39</td>\n",
       "      <td>9.39</td>\n",
       "      <td>9.39</td>\n",
       "      <td>9.39</td>\n",
       "      <td>9.45</td>\n",
       "      <td>9.73</td>\n",
       "      <td>9.73</td>\n",
       "      <td>9.73</td>\n",
       "      <td>9.50</td>\n",
       "      <td>9.50</td>\n",
       "      <td>9.88</td>\n",
       "      <td>9.88</td>\n",
       "    </tr>\n",
       "    <tr>\n",
       "      <th>10</th>\n",
       "      <td>Western Europe</td>\n",
       "      <td>5</td>\n",
       "      <td>Iceland</td>\n",
       "      <td>Full democracy</td>\n",
       "      <td>9.18</td>\n",
       "      <td>9.37</td>\n",
       "      <td>9.58</td>\n",
       "      <td>9.58</td>\n",
       "      <td>9.58</td>\n",
       "      <td>9.50</td>\n",
       "      <td>9.58</td>\n",
       "      <td>9.58</td>\n",
       "      <td>9.65</td>\n",
       "      <td>9.65</td>\n",
       "      <td>9.65</td>\n",
       "      <td>9.65</td>\n",
       "      <td>9.65</td>\n",
       "      <td>9.71</td>\n",
       "    </tr>\n",
       "    <tr>\n",
       "      <th>...</th>\n",
       "      <td>...</td>\n",
       "      <td>...</td>\n",
       "      <td>...</td>\n",
       "      <td>...</td>\n",
       "      <td>...</td>\n",
       "      <td>...</td>\n",
       "      <td>...</td>\n",
       "      <td>...</td>\n",
       "      <td>...</td>\n",
       "      <td>...</td>\n",
       "      <td>...</td>\n",
       "      <td>...</td>\n",
       "      <td>...</td>\n",
       "      <td>...</td>\n",
       "      <td>...</td>\n",
       "      <td>...</td>\n",
       "      <td>...</td>\n",
       "      <td>...</td>\n",
       "    </tr>\n",
       "    <tr>\n",
       "      <th>130</th>\n",
       "      <td>Sub-Saharan Africa</td>\n",
       "      <td>162</td>\n",
       "      <td>Central African Republic</td>\n",
       "      <td>Authoritarian</td>\n",
       "      <td>1.43</td>\n",
       "      <td>1.32</td>\n",
       "      <td>1.32</td>\n",
       "      <td>1.52</td>\n",
       "      <td>1.52</td>\n",
       "      <td>1.61</td>\n",
       "      <td>1.57</td>\n",
       "      <td>1.49</td>\n",
       "      <td>1.49</td>\n",
       "      <td>1.99</td>\n",
       "      <td>1.82</td>\n",
       "      <td>1.82</td>\n",
       "      <td>1.86</td>\n",
       "      <td>1.61</td>\n",
       "    </tr>\n",
       "    <tr>\n",
       "      <th>135</th>\n",
       "      <td>Sub-Saharan Africa</td>\n",
       "      <td>164</td>\n",
       "      <td>Democratic Republic of the Congo</td>\n",
       "      <td>Authoritarian</td>\n",
       "      <td>1.40</td>\n",
       "      <td>1.13</td>\n",
       "      <td>1.13</td>\n",
       "      <td>1.49</td>\n",
       "      <td>1.61</td>\n",
       "      <td>1.93</td>\n",
       "      <td>2.11</td>\n",
       "      <td>1.75</td>\n",
       "      <td>1.83</td>\n",
       "      <td>1.92</td>\n",
       "      <td>2.15</td>\n",
       "      <td>2.15</td>\n",
       "      <td>2.28</td>\n",
       "      <td>2.76</td>\n",
       "    </tr>\n",
       "    <tr>\n",
       "      <th>92</th>\n",
       "      <td>Asia and Australasia</td>\n",
       "      <td>165</td>\n",
       "      <td>North Korea</td>\n",
       "      <td>Authoritarian</td>\n",
       "      <td>1.08</td>\n",
       "      <td>1.08</td>\n",
       "      <td>1.08</td>\n",
       "      <td>1.08</td>\n",
       "      <td>1.08</td>\n",
       "      <td>1.08</td>\n",
       "      <td>1.08</td>\n",
       "      <td>1.08</td>\n",
       "      <td>1.08</td>\n",
       "      <td>1.08</td>\n",
       "      <td>1.08</td>\n",
       "      <td>1.08</td>\n",
       "      <td>0.86</td>\n",
       "      <td>1.03</td>\n",
       "    </tr>\n",
       "    <tr>\n",
       "      <th>89</th>\n",
       "      <td>Asia and Australasia</td>\n",
       "      <td>166</td>\n",
       "      <td>Myanmar</td>\n",
       "      <td>Authoritarian</td>\n",
       "      <td>1.02</td>\n",
       "      <td>3.04</td>\n",
       "      <td>3.55</td>\n",
       "      <td>3.83</td>\n",
       "      <td>3.83</td>\n",
       "      <td>4.20</td>\n",
       "      <td>4.14</td>\n",
       "      <td>3.05</td>\n",
       "      <td>2.76</td>\n",
       "      <td>2.35</td>\n",
       "      <td>1.77</td>\n",
       "      <td>1.77</td>\n",
       "      <td>1.77</td>\n",
       "      <td>1.77</td>\n",
       "    </tr>\n",
       "    <tr>\n",
       "      <th>75</th>\n",
       "      <td>Asia and Australasia</td>\n",
       "      <td>167</td>\n",
       "      <td>Afghanistan</td>\n",
       "      <td>Authoritarian</td>\n",
       "      <td>0.32</td>\n",
       "      <td>2.85</td>\n",
       "      <td>2.85</td>\n",
       "      <td>2.97</td>\n",
       "      <td>2.55</td>\n",
       "      <td>2.55</td>\n",
       "      <td>2.77</td>\n",
       "      <td>2.77</td>\n",
       "      <td>2.48</td>\n",
       "      <td>2.48</td>\n",
       "      <td>2.48</td>\n",
       "      <td>2.48</td>\n",
       "      <td>3.02</td>\n",
       "      <td>3.06</td>\n",
       "    </tr>\n",
       "  </tbody>\n",
       "</table>\n",
       "<p>167 rows × 18 columns</p>\n",
       "</div>"
      ],
      "text/plain": [
       "                   Region  2021 rank                           Country  \\\n",
       "16         Western Europe          1                            Norway   \n",
       "91   Asia and Australasia          2                       New Zealand   \n",
       "6          Western Europe          3                           Finland   \n",
       "19         Western Europe          4                            Sweden   \n",
       "10         Western Europe          5                           Iceland   \n",
       "..                    ...        ...                               ...   \n",
       "130    Sub-Saharan Africa        162          Central African Republic   \n",
       "135    Sub-Saharan Africa        164  Democratic Republic of the Congo   \n",
       "92   Asia and Australasia        165                       North Korea   \n",
       "89   Asia and Australasia        166                           Myanmar   \n",
       "75   Asia and Australasia        167                       Afghanistan   \n",
       "\n",
       "        Regime type  2021  2020  2019  2018  2017  2016  2015  2014  2013  \\\n",
       "16   Full democracy  9.75  9.81  9.87  9.87  9.87  9.93  9.93  9.93  9.93   \n",
       "91   Full democracy  9.37  9.25  9.26  9.26  9.26  9.26  9.26  9.26  9.26   \n",
       "6    Full democracy  9.27  9.20  9.25  9.14  9.03  9.03  9.03  9.03  9.03   \n",
       "19   Full democracy  9.26  9.26  9.39  9.39  9.39  9.39  9.45  9.73  9.73   \n",
       "10   Full democracy  9.18  9.37  9.58  9.58  9.58  9.50  9.58  9.58  9.65   \n",
       "..              ...   ...   ...   ...   ...   ...   ...   ...   ...   ...   \n",
       "130   Authoritarian  1.43  1.32  1.32  1.52  1.52  1.61  1.57  1.49  1.49   \n",
       "135   Authoritarian  1.40  1.13  1.13  1.49  1.61  1.93  2.11  1.75  1.83   \n",
       "92    Authoritarian  1.08  1.08  1.08  1.08  1.08  1.08  1.08  1.08  1.08   \n",
       "89    Authoritarian  1.02  3.04  3.55  3.83  3.83  4.20  4.14  3.05  2.76   \n",
       "75    Authoritarian  0.32  2.85  2.85  2.97  2.55  2.55  2.77  2.77  2.48   \n",
       "\n",
       "     2012  2011  2010  2008  2006  \n",
       "16   9.93  9.80  9.80  9.68  9.55  \n",
       "91   9.26  9.26  9.26  9.19  9.01  \n",
       "6    9.06  9.06  9.19  9.25  9.25  \n",
       "19   9.73  9.50  9.50  9.88  9.88  \n",
       "10   9.65  9.65  9.65  9.65  9.71  \n",
       "..    ...   ...   ...   ...   ...  \n",
       "130  1.99  1.82  1.82  1.86  1.61  \n",
       "135  1.92  2.15  2.15  2.28  2.76  \n",
       "92   1.08  1.08  1.08  0.86  1.03  \n",
       "89   2.35  1.77  1.77  1.77  1.77  \n",
       "75   2.48  2.48  2.48  3.02  3.06  \n",
       "\n",
       "[167 rows x 18 columns]"
      ]
     },
     "execution_count": 4,
     "metadata": {},
     "output_type": "execute_result"
    }
   ],
   "source": [
    "# democracy Index table crawler\n",
    "url = 'https://en.wikipedia.org/wiki/Democracy_Index'\n",
    "df_list = pd.read_html(url)\n",
    "index_table = df_list[5] # while there is not only one table on the page\n",
    "index_table = index_table.sort_values(by = '2021', ascending=False)\n",
    "index_table"
   ]
  },
  {
   "attachments": {},
   "cell_type": "markdown",
   "metadata": {
    "id": "wChQ8BDXrEJT"
   },
   "source": [
    "### Democracy Index table with other variable from Chinese url"
   ]
  },
  {
   "cell_type": "code",
   "execution_count": 5,
   "metadata": {
    "colab": {
     "base_uri": "https://localhost:8080/",
     "height": 450
    },
    "id": "fjiHhUPEpYkQ",
    "outputId": "8b470067-1a52-4b63-e9c2-61d29d6e6b9d"
   },
   "outputs": [
    {
     "data": {
      "text/html": [
       "<div>\n",
       "<style scoped>\n",
       "    .dataframe tbody tr th:only-of-type {\n",
       "        vertical-align: middle;\n",
       "    }\n",
       "\n",
       "    .dataframe tbody tr th {\n",
       "        vertical-align: top;\n",
       "    }\n",
       "\n",
       "    .dataframe thead tr th {\n",
       "        text-align: left;\n",
       "    }\n",
       "</style>\n",
       "<table border=\"1\" class=\"dataframe\">\n",
       "  <thead>\n",
       "    <tr>\n",
       "      <th></th>\n",
       "      <th>排名</th>\n",
       "      <th>Δ 排名</th>\n",
       "      <th>國家與地區</th>\n",
       "      <th>政體類型</th>\n",
       "      <th>選舉過程與多樣性</th>\n",
       "      <th>政府運作</th>\n",
       "      <th>政治參與</th>\n",
       "      <th>政治文化</th>\n",
       "      <th>公民自由</th>\n",
       "      <th>總分</th>\n",
       "      <th>Δ 分數</th>\n",
       "    </tr>\n",
       "    <tr>\n",
       "      <th></th>\n",
       "      <th>完全民主</th>\n",
       "      <th>完全民主</th>\n",
       "      <th>完全民主</th>\n",
       "      <th>完全民主</th>\n",
       "      <th>完全民主</th>\n",
       "      <th>完全民主</th>\n",
       "      <th>完全民主</th>\n",
       "      <th>完全民主</th>\n",
       "      <th>完全民主</th>\n",
       "      <th>完全民主</th>\n",
       "      <th>完全民主</th>\n",
       "    </tr>\n",
       "  </thead>\n",
       "  <tbody>\n",
       "    <tr>\n",
       "      <th>0</th>\n",
       "      <td>1</td>\n",
       "      <td>━</td>\n",
       "      <td>挪威</td>\n",
       "      <td>完全民主</td>\n",
       "      <td>10.00</td>\n",
       "      <td>9.64</td>\n",
       "      <td>10.00</td>\n",
       "      <td>10.00</td>\n",
       "      <td>9.12</td>\n",
       "      <td>9.75</td>\n",
       "      <td>▼ 0.06</td>\n",
       "    </tr>\n",
       "    <tr>\n",
       "      <th>1</th>\n",
       "      <td>2</td>\n",
       "      <td>▲ 2</td>\n",
       "      <td>新西蘭</td>\n",
       "      <td>完全民主</td>\n",
       "      <td>10.00</td>\n",
       "      <td>8.93</td>\n",
       "      <td>9.44</td>\n",
       "      <td>8.75</td>\n",
       "      <td>9.71</td>\n",
       "      <td>9.37</td>\n",
       "      <td>▲ 0.12</td>\n",
       "    </tr>\n",
       "    <tr>\n",
       "      <th>2</th>\n",
       "      <td>3</td>\n",
       "      <td>▲ 3</td>\n",
       "      <td>芬兰</td>\n",
       "      <td>完全民主</td>\n",
       "      <td>10.00</td>\n",
       "      <td>9.29</td>\n",
       "      <td>8.89</td>\n",
       "      <td>8.75</td>\n",
       "      <td>9.41</td>\n",
       "      <td>9.27</td>\n",
       "      <td>▲ 0.07</td>\n",
       "    </tr>\n",
       "    <tr>\n",
       "      <th>3</th>\n",
       "      <td>4</td>\n",
       "      <td>▼ 1</td>\n",
       "      <td>瑞典</td>\n",
       "      <td>完全民主</td>\n",
       "      <td>9.58</td>\n",
       "      <td>9.29</td>\n",
       "      <td>8.33</td>\n",
       "      <td>10.00</td>\n",
       "      <td>9.12</td>\n",
       "      <td>9.26</td>\n",
       "      <td>━</td>\n",
       "    </tr>\n",
       "    <tr>\n",
       "      <th>4</th>\n",
       "      <td>5</td>\n",
       "      <td>▼ 3</td>\n",
       "      <td>冰島</td>\n",
       "      <td>完全民主</td>\n",
       "      <td>10.00</td>\n",
       "      <td>8.21</td>\n",
       "      <td>8.89</td>\n",
       "      <td>9.38</td>\n",
       "      <td>9.41</td>\n",
       "      <td>9.18</td>\n",
       "      <td>▼ 0.19</td>\n",
       "    </tr>\n",
       "    <tr>\n",
       "      <th>...</th>\n",
       "      <td>...</td>\n",
       "      <td>...</td>\n",
       "      <td>...</td>\n",
       "      <td>...</td>\n",
       "      <td>...</td>\n",
       "      <td>...</td>\n",
       "      <td>...</td>\n",
       "      <td>...</td>\n",
       "      <td>...</td>\n",
       "      <td>...</td>\n",
       "      <td>...</td>\n",
       "    </tr>\n",
       "    <tr>\n",
       "      <th>165</th>\n",
       "      <td>162</td>\n",
       "      <td>▲ 3</td>\n",
       "      <td>中非</td>\n",
       "      <td>專制政權</td>\n",
       "      <td>1.25</td>\n",
       "      <td>0.00</td>\n",
       "      <td>1.67</td>\n",
       "      <td>1.88</td>\n",
       "      <td>2.35</td>\n",
       "      <td>1.43</td>\n",
       "      <td>▲ 0.11</td>\n",
       "    </tr>\n",
       "    <tr>\n",
       "      <th>166</th>\n",
       "      <td>164</td>\n",
       "      <td>▲ 2</td>\n",
       "      <td>刚果民主共和国</td>\n",
       "      <td>專制政權</td>\n",
       "      <td>0.75</td>\n",
       "      <td>0.00</td>\n",
       "      <td>2.22</td>\n",
       "      <td>3.13</td>\n",
       "      <td>0.88</td>\n",
       "      <td>1.40</td>\n",
       "      <td>▲ 0.27</td>\n",
       "    </tr>\n",
       "    <tr>\n",
       "      <th>167</th>\n",
       "      <td>165</td>\n",
       "      <td>▲ 2</td>\n",
       "      <td>朝鲜</td>\n",
       "      <td>專制政權</td>\n",
       "      <td>0.00</td>\n",
       "      <td>2.50</td>\n",
       "      <td>1.67</td>\n",
       "      <td>1.25</td>\n",
       "      <td>0.00</td>\n",
       "      <td>1.08</td>\n",
       "      <td>━</td>\n",
       "    </tr>\n",
       "    <tr>\n",
       "      <th>168</th>\n",
       "      <td>166</td>\n",
       "      <td>▼ 31</td>\n",
       "      <td>緬甸</td>\n",
       "      <td>專制政權</td>\n",
       "      <td>0.00</td>\n",
       "      <td>0.00</td>\n",
       "      <td>1.67</td>\n",
       "      <td>3.13</td>\n",
       "      <td>0.29</td>\n",
       "      <td>1.02</td>\n",
       "      <td>▼ 2.02</td>\n",
       "    </tr>\n",
       "    <tr>\n",
       "      <th>169</th>\n",
       "      <td>167</td>\n",
       "      <td>▼ 28</td>\n",
       "      <td>阿富汗</td>\n",
       "      <td>專制政權</td>\n",
       "      <td>0.00</td>\n",
       "      <td>0.00</td>\n",
       "      <td>0.07</td>\n",
       "      <td>0.00</td>\n",
       "      <td>1.25</td>\n",
       "      <td>0.32</td>\n",
       "      <td>▼ 2.53</td>\n",
       "    </tr>\n",
       "  </tbody>\n",
       "</table>\n",
       "<p>170 rows × 11 columns</p>\n",
       "</div>"
      ],
      "text/plain": [
       "      排名  Δ 排名    國家與地區  政體類型 選舉過程與多樣性  政府運作   政治參與   政治文化  公民自由    總分    Δ 分數\n",
       "    完全民主  完全民主     完全民主  完全民主     完全民主  完全民主   完全民主   完全民主  完全民主  完全民主    完全民主\n",
       "0      1     ━       挪威  完全民主    10.00  9.64  10.00  10.00  9.12  9.75  ▼ 0.06\n",
       "1      2   ▲ 2      新西蘭  完全民主    10.00  8.93   9.44   8.75  9.71  9.37  ▲ 0.12\n",
       "2      3   ▲ 3       芬兰  完全民主    10.00  9.29   8.89   8.75  9.41  9.27  ▲ 0.07\n",
       "3      4   ▼ 1       瑞典  完全民主     9.58  9.29   8.33  10.00  9.12  9.26       ━\n",
       "4      5   ▼ 3       冰島  完全民主    10.00  8.21   8.89   9.38  9.41  9.18  ▼ 0.19\n",
       "..   ...   ...      ...   ...      ...   ...    ...    ...   ...   ...     ...\n",
       "165  162   ▲ 3       中非  專制政權     1.25  0.00   1.67   1.88  2.35  1.43  ▲ 0.11\n",
       "166  164   ▲ 2  刚果民主共和国  專制政權     0.75  0.00   2.22   3.13  0.88  1.40  ▲ 0.27\n",
       "167  165   ▲ 2       朝鲜  專制政權     0.00  2.50   1.67   1.25  0.00  1.08       ━\n",
       "168  166  ▼ 31       緬甸  專制政權     0.00  0.00   1.67   3.13  0.29  1.02  ▼ 2.02\n",
       "169  167  ▼ 28      阿富汗  專制政權     0.00  0.00   0.07   0.00  1.25  0.32  ▼ 2.53\n",
       "\n",
       "[170 rows x 11 columns]"
      ]
     },
     "execution_count": 5,
     "metadata": {},
     "output_type": "execute_result"
    }
   ],
   "source": [
    "# democracy Index table crawler(chinese)\n",
    "url = 'https://zh.wikipedia.org/wiki/%E6%B0%91%E4%B8%BB%E6%8C%87%E6%95%B0'\n",
    "df_list = pd.read_html(url)\n",
    "index_chi = df_list[5] # while there is not only one table on the page\n",
    "index_chi"
   ]
  },
  {
   "cell_type": "code",
   "execution_count": 6,
   "metadata": {
    "colab": {
     "base_uri": "https://localhost:8080/",
     "height": 450
    },
    "id": "kQv0ZyL-prOo",
    "outputId": "69476974-c674-4839-9221-51f1187f338c"
   },
   "outputs": [
    {
     "data": {
      "text/html": [
       "<div>\n",
       "<style scoped>\n",
       "    .dataframe tbody tr th:only-of-type {\n",
       "        vertical-align: middle;\n",
       "    }\n",
       "\n",
       "    .dataframe tbody tr th {\n",
       "        vertical-align: top;\n",
       "    }\n",
       "\n",
       "    .dataframe thead tr th {\n",
       "        text-align: left;\n",
       "    }\n",
       "</style>\n",
       "<table border=\"1\" class=\"dataframe\">\n",
       "  <thead>\n",
       "    <tr>\n",
       "      <th></th>\n",
       "      <th>2021 rank</th>\n",
       "      <th>Δ 排名</th>\n",
       "      <th>Country</th>\n",
       "      <th>政體類型</th>\n",
       "      <th>Election</th>\n",
       "      <th>Government</th>\n",
       "      <th>Participate</th>\n",
       "      <th>Culture</th>\n",
       "      <th>Freedom</th>\n",
       "      <th>總分</th>\n",
       "      <th>Δ 分數</th>\n",
       "    </tr>\n",
       "    <tr>\n",
       "      <th></th>\n",
       "      <th>完全民主</th>\n",
       "      <th>完全民主</th>\n",
       "      <th>完全民主</th>\n",
       "      <th>完全民主</th>\n",
       "      <th>完全民主</th>\n",
       "      <th>完全民主</th>\n",
       "      <th>完全民主</th>\n",
       "      <th>完全民主</th>\n",
       "      <th>完全民主</th>\n",
       "      <th>完全民主</th>\n",
       "      <th>完全民主</th>\n",
       "    </tr>\n",
       "  </thead>\n",
       "  <tbody>\n",
       "    <tr>\n",
       "      <th>0</th>\n",
       "      <td>1</td>\n",
       "      <td>━</td>\n",
       "      <td>挪威</td>\n",
       "      <td>完全民主</td>\n",
       "      <td>10.00</td>\n",
       "      <td>9.64</td>\n",
       "      <td>10.00</td>\n",
       "      <td>10.00</td>\n",
       "      <td>9.12</td>\n",
       "      <td>9.75</td>\n",
       "      <td>▼ 0.06</td>\n",
       "    </tr>\n",
       "    <tr>\n",
       "      <th>1</th>\n",
       "      <td>2</td>\n",
       "      <td>▲ 2</td>\n",
       "      <td>新西蘭</td>\n",
       "      <td>完全民主</td>\n",
       "      <td>10.00</td>\n",
       "      <td>8.93</td>\n",
       "      <td>9.44</td>\n",
       "      <td>8.75</td>\n",
       "      <td>9.71</td>\n",
       "      <td>9.37</td>\n",
       "      <td>▲ 0.12</td>\n",
       "    </tr>\n",
       "    <tr>\n",
       "      <th>2</th>\n",
       "      <td>3</td>\n",
       "      <td>▲ 3</td>\n",
       "      <td>芬兰</td>\n",
       "      <td>完全民主</td>\n",
       "      <td>10.00</td>\n",
       "      <td>9.29</td>\n",
       "      <td>8.89</td>\n",
       "      <td>8.75</td>\n",
       "      <td>9.41</td>\n",
       "      <td>9.27</td>\n",
       "      <td>▲ 0.07</td>\n",
       "    </tr>\n",
       "    <tr>\n",
       "      <th>3</th>\n",
       "      <td>4</td>\n",
       "      <td>▼ 1</td>\n",
       "      <td>瑞典</td>\n",
       "      <td>完全民主</td>\n",
       "      <td>9.58</td>\n",
       "      <td>9.29</td>\n",
       "      <td>8.33</td>\n",
       "      <td>10.00</td>\n",
       "      <td>9.12</td>\n",
       "      <td>9.26</td>\n",
       "      <td>━</td>\n",
       "    </tr>\n",
       "    <tr>\n",
       "      <th>4</th>\n",
       "      <td>5</td>\n",
       "      <td>▼ 3</td>\n",
       "      <td>冰島</td>\n",
       "      <td>完全民主</td>\n",
       "      <td>10.00</td>\n",
       "      <td>8.21</td>\n",
       "      <td>8.89</td>\n",
       "      <td>9.38</td>\n",
       "      <td>9.41</td>\n",
       "      <td>9.18</td>\n",
       "      <td>▼ 0.19</td>\n",
       "    </tr>\n",
       "    <tr>\n",
       "      <th>...</th>\n",
       "      <td>...</td>\n",
       "      <td>...</td>\n",
       "      <td>...</td>\n",
       "      <td>...</td>\n",
       "      <td>...</td>\n",
       "      <td>...</td>\n",
       "      <td>...</td>\n",
       "      <td>...</td>\n",
       "      <td>...</td>\n",
       "      <td>...</td>\n",
       "      <td>...</td>\n",
       "    </tr>\n",
       "    <tr>\n",
       "      <th>165</th>\n",
       "      <td>162</td>\n",
       "      <td>▲ 3</td>\n",
       "      <td>中非</td>\n",
       "      <td>專制政權</td>\n",
       "      <td>1.25</td>\n",
       "      <td>0.00</td>\n",
       "      <td>1.67</td>\n",
       "      <td>1.88</td>\n",
       "      <td>2.35</td>\n",
       "      <td>1.43</td>\n",
       "      <td>▲ 0.11</td>\n",
       "    </tr>\n",
       "    <tr>\n",
       "      <th>166</th>\n",
       "      <td>164</td>\n",
       "      <td>▲ 2</td>\n",
       "      <td>刚果民主共和国</td>\n",
       "      <td>專制政權</td>\n",
       "      <td>0.75</td>\n",
       "      <td>0.00</td>\n",
       "      <td>2.22</td>\n",
       "      <td>3.13</td>\n",
       "      <td>0.88</td>\n",
       "      <td>1.40</td>\n",
       "      <td>▲ 0.27</td>\n",
       "    </tr>\n",
       "    <tr>\n",
       "      <th>167</th>\n",
       "      <td>165</td>\n",
       "      <td>▲ 2</td>\n",
       "      <td>朝鲜</td>\n",
       "      <td>專制政權</td>\n",
       "      <td>0.00</td>\n",
       "      <td>2.50</td>\n",
       "      <td>1.67</td>\n",
       "      <td>1.25</td>\n",
       "      <td>0.00</td>\n",
       "      <td>1.08</td>\n",
       "      <td>━</td>\n",
       "    </tr>\n",
       "    <tr>\n",
       "      <th>168</th>\n",
       "      <td>166</td>\n",
       "      <td>▼ 31</td>\n",
       "      <td>緬甸</td>\n",
       "      <td>專制政權</td>\n",
       "      <td>0.00</td>\n",
       "      <td>0.00</td>\n",
       "      <td>1.67</td>\n",
       "      <td>3.13</td>\n",
       "      <td>0.29</td>\n",
       "      <td>1.02</td>\n",
       "      <td>▼ 2.02</td>\n",
       "    </tr>\n",
       "    <tr>\n",
       "      <th>169</th>\n",
       "      <td>167</td>\n",
       "      <td>▼ 28</td>\n",
       "      <td>阿富汗</td>\n",
       "      <td>專制政權</td>\n",
       "      <td>0.00</td>\n",
       "      <td>0.00</td>\n",
       "      <td>0.07</td>\n",
       "      <td>0.00</td>\n",
       "      <td>1.25</td>\n",
       "      <td>0.32</td>\n",
       "      <td>▼ 2.53</td>\n",
       "    </tr>\n",
       "  </tbody>\n",
       "</table>\n",
       "<p>170 rows × 11 columns</p>\n",
       "</div>"
      ],
      "text/plain": [
       "    2021 rank  Δ 排名  Country  政體類型 Election Government Participate Culture  \\\n",
       "         完全民主  完全民主     完全民主  完全民主     完全民主       完全民主        完全民主    完全民主   \n",
       "0           1     ━       挪威  完全民主    10.00       9.64       10.00   10.00   \n",
       "1           2   ▲ 2      新西蘭  完全民主    10.00       8.93        9.44    8.75   \n",
       "2           3   ▲ 3       芬兰  完全民主    10.00       9.29        8.89    8.75   \n",
       "3           4   ▼ 1       瑞典  完全民主     9.58       9.29        8.33   10.00   \n",
       "4           5   ▼ 3       冰島  完全民主    10.00       8.21        8.89    9.38   \n",
       "..        ...   ...      ...   ...      ...        ...         ...     ...   \n",
       "165       162   ▲ 3       中非  專制政權     1.25       0.00        1.67    1.88   \n",
       "166       164   ▲ 2  刚果民主共和国  專制政權     0.75       0.00        2.22    3.13   \n",
       "167       165   ▲ 2       朝鲜  專制政權     0.00       2.50        1.67    1.25   \n",
       "168       166  ▼ 31       緬甸  專制政權     0.00       0.00        1.67    3.13   \n",
       "169       167  ▼ 28      阿富汗  專制政權     0.00       0.00        0.07    0.00   \n",
       "\n",
       "    Freedom    總分    Δ 分數  \n",
       "       完全民主  完全民主    完全民主  \n",
       "0      9.12  9.75  ▼ 0.06  \n",
       "1      9.71  9.37  ▲ 0.12  \n",
       "2      9.41  9.27  ▲ 0.07  \n",
       "3      9.12  9.26       ━  \n",
       "4      9.41  9.18  ▼ 0.19  \n",
       "..      ...   ...     ...  \n",
       "165    2.35  1.43  ▲ 0.11  \n",
       "166    0.88  1.40  ▲ 0.27  \n",
       "167    0.00  1.08       ━  \n",
       "168    0.29  1.02  ▼ 2.02  \n",
       "169    1.25  0.32  ▼ 2.53  \n",
       "\n",
       "[170 rows x 11 columns]"
      ]
     },
     "execution_count": 6,
     "metadata": {},
     "output_type": "execute_result"
    }
   ],
   "source": [
    "# data cleaning\n",
    "index_chi = index_chi.rename(columns={'排名': '2021 rank', '國家與地區': 'Country', '選舉過程與多樣性': 'Election', '政府運作': 'Government', '政治參與': 'Participate',\n",
    "             '政治文化': 'Culture', '公民自由': 'Freedom'})\n",
    "index_chi"
   ]
  },
  {
   "cell_type": "code",
   "execution_count": 7,
   "metadata": {
    "colab": {
     "base_uri": "https://localhost:8080/",
     "height": 419
    },
    "id": "x7-iT8LpwSx_",
    "outputId": "9d8cfa8f-57bf-4f94-d864-893c487b5942"
   },
   "outputs": [
    {
     "data": {
      "text/html": [
       "<div>\n",
       "<style scoped>\n",
       "    .dataframe tbody tr th:only-of-type {\n",
       "        vertical-align: middle;\n",
       "    }\n",
       "\n",
       "    .dataframe tbody tr th {\n",
       "        vertical-align: top;\n",
       "    }\n",
       "\n",
       "    .dataframe thead th {\n",
       "        text-align: right;\n",
       "    }\n",
       "</style>\n",
       "<table border=\"1\" class=\"dataframe\">\n",
       "  <thead>\n",
       "    <tr style=\"text-align: right;\">\n",
       "      <th></th>\n",
       "      <th>2021 rank</th>\n",
       "      <th>Δ 排名</th>\n",
       "      <th>Country</th>\n",
       "      <th>政體類型</th>\n",
       "      <th>Election</th>\n",
       "      <th>Government</th>\n",
       "      <th>Participate</th>\n",
       "      <th>Culture</th>\n",
       "      <th>Freedom</th>\n",
       "      <th>總分</th>\n",
       "      <th>Δ 分數</th>\n",
       "    </tr>\n",
       "  </thead>\n",
       "  <tbody>\n",
       "    <tr>\n",
       "      <th>0</th>\n",
       "      <td>1</td>\n",
       "      <td>━</td>\n",
       "      <td>挪威</td>\n",
       "      <td>完全民主</td>\n",
       "      <td>10.00</td>\n",
       "      <td>9.64</td>\n",
       "      <td>10.00</td>\n",
       "      <td>10.00</td>\n",
       "      <td>9.12</td>\n",
       "      <td>9.75</td>\n",
       "      <td>▼ 0.06</td>\n",
       "    </tr>\n",
       "    <tr>\n",
       "      <th>1</th>\n",
       "      <td>2</td>\n",
       "      <td>▲ 2</td>\n",
       "      <td>新西蘭</td>\n",
       "      <td>完全民主</td>\n",
       "      <td>10.00</td>\n",
       "      <td>8.93</td>\n",
       "      <td>9.44</td>\n",
       "      <td>8.75</td>\n",
       "      <td>9.71</td>\n",
       "      <td>9.37</td>\n",
       "      <td>▲ 0.12</td>\n",
       "    </tr>\n",
       "    <tr>\n",
       "      <th>2</th>\n",
       "      <td>3</td>\n",
       "      <td>▲ 3</td>\n",
       "      <td>芬兰</td>\n",
       "      <td>完全民主</td>\n",
       "      <td>10.00</td>\n",
       "      <td>9.29</td>\n",
       "      <td>8.89</td>\n",
       "      <td>8.75</td>\n",
       "      <td>9.41</td>\n",
       "      <td>9.27</td>\n",
       "      <td>▲ 0.07</td>\n",
       "    </tr>\n",
       "    <tr>\n",
       "      <th>3</th>\n",
       "      <td>4</td>\n",
       "      <td>▼ 1</td>\n",
       "      <td>瑞典</td>\n",
       "      <td>完全民主</td>\n",
       "      <td>9.58</td>\n",
       "      <td>9.29</td>\n",
       "      <td>8.33</td>\n",
       "      <td>10.00</td>\n",
       "      <td>9.12</td>\n",
       "      <td>9.26</td>\n",
       "      <td>━</td>\n",
       "    </tr>\n",
       "    <tr>\n",
       "      <th>4</th>\n",
       "      <td>5</td>\n",
       "      <td>▼ 3</td>\n",
       "      <td>冰島</td>\n",
       "      <td>完全民主</td>\n",
       "      <td>10.00</td>\n",
       "      <td>8.21</td>\n",
       "      <td>8.89</td>\n",
       "      <td>9.38</td>\n",
       "      <td>9.41</td>\n",
       "      <td>9.18</td>\n",
       "      <td>▼ 0.19</td>\n",
       "    </tr>\n",
       "    <tr>\n",
       "      <th>...</th>\n",
       "      <td>...</td>\n",
       "      <td>...</td>\n",
       "      <td>...</td>\n",
       "      <td>...</td>\n",
       "      <td>...</td>\n",
       "      <td>...</td>\n",
       "      <td>...</td>\n",
       "      <td>...</td>\n",
       "      <td>...</td>\n",
       "      <td>...</td>\n",
       "      <td>...</td>\n",
       "    </tr>\n",
       "    <tr>\n",
       "      <th>165</th>\n",
       "      <td>162</td>\n",
       "      <td>▲ 3</td>\n",
       "      <td>中非</td>\n",
       "      <td>專制政權</td>\n",
       "      <td>1.25</td>\n",
       "      <td>0.00</td>\n",
       "      <td>1.67</td>\n",
       "      <td>1.88</td>\n",
       "      <td>2.35</td>\n",
       "      <td>1.43</td>\n",
       "      <td>▲ 0.11</td>\n",
       "    </tr>\n",
       "    <tr>\n",
       "      <th>166</th>\n",
       "      <td>164</td>\n",
       "      <td>▲ 2</td>\n",
       "      <td>刚果民主共和国</td>\n",
       "      <td>專制政權</td>\n",
       "      <td>0.75</td>\n",
       "      <td>0.00</td>\n",
       "      <td>2.22</td>\n",
       "      <td>3.13</td>\n",
       "      <td>0.88</td>\n",
       "      <td>1.40</td>\n",
       "      <td>▲ 0.27</td>\n",
       "    </tr>\n",
       "    <tr>\n",
       "      <th>167</th>\n",
       "      <td>165</td>\n",
       "      <td>▲ 2</td>\n",
       "      <td>朝鲜</td>\n",
       "      <td>專制政權</td>\n",
       "      <td>0.00</td>\n",
       "      <td>2.50</td>\n",
       "      <td>1.67</td>\n",
       "      <td>1.25</td>\n",
       "      <td>0.00</td>\n",
       "      <td>1.08</td>\n",
       "      <td>━</td>\n",
       "    </tr>\n",
       "    <tr>\n",
       "      <th>168</th>\n",
       "      <td>166</td>\n",
       "      <td>▼ 31</td>\n",
       "      <td>緬甸</td>\n",
       "      <td>專制政權</td>\n",
       "      <td>0.00</td>\n",
       "      <td>0.00</td>\n",
       "      <td>1.67</td>\n",
       "      <td>3.13</td>\n",
       "      <td>0.29</td>\n",
       "      <td>1.02</td>\n",
       "      <td>▼ 2.02</td>\n",
       "    </tr>\n",
       "    <tr>\n",
       "      <th>169</th>\n",
       "      <td>167</td>\n",
       "      <td>▼ 28</td>\n",
       "      <td>阿富汗</td>\n",
       "      <td>專制政權</td>\n",
       "      <td>0.00</td>\n",
       "      <td>0.00</td>\n",
       "      <td>0.07</td>\n",
       "      <td>0.00</td>\n",
       "      <td>1.25</td>\n",
       "      <td>0.32</td>\n",
       "      <td>▼ 2.53</td>\n",
       "    </tr>\n",
       "  </tbody>\n",
       "</table>\n",
       "<p>170 rows × 11 columns</p>\n",
       "</div>"
      ],
      "text/plain": [
       "    2021 rank  Δ 排名  Country  政體類型 Election Government Participate Culture  \\\n",
       "0           1     ━       挪威  完全民主    10.00       9.64       10.00   10.00   \n",
       "1           2   ▲ 2      新西蘭  完全民主    10.00       8.93        9.44    8.75   \n",
       "2           3   ▲ 3       芬兰  完全民主    10.00       9.29        8.89    8.75   \n",
       "3           4   ▼ 1       瑞典  完全民主     9.58       9.29        8.33   10.00   \n",
       "4           5   ▼ 3       冰島  完全民主    10.00       8.21        8.89    9.38   \n",
       "..        ...   ...      ...   ...      ...        ...         ...     ...   \n",
       "165       162   ▲ 3       中非  專制政權     1.25       0.00        1.67    1.88   \n",
       "166       164   ▲ 2  刚果民主共和国  專制政權     0.75       0.00        2.22    3.13   \n",
       "167       165   ▲ 2       朝鲜  專制政權     0.00       2.50        1.67    1.25   \n",
       "168       166  ▼ 31       緬甸  專制政權     0.00       0.00        1.67    3.13   \n",
       "169       167  ▼ 28      阿富汗  專制政權     0.00       0.00        0.07    0.00   \n",
       "\n",
       "    Freedom    總分    Δ 分數  \n",
       "0      9.12  9.75  ▼ 0.06  \n",
       "1      9.71  9.37  ▲ 0.12  \n",
       "2      9.41  9.27  ▲ 0.07  \n",
       "3      9.12  9.26       ━  \n",
       "4      9.41  9.18  ▼ 0.19  \n",
       "..      ...   ...     ...  \n",
       "165    2.35  1.43  ▲ 0.11  \n",
       "166    0.88  1.40  ▲ 0.27  \n",
       "167    0.00  1.08       ━  \n",
       "168    0.29  1.02  ▼ 2.02  \n",
       "169    1.25  0.32  ▼ 2.53  \n",
       "\n",
       "[170 rows x 11 columns]"
      ]
     },
     "execution_count": 7,
     "metadata": {},
     "output_type": "execute_result"
    }
   ],
   "source": [
    "# multi level data to single level data with droplevel\n",
    "index_chi.columns = index_chi.columns.droplevel(1) \n",
    "index_chi "
   ]
  },
  {
   "cell_type": "code",
   "execution_count": 8,
   "metadata": {
    "colab": {
     "base_uri": "https://localhost:8080/",
     "height": 142
    },
    "id": "1zE2UVvcyBY2",
    "outputId": "f9d0cd59-da6e-45ea-99c9-9bde3c0d1bed"
   },
   "outputs": [
    {
     "data": {
      "text/html": [
       "<div>\n",
       "<style scoped>\n",
       "    .dataframe tbody tr th:only-of-type {\n",
       "        vertical-align: middle;\n",
       "    }\n",
       "\n",
       "    .dataframe tbody tr th {\n",
       "        vertical-align: top;\n",
       "    }\n",
       "\n",
       "    .dataframe thead th {\n",
       "        text-align: right;\n",
       "    }\n",
       "</style>\n",
       "<table border=\"1\" class=\"dataframe\">\n",
       "  <thead>\n",
       "    <tr style=\"text-align: right;\">\n",
       "      <th></th>\n",
       "      <th>2021 rank</th>\n",
       "      <th>Δ 排名</th>\n",
       "      <th>Country</th>\n",
       "      <th>政體類型</th>\n",
       "      <th>Election</th>\n",
       "      <th>Government</th>\n",
       "      <th>Participate</th>\n",
       "      <th>Culture</th>\n",
       "      <th>Freedom</th>\n",
       "      <th>總分</th>\n",
       "      <th>Δ 分數</th>\n",
       "    </tr>\n",
       "  </thead>\n",
       "  <tbody>\n",
       "    <tr>\n",
       "      <th>21</th>\n",
       "      <td>部分民主</td>\n",
       "      <td>部分民主</td>\n",
       "      <td>部分民主</td>\n",
       "      <td>部分民主</td>\n",
       "      <td>部分民主</td>\n",
       "      <td>部分民主</td>\n",
       "      <td>部分民主</td>\n",
       "      <td>部分民主</td>\n",
       "      <td>部分民主</td>\n",
       "      <td>部分民主</td>\n",
       "      <td>部分民主</td>\n",
       "    </tr>\n",
       "    <tr>\n",
       "      <th>75</th>\n",
       "      <td>混合政權</td>\n",
       "      <td>混合政權</td>\n",
       "      <td>混合政權</td>\n",
       "      <td>混合政權</td>\n",
       "      <td>混合政權</td>\n",
       "      <td>混合政權</td>\n",
       "      <td>混合政權</td>\n",
       "      <td>混合政權</td>\n",
       "      <td>混合政權</td>\n",
       "      <td>混合政權</td>\n",
       "      <td>混合政權</td>\n",
       "    </tr>\n",
       "    <tr>\n",
       "      <th>110</th>\n",
       "      <td>專制政權</td>\n",
       "      <td>專制政權</td>\n",
       "      <td>專制政權</td>\n",
       "      <td>專制政權</td>\n",
       "      <td>專制政權</td>\n",
       "      <td>專制政權</td>\n",
       "      <td>專制政權</td>\n",
       "      <td>專制政權</td>\n",
       "      <td>專制政權</td>\n",
       "      <td>專制政權</td>\n",
       "      <td>專制政權</td>\n",
       "    </tr>\n",
       "  </tbody>\n",
       "</table>\n",
       "</div>"
      ],
      "text/plain": [
       "    2021 rank  Δ 排名 Country  政體類型 Election Government Participate Culture  \\\n",
       "21       部分民主  部分民主    部分民主  部分民主     部分民主       部分民主        部分民主    部分民主   \n",
       "75       混合政權  混合政權    混合政權  混合政權     混合政權       混合政權        混合政權    混合政權   \n",
       "110      專制政權  專制政權    專制政權  專制政權     專制政權       專制政權        專制政權    專制政權   \n",
       "\n",
       "    Freedom    總分  Δ 分數  \n",
       "21     部分民主  部分民主  部分民主  \n",
       "75     混合政權  混合政權  混合政權  \n",
       "110    專制政權  專制政權  專制政權  "
      ]
     },
     "execution_count": 8,
     "metadata": {},
     "output_type": "execute_result"
    }
   ],
   "source": [
    "# index the row need to drop in index_chi\n",
    "needdrop = index_chi[(index_chi['Country'] == '部分民主') | (index_chi['Country'] == '混合政權') | (index_chi['Country'] == '專制政權')]\n",
    "needdrop"
   ]
  },
  {
   "cell_type": "code",
   "execution_count": 9,
   "metadata": {
    "colab": {
     "base_uri": "https://localhost:8080/",
     "height": 419
    },
    "id": "yo69sTUA2r-x",
    "outputId": "105b6ce6-d2d1-4944-ee1e-abb8755195a9"
   },
   "outputs": [
    {
     "data": {
      "text/html": [
       "<div>\n",
       "<style scoped>\n",
       "    .dataframe tbody tr th:only-of-type {\n",
       "        vertical-align: middle;\n",
       "    }\n",
       "\n",
       "    .dataframe tbody tr th {\n",
       "        vertical-align: top;\n",
       "    }\n",
       "\n",
       "    .dataframe thead th {\n",
       "        text-align: right;\n",
       "    }\n",
       "</style>\n",
       "<table border=\"1\" class=\"dataframe\">\n",
       "  <thead>\n",
       "    <tr style=\"text-align: right;\">\n",
       "      <th></th>\n",
       "      <th>2021 rank</th>\n",
       "      <th>Δ 排名</th>\n",
       "      <th>Country</th>\n",
       "      <th>政體類型</th>\n",
       "      <th>Election</th>\n",
       "      <th>Government</th>\n",
       "      <th>Participate</th>\n",
       "      <th>Culture</th>\n",
       "      <th>Freedom</th>\n",
       "      <th>總分</th>\n",
       "      <th>Δ 分數</th>\n",
       "    </tr>\n",
       "  </thead>\n",
       "  <tbody>\n",
       "    <tr>\n",
       "      <th>0</th>\n",
       "      <td>1</td>\n",
       "      <td>━</td>\n",
       "      <td>挪威</td>\n",
       "      <td>完全民主</td>\n",
       "      <td>10.00</td>\n",
       "      <td>9.64</td>\n",
       "      <td>10.00</td>\n",
       "      <td>10.00</td>\n",
       "      <td>9.12</td>\n",
       "      <td>9.75</td>\n",
       "      <td>▼ 0.06</td>\n",
       "    </tr>\n",
       "    <tr>\n",
       "      <th>1</th>\n",
       "      <td>2</td>\n",
       "      <td>▲ 2</td>\n",
       "      <td>新西蘭</td>\n",
       "      <td>完全民主</td>\n",
       "      <td>10.00</td>\n",
       "      <td>8.93</td>\n",
       "      <td>9.44</td>\n",
       "      <td>8.75</td>\n",
       "      <td>9.71</td>\n",
       "      <td>9.37</td>\n",
       "      <td>▲ 0.12</td>\n",
       "    </tr>\n",
       "    <tr>\n",
       "      <th>2</th>\n",
       "      <td>3</td>\n",
       "      <td>▲ 3</td>\n",
       "      <td>芬兰</td>\n",
       "      <td>完全民主</td>\n",
       "      <td>10.00</td>\n",
       "      <td>9.29</td>\n",
       "      <td>8.89</td>\n",
       "      <td>8.75</td>\n",
       "      <td>9.41</td>\n",
       "      <td>9.27</td>\n",
       "      <td>▲ 0.07</td>\n",
       "    </tr>\n",
       "    <tr>\n",
       "      <th>3</th>\n",
       "      <td>4</td>\n",
       "      <td>▼ 1</td>\n",
       "      <td>瑞典</td>\n",
       "      <td>完全民主</td>\n",
       "      <td>9.58</td>\n",
       "      <td>9.29</td>\n",
       "      <td>8.33</td>\n",
       "      <td>10.00</td>\n",
       "      <td>9.12</td>\n",
       "      <td>9.26</td>\n",
       "      <td>━</td>\n",
       "    </tr>\n",
       "    <tr>\n",
       "      <th>4</th>\n",
       "      <td>5</td>\n",
       "      <td>▼ 3</td>\n",
       "      <td>冰島</td>\n",
       "      <td>完全民主</td>\n",
       "      <td>10.00</td>\n",
       "      <td>8.21</td>\n",
       "      <td>8.89</td>\n",
       "      <td>9.38</td>\n",
       "      <td>9.41</td>\n",
       "      <td>9.18</td>\n",
       "      <td>▼ 0.19</td>\n",
       "    </tr>\n",
       "    <tr>\n",
       "      <th>...</th>\n",
       "      <td>...</td>\n",
       "      <td>...</td>\n",
       "      <td>...</td>\n",
       "      <td>...</td>\n",
       "      <td>...</td>\n",
       "      <td>...</td>\n",
       "      <td>...</td>\n",
       "      <td>...</td>\n",
       "      <td>...</td>\n",
       "      <td>...</td>\n",
       "      <td>...</td>\n",
       "    </tr>\n",
       "    <tr>\n",
       "      <th>165</th>\n",
       "      <td>162</td>\n",
       "      <td>▲ 3</td>\n",
       "      <td>中非</td>\n",
       "      <td>專制政權</td>\n",
       "      <td>1.25</td>\n",
       "      <td>0.00</td>\n",
       "      <td>1.67</td>\n",
       "      <td>1.88</td>\n",
       "      <td>2.35</td>\n",
       "      <td>1.43</td>\n",
       "      <td>▲ 0.11</td>\n",
       "    </tr>\n",
       "    <tr>\n",
       "      <th>166</th>\n",
       "      <td>164</td>\n",
       "      <td>▲ 2</td>\n",
       "      <td>刚果民主共和国</td>\n",
       "      <td>專制政權</td>\n",
       "      <td>0.75</td>\n",
       "      <td>0.00</td>\n",
       "      <td>2.22</td>\n",
       "      <td>3.13</td>\n",
       "      <td>0.88</td>\n",
       "      <td>1.40</td>\n",
       "      <td>▲ 0.27</td>\n",
       "    </tr>\n",
       "    <tr>\n",
       "      <th>167</th>\n",
       "      <td>165</td>\n",
       "      <td>▲ 2</td>\n",
       "      <td>朝鲜</td>\n",
       "      <td>專制政權</td>\n",
       "      <td>0.00</td>\n",
       "      <td>2.50</td>\n",
       "      <td>1.67</td>\n",
       "      <td>1.25</td>\n",
       "      <td>0.00</td>\n",
       "      <td>1.08</td>\n",
       "      <td>━</td>\n",
       "    </tr>\n",
       "    <tr>\n",
       "      <th>168</th>\n",
       "      <td>166</td>\n",
       "      <td>▼ 31</td>\n",
       "      <td>緬甸</td>\n",
       "      <td>專制政權</td>\n",
       "      <td>0.00</td>\n",
       "      <td>0.00</td>\n",
       "      <td>1.67</td>\n",
       "      <td>3.13</td>\n",
       "      <td>0.29</td>\n",
       "      <td>1.02</td>\n",
       "      <td>▼ 2.02</td>\n",
       "    </tr>\n",
       "    <tr>\n",
       "      <th>169</th>\n",
       "      <td>167</td>\n",
       "      <td>▼ 28</td>\n",
       "      <td>阿富汗</td>\n",
       "      <td>專制政權</td>\n",
       "      <td>0.00</td>\n",
       "      <td>0.00</td>\n",
       "      <td>0.07</td>\n",
       "      <td>0.00</td>\n",
       "      <td>1.25</td>\n",
       "      <td>0.32</td>\n",
       "      <td>▼ 2.53</td>\n",
       "    </tr>\n",
       "  </tbody>\n",
       "</table>\n",
       "<p>167 rows × 11 columns</p>\n",
       "</div>"
      ],
      "text/plain": [
       "    2021 rank  Δ 排名  Country  政體類型 Election Government Participate Culture  \\\n",
       "0           1     ━       挪威  完全民主    10.00       9.64       10.00   10.00   \n",
       "1           2   ▲ 2      新西蘭  完全民主    10.00       8.93        9.44    8.75   \n",
       "2           3   ▲ 3       芬兰  完全民主    10.00       9.29        8.89    8.75   \n",
       "3           4   ▼ 1       瑞典  完全民主     9.58       9.29        8.33   10.00   \n",
       "4           5   ▼ 3       冰島  完全民主    10.00       8.21        8.89    9.38   \n",
       "..        ...   ...      ...   ...      ...        ...         ...     ...   \n",
       "165       162   ▲ 3       中非  專制政權     1.25       0.00        1.67    1.88   \n",
       "166       164   ▲ 2  刚果民主共和国  專制政權     0.75       0.00        2.22    3.13   \n",
       "167       165   ▲ 2       朝鲜  專制政權     0.00       2.50        1.67    1.25   \n",
       "168       166  ▼ 31       緬甸  專制政權     0.00       0.00        1.67    3.13   \n",
       "169       167  ▼ 28      阿富汗  專制政權     0.00       0.00        0.07    0.00   \n",
       "\n",
       "    Freedom    總分    Δ 分數  \n",
       "0      9.12  9.75  ▼ 0.06  \n",
       "1      9.71  9.37  ▲ 0.12  \n",
       "2      9.41  9.27  ▲ 0.07  \n",
       "3      9.12  9.26       ━  \n",
       "4      9.41  9.18  ▼ 0.19  \n",
       "..      ...   ...     ...  \n",
       "165    2.35  1.43  ▲ 0.11  \n",
       "166    0.88  1.40  ▲ 0.27  \n",
       "167    0.00  1.08       ━  \n",
       "168    0.29  1.02  ▼ 2.02  \n",
       "169    1.25  0.32  ▼ 2.53  \n",
       "\n",
       "[167 rows x 11 columns]"
      ]
     },
     "execution_count": 9,
     "metadata": {},
     "output_type": "execute_result"
    }
   ],
   "source": [
    "index_chi = index_chi.drop(index = [21, 75, 110])\n",
    "index_chi"
   ]
  },
  {
   "attachments": {},
   "cell_type": "markdown",
   "metadata": {
    "id": "p_XFwGZcUYDo"
   },
   "source": [
    "## Data Cleaning"
   ]
  },
  {
   "cell_type": "code",
   "execution_count": 10,
   "metadata": {
    "colab": {
     "base_uri": "https://localhost:8080/",
     "height": 1000
    },
    "id": "Slzdxg8aWMw7",
    "outputId": "2a396df7-e862-48bd-ad49-dfce1116ab00"
   },
   "outputs": [
    {
     "data": {
      "text/html": [
       "<div>\n",
       "<style scoped>\n",
       "    .dataframe tbody tr th:only-of-type {\n",
       "        vertical-align: middle;\n",
       "    }\n",
       "\n",
       "    .dataframe tbody tr th {\n",
       "        vertical-align: top;\n",
       "    }\n",
       "\n",
       "    .dataframe thead th {\n",
       "        text-align: right;\n",
       "    }\n",
       "</style>\n",
       "<table border=\"1\" class=\"dataframe\">\n",
       "  <thead>\n",
       "    <tr style=\"text-align: right;\">\n",
       "      <th></th>\n",
       "      <th>Country</th>\n",
       "      <th>Region</th>\n",
       "      <th>Attending</th>\n",
       "      <th>2020</th>\n",
       "    </tr>\n",
       "  </thead>\n",
       "  <tbody>\n",
       "    <tr>\n",
       "      <th>0</th>\n",
       "      <td>Angola</td>\n",
       "      <td>Africa</td>\n",
       "      <td>1</td>\n",
       "      <td>3.66</td>\n",
       "    </tr>\n",
       "    <tr>\n",
       "      <th>1</th>\n",
       "      <td>Botswana</td>\n",
       "      <td>Africa</td>\n",
       "      <td>1</td>\n",
       "      <td>7.62</td>\n",
       "    </tr>\n",
       "    <tr>\n",
       "      <th>2</th>\n",
       "      <td>Cape Verde</td>\n",
       "      <td>Africa</td>\n",
       "      <td>1</td>\n",
       "      <td>7.65</td>\n",
       "    </tr>\n",
       "    <tr>\n",
       "      <th>3</th>\n",
       "      <td>DR Congo</td>\n",
       "      <td>Africa</td>\n",
       "      <td>1</td>\n",
       "      <td>1.13</td>\n",
       "    </tr>\n",
       "    <tr>\n",
       "      <th>4</th>\n",
       "      <td>Ghana</td>\n",
       "      <td>Africa</td>\n",
       "      <td>1</td>\n",
       "      <td>6.50</td>\n",
       "    </tr>\n",
       "    <tr>\n",
       "      <th>...</th>\n",
       "      <td>...</td>\n",
       "      <td>...</td>\n",
       "      <td>...</td>\n",
       "      <td>...</td>\n",
       "    </tr>\n",
       "    <tr>\n",
       "      <th>107</th>\n",
       "      <td>Samoa</td>\n",
       "      <td>Oceania</td>\n",
       "      <td>1</td>\n",
       "      <td>NaN</td>\n",
       "    </tr>\n",
       "    <tr>\n",
       "      <th>108</th>\n",
       "      <td>Solomon Islands</td>\n",
       "      <td>Oceania</td>\n",
       "      <td>NaN</td>\n",
       "      <td>NaN</td>\n",
       "    </tr>\n",
       "    <tr>\n",
       "      <th>109</th>\n",
       "      <td>Tonga</td>\n",
       "      <td>Oceania</td>\n",
       "      <td>NaN</td>\n",
       "      <td>NaN</td>\n",
       "    </tr>\n",
       "    <tr>\n",
       "      <th>110</th>\n",
       "      <td>Tuvalu</td>\n",
       "      <td>Oceania</td>\n",
       "      <td>NaN</td>\n",
       "      <td>NaN</td>\n",
       "    </tr>\n",
       "    <tr>\n",
       "      <th>111</th>\n",
       "      <td>Vanuatu</td>\n",
       "      <td>Oceania</td>\n",
       "      <td>NaN</td>\n",
       "      <td>NaN</td>\n",
       "    </tr>\n",
       "  </tbody>\n",
       "</table>\n",
       "<p>112 rows × 4 columns</p>\n",
       "</div>"
      ],
      "text/plain": [
       "             Country   Region Attending  2020\n",
       "0             Angola   Africa         1  3.66\n",
       "1           Botswana   Africa         1  7.62\n",
       "2         Cape Verde   Africa         1  7.65\n",
       "3           DR Congo   Africa         1  1.13\n",
       "4              Ghana   Africa         1  6.50\n",
       "..               ...      ...       ...   ...\n",
       "107            Samoa  Oceania         1   NaN\n",
       "108  Solomon Islands  Oceania       NaN   NaN\n",
       "109            Tonga  Oceania       NaN   NaN\n",
       "110           Tuvalu  Oceania       NaN   NaN\n",
       "111          Vanuatu  Oceania       NaN   NaN\n",
       "\n",
       "[112 rows x 4 columns]"
      ]
     },
     "metadata": {},
     "output_type": "display_data"
    },
    {
     "data": {
      "text/html": [
       "<div>\n",
       "<style scoped>\n",
       "    .dataframe tbody tr th:only-of-type {\n",
       "        vertical-align: middle;\n",
       "    }\n",
       "\n",
       "    .dataframe tbody tr th {\n",
       "        vertical-align: top;\n",
       "    }\n",
       "\n",
       "    .dataframe thead th {\n",
       "        text-align: right;\n",
       "    }\n",
       "</style>\n",
       "<table border=\"1\" class=\"dataframe\">\n",
       "  <thead>\n",
       "    <tr style=\"text-align: right;\">\n",
       "      <th></th>\n",
       "      <th>Region</th>\n",
       "      <th>2021 rank</th>\n",
       "      <th>Country</th>\n",
       "      <th>Regime type</th>\n",
       "      <th>2021</th>\n",
       "      <th>2020</th>\n",
       "      <th>2019</th>\n",
       "      <th>2018</th>\n",
       "      <th>2017</th>\n",
       "      <th>2016</th>\n",
       "      <th>2015</th>\n",
       "      <th>2014</th>\n",
       "      <th>2013</th>\n",
       "      <th>2012</th>\n",
       "      <th>2011</th>\n",
       "      <th>2010</th>\n",
       "      <th>2008</th>\n",
       "      <th>2006</th>\n",
       "    </tr>\n",
       "  </thead>\n",
       "  <tbody>\n",
       "    <tr>\n",
       "      <th>16</th>\n",
       "      <td>Western Europe</td>\n",
       "      <td>1</td>\n",
       "      <td>Norway</td>\n",
       "      <td>Full democracy</td>\n",
       "      <td>9.75</td>\n",
       "      <td>9.81</td>\n",
       "      <td>9.87</td>\n",
       "      <td>9.87</td>\n",
       "      <td>9.87</td>\n",
       "      <td>9.93</td>\n",
       "      <td>9.93</td>\n",
       "      <td>9.93</td>\n",
       "      <td>9.93</td>\n",
       "      <td>9.93</td>\n",
       "      <td>9.80</td>\n",
       "      <td>9.80</td>\n",
       "      <td>9.68</td>\n",
       "      <td>9.55</td>\n",
       "    </tr>\n",
       "    <tr>\n",
       "      <th>91</th>\n",
       "      <td>Asia and Australasia</td>\n",
       "      <td>2</td>\n",
       "      <td>New Zealand</td>\n",
       "      <td>Full democracy</td>\n",
       "      <td>9.37</td>\n",
       "      <td>9.25</td>\n",
       "      <td>9.26</td>\n",
       "      <td>9.26</td>\n",
       "      <td>9.26</td>\n",
       "      <td>9.26</td>\n",
       "      <td>9.26</td>\n",
       "      <td>9.26</td>\n",
       "      <td>9.26</td>\n",
       "      <td>9.26</td>\n",
       "      <td>9.26</td>\n",
       "      <td>9.26</td>\n",
       "      <td>9.19</td>\n",
       "      <td>9.01</td>\n",
       "    </tr>\n",
       "    <tr>\n",
       "      <th>6</th>\n",
       "      <td>Western Europe</td>\n",
       "      <td>3</td>\n",
       "      <td>Finland</td>\n",
       "      <td>Full democracy</td>\n",
       "      <td>9.27</td>\n",
       "      <td>9.20</td>\n",
       "      <td>9.25</td>\n",
       "      <td>9.14</td>\n",
       "      <td>9.03</td>\n",
       "      <td>9.03</td>\n",
       "      <td>9.03</td>\n",
       "      <td>9.03</td>\n",
       "      <td>9.03</td>\n",
       "      <td>9.06</td>\n",
       "      <td>9.06</td>\n",
       "      <td>9.19</td>\n",
       "      <td>9.25</td>\n",
       "      <td>9.25</td>\n",
       "    </tr>\n",
       "    <tr>\n",
       "      <th>19</th>\n",
       "      <td>Western Europe</td>\n",
       "      <td>4</td>\n",
       "      <td>Sweden</td>\n",
       "      <td>Full democracy</td>\n",
       "      <td>9.26</td>\n",
       "      <td>9.26</td>\n",
       "      <td>9.39</td>\n",
       "      <td>9.39</td>\n",
       "      <td>9.39</td>\n",
       "      <td>9.39</td>\n",
       "      <td>9.45</td>\n",
       "      <td>9.73</td>\n",
       "      <td>9.73</td>\n",
       "      <td>9.73</td>\n",
       "      <td>9.50</td>\n",
       "      <td>9.50</td>\n",
       "      <td>9.88</td>\n",
       "      <td>9.88</td>\n",
       "    </tr>\n",
       "    <tr>\n",
       "      <th>10</th>\n",
       "      <td>Western Europe</td>\n",
       "      <td>5</td>\n",
       "      <td>Iceland</td>\n",
       "      <td>Full democracy</td>\n",
       "      <td>9.18</td>\n",
       "      <td>9.37</td>\n",
       "      <td>9.58</td>\n",
       "      <td>9.58</td>\n",
       "      <td>9.58</td>\n",
       "      <td>9.50</td>\n",
       "      <td>9.58</td>\n",
       "      <td>9.58</td>\n",
       "      <td>9.65</td>\n",
       "      <td>9.65</td>\n",
       "      <td>9.65</td>\n",
       "      <td>9.65</td>\n",
       "      <td>9.65</td>\n",
       "      <td>9.71</td>\n",
       "    </tr>\n",
       "    <tr>\n",
       "      <th>...</th>\n",
       "      <td>...</td>\n",
       "      <td>...</td>\n",
       "      <td>...</td>\n",
       "      <td>...</td>\n",
       "      <td>...</td>\n",
       "      <td>...</td>\n",
       "      <td>...</td>\n",
       "      <td>...</td>\n",
       "      <td>...</td>\n",
       "      <td>...</td>\n",
       "      <td>...</td>\n",
       "      <td>...</td>\n",
       "      <td>...</td>\n",
       "      <td>...</td>\n",
       "      <td>...</td>\n",
       "      <td>...</td>\n",
       "      <td>...</td>\n",
       "      <td>...</td>\n",
       "    </tr>\n",
       "    <tr>\n",
       "      <th>130</th>\n",
       "      <td>Sub-Saharan Africa</td>\n",
       "      <td>162</td>\n",
       "      <td>Central African Republic</td>\n",
       "      <td>Authoritarian</td>\n",
       "      <td>1.43</td>\n",
       "      <td>1.32</td>\n",
       "      <td>1.32</td>\n",
       "      <td>1.52</td>\n",
       "      <td>1.52</td>\n",
       "      <td>1.61</td>\n",
       "      <td>1.57</td>\n",
       "      <td>1.49</td>\n",
       "      <td>1.49</td>\n",
       "      <td>1.99</td>\n",
       "      <td>1.82</td>\n",
       "      <td>1.82</td>\n",
       "      <td>1.86</td>\n",
       "      <td>1.61</td>\n",
       "    </tr>\n",
       "    <tr>\n",
       "      <th>135</th>\n",
       "      <td>Sub-Saharan Africa</td>\n",
       "      <td>164</td>\n",
       "      <td>Democratic Republic of the Congo</td>\n",
       "      <td>Authoritarian</td>\n",
       "      <td>1.40</td>\n",
       "      <td>1.13</td>\n",
       "      <td>1.13</td>\n",
       "      <td>1.49</td>\n",
       "      <td>1.61</td>\n",
       "      <td>1.93</td>\n",
       "      <td>2.11</td>\n",
       "      <td>1.75</td>\n",
       "      <td>1.83</td>\n",
       "      <td>1.92</td>\n",
       "      <td>2.15</td>\n",
       "      <td>2.15</td>\n",
       "      <td>2.28</td>\n",
       "      <td>2.76</td>\n",
       "    </tr>\n",
       "    <tr>\n",
       "      <th>92</th>\n",
       "      <td>Asia and Australasia</td>\n",
       "      <td>165</td>\n",
       "      <td>North Korea</td>\n",
       "      <td>Authoritarian</td>\n",
       "      <td>1.08</td>\n",
       "      <td>1.08</td>\n",
       "      <td>1.08</td>\n",
       "      <td>1.08</td>\n",
       "      <td>1.08</td>\n",
       "      <td>1.08</td>\n",
       "      <td>1.08</td>\n",
       "      <td>1.08</td>\n",
       "      <td>1.08</td>\n",
       "      <td>1.08</td>\n",
       "      <td>1.08</td>\n",
       "      <td>1.08</td>\n",
       "      <td>0.86</td>\n",
       "      <td>1.03</td>\n",
       "    </tr>\n",
       "    <tr>\n",
       "      <th>89</th>\n",
       "      <td>Asia and Australasia</td>\n",
       "      <td>166</td>\n",
       "      <td>Myanmar</td>\n",
       "      <td>Authoritarian</td>\n",
       "      <td>1.02</td>\n",
       "      <td>3.04</td>\n",
       "      <td>3.55</td>\n",
       "      <td>3.83</td>\n",
       "      <td>3.83</td>\n",
       "      <td>4.20</td>\n",
       "      <td>4.14</td>\n",
       "      <td>3.05</td>\n",
       "      <td>2.76</td>\n",
       "      <td>2.35</td>\n",
       "      <td>1.77</td>\n",
       "      <td>1.77</td>\n",
       "      <td>1.77</td>\n",
       "      <td>1.77</td>\n",
       "    </tr>\n",
       "    <tr>\n",
       "      <th>75</th>\n",
       "      <td>Asia and Australasia</td>\n",
       "      <td>167</td>\n",
       "      <td>Afghanistan</td>\n",
       "      <td>Authoritarian</td>\n",
       "      <td>0.32</td>\n",
       "      <td>2.85</td>\n",
       "      <td>2.85</td>\n",
       "      <td>2.97</td>\n",
       "      <td>2.55</td>\n",
       "      <td>2.55</td>\n",
       "      <td>2.77</td>\n",
       "      <td>2.77</td>\n",
       "      <td>2.48</td>\n",
       "      <td>2.48</td>\n",
       "      <td>2.48</td>\n",
       "      <td>2.48</td>\n",
       "      <td>3.02</td>\n",
       "      <td>3.06</td>\n",
       "    </tr>\n",
       "  </tbody>\n",
       "</table>\n",
       "<p>167 rows × 18 columns</p>\n",
       "</div>"
      ],
      "text/plain": [
       "                   Region  2021 rank                           Country  \\\n",
       "16         Western Europe          1                            Norway   \n",
       "91   Asia and Australasia          2                       New Zealand   \n",
       "6          Western Europe          3                           Finland   \n",
       "19         Western Europe          4                            Sweden   \n",
       "10         Western Europe          5                           Iceland   \n",
       "..                    ...        ...                               ...   \n",
       "130    Sub-Saharan Africa        162          Central African Republic   \n",
       "135    Sub-Saharan Africa        164  Democratic Republic of the Congo   \n",
       "92   Asia and Australasia        165                       North Korea   \n",
       "89   Asia and Australasia        166                           Myanmar   \n",
       "75   Asia and Australasia        167                       Afghanistan   \n",
       "\n",
       "        Regime type  2021  2020  2019  2018  2017  2016  2015  2014  2013  \\\n",
       "16   Full democracy  9.75  9.81  9.87  9.87  9.87  9.93  9.93  9.93  9.93   \n",
       "91   Full democracy  9.37  9.25  9.26  9.26  9.26  9.26  9.26  9.26  9.26   \n",
       "6    Full democracy  9.27  9.20  9.25  9.14  9.03  9.03  9.03  9.03  9.03   \n",
       "19   Full democracy  9.26  9.26  9.39  9.39  9.39  9.39  9.45  9.73  9.73   \n",
       "10   Full democracy  9.18  9.37  9.58  9.58  9.58  9.50  9.58  9.58  9.65   \n",
       "..              ...   ...   ...   ...   ...   ...   ...   ...   ...   ...   \n",
       "130   Authoritarian  1.43  1.32  1.32  1.52  1.52  1.61  1.57  1.49  1.49   \n",
       "135   Authoritarian  1.40  1.13  1.13  1.49  1.61  1.93  2.11  1.75  1.83   \n",
       "92    Authoritarian  1.08  1.08  1.08  1.08  1.08  1.08  1.08  1.08  1.08   \n",
       "89    Authoritarian  1.02  3.04  3.55  3.83  3.83  4.20  4.14  3.05  2.76   \n",
       "75    Authoritarian  0.32  2.85  2.85  2.97  2.55  2.55  2.77  2.77  2.48   \n",
       "\n",
       "     2012  2011  2010  2008  2006  \n",
       "16   9.93  9.80  9.80  9.68  9.55  \n",
       "91   9.26  9.26  9.26  9.19  9.01  \n",
       "6    9.06  9.06  9.19  9.25  9.25  \n",
       "19   9.73  9.50  9.50  9.88  9.88  \n",
       "10   9.65  9.65  9.65  9.65  9.71  \n",
       "..    ...   ...   ...   ...   ...  \n",
       "130  1.99  1.82  1.82  1.86  1.61  \n",
       "135  1.92  2.15  2.15  2.28  2.76  \n",
       "92   1.08  1.08  1.08  0.86  1.03  \n",
       "89   2.35  1.77  1.77  1.77  1.77  \n",
       "75   2.48  2.48  2.48  3.02  3.06  \n",
       "\n",
       "[167 rows x 18 columns]"
      ]
     },
     "metadata": {},
     "output_type": "display_data"
    }
   ],
   "source": [
    "display(summit_table, index_table)"
   ]
  },
  {
   "cell_type": "code",
   "execution_count": 11,
   "metadata": {
    "colab": {
     "base_uri": "https://localhost:8080/",
     "height": 789
    },
    "id": "F6UHrE1vcEsa",
    "outputId": "73af1990-d270-4003-c51d-b0f6f72dd96f"
   },
   "outputs": [
    {
     "data": {
      "text/html": [
       "<div>\n",
       "<style scoped>\n",
       "    .dataframe tbody tr th:only-of-type {\n",
       "        vertical-align: middle;\n",
       "    }\n",
       "\n",
       "    .dataframe tbody tr th {\n",
       "        vertical-align: top;\n",
       "    }\n",
       "\n",
       "    .dataframe thead th {\n",
       "        text-align: right;\n",
       "    }\n",
       "</style>\n",
       "<table border=\"1\" class=\"dataframe\">\n",
       "  <thead>\n",
       "    <tr style=\"text-align: right;\">\n",
       "      <th></th>\n",
       "      <th>Country name</th>\n",
       "      <th>Region</th>\n",
       "      <th>Regime type</th>\n",
       "      <th>Attending</th>\n",
       "      <th>2021</th>\n",
       "      <th>2020</th>\n",
       "      <th>2019</th>\n",
       "      <th>2018</th>\n",
       "      <th>2017</th>\n",
       "      <th>2016</th>\n",
       "      <th>2015</th>\n",
       "      <th>2014</th>\n",
       "      <th>2013</th>\n",
       "      <th>2012</th>\n",
       "      <th>2011</th>\n",
       "      <th>2010</th>\n",
       "      <th>2008</th>\n",
       "      <th>2006</th>\n",
       "    </tr>\n",
       "  </thead>\n",
       "  <tbody>\n",
       "    <tr>\n",
       "      <th>0</th>\n",
       "      <td>Norway</td>\n",
       "      <td>Western Europe</td>\n",
       "      <td>Full democracy</td>\n",
       "      <td>1</td>\n",
       "      <td>9.75</td>\n",
       "      <td>9.81</td>\n",
       "      <td>9.87</td>\n",
       "      <td>9.87</td>\n",
       "      <td>9.87</td>\n",
       "      <td>9.93</td>\n",
       "      <td>9.93</td>\n",
       "      <td>9.93</td>\n",
       "      <td>9.93</td>\n",
       "      <td>9.93</td>\n",
       "      <td>9.80</td>\n",
       "      <td>9.80</td>\n",
       "      <td>9.68</td>\n",
       "      <td>9.55</td>\n",
       "    </tr>\n",
       "    <tr>\n",
       "      <th>1</th>\n",
       "      <td>New Zealand</td>\n",
       "      <td>Asia and Australasia</td>\n",
       "      <td>Full democracy</td>\n",
       "      <td>1</td>\n",
       "      <td>9.37</td>\n",
       "      <td>9.25</td>\n",
       "      <td>9.26</td>\n",
       "      <td>9.26</td>\n",
       "      <td>9.26</td>\n",
       "      <td>9.26</td>\n",
       "      <td>9.26</td>\n",
       "      <td>9.26</td>\n",
       "      <td>9.26</td>\n",
       "      <td>9.26</td>\n",
       "      <td>9.26</td>\n",
       "      <td>9.26</td>\n",
       "      <td>9.19</td>\n",
       "      <td>9.01</td>\n",
       "    </tr>\n",
       "    <tr>\n",
       "      <th>2</th>\n",
       "      <td>Finland</td>\n",
       "      <td>Western Europe</td>\n",
       "      <td>Full democracy</td>\n",
       "      <td>1</td>\n",
       "      <td>9.27</td>\n",
       "      <td>9.20</td>\n",
       "      <td>9.25</td>\n",
       "      <td>9.14</td>\n",
       "      <td>9.03</td>\n",
       "      <td>9.03</td>\n",
       "      <td>9.03</td>\n",
       "      <td>9.03</td>\n",
       "      <td>9.03</td>\n",
       "      <td>9.06</td>\n",
       "      <td>9.06</td>\n",
       "      <td>9.19</td>\n",
       "      <td>9.25</td>\n",
       "      <td>9.25</td>\n",
       "    </tr>\n",
       "    <tr>\n",
       "      <th>3</th>\n",
       "      <td>Sweden</td>\n",
       "      <td>Western Europe</td>\n",
       "      <td>Full democracy</td>\n",
       "      <td>1</td>\n",
       "      <td>9.26</td>\n",
       "      <td>9.26</td>\n",
       "      <td>9.39</td>\n",
       "      <td>9.39</td>\n",
       "      <td>9.39</td>\n",
       "      <td>9.39</td>\n",
       "      <td>9.45</td>\n",
       "      <td>9.73</td>\n",
       "      <td>9.73</td>\n",
       "      <td>9.73</td>\n",
       "      <td>9.50</td>\n",
       "      <td>9.50</td>\n",
       "      <td>9.88</td>\n",
       "      <td>9.88</td>\n",
       "    </tr>\n",
       "    <tr>\n",
       "      <th>4</th>\n",
       "      <td>Iceland</td>\n",
       "      <td>Western Europe</td>\n",
       "      <td>Full democracy</td>\n",
       "      <td>1</td>\n",
       "      <td>9.18</td>\n",
       "      <td>9.37</td>\n",
       "      <td>9.58</td>\n",
       "      <td>9.58</td>\n",
       "      <td>9.58</td>\n",
       "      <td>9.50</td>\n",
       "      <td>9.58</td>\n",
       "      <td>9.58</td>\n",
       "      <td>9.65</td>\n",
       "      <td>9.65</td>\n",
       "      <td>9.65</td>\n",
       "      <td>9.65</td>\n",
       "      <td>9.65</td>\n",
       "      <td>9.71</td>\n",
       "    </tr>\n",
       "    <tr>\n",
       "      <th>...</th>\n",
       "      <td>...</td>\n",
       "      <td>...</td>\n",
       "      <td>...</td>\n",
       "      <td>...</td>\n",
       "      <td>...</td>\n",
       "      <td>...</td>\n",
       "      <td>...</td>\n",
       "      <td>...</td>\n",
       "      <td>...</td>\n",
       "      <td>...</td>\n",
       "      <td>...</td>\n",
       "      <td>...</td>\n",
       "      <td>...</td>\n",
       "      <td>...</td>\n",
       "      <td>...</td>\n",
       "      <td>...</td>\n",
       "      <td>...</td>\n",
       "      <td>...</td>\n",
       "    </tr>\n",
       "    <tr>\n",
       "      <th>97</th>\n",
       "      <td>Iraq</td>\n",
       "      <td>Middle East and North Africa</td>\n",
       "      <td>Authoritarian</td>\n",
       "      <td>1</td>\n",
       "      <td>3.51</td>\n",
       "      <td>3.62</td>\n",
       "      <td>3.74</td>\n",
       "      <td>4.06</td>\n",
       "      <td>4.09</td>\n",
       "      <td>4.08</td>\n",
       "      <td>4.08</td>\n",
       "      <td>4.23</td>\n",
       "      <td>4.10</td>\n",
       "      <td>4.10</td>\n",
       "      <td>4.03</td>\n",
       "      <td>4.00</td>\n",
       "      <td>4.00</td>\n",
       "      <td>4.01</td>\n",
       "    </tr>\n",
       "    <tr>\n",
       "      <th>98</th>\n",
       "      <td>Jordan</td>\n",
       "      <td>Middle East and North Africa</td>\n",
       "      <td>Authoritarian</td>\n",
       "      <td>1</td>\n",
       "      <td>3.49</td>\n",
       "      <td>3.62</td>\n",
       "      <td>3.93</td>\n",
       "      <td>3.93</td>\n",
       "      <td>3.87</td>\n",
       "      <td>3.96</td>\n",
       "      <td>3.86</td>\n",
       "      <td>3.76</td>\n",
       "      <td>3.76</td>\n",
       "      <td>3.76</td>\n",
       "      <td>3.89</td>\n",
       "      <td>3.74</td>\n",
       "      <td>3.93</td>\n",
       "      <td>3.92</td>\n",
       "    </tr>\n",
       "    <tr>\n",
       "      <th>99</th>\n",
       "      <td>Angola</td>\n",
       "      <td>Sub-Saharan Africa</td>\n",
       "      <td>Authoritarian</td>\n",
       "      <td>1</td>\n",
       "      <td>3.37</td>\n",
       "      <td>3.66</td>\n",
       "      <td>3.72</td>\n",
       "      <td>3.62</td>\n",
       "      <td>3.62</td>\n",
       "      <td>3.40</td>\n",
       "      <td>3.35</td>\n",
       "      <td>3.35</td>\n",
       "      <td>3.35</td>\n",
       "      <td>3.35</td>\n",
       "      <td>3.32</td>\n",
       "      <td>3.32</td>\n",
       "      <td>3.35</td>\n",
       "      <td>2.41</td>\n",
       "    </tr>\n",
       "    <tr>\n",
       "      <th>100</th>\n",
       "      <td>Niger</td>\n",
       "      <td>Sub-Saharan Africa</td>\n",
       "      <td>Authoritarian</td>\n",
       "      <td>1</td>\n",
       "      <td>3.22</td>\n",
       "      <td>3.29</td>\n",
       "      <td>3.29</td>\n",
       "      <td>3.76</td>\n",
       "      <td>3.76</td>\n",
       "      <td>3.96</td>\n",
       "      <td>4.62</td>\n",
       "      <td>4.02</td>\n",
       "      <td>4.08</td>\n",
       "      <td>4.16</td>\n",
       "      <td>4.16</td>\n",
       "      <td>3.38</td>\n",
       "      <td>3.41</td>\n",
       "      <td>3.54</td>\n",
       "    </tr>\n",
       "    <tr>\n",
       "      <th>101</th>\n",
       "      <td>Democratic Republic of the Congo</td>\n",
       "      <td>Sub-Saharan Africa</td>\n",
       "      <td>Authoritarian</td>\n",
       "      <td>1</td>\n",
       "      <td>1.40</td>\n",
       "      <td>1.13</td>\n",
       "      <td>1.13</td>\n",
       "      <td>1.49</td>\n",
       "      <td>1.61</td>\n",
       "      <td>1.93</td>\n",
       "      <td>2.11</td>\n",
       "      <td>1.75</td>\n",
       "      <td>1.83</td>\n",
       "      <td>1.92</td>\n",
       "      <td>2.15</td>\n",
       "      <td>2.15</td>\n",
       "      <td>2.28</td>\n",
       "      <td>2.76</td>\n",
       "    </tr>\n",
       "  </tbody>\n",
       "</table>\n",
       "<p>102 rows × 18 columns</p>\n",
       "</div>"
      ],
      "text/plain": [
       "                         Country name                        Region  \\\n",
       "0                              Norway                Western Europe   \n",
       "1                         New Zealand          Asia and Australasia   \n",
       "2                             Finland                Western Europe   \n",
       "3                              Sweden                Western Europe   \n",
       "4                             Iceland                Western Europe   \n",
       "..                                ...                           ...   \n",
       "97                               Iraq  Middle East and North Africa   \n",
       "98                             Jordan  Middle East and North Africa   \n",
       "99                             Angola            Sub-Saharan Africa   \n",
       "100                             Niger            Sub-Saharan Africa   \n",
       "101  Democratic Republic of the Congo            Sub-Saharan Africa   \n",
       "\n",
       "        Regime type Attending  2021  2020  2019  2018  2017  2016  2015  2014  \\\n",
       "0    Full democracy         1  9.75  9.81  9.87  9.87  9.87  9.93  9.93  9.93   \n",
       "1    Full democracy         1  9.37  9.25  9.26  9.26  9.26  9.26  9.26  9.26   \n",
       "2    Full democracy         1  9.27  9.20  9.25  9.14  9.03  9.03  9.03  9.03   \n",
       "3    Full democracy         1  9.26  9.26  9.39  9.39  9.39  9.39  9.45  9.73   \n",
       "4    Full democracy         1  9.18  9.37  9.58  9.58  9.58  9.50  9.58  9.58   \n",
       "..              ...       ...   ...   ...   ...   ...   ...   ...   ...   ...   \n",
       "97    Authoritarian         1  3.51  3.62  3.74  4.06  4.09  4.08  4.08  4.23   \n",
       "98    Authoritarian         1  3.49  3.62  3.93  3.93  3.87  3.96  3.86  3.76   \n",
       "99    Authoritarian         1  3.37  3.66  3.72  3.62  3.62  3.40  3.35  3.35   \n",
       "100   Authoritarian         1  3.22  3.29  3.29  3.76  3.76  3.96  4.62  4.02   \n",
       "101   Authoritarian         1  1.40  1.13  1.13  1.49  1.61  1.93  2.11  1.75   \n",
       "\n",
       "     2013  2012  2011  2010  2008  2006  \n",
       "0    9.93  9.93  9.80  9.80  9.68  9.55  \n",
       "1    9.26  9.26  9.26  9.26  9.19  9.01  \n",
       "2    9.03  9.06  9.06  9.19  9.25  9.25  \n",
       "3    9.73  9.73  9.50  9.50  9.88  9.88  \n",
       "4    9.65  9.65  9.65  9.65  9.65  9.71  \n",
       "..    ...   ...   ...   ...   ...   ...  \n",
       "97   4.10  4.10  4.03  4.00  4.00  4.01  \n",
       "98   3.76  3.76  3.89  3.74  3.93  3.92  \n",
       "99   3.35  3.35  3.32  3.32  3.35  2.41  \n",
       "100  4.08  4.16  4.16  3.38  3.41  3.54  \n",
       "101  1.83  1.92  2.15  2.15  2.28  2.76  \n",
       "\n",
       "[102 rows x 18 columns]"
      ]
     },
     "execution_count": 11,
     "metadata": {},
     "output_type": "execute_result"
    }
   ],
   "source": [
    "data = pd.merge(index_table, summit_table, on='2020')\n",
    "data = data.loc[:, ['Country_x', 'Region_x', 'Regime type', 'Attending', '2021', '2020', '2019', '2018', '2017', '2016', '2015', '2014', '2013', '2012', '2011', '2010'\n",
    "                    , '2008', '2006']]\n",
    "data.columns = ['Country name', 'Region', 'Regime type', 'Attending', '2021', '2020', '2019', '2018', '2017', '2016', '2015', '2014', '2013', '2012', '2011', '2010'\n",
    "                    , '2008', '2006']\n",
    "data"
   ]
  },
  {
   "attachments": {},
   "cell_type": "markdown",
   "metadata": {
    "id": "RqxGygOTwp82"
   },
   "source": [
    "### Adding variables in index_chi to index_table"
   ]
  },
  {
   "cell_type": "code",
   "execution_count": 12,
   "metadata": {
    "colab": {
     "base_uri": "https://localhost:8080/",
     "height": 1000
    },
    "id": "U6Zd1jgqxrTS",
    "outputId": "af451c87-881b-4338-bb64-85260aa04157"
   },
   "outputs": [
    {
     "data": {
      "text/html": [
       "<div>\n",
       "<style scoped>\n",
       "    .dataframe tbody tr th:only-of-type {\n",
       "        vertical-align: middle;\n",
       "    }\n",
       "\n",
       "    .dataframe tbody tr th {\n",
       "        vertical-align: top;\n",
       "    }\n",
       "\n",
       "    .dataframe thead th {\n",
       "        text-align: right;\n",
       "    }\n",
       "</style>\n",
       "<table border=\"1\" class=\"dataframe\">\n",
       "  <thead>\n",
       "    <tr style=\"text-align: right;\">\n",
       "      <th></th>\n",
       "      <th>Region</th>\n",
       "      <th>2021 rank</th>\n",
       "      <th>Country</th>\n",
       "      <th>Regime type</th>\n",
       "      <th>2021</th>\n",
       "      <th>2020</th>\n",
       "      <th>2019</th>\n",
       "      <th>2018</th>\n",
       "      <th>2017</th>\n",
       "      <th>2016</th>\n",
       "      <th>2015</th>\n",
       "      <th>2014</th>\n",
       "      <th>2013</th>\n",
       "      <th>2012</th>\n",
       "      <th>2011</th>\n",
       "      <th>2010</th>\n",
       "      <th>2008</th>\n",
       "      <th>2006</th>\n",
       "    </tr>\n",
       "  </thead>\n",
       "  <tbody>\n",
       "    <tr>\n",
       "      <th>16</th>\n",
       "      <td>Western Europe</td>\n",
       "      <td>1</td>\n",
       "      <td>Norway</td>\n",
       "      <td>Full democracy</td>\n",
       "      <td>9.75</td>\n",
       "      <td>9.81</td>\n",
       "      <td>9.87</td>\n",
       "      <td>9.87</td>\n",
       "      <td>9.87</td>\n",
       "      <td>9.93</td>\n",
       "      <td>9.93</td>\n",
       "      <td>9.93</td>\n",
       "      <td>9.93</td>\n",
       "      <td>9.93</td>\n",
       "      <td>9.80</td>\n",
       "      <td>9.80</td>\n",
       "      <td>9.68</td>\n",
       "      <td>9.55</td>\n",
       "    </tr>\n",
       "    <tr>\n",
       "      <th>91</th>\n",
       "      <td>Asia and Australasia</td>\n",
       "      <td>2</td>\n",
       "      <td>New Zealand</td>\n",
       "      <td>Full democracy</td>\n",
       "      <td>9.37</td>\n",
       "      <td>9.25</td>\n",
       "      <td>9.26</td>\n",
       "      <td>9.26</td>\n",
       "      <td>9.26</td>\n",
       "      <td>9.26</td>\n",
       "      <td>9.26</td>\n",
       "      <td>9.26</td>\n",
       "      <td>9.26</td>\n",
       "      <td>9.26</td>\n",
       "      <td>9.26</td>\n",
       "      <td>9.26</td>\n",
       "      <td>9.19</td>\n",
       "      <td>9.01</td>\n",
       "    </tr>\n",
       "    <tr>\n",
       "      <th>6</th>\n",
       "      <td>Western Europe</td>\n",
       "      <td>3</td>\n",
       "      <td>Finland</td>\n",
       "      <td>Full democracy</td>\n",
       "      <td>9.27</td>\n",
       "      <td>9.20</td>\n",
       "      <td>9.25</td>\n",
       "      <td>9.14</td>\n",
       "      <td>9.03</td>\n",
       "      <td>9.03</td>\n",
       "      <td>9.03</td>\n",
       "      <td>9.03</td>\n",
       "      <td>9.03</td>\n",
       "      <td>9.06</td>\n",
       "      <td>9.06</td>\n",
       "      <td>9.19</td>\n",
       "      <td>9.25</td>\n",
       "      <td>9.25</td>\n",
       "    </tr>\n",
       "    <tr>\n",
       "      <th>19</th>\n",
       "      <td>Western Europe</td>\n",
       "      <td>4</td>\n",
       "      <td>Sweden</td>\n",
       "      <td>Full democracy</td>\n",
       "      <td>9.26</td>\n",
       "      <td>9.26</td>\n",
       "      <td>9.39</td>\n",
       "      <td>9.39</td>\n",
       "      <td>9.39</td>\n",
       "      <td>9.39</td>\n",
       "      <td>9.45</td>\n",
       "      <td>9.73</td>\n",
       "      <td>9.73</td>\n",
       "      <td>9.73</td>\n",
       "      <td>9.50</td>\n",
       "      <td>9.50</td>\n",
       "      <td>9.88</td>\n",
       "      <td>9.88</td>\n",
       "    </tr>\n",
       "    <tr>\n",
       "      <th>10</th>\n",
       "      <td>Western Europe</td>\n",
       "      <td>5</td>\n",
       "      <td>Iceland</td>\n",
       "      <td>Full democracy</td>\n",
       "      <td>9.18</td>\n",
       "      <td>9.37</td>\n",
       "      <td>9.58</td>\n",
       "      <td>9.58</td>\n",
       "      <td>9.58</td>\n",
       "      <td>9.50</td>\n",
       "      <td>9.58</td>\n",
       "      <td>9.58</td>\n",
       "      <td>9.65</td>\n",
       "      <td>9.65</td>\n",
       "      <td>9.65</td>\n",
       "      <td>9.65</td>\n",
       "      <td>9.65</td>\n",
       "      <td>9.71</td>\n",
       "    </tr>\n",
       "    <tr>\n",
       "      <th>...</th>\n",
       "      <td>...</td>\n",
       "      <td>...</td>\n",
       "      <td>...</td>\n",
       "      <td>...</td>\n",
       "      <td>...</td>\n",
       "      <td>...</td>\n",
       "      <td>...</td>\n",
       "      <td>...</td>\n",
       "      <td>...</td>\n",
       "      <td>...</td>\n",
       "      <td>...</td>\n",
       "      <td>...</td>\n",
       "      <td>...</td>\n",
       "      <td>...</td>\n",
       "      <td>...</td>\n",
       "      <td>...</td>\n",
       "      <td>...</td>\n",
       "      <td>...</td>\n",
       "    </tr>\n",
       "    <tr>\n",
       "      <th>130</th>\n",
       "      <td>Sub-Saharan Africa</td>\n",
       "      <td>162</td>\n",
       "      <td>Central African Republic</td>\n",
       "      <td>Authoritarian</td>\n",
       "      <td>1.43</td>\n",
       "      <td>1.32</td>\n",
       "      <td>1.32</td>\n",
       "      <td>1.52</td>\n",
       "      <td>1.52</td>\n",
       "      <td>1.61</td>\n",
       "      <td>1.57</td>\n",
       "      <td>1.49</td>\n",
       "      <td>1.49</td>\n",
       "      <td>1.99</td>\n",
       "      <td>1.82</td>\n",
       "      <td>1.82</td>\n",
       "      <td>1.86</td>\n",
       "      <td>1.61</td>\n",
       "    </tr>\n",
       "    <tr>\n",
       "      <th>135</th>\n",
       "      <td>Sub-Saharan Africa</td>\n",
       "      <td>164</td>\n",
       "      <td>Democratic Republic of the Congo</td>\n",
       "      <td>Authoritarian</td>\n",
       "      <td>1.40</td>\n",
       "      <td>1.13</td>\n",
       "      <td>1.13</td>\n",
       "      <td>1.49</td>\n",
       "      <td>1.61</td>\n",
       "      <td>1.93</td>\n",
       "      <td>2.11</td>\n",
       "      <td>1.75</td>\n",
       "      <td>1.83</td>\n",
       "      <td>1.92</td>\n",
       "      <td>2.15</td>\n",
       "      <td>2.15</td>\n",
       "      <td>2.28</td>\n",
       "      <td>2.76</td>\n",
       "    </tr>\n",
       "    <tr>\n",
       "      <th>92</th>\n",
       "      <td>Asia and Australasia</td>\n",
       "      <td>165</td>\n",
       "      <td>North Korea</td>\n",
       "      <td>Authoritarian</td>\n",
       "      <td>1.08</td>\n",
       "      <td>1.08</td>\n",
       "      <td>1.08</td>\n",
       "      <td>1.08</td>\n",
       "      <td>1.08</td>\n",
       "      <td>1.08</td>\n",
       "      <td>1.08</td>\n",
       "      <td>1.08</td>\n",
       "      <td>1.08</td>\n",
       "      <td>1.08</td>\n",
       "      <td>1.08</td>\n",
       "      <td>1.08</td>\n",
       "      <td>0.86</td>\n",
       "      <td>1.03</td>\n",
       "    </tr>\n",
       "    <tr>\n",
       "      <th>89</th>\n",
       "      <td>Asia and Australasia</td>\n",
       "      <td>166</td>\n",
       "      <td>Myanmar</td>\n",
       "      <td>Authoritarian</td>\n",
       "      <td>1.02</td>\n",
       "      <td>3.04</td>\n",
       "      <td>3.55</td>\n",
       "      <td>3.83</td>\n",
       "      <td>3.83</td>\n",
       "      <td>4.20</td>\n",
       "      <td>4.14</td>\n",
       "      <td>3.05</td>\n",
       "      <td>2.76</td>\n",
       "      <td>2.35</td>\n",
       "      <td>1.77</td>\n",
       "      <td>1.77</td>\n",
       "      <td>1.77</td>\n",
       "      <td>1.77</td>\n",
       "    </tr>\n",
       "    <tr>\n",
       "      <th>75</th>\n",
       "      <td>Asia and Australasia</td>\n",
       "      <td>167</td>\n",
       "      <td>Afghanistan</td>\n",
       "      <td>Authoritarian</td>\n",
       "      <td>0.32</td>\n",
       "      <td>2.85</td>\n",
       "      <td>2.85</td>\n",
       "      <td>2.97</td>\n",
       "      <td>2.55</td>\n",
       "      <td>2.55</td>\n",
       "      <td>2.77</td>\n",
       "      <td>2.77</td>\n",
       "      <td>2.48</td>\n",
       "      <td>2.48</td>\n",
       "      <td>2.48</td>\n",
       "      <td>2.48</td>\n",
       "      <td>3.02</td>\n",
       "      <td>3.06</td>\n",
       "    </tr>\n",
       "  </tbody>\n",
       "</table>\n",
       "<p>167 rows × 18 columns</p>\n",
       "</div>"
      ],
      "text/plain": [
       "                   Region  2021 rank                           Country  \\\n",
       "16         Western Europe          1                            Norway   \n",
       "91   Asia and Australasia          2                       New Zealand   \n",
       "6          Western Europe          3                           Finland   \n",
       "19         Western Europe          4                            Sweden   \n",
       "10         Western Europe          5                           Iceland   \n",
       "..                    ...        ...                               ...   \n",
       "130    Sub-Saharan Africa        162          Central African Republic   \n",
       "135    Sub-Saharan Africa        164  Democratic Republic of the Congo   \n",
       "92   Asia and Australasia        165                       North Korea   \n",
       "89   Asia and Australasia        166                           Myanmar   \n",
       "75   Asia and Australasia        167                       Afghanistan   \n",
       "\n",
       "        Regime type  2021  2020  2019  2018  2017  2016  2015  2014  2013  \\\n",
       "16   Full democracy  9.75  9.81  9.87  9.87  9.87  9.93  9.93  9.93  9.93   \n",
       "91   Full democracy  9.37  9.25  9.26  9.26  9.26  9.26  9.26  9.26  9.26   \n",
       "6    Full democracy  9.27  9.20  9.25  9.14  9.03  9.03  9.03  9.03  9.03   \n",
       "19   Full democracy  9.26  9.26  9.39  9.39  9.39  9.39  9.45  9.73  9.73   \n",
       "10   Full democracy  9.18  9.37  9.58  9.58  9.58  9.50  9.58  9.58  9.65   \n",
       "..              ...   ...   ...   ...   ...   ...   ...   ...   ...   ...   \n",
       "130   Authoritarian  1.43  1.32  1.32  1.52  1.52  1.61  1.57  1.49  1.49   \n",
       "135   Authoritarian  1.40  1.13  1.13  1.49  1.61  1.93  2.11  1.75  1.83   \n",
       "92    Authoritarian  1.08  1.08  1.08  1.08  1.08  1.08  1.08  1.08  1.08   \n",
       "89    Authoritarian  1.02  3.04  3.55  3.83  3.83  4.20  4.14  3.05  2.76   \n",
       "75    Authoritarian  0.32  2.85  2.85  2.97  2.55  2.55  2.77  2.77  2.48   \n",
       "\n",
       "     2012  2011  2010  2008  2006  \n",
       "16   9.93  9.80  9.80  9.68  9.55  \n",
       "91   9.26  9.26  9.26  9.19  9.01  \n",
       "6    9.06  9.06  9.19  9.25  9.25  \n",
       "19   9.73  9.50  9.50  9.88  9.88  \n",
       "10   9.65  9.65  9.65  9.65  9.71  \n",
       "..    ...   ...   ...   ...   ...  \n",
       "130  1.99  1.82  1.82  1.86  1.61  \n",
       "135  1.92  2.15  2.15  2.28  2.76  \n",
       "92   1.08  1.08  1.08  0.86  1.03  \n",
       "89   2.35  1.77  1.77  1.77  1.77  \n",
       "75   2.48  2.48  2.48  3.02  3.06  \n",
       "\n",
       "[167 rows x 18 columns]"
      ]
     },
     "metadata": {},
     "output_type": "display_data"
    },
    {
     "data": {
      "text/html": [
       "<div>\n",
       "<style scoped>\n",
       "    .dataframe tbody tr th:only-of-type {\n",
       "        vertical-align: middle;\n",
       "    }\n",
       "\n",
       "    .dataframe tbody tr th {\n",
       "        vertical-align: top;\n",
       "    }\n",
       "\n",
       "    .dataframe thead th {\n",
       "        text-align: right;\n",
       "    }\n",
       "</style>\n",
       "<table border=\"1\" class=\"dataframe\">\n",
       "  <thead>\n",
       "    <tr style=\"text-align: right;\">\n",
       "      <th></th>\n",
       "      <th>2021 rank</th>\n",
       "      <th>Δ 排名</th>\n",
       "      <th>Country</th>\n",
       "      <th>政體類型</th>\n",
       "      <th>Election</th>\n",
       "      <th>Government</th>\n",
       "      <th>Participate</th>\n",
       "      <th>Culture</th>\n",
       "      <th>Freedom</th>\n",
       "      <th>總分</th>\n",
       "      <th>Δ 分數</th>\n",
       "    </tr>\n",
       "  </thead>\n",
       "  <tbody>\n",
       "    <tr>\n",
       "      <th>0</th>\n",
       "      <td>1</td>\n",
       "      <td>━</td>\n",
       "      <td>挪威</td>\n",
       "      <td>完全民主</td>\n",
       "      <td>10.00</td>\n",
       "      <td>9.64</td>\n",
       "      <td>10.00</td>\n",
       "      <td>10.00</td>\n",
       "      <td>9.12</td>\n",
       "      <td>9.75</td>\n",
       "      <td>▼ 0.06</td>\n",
       "    </tr>\n",
       "    <tr>\n",
       "      <th>1</th>\n",
       "      <td>2</td>\n",
       "      <td>▲ 2</td>\n",
       "      <td>新西蘭</td>\n",
       "      <td>完全民主</td>\n",
       "      <td>10.00</td>\n",
       "      <td>8.93</td>\n",
       "      <td>9.44</td>\n",
       "      <td>8.75</td>\n",
       "      <td>9.71</td>\n",
       "      <td>9.37</td>\n",
       "      <td>▲ 0.12</td>\n",
       "    </tr>\n",
       "    <tr>\n",
       "      <th>2</th>\n",
       "      <td>3</td>\n",
       "      <td>▲ 3</td>\n",
       "      <td>芬兰</td>\n",
       "      <td>完全民主</td>\n",
       "      <td>10.00</td>\n",
       "      <td>9.29</td>\n",
       "      <td>8.89</td>\n",
       "      <td>8.75</td>\n",
       "      <td>9.41</td>\n",
       "      <td>9.27</td>\n",
       "      <td>▲ 0.07</td>\n",
       "    </tr>\n",
       "    <tr>\n",
       "      <th>3</th>\n",
       "      <td>4</td>\n",
       "      <td>▼ 1</td>\n",
       "      <td>瑞典</td>\n",
       "      <td>完全民主</td>\n",
       "      <td>9.58</td>\n",
       "      <td>9.29</td>\n",
       "      <td>8.33</td>\n",
       "      <td>10.00</td>\n",
       "      <td>9.12</td>\n",
       "      <td>9.26</td>\n",
       "      <td>━</td>\n",
       "    </tr>\n",
       "    <tr>\n",
       "      <th>4</th>\n",
       "      <td>5</td>\n",
       "      <td>▼ 3</td>\n",
       "      <td>冰島</td>\n",
       "      <td>完全民主</td>\n",
       "      <td>10.00</td>\n",
       "      <td>8.21</td>\n",
       "      <td>8.89</td>\n",
       "      <td>9.38</td>\n",
       "      <td>9.41</td>\n",
       "      <td>9.18</td>\n",
       "      <td>▼ 0.19</td>\n",
       "    </tr>\n",
       "    <tr>\n",
       "      <th>...</th>\n",
       "      <td>...</td>\n",
       "      <td>...</td>\n",
       "      <td>...</td>\n",
       "      <td>...</td>\n",
       "      <td>...</td>\n",
       "      <td>...</td>\n",
       "      <td>...</td>\n",
       "      <td>...</td>\n",
       "      <td>...</td>\n",
       "      <td>...</td>\n",
       "      <td>...</td>\n",
       "    </tr>\n",
       "    <tr>\n",
       "      <th>165</th>\n",
       "      <td>162</td>\n",
       "      <td>▲ 3</td>\n",
       "      <td>中非</td>\n",
       "      <td>專制政權</td>\n",
       "      <td>1.25</td>\n",
       "      <td>0.00</td>\n",
       "      <td>1.67</td>\n",
       "      <td>1.88</td>\n",
       "      <td>2.35</td>\n",
       "      <td>1.43</td>\n",
       "      <td>▲ 0.11</td>\n",
       "    </tr>\n",
       "    <tr>\n",
       "      <th>166</th>\n",
       "      <td>164</td>\n",
       "      <td>▲ 2</td>\n",
       "      <td>刚果民主共和国</td>\n",
       "      <td>專制政權</td>\n",
       "      <td>0.75</td>\n",
       "      <td>0.00</td>\n",
       "      <td>2.22</td>\n",
       "      <td>3.13</td>\n",
       "      <td>0.88</td>\n",
       "      <td>1.40</td>\n",
       "      <td>▲ 0.27</td>\n",
       "    </tr>\n",
       "    <tr>\n",
       "      <th>167</th>\n",
       "      <td>165</td>\n",
       "      <td>▲ 2</td>\n",
       "      <td>朝鲜</td>\n",
       "      <td>專制政權</td>\n",
       "      <td>0.00</td>\n",
       "      <td>2.50</td>\n",
       "      <td>1.67</td>\n",
       "      <td>1.25</td>\n",
       "      <td>0.00</td>\n",
       "      <td>1.08</td>\n",
       "      <td>━</td>\n",
       "    </tr>\n",
       "    <tr>\n",
       "      <th>168</th>\n",
       "      <td>166</td>\n",
       "      <td>▼ 31</td>\n",
       "      <td>緬甸</td>\n",
       "      <td>專制政權</td>\n",
       "      <td>0.00</td>\n",
       "      <td>0.00</td>\n",
       "      <td>1.67</td>\n",
       "      <td>3.13</td>\n",
       "      <td>0.29</td>\n",
       "      <td>1.02</td>\n",
       "      <td>▼ 2.02</td>\n",
       "    </tr>\n",
       "    <tr>\n",
       "      <th>169</th>\n",
       "      <td>167</td>\n",
       "      <td>▼ 28</td>\n",
       "      <td>阿富汗</td>\n",
       "      <td>專制政權</td>\n",
       "      <td>0.00</td>\n",
       "      <td>0.00</td>\n",
       "      <td>0.07</td>\n",
       "      <td>0.00</td>\n",
       "      <td>1.25</td>\n",
       "      <td>0.32</td>\n",
       "      <td>▼ 2.53</td>\n",
       "    </tr>\n",
       "  </tbody>\n",
       "</table>\n",
       "<p>167 rows × 11 columns</p>\n",
       "</div>"
      ],
      "text/plain": [
       "    2021 rank  Δ 排名  Country  政體類型 Election Government Participate Culture  \\\n",
       "0           1     ━       挪威  完全民主    10.00       9.64       10.00   10.00   \n",
       "1           2   ▲ 2      新西蘭  完全民主    10.00       8.93        9.44    8.75   \n",
       "2           3   ▲ 3       芬兰  完全民主    10.00       9.29        8.89    8.75   \n",
       "3           4   ▼ 1       瑞典  完全民主     9.58       9.29        8.33   10.00   \n",
       "4           5   ▼ 3       冰島  完全民主    10.00       8.21        8.89    9.38   \n",
       "..        ...   ...      ...   ...      ...        ...         ...     ...   \n",
       "165       162   ▲ 3       中非  專制政權     1.25       0.00        1.67    1.88   \n",
       "166       164   ▲ 2  刚果民主共和国  專制政權     0.75       0.00        2.22    3.13   \n",
       "167       165   ▲ 2       朝鲜  專制政權     0.00       2.50        1.67    1.25   \n",
       "168       166  ▼ 31       緬甸  專制政權     0.00       0.00        1.67    3.13   \n",
       "169       167  ▼ 28      阿富汗  專制政權     0.00       0.00        0.07    0.00   \n",
       "\n",
       "    Freedom    總分    Δ 分數  \n",
       "0      9.12  9.75  ▼ 0.06  \n",
       "1      9.71  9.37  ▲ 0.12  \n",
       "2      9.41  9.27  ▲ 0.07  \n",
       "3      9.12  9.26       ━  \n",
       "4      9.41  9.18  ▼ 0.19  \n",
       "..      ...   ...     ...  \n",
       "165    2.35  1.43  ▲ 0.11  \n",
       "166    0.88  1.40  ▲ 0.27  \n",
       "167    0.00  1.08       ━  \n",
       "168    0.29  1.02  ▼ 2.02  \n",
       "169    1.25  0.32  ▼ 2.53  \n",
       "\n",
       "[167 rows x 11 columns]"
      ]
     },
     "metadata": {},
     "output_type": "display_data"
    }
   ],
   "source": [
    "display(index_table, index_chi)"
   ]
  },
  {
   "cell_type": "markdown",
   "metadata": {
    "id": "YPqG-cg__R15"
   },
   "source": [
    "### Add variable to index_table"
   ]
  },
  {
   "cell_type": "code",
   "execution_count": 13,
   "metadata": {
    "colab": {
     "base_uri": "https://localhost:8080/",
     "height": 1000
    },
    "id": "wZbsdyEzAgpG",
    "outputId": "aa5ef067-4343-4289-eed1-df0eade3987c"
   },
   "outputs": [
    {
     "data": {
      "text/html": [
       "<div>\n",
       "<style scoped>\n",
       "    .dataframe tbody tr th:only-of-type {\n",
       "        vertical-align: middle;\n",
       "    }\n",
       "\n",
       "    .dataframe tbody tr th {\n",
       "        vertical-align: top;\n",
       "    }\n",
       "\n",
       "    .dataframe thead th {\n",
       "        text-align: right;\n",
       "    }\n",
       "</style>\n",
       "<table border=\"1\" class=\"dataframe\">\n",
       "  <thead>\n",
       "    <tr style=\"text-align: right;\">\n",
       "      <th></th>\n",
       "      <th>key_0</th>\n",
       "      <th>Region</th>\n",
       "      <th>2021 rank_x</th>\n",
       "      <th>Country_x</th>\n",
       "      <th>Regime type</th>\n",
       "      <th>2021</th>\n",
       "      <th>2020</th>\n",
       "      <th>2019</th>\n",
       "      <th>2018</th>\n",
       "      <th>2017</th>\n",
       "      <th>...</th>\n",
       "      <th>Δ 排名</th>\n",
       "      <th>Country_y</th>\n",
       "      <th>政體類型</th>\n",
       "      <th>Election</th>\n",
       "      <th>Government</th>\n",
       "      <th>Participate</th>\n",
       "      <th>Culture</th>\n",
       "      <th>Freedom</th>\n",
       "      <th>總分</th>\n",
       "      <th>Δ 分數</th>\n",
       "    </tr>\n",
       "  </thead>\n",
       "  <tbody>\n",
       "    <tr>\n",
       "      <th>0</th>\n",
       "      <td>1</td>\n",
       "      <td>Western Europe</td>\n",
       "      <td>1</td>\n",
       "      <td>Norway</td>\n",
       "      <td>Full democracy</td>\n",
       "      <td>9.75</td>\n",
       "      <td>9.81</td>\n",
       "      <td>9.87</td>\n",
       "      <td>9.87</td>\n",
       "      <td>9.87</td>\n",
       "      <td>...</td>\n",
       "      <td>━</td>\n",
       "      <td>挪威</td>\n",
       "      <td>完全民主</td>\n",
       "      <td>10.00</td>\n",
       "      <td>9.64</td>\n",
       "      <td>10.00</td>\n",
       "      <td>10.00</td>\n",
       "      <td>9.12</td>\n",
       "      <td>9.75</td>\n",
       "      <td>▼ 0.06</td>\n",
       "    </tr>\n",
       "    <tr>\n",
       "      <th>1</th>\n",
       "      <td>2</td>\n",
       "      <td>Asia and Australasia</td>\n",
       "      <td>2</td>\n",
       "      <td>New Zealand</td>\n",
       "      <td>Full democracy</td>\n",
       "      <td>9.37</td>\n",
       "      <td>9.25</td>\n",
       "      <td>9.26</td>\n",
       "      <td>9.26</td>\n",
       "      <td>9.26</td>\n",
       "      <td>...</td>\n",
       "      <td>▲ 2</td>\n",
       "      <td>新西蘭</td>\n",
       "      <td>完全民主</td>\n",
       "      <td>10.00</td>\n",
       "      <td>8.93</td>\n",
       "      <td>9.44</td>\n",
       "      <td>8.75</td>\n",
       "      <td>9.71</td>\n",
       "      <td>9.37</td>\n",
       "      <td>▲ 0.12</td>\n",
       "    </tr>\n",
       "    <tr>\n",
       "      <th>2</th>\n",
       "      <td>3</td>\n",
       "      <td>Western Europe</td>\n",
       "      <td>3</td>\n",
       "      <td>Finland</td>\n",
       "      <td>Full democracy</td>\n",
       "      <td>9.27</td>\n",
       "      <td>9.20</td>\n",
       "      <td>9.25</td>\n",
       "      <td>9.14</td>\n",
       "      <td>9.03</td>\n",
       "      <td>...</td>\n",
       "      <td>▲ 3</td>\n",
       "      <td>芬兰</td>\n",
       "      <td>完全民主</td>\n",
       "      <td>10.00</td>\n",
       "      <td>9.29</td>\n",
       "      <td>8.89</td>\n",
       "      <td>8.75</td>\n",
       "      <td>9.41</td>\n",
       "      <td>9.27</td>\n",
       "      <td>▲ 0.07</td>\n",
       "    </tr>\n",
       "    <tr>\n",
       "      <th>3</th>\n",
       "      <td>4</td>\n",
       "      <td>Western Europe</td>\n",
       "      <td>4</td>\n",
       "      <td>Sweden</td>\n",
       "      <td>Full democracy</td>\n",
       "      <td>9.26</td>\n",
       "      <td>9.26</td>\n",
       "      <td>9.39</td>\n",
       "      <td>9.39</td>\n",
       "      <td>9.39</td>\n",
       "      <td>...</td>\n",
       "      <td>▼ 1</td>\n",
       "      <td>瑞典</td>\n",
       "      <td>完全民主</td>\n",
       "      <td>9.58</td>\n",
       "      <td>9.29</td>\n",
       "      <td>8.33</td>\n",
       "      <td>10.00</td>\n",
       "      <td>9.12</td>\n",
       "      <td>9.26</td>\n",
       "      <td>━</td>\n",
       "    </tr>\n",
       "    <tr>\n",
       "      <th>4</th>\n",
       "      <td>5</td>\n",
       "      <td>Western Europe</td>\n",
       "      <td>5</td>\n",
       "      <td>Iceland</td>\n",
       "      <td>Full democracy</td>\n",
       "      <td>9.18</td>\n",
       "      <td>9.37</td>\n",
       "      <td>9.58</td>\n",
       "      <td>9.58</td>\n",
       "      <td>9.58</td>\n",
       "      <td>...</td>\n",
       "      <td>▼ 3</td>\n",
       "      <td>冰島</td>\n",
       "      <td>完全民主</td>\n",
       "      <td>10.00</td>\n",
       "      <td>8.21</td>\n",
       "      <td>8.89</td>\n",
       "      <td>9.38</td>\n",
       "      <td>9.41</td>\n",
       "      <td>9.18</td>\n",
       "      <td>▼ 0.19</td>\n",
       "    </tr>\n",
       "    <tr>\n",
       "      <th>...</th>\n",
       "      <td>...</td>\n",
       "      <td>...</td>\n",
       "      <td>...</td>\n",
       "      <td>...</td>\n",
       "      <td>...</td>\n",
       "      <td>...</td>\n",
       "      <td>...</td>\n",
       "      <td>...</td>\n",
       "      <td>...</td>\n",
       "      <td>...</td>\n",
       "      <td>...</td>\n",
       "      <td>...</td>\n",
       "      <td>...</td>\n",
       "      <td>...</td>\n",
       "      <td>...</td>\n",
       "      <td>...</td>\n",
       "      <td>...</td>\n",
       "      <td>...</td>\n",
       "      <td>...</td>\n",
       "      <td>...</td>\n",
       "      <td>...</td>\n",
       "    </tr>\n",
       "    <tr>\n",
       "      <th>204</th>\n",
       "      <td>162</td>\n",
       "      <td>Sub-Saharan Africa</td>\n",
       "      <td>162</td>\n",
       "      <td>Central African Republic</td>\n",
       "      <td>Authoritarian</td>\n",
       "      <td>1.43</td>\n",
       "      <td>1.32</td>\n",
       "      <td>1.32</td>\n",
       "      <td>1.52</td>\n",
       "      <td>1.52</td>\n",
       "      <td>...</td>\n",
       "      <td>▲ 3</td>\n",
       "      <td>中非</td>\n",
       "      <td>專制政權</td>\n",
       "      <td>1.25</td>\n",
       "      <td>0.00</td>\n",
       "      <td>1.67</td>\n",
       "      <td>1.88</td>\n",
       "      <td>2.35</td>\n",
       "      <td>1.43</td>\n",
       "      <td>▲ 0.11</td>\n",
       "    </tr>\n",
       "    <tr>\n",
       "      <th>205</th>\n",
       "      <td>164</td>\n",
       "      <td>Sub-Saharan Africa</td>\n",
       "      <td>164</td>\n",
       "      <td>Democratic Republic of the Congo</td>\n",
       "      <td>Authoritarian</td>\n",
       "      <td>1.40</td>\n",
       "      <td>1.13</td>\n",
       "      <td>1.13</td>\n",
       "      <td>1.49</td>\n",
       "      <td>1.61</td>\n",
       "      <td>...</td>\n",
       "      <td>▲ 2</td>\n",
       "      <td>刚果民主共和国</td>\n",
       "      <td>專制政權</td>\n",
       "      <td>0.75</td>\n",
       "      <td>0.00</td>\n",
       "      <td>2.22</td>\n",
       "      <td>3.13</td>\n",
       "      <td>0.88</td>\n",
       "      <td>1.40</td>\n",
       "      <td>▲ 0.27</td>\n",
       "    </tr>\n",
       "    <tr>\n",
       "      <th>206</th>\n",
       "      <td>165</td>\n",
       "      <td>Asia and Australasia</td>\n",
       "      <td>165</td>\n",
       "      <td>North Korea</td>\n",
       "      <td>Authoritarian</td>\n",
       "      <td>1.08</td>\n",
       "      <td>1.08</td>\n",
       "      <td>1.08</td>\n",
       "      <td>1.08</td>\n",
       "      <td>1.08</td>\n",
       "      <td>...</td>\n",
       "      <td>▲ 2</td>\n",
       "      <td>朝鲜</td>\n",
       "      <td>專制政權</td>\n",
       "      <td>0.00</td>\n",
       "      <td>2.50</td>\n",
       "      <td>1.67</td>\n",
       "      <td>1.25</td>\n",
       "      <td>0.00</td>\n",
       "      <td>1.08</td>\n",
       "      <td>━</td>\n",
       "    </tr>\n",
       "    <tr>\n",
       "      <th>207</th>\n",
       "      <td>166</td>\n",
       "      <td>Asia and Australasia</td>\n",
       "      <td>166</td>\n",
       "      <td>Myanmar</td>\n",
       "      <td>Authoritarian</td>\n",
       "      <td>1.02</td>\n",
       "      <td>3.04</td>\n",
       "      <td>3.55</td>\n",
       "      <td>3.83</td>\n",
       "      <td>3.83</td>\n",
       "      <td>...</td>\n",
       "      <td>▼ 31</td>\n",
       "      <td>緬甸</td>\n",
       "      <td>專制政權</td>\n",
       "      <td>0.00</td>\n",
       "      <td>0.00</td>\n",
       "      <td>1.67</td>\n",
       "      <td>3.13</td>\n",
       "      <td>0.29</td>\n",
       "      <td>1.02</td>\n",
       "      <td>▼ 2.02</td>\n",
       "    </tr>\n",
       "    <tr>\n",
       "      <th>208</th>\n",
       "      <td>167</td>\n",
       "      <td>Asia and Australasia</td>\n",
       "      <td>167</td>\n",
       "      <td>Afghanistan</td>\n",
       "      <td>Authoritarian</td>\n",
       "      <td>0.32</td>\n",
       "      <td>2.85</td>\n",
       "      <td>2.85</td>\n",
       "      <td>2.97</td>\n",
       "      <td>2.55</td>\n",
       "      <td>...</td>\n",
       "      <td>▼ 28</td>\n",
       "      <td>阿富汗</td>\n",
       "      <td>專制政權</td>\n",
       "      <td>0.00</td>\n",
       "      <td>0.00</td>\n",
       "      <td>0.07</td>\n",
       "      <td>0.00</td>\n",
       "      <td>1.25</td>\n",
       "      <td>0.32</td>\n",
       "      <td>▼ 2.53</td>\n",
       "    </tr>\n",
       "  </tbody>\n",
       "</table>\n",
       "<p>209 rows × 30 columns</p>\n",
       "</div>"
      ],
      "text/plain": [
       "     key_0                Region  2021 rank_x  \\\n",
       "0        1        Western Europe            1   \n",
       "1        2  Asia and Australasia            2   \n",
       "2        3        Western Europe            3   \n",
       "3        4        Western Europe            4   \n",
       "4        5        Western Europe            5   \n",
       "..     ...                   ...          ...   \n",
       "204    162    Sub-Saharan Africa          162   \n",
       "205    164    Sub-Saharan Africa          164   \n",
       "206    165  Asia and Australasia          165   \n",
       "207    166  Asia and Australasia          166   \n",
       "208    167  Asia and Australasia          167   \n",
       "\n",
       "                            Country_x     Regime type  2021  2020  2019  2018  \\\n",
       "0                              Norway  Full democracy  9.75  9.81  9.87  9.87   \n",
       "1                         New Zealand  Full democracy  9.37  9.25  9.26  9.26   \n",
       "2                             Finland  Full democracy  9.27  9.20  9.25  9.14   \n",
       "3                              Sweden  Full democracy  9.26  9.26  9.39  9.39   \n",
       "4                             Iceland  Full democracy  9.18  9.37  9.58  9.58   \n",
       "..                                ...             ...   ...   ...   ...   ...   \n",
       "204          Central African Republic   Authoritarian  1.43  1.32  1.32  1.52   \n",
       "205  Democratic Republic of the Congo   Authoritarian  1.40  1.13  1.13  1.49   \n",
       "206                       North Korea   Authoritarian  1.08  1.08  1.08  1.08   \n",
       "207                           Myanmar   Authoritarian  1.02  3.04  3.55  3.83   \n",
       "208                       Afghanistan   Authoritarian  0.32  2.85  2.85  2.97   \n",
       "\n",
       "     2017  ...  Δ 排名  Country_y  政體類型  Election  Government  Participate  \\\n",
       "0    9.87  ...     ━         挪威  完全民主     10.00        9.64        10.00   \n",
       "1    9.26  ...   ▲ 2        新西蘭  完全民主     10.00        8.93         9.44   \n",
       "2    9.03  ...   ▲ 3         芬兰  完全民主     10.00        9.29         8.89   \n",
       "3    9.39  ...   ▼ 1         瑞典  完全民主      9.58        9.29         8.33   \n",
       "4    9.58  ...   ▼ 3         冰島  完全民主     10.00        8.21         8.89   \n",
       "..    ...  ...   ...        ...   ...       ...         ...          ...   \n",
       "204  1.52  ...   ▲ 3         中非  專制政權      1.25        0.00         1.67   \n",
       "205  1.61  ...   ▲ 2    刚果民主共和国  專制政權      0.75        0.00         2.22   \n",
       "206  1.08  ...   ▲ 2         朝鲜  專制政權      0.00        2.50         1.67   \n",
       "207  3.83  ...  ▼ 31         緬甸  專制政權      0.00        0.00         1.67   \n",
       "208  2.55  ...  ▼ 28        阿富汗  專制政權      0.00        0.00         0.07   \n",
       "\n",
       "     Culture  Freedom    總分    Δ 分數  \n",
       "0      10.00     9.12  9.75  ▼ 0.06  \n",
       "1       8.75     9.71  9.37  ▲ 0.12  \n",
       "2       8.75     9.41  9.27  ▲ 0.07  \n",
       "3      10.00     9.12  9.26       ━  \n",
       "4       9.38     9.41  9.18  ▼ 0.19  \n",
       "..       ...      ...   ...     ...  \n",
       "204     1.88     2.35  1.43  ▲ 0.11  \n",
       "205     3.13     0.88  1.40  ▲ 0.27  \n",
       "206     1.25     0.00  1.08       ━  \n",
       "207     3.13     0.29  1.02  ▼ 2.02  \n",
       "208     0.00     1.25  0.32  ▼ 2.53  \n",
       "\n",
       "[209 rows x 30 columns]"
      ]
     },
     "execution_count": 13,
     "metadata": {},
     "output_type": "execute_result"
    }
   ],
   "source": [
    "result = pd.merge(index_table, index_chi, on = index_table['2021 rank'].astype(int))\n",
    "result"
   ]
  },
  {
   "cell_type": "code",
   "execution_count": 14,
   "metadata": {
    "id": "r_JvjcRilr-z"
   },
   "outputs": [],
   "source": [
    "fdata = result.loc[:, ['Country_x', '2021 rank_x', 'Region', 'Regime type', '2021', '2020', '2019', '2018', '2017', '2016', '2015',\n",
    "                       '2014', '2013', '2012', '2011', '2010', '2008', '2006', 'Election', 'Government', 'Participate',\n",
    "                       'Culture', 'Freedom']]"
   ]
  },
  {
   "cell_type": "code",
   "execution_count": 15,
   "metadata": {
    "id": "t09Mf08V7E5N"
   },
   "outputs": [],
   "source": [
    "fdata = fdata.rename(columns = {'Country_x' : 'Country', '2021 rank_x': 'Rank'})"
   ]
  },
  {
   "cell_type": "code",
   "execution_count": 16,
   "metadata": {
    "id": "W7vqPzac3pVh"
   },
   "outputs": [],
   "source": [
    "# deal with duplicates\n",
    "fdata = fdata.drop_duplicates('Country')"
   ]
  },
  {
   "cell_type": "code",
   "execution_count": 17,
   "metadata": {
    "colab": {
     "base_uri": "https://localhost:8080/"
    },
    "id": "50JHo69uCKRr",
    "outputId": "959d542a-600c-4a4d-e0fb-df52a56e75c4"
   },
   "outputs": [],
   "source": [
    "fdata['Election'] = fdata['Election'].astype(float)\n",
    "fdata['Government'] = fdata['Government'].astype(float)\n",
    "fdata['Participate'] = fdata['Participate'].astype(float)\n",
    "fdata['Culture'] = fdata['Culture'].astype(float)\n",
    "fdata['Freedom'] = fdata['Freedom'].astype(float)"
   ]
  },
  {
   "cell_type": "markdown",
   "metadata": {
    "id": "50udjInJw462"
   },
   "source": [
    "### Turn wide form data to long form data"
   ]
  },
  {
   "cell_type": "code",
   "execution_count": 18,
   "metadata": {
    "colab": {
     "base_uri": "https://localhost:8080/",
     "height": 599
    },
    "id": "sVisYllxw21R",
    "outputId": "61a2d7bd-c454-4fb7-fc68-04f346b005c7"
   },
   "outputs": [
    {
     "data": {
      "text/html": [
       "<div>\n",
       "<style scoped>\n",
       "    .dataframe tbody tr th:only-of-type {\n",
       "        vertical-align: middle;\n",
       "    }\n",
       "\n",
       "    .dataframe tbody tr th {\n",
       "        vertical-align: top;\n",
       "    }\n",
       "\n",
       "    .dataframe thead th {\n",
       "        text-align: right;\n",
       "    }\n",
       "</style>\n",
       "<table border=\"1\" class=\"dataframe\">\n",
       "  <thead>\n",
       "    <tr style=\"text-align: right;\">\n",
       "      <th></th>\n",
       "      <th>Country</th>\n",
       "      <th>Rank</th>\n",
       "      <th>Region</th>\n",
       "      <th>Regime type</th>\n",
       "      <th>Election</th>\n",
       "      <th>Government</th>\n",
       "      <th>Participate</th>\n",
       "      <th>Culture</th>\n",
       "      <th>Freedom</th>\n",
       "      <th>Year</th>\n",
       "      <th>Democracy Index</th>\n",
       "    </tr>\n",
       "  </thead>\n",
       "  <tbody>\n",
       "    <tr>\n",
       "      <th>2337</th>\n",
       "      <td>Afghanistan</td>\n",
       "      <td>167</td>\n",
       "      <td>Asia and Australasia</td>\n",
       "      <td>Authoritarian</td>\n",
       "      <td>0.00</td>\n",
       "      <td>0.00</td>\n",
       "      <td>0.07</td>\n",
       "      <td>0.00</td>\n",
       "      <td>1.25</td>\n",
       "      <td>2006</td>\n",
       "      <td>3.06</td>\n",
       "    </tr>\n",
       "    <tr>\n",
       "      <th>2229</th>\n",
       "      <td>Colombia</td>\n",
       "      <td>59</td>\n",
       "      <td>Latin America and the Caribbean</td>\n",
       "      <td>Flawed democracy</td>\n",
       "      <td>9.17</td>\n",
       "      <td>5.71</td>\n",
       "      <td>6.11</td>\n",
       "      <td>3.75</td>\n",
       "      <td>7.65</td>\n",
       "      <td>2006</td>\n",
       "      <td>6.40</td>\n",
       "    </tr>\n",
       "    <tr>\n",
       "      <th>2228</th>\n",
       "      <td>Hungary</td>\n",
       "      <td>56</td>\n",
       "      <td>Central and Eastern Europe</td>\n",
       "      <td>Flawed democracy</td>\n",
       "      <td>8.33</td>\n",
       "      <td>5.36</td>\n",
       "      <td>6.67</td>\n",
       "      <td>6.25</td>\n",
       "      <td>5.88</td>\n",
       "      <td>2006</td>\n",
       "      <td>7.53</td>\n",
       "    </tr>\n",
       "    <tr>\n",
       "      <th>2227</th>\n",
       "      <td>Croatia</td>\n",
       "      <td>56</td>\n",
       "      <td>Central and Eastern Europe</td>\n",
       "      <td>Flawed democracy</td>\n",
       "      <td>8.33</td>\n",
       "      <td>5.36</td>\n",
       "      <td>6.67</td>\n",
       "      <td>6.25</td>\n",
       "      <td>5.88</td>\n",
       "      <td>2006</td>\n",
       "      <td>7.04</td>\n",
       "    </tr>\n",
       "    <tr>\n",
       "      <th>2226</th>\n",
       "      <td>Ghana</td>\n",
       "      <td>56</td>\n",
       "      <td>Sub-Saharan Africa</td>\n",
       "      <td>Flawed democracy</td>\n",
       "      <td>8.33</td>\n",
       "      <td>5.36</td>\n",
       "      <td>6.67</td>\n",
       "      <td>6.25</td>\n",
       "      <td>5.88</td>\n",
       "      <td>2006</td>\n",
       "      <td>5.35</td>\n",
       "    </tr>\n",
       "    <tr>\n",
       "      <th>...</th>\n",
       "      <td>...</td>\n",
       "      <td>...</td>\n",
       "      <td>...</td>\n",
       "      <td>...</td>\n",
       "      <td>...</td>\n",
       "      <td>...</td>\n",
       "      <td>...</td>\n",
       "      <td>...</td>\n",
       "      <td>...</td>\n",
       "      <td>...</td>\n",
       "      <td>...</td>\n",
       "    </tr>\n",
       "    <tr>\n",
       "      <th>108</th>\n",
       "      <td>Palestine</td>\n",
       "      <td>109</td>\n",
       "      <td>Middle East and North Africa</td>\n",
       "      <td>Authoritarian</td>\n",
       "      <td>3.33</td>\n",
       "      <td>0.14</td>\n",
       "      <td>8.33</td>\n",
       "      <td>4.38</td>\n",
       "      <td>3.53</td>\n",
       "      <td>2021</td>\n",
       "      <td>3.94</td>\n",
       "    </tr>\n",
       "    <tr>\n",
       "      <th>107</th>\n",
       "      <td>Mauritania</td>\n",
       "      <td>108</td>\n",
       "      <td>Sub-Saharan Africa</td>\n",
       "      <td>Hybrid regime</td>\n",
       "      <td>3.50</td>\n",
       "      <td>3.57</td>\n",
       "      <td>5.56</td>\n",
       "      <td>3.13</td>\n",
       "      <td>4.41</td>\n",
       "      <td>2021</td>\n",
       "      <td>4.03</td>\n",
       "    </tr>\n",
       "    <tr>\n",
       "      <th>106</th>\n",
       "      <td>Nigeria</td>\n",
       "      <td>107</td>\n",
       "      <td>Sub-Saharan Africa</td>\n",
       "      <td>Hybrid regime</td>\n",
       "      <td>5.17</td>\n",
       "      <td>3.93</td>\n",
       "      <td>3.89</td>\n",
       "      <td>3.75</td>\n",
       "      <td>3.82</td>\n",
       "      <td>2021</td>\n",
       "      <td>4.11</td>\n",
       "    </tr>\n",
       "    <tr>\n",
       "      <th>114</th>\n",
       "      <td>Kyrgyzstan</td>\n",
       "      <td>115</td>\n",
       "      <td>Central and Eastern Europe</td>\n",
       "      <td>Authoritarian</td>\n",
       "      <td>4.33</td>\n",
       "      <td>1.50</td>\n",
       "      <td>4.44</td>\n",
       "      <td>3.13</td>\n",
       "      <td>4.71</td>\n",
       "      <td>2021</td>\n",
       "      <td>3.62</td>\n",
       "    </tr>\n",
       "    <tr>\n",
       "      <th>0</th>\n",
       "      <td>Norway</td>\n",
       "      <td>1</td>\n",
       "      <td>Western Europe</td>\n",
       "      <td>Full democracy</td>\n",
       "      <td>10.00</td>\n",
       "      <td>9.64</td>\n",
       "      <td>10.00</td>\n",
       "      <td>10.00</td>\n",
       "      <td>9.12</td>\n",
       "      <td>2021</td>\n",
       "      <td>9.75</td>\n",
       "    </tr>\n",
       "  </tbody>\n",
       "</table>\n",
       "<p>2338 rows × 11 columns</p>\n",
       "</div>"
      ],
      "text/plain": [
       "          Country  Rank                           Region       Regime type  \\\n",
       "2337  Afghanistan   167             Asia and Australasia     Authoritarian   \n",
       "2229     Colombia    59  Latin America and the Caribbean  Flawed democracy   \n",
       "2228      Hungary    56       Central and Eastern Europe  Flawed democracy   \n",
       "2227      Croatia    56       Central and Eastern Europe  Flawed democracy   \n",
       "2226        Ghana    56               Sub-Saharan Africa  Flawed democracy   \n",
       "...           ...   ...                              ...               ...   \n",
       "108     Palestine   109     Middle East and North Africa     Authoritarian   \n",
       "107    Mauritania   108               Sub-Saharan Africa     Hybrid regime   \n",
       "106       Nigeria   107               Sub-Saharan Africa     Hybrid regime   \n",
       "114    Kyrgyzstan   115       Central and Eastern Europe     Authoritarian   \n",
       "0          Norway     1                   Western Europe    Full democracy   \n",
       "\n",
       "      Election  Government  Participate  Culture  Freedom  Year  \\\n",
       "2337      0.00        0.00         0.07     0.00     1.25  2006   \n",
       "2229      9.17        5.71         6.11     3.75     7.65  2006   \n",
       "2228      8.33        5.36         6.67     6.25     5.88  2006   \n",
       "2227      8.33        5.36         6.67     6.25     5.88  2006   \n",
       "2226      8.33        5.36         6.67     6.25     5.88  2006   \n",
       "...        ...         ...          ...      ...      ...   ...   \n",
       "108       3.33        0.14         8.33     4.38     3.53  2021   \n",
       "107       3.50        3.57         5.56     3.13     4.41  2021   \n",
       "106       5.17        3.93         3.89     3.75     3.82  2021   \n",
       "114       4.33        1.50         4.44     3.13     4.71  2021   \n",
       "0        10.00        9.64        10.00    10.00     9.12  2021   \n",
       "\n",
       "      Democracy Index  \n",
       "2337             3.06  \n",
       "2229             6.40  \n",
       "2228             7.53  \n",
       "2227             7.04  \n",
       "2226             5.35  \n",
       "...               ...  \n",
       "108              3.94  \n",
       "107              4.03  \n",
       "106              4.11  \n",
       "114              3.62  \n",
       "0                9.75  \n",
       "\n",
       "[2338 rows x 11 columns]"
      ]
     },
     "execution_count": 18,
     "metadata": {},
     "output_type": "execute_result"
    }
   ],
   "source": [
    "longdata = fdata.melt(id_vars=['Country',\t'Rank',\t'Region',\t'Regime type', 'Election', 'Government', 'Participate', 'Culture', 'Freedom'], \n",
    "                      value_vars=['2021', '2020', '2019', '2018', '2017', '2016', '2015', '2014', '2013', '2012', '2011', '2010', '2008', '2006'],\n",
    "            var_name = 'Year', value_name = 'Democracy Index')\n",
    "longdata = longdata.sort_values(by = 'Year', ascending= True)\n",
    "longdata"
   ]
  },
  {
   "cell_type": "markdown",
   "metadata": {
    "id": "sq0tX8eStQvX"
   },
   "source": [
    "## Data exploration"
   ]
  },
  {
   "cell_type": "code",
   "execution_count": 19,
   "metadata": {
    "colab": {
     "base_uri": "https://localhost:8080/",
     "height": 1000
    },
    "id": "rW9zXKzXvYRP",
    "outputId": "af1ca6fc-9874-4411-ee2e-d651c14818bd"
   },
   "outputs": [
    {
     "data": {
      "text/html": [
       "<div>\n",
       "<style scoped>\n",
       "    .dataframe tbody tr th:only-of-type {\n",
       "        vertical-align: middle;\n",
       "    }\n",
       "\n",
       "    .dataframe tbody tr th {\n",
       "        vertical-align: top;\n",
       "    }\n",
       "\n",
       "    .dataframe thead th {\n",
       "        text-align: right;\n",
       "    }\n",
       "</style>\n",
       "<table border=\"1\" class=\"dataframe\">\n",
       "  <thead>\n",
       "    <tr style=\"text-align: right;\">\n",
       "      <th></th>\n",
       "      <th>Country</th>\n",
       "      <th>Rank</th>\n",
       "      <th>Region</th>\n",
       "      <th>Regime type</th>\n",
       "      <th>2021</th>\n",
       "      <th>2020</th>\n",
       "      <th>2019</th>\n",
       "      <th>2018</th>\n",
       "      <th>2017</th>\n",
       "      <th>2016</th>\n",
       "      <th>...</th>\n",
       "      <th>2012</th>\n",
       "      <th>2011</th>\n",
       "      <th>2010</th>\n",
       "      <th>2008</th>\n",
       "      <th>2006</th>\n",
       "      <th>Election</th>\n",
       "      <th>Government</th>\n",
       "      <th>Participate</th>\n",
       "      <th>Culture</th>\n",
       "      <th>Freedom</th>\n",
       "    </tr>\n",
       "  </thead>\n",
       "  <tbody>\n",
       "    <tr>\n",
       "      <th>0</th>\n",
       "      <td>Norway</td>\n",
       "      <td>1</td>\n",
       "      <td>Western Europe</td>\n",
       "      <td>Full democracy</td>\n",
       "      <td>9.75</td>\n",
       "      <td>9.81</td>\n",
       "      <td>9.87</td>\n",
       "      <td>9.87</td>\n",
       "      <td>9.87</td>\n",
       "      <td>9.93</td>\n",
       "      <td>...</td>\n",
       "      <td>9.93</td>\n",
       "      <td>9.80</td>\n",
       "      <td>9.80</td>\n",
       "      <td>9.68</td>\n",
       "      <td>9.55</td>\n",
       "      <td>10.00</td>\n",
       "      <td>9.64</td>\n",
       "      <td>10.00</td>\n",
       "      <td>10.00</td>\n",
       "      <td>9.12</td>\n",
       "    </tr>\n",
       "    <tr>\n",
       "      <th>1</th>\n",
       "      <td>New Zealand</td>\n",
       "      <td>2</td>\n",
       "      <td>Asia and Australasia</td>\n",
       "      <td>Full democracy</td>\n",
       "      <td>9.37</td>\n",
       "      <td>9.25</td>\n",
       "      <td>9.26</td>\n",
       "      <td>9.26</td>\n",
       "      <td>9.26</td>\n",
       "      <td>9.26</td>\n",
       "      <td>...</td>\n",
       "      <td>9.26</td>\n",
       "      <td>9.26</td>\n",
       "      <td>9.26</td>\n",
       "      <td>9.19</td>\n",
       "      <td>9.01</td>\n",
       "      <td>10.00</td>\n",
       "      <td>8.93</td>\n",
       "      <td>9.44</td>\n",
       "      <td>8.75</td>\n",
       "      <td>9.71</td>\n",
       "    </tr>\n",
       "    <tr>\n",
       "      <th>2</th>\n",
       "      <td>Finland</td>\n",
       "      <td>3</td>\n",
       "      <td>Western Europe</td>\n",
       "      <td>Full democracy</td>\n",
       "      <td>9.27</td>\n",
       "      <td>9.20</td>\n",
       "      <td>9.25</td>\n",
       "      <td>9.14</td>\n",
       "      <td>9.03</td>\n",
       "      <td>9.03</td>\n",
       "      <td>...</td>\n",
       "      <td>9.06</td>\n",
       "      <td>9.06</td>\n",
       "      <td>9.19</td>\n",
       "      <td>9.25</td>\n",
       "      <td>9.25</td>\n",
       "      <td>10.00</td>\n",
       "      <td>9.29</td>\n",
       "      <td>8.89</td>\n",
       "      <td>8.75</td>\n",
       "      <td>9.41</td>\n",
       "    </tr>\n",
       "    <tr>\n",
       "      <th>3</th>\n",
       "      <td>Sweden</td>\n",
       "      <td>4</td>\n",
       "      <td>Western Europe</td>\n",
       "      <td>Full democracy</td>\n",
       "      <td>9.26</td>\n",
       "      <td>9.26</td>\n",
       "      <td>9.39</td>\n",
       "      <td>9.39</td>\n",
       "      <td>9.39</td>\n",
       "      <td>9.39</td>\n",
       "      <td>...</td>\n",
       "      <td>9.73</td>\n",
       "      <td>9.50</td>\n",
       "      <td>9.50</td>\n",
       "      <td>9.88</td>\n",
       "      <td>9.88</td>\n",
       "      <td>9.58</td>\n",
       "      <td>9.29</td>\n",
       "      <td>8.33</td>\n",
       "      <td>10.00</td>\n",
       "      <td>9.12</td>\n",
       "    </tr>\n",
       "    <tr>\n",
       "      <th>4</th>\n",
       "      <td>Iceland</td>\n",
       "      <td>5</td>\n",
       "      <td>Western Europe</td>\n",
       "      <td>Full democracy</td>\n",
       "      <td>9.18</td>\n",
       "      <td>9.37</td>\n",
       "      <td>9.58</td>\n",
       "      <td>9.58</td>\n",
       "      <td>9.58</td>\n",
       "      <td>9.50</td>\n",
       "      <td>...</td>\n",
       "      <td>9.65</td>\n",
       "      <td>9.65</td>\n",
       "      <td>9.65</td>\n",
       "      <td>9.65</td>\n",
       "      <td>9.71</td>\n",
       "      <td>10.00</td>\n",
       "      <td>8.21</td>\n",
       "      <td>8.89</td>\n",
       "      <td>9.38</td>\n",
       "      <td>9.41</td>\n",
       "    </tr>\n",
       "    <tr>\n",
       "      <th>...</th>\n",
       "      <td>...</td>\n",
       "      <td>...</td>\n",
       "      <td>...</td>\n",
       "      <td>...</td>\n",
       "      <td>...</td>\n",
       "      <td>...</td>\n",
       "      <td>...</td>\n",
       "      <td>...</td>\n",
       "      <td>...</td>\n",
       "      <td>...</td>\n",
       "      <td>...</td>\n",
       "      <td>...</td>\n",
       "      <td>...</td>\n",
       "      <td>...</td>\n",
       "      <td>...</td>\n",
       "      <td>...</td>\n",
       "      <td>...</td>\n",
       "      <td>...</td>\n",
       "      <td>...</td>\n",
       "      <td>...</td>\n",
       "      <td>...</td>\n",
       "    </tr>\n",
       "    <tr>\n",
       "      <th>203</th>\n",
       "      <td>Central African Republic</td>\n",
       "      <td>162</td>\n",
       "      <td>Sub-Saharan Africa</td>\n",
       "      <td>Authoritarian</td>\n",
       "      <td>1.43</td>\n",
       "      <td>1.32</td>\n",
       "      <td>1.32</td>\n",
       "      <td>1.52</td>\n",
       "      <td>1.52</td>\n",
       "      <td>1.61</td>\n",
       "      <td>...</td>\n",
       "      <td>1.99</td>\n",
       "      <td>1.82</td>\n",
       "      <td>1.82</td>\n",
       "      <td>1.86</td>\n",
       "      <td>1.61</td>\n",
       "      <td>0.00</td>\n",
       "      <td>0.00</td>\n",
       "      <td>2.78</td>\n",
       "      <td>4.38</td>\n",
       "      <td>0.00</td>\n",
       "    </tr>\n",
       "    <tr>\n",
       "      <th>205</th>\n",
       "      <td>Democratic Republic of the Congo</td>\n",
       "      <td>164</td>\n",
       "      <td>Sub-Saharan Africa</td>\n",
       "      <td>Authoritarian</td>\n",
       "      <td>1.40</td>\n",
       "      <td>1.13</td>\n",
       "      <td>1.13</td>\n",
       "      <td>1.49</td>\n",
       "      <td>1.61</td>\n",
       "      <td>1.93</td>\n",
       "      <td>...</td>\n",
       "      <td>1.92</td>\n",
       "      <td>2.15</td>\n",
       "      <td>2.15</td>\n",
       "      <td>2.28</td>\n",
       "      <td>2.76</td>\n",
       "      <td>0.75</td>\n",
       "      <td>0.00</td>\n",
       "      <td>2.22</td>\n",
       "      <td>3.13</td>\n",
       "      <td>0.88</td>\n",
       "    </tr>\n",
       "    <tr>\n",
       "      <th>206</th>\n",
       "      <td>North Korea</td>\n",
       "      <td>165</td>\n",
       "      <td>Asia and Australasia</td>\n",
       "      <td>Authoritarian</td>\n",
       "      <td>1.08</td>\n",
       "      <td>1.08</td>\n",
       "      <td>1.08</td>\n",
       "      <td>1.08</td>\n",
       "      <td>1.08</td>\n",
       "      <td>1.08</td>\n",
       "      <td>...</td>\n",
       "      <td>1.08</td>\n",
       "      <td>1.08</td>\n",
       "      <td>1.08</td>\n",
       "      <td>0.86</td>\n",
       "      <td>1.03</td>\n",
       "      <td>0.00</td>\n",
       "      <td>2.50</td>\n",
       "      <td>1.67</td>\n",
       "      <td>1.25</td>\n",
       "      <td>0.00</td>\n",
       "    </tr>\n",
       "    <tr>\n",
       "      <th>207</th>\n",
       "      <td>Myanmar</td>\n",
       "      <td>166</td>\n",
       "      <td>Asia and Australasia</td>\n",
       "      <td>Authoritarian</td>\n",
       "      <td>1.02</td>\n",
       "      <td>3.04</td>\n",
       "      <td>3.55</td>\n",
       "      <td>3.83</td>\n",
       "      <td>3.83</td>\n",
       "      <td>4.20</td>\n",
       "      <td>...</td>\n",
       "      <td>2.35</td>\n",
       "      <td>1.77</td>\n",
       "      <td>1.77</td>\n",
       "      <td>1.77</td>\n",
       "      <td>1.77</td>\n",
       "      <td>0.00</td>\n",
       "      <td>0.00</td>\n",
       "      <td>1.67</td>\n",
       "      <td>3.13</td>\n",
       "      <td>0.29</td>\n",
       "    </tr>\n",
       "    <tr>\n",
       "      <th>208</th>\n",
       "      <td>Afghanistan</td>\n",
       "      <td>167</td>\n",
       "      <td>Asia and Australasia</td>\n",
       "      <td>Authoritarian</td>\n",
       "      <td>0.32</td>\n",
       "      <td>2.85</td>\n",
       "      <td>2.85</td>\n",
       "      <td>2.97</td>\n",
       "      <td>2.55</td>\n",
       "      <td>2.55</td>\n",
       "      <td>...</td>\n",
       "      <td>2.48</td>\n",
       "      <td>2.48</td>\n",
       "      <td>2.48</td>\n",
       "      <td>3.02</td>\n",
       "      <td>3.06</td>\n",
       "      <td>0.00</td>\n",
       "      <td>0.00</td>\n",
       "      <td>0.07</td>\n",
       "      <td>0.00</td>\n",
       "      <td>1.25</td>\n",
       "    </tr>\n",
       "  </tbody>\n",
       "</table>\n",
       "<p>167 rows × 23 columns</p>\n",
       "</div>"
      ],
      "text/plain": [
       "                              Country  Rank                Region  \\\n",
       "0                              Norway     1        Western Europe   \n",
       "1                         New Zealand     2  Asia and Australasia   \n",
       "2                             Finland     3        Western Europe   \n",
       "3                              Sweden     4        Western Europe   \n",
       "4                             Iceland     5        Western Europe   \n",
       "..                                ...   ...                   ...   \n",
       "203          Central African Republic   162    Sub-Saharan Africa   \n",
       "205  Democratic Republic of the Congo   164    Sub-Saharan Africa   \n",
       "206                       North Korea   165  Asia and Australasia   \n",
       "207                           Myanmar   166  Asia and Australasia   \n",
       "208                       Afghanistan   167  Asia and Australasia   \n",
       "\n",
       "        Regime type  2021  2020  2019  2018  2017  2016  ...  2012  2011  \\\n",
       "0    Full democracy  9.75  9.81  9.87  9.87  9.87  9.93  ...  9.93  9.80   \n",
       "1    Full democracy  9.37  9.25  9.26  9.26  9.26  9.26  ...  9.26  9.26   \n",
       "2    Full democracy  9.27  9.20  9.25  9.14  9.03  9.03  ...  9.06  9.06   \n",
       "3    Full democracy  9.26  9.26  9.39  9.39  9.39  9.39  ...  9.73  9.50   \n",
       "4    Full democracy  9.18  9.37  9.58  9.58  9.58  9.50  ...  9.65  9.65   \n",
       "..              ...   ...   ...   ...   ...   ...   ...  ...   ...   ...   \n",
       "203   Authoritarian  1.43  1.32  1.32  1.52  1.52  1.61  ...  1.99  1.82   \n",
       "205   Authoritarian  1.40  1.13  1.13  1.49  1.61  1.93  ...  1.92  2.15   \n",
       "206   Authoritarian  1.08  1.08  1.08  1.08  1.08  1.08  ...  1.08  1.08   \n",
       "207   Authoritarian  1.02  3.04  3.55  3.83  3.83  4.20  ...  2.35  1.77   \n",
       "208   Authoritarian  0.32  2.85  2.85  2.97  2.55  2.55  ...  2.48  2.48   \n",
       "\n",
       "     2010  2008  2006  Election  Government  Participate  Culture  Freedom  \n",
       "0    9.80  9.68  9.55     10.00        9.64        10.00    10.00     9.12  \n",
       "1    9.26  9.19  9.01     10.00        8.93         9.44     8.75     9.71  \n",
       "2    9.19  9.25  9.25     10.00        9.29         8.89     8.75     9.41  \n",
       "3    9.50  9.88  9.88      9.58        9.29         8.33    10.00     9.12  \n",
       "4    9.65  9.65  9.71     10.00        8.21         8.89     9.38     9.41  \n",
       "..    ...   ...   ...       ...         ...          ...      ...      ...  \n",
       "203  1.82  1.86  1.61      0.00        0.00         2.78     4.38     0.00  \n",
       "205  2.15  2.28  2.76      0.75        0.00         2.22     3.13     0.88  \n",
       "206  1.08  0.86  1.03      0.00        2.50         1.67     1.25     0.00  \n",
       "207  1.77  1.77  1.77      0.00        0.00         1.67     3.13     0.29  \n",
       "208  2.48  3.02  3.06      0.00        0.00         0.07     0.00     1.25  \n",
       "\n",
       "[167 rows x 23 columns]"
      ]
     },
     "metadata": {},
     "output_type": "display_data"
    },
    {
     "data": {
      "text/html": [
       "<div>\n",
       "<style scoped>\n",
       "    .dataframe tbody tr th:only-of-type {\n",
       "        vertical-align: middle;\n",
       "    }\n",
       "\n",
       "    .dataframe tbody tr th {\n",
       "        vertical-align: top;\n",
       "    }\n",
       "\n",
       "    .dataframe thead th {\n",
       "        text-align: right;\n",
       "    }\n",
       "</style>\n",
       "<table border=\"1\" class=\"dataframe\">\n",
       "  <thead>\n",
       "    <tr style=\"text-align: right;\">\n",
       "      <th></th>\n",
       "      <th>Country</th>\n",
       "      <th>Rank</th>\n",
       "      <th>Region</th>\n",
       "      <th>Regime type</th>\n",
       "      <th>Election</th>\n",
       "      <th>Government</th>\n",
       "      <th>Participate</th>\n",
       "      <th>Culture</th>\n",
       "      <th>Freedom</th>\n",
       "      <th>Year</th>\n",
       "      <th>Democracy Index</th>\n",
       "    </tr>\n",
       "  </thead>\n",
       "  <tbody>\n",
       "    <tr>\n",
       "      <th>2337</th>\n",
       "      <td>Afghanistan</td>\n",
       "      <td>167</td>\n",
       "      <td>Asia and Australasia</td>\n",
       "      <td>Authoritarian</td>\n",
       "      <td>0.00</td>\n",
       "      <td>0.00</td>\n",
       "      <td>0.07</td>\n",
       "      <td>0.00</td>\n",
       "      <td>1.25</td>\n",
       "      <td>2006</td>\n",
       "      <td>3.06</td>\n",
       "    </tr>\n",
       "    <tr>\n",
       "      <th>2229</th>\n",
       "      <td>Colombia</td>\n",
       "      <td>59</td>\n",
       "      <td>Latin America and the Caribbean</td>\n",
       "      <td>Flawed democracy</td>\n",
       "      <td>9.17</td>\n",
       "      <td>5.71</td>\n",
       "      <td>6.11</td>\n",
       "      <td>3.75</td>\n",
       "      <td>7.65</td>\n",
       "      <td>2006</td>\n",
       "      <td>6.40</td>\n",
       "    </tr>\n",
       "    <tr>\n",
       "      <th>2228</th>\n",
       "      <td>Hungary</td>\n",
       "      <td>56</td>\n",
       "      <td>Central and Eastern Europe</td>\n",
       "      <td>Flawed democracy</td>\n",
       "      <td>8.33</td>\n",
       "      <td>5.36</td>\n",
       "      <td>6.67</td>\n",
       "      <td>6.25</td>\n",
       "      <td>5.88</td>\n",
       "      <td>2006</td>\n",
       "      <td>7.53</td>\n",
       "    </tr>\n",
       "    <tr>\n",
       "      <th>2227</th>\n",
       "      <td>Croatia</td>\n",
       "      <td>56</td>\n",
       "      <td>Central and Eastern Europe</td>\n",
       "      <td>Flawed democracy</td>\n",
       "      <td>8.33</td>\n",
       "      <td>5.36</td>\n",
       "      <td>6.67</td>\n",
       "      <td>6.25</td>\n",
       "      <td>5.88</td>\n",
       "      <td>2006</td>\n",
       "      <td>7.04</td>\n",
       "    </tr>\n",
       "    <tr>\n",
       "      <th>2226</th>\n",
       "      <td>Ghana</td>\n",
       "      <td>56</td>\n",
       "      <td>Sub-Saharan Africa</td>\n",
       "      <td>Flawed democracy</td>\n",
       "      <td>8.33</td>\n",
       "      <td>5.36</td>\n",
       "      <td>6.67</td>\n",
       "      <td>6.25</td>\n",
       "      <td>5.88</td>\n",
       "      <td>2006</td>\n",
       "      <td>5.35</td>\n",
       "    </tr>\n",
       "    <tr>\n",
       "      <th>...</th>\n",
       "      <td>...</td>\n",
       "      <td>...</td>\n",
       "      <td>...</td>\n",
       "      <td>...</td>\n",
       "      <td>...</td>\n",
       "      <td>...</td>\n",
       "      <td>...</td>\n",
       "      <td>...</td>\n",
       "      <td>...</td>\n",
       "      <td>...</td>\n",
       "      <td>...</td>\n",
       "    </tr>\n",
       "    <tr>\n",
       "      <th>108</th>\n",
       "      <td>Palestine</td>\n",
       "      <td>109</td>\n",
       "      <td>Middle East and North Africa</td>\n",
       "      <td>Authoritarian</td>\n",
       "      <td>3.33</td>\n",
       "      <td>0.14</td>\n",
       "      <td>8.33</td>\n",
       "      <td>4.38</td>\n",
       "      <td>3.53</td>\n",
       "      <td>2021</td>\n",
       "      <td>3.94</td>\n",
       "    </tr>\n",
       "    <tr>\n",
       "      <th>107</th>\n",
       "      <td>Mauritania</td>\n",
       "      <td>108</td>\n",
       "      <td>Sub-Saharan Africa</td>\n",
       "      <td>Hybrid regime</td>\n",
       "      <td>3.50</td>\n",
       "      <td>3.57</td>\n",
       "      <td>5.56</td>\n",
       "      <td>3.13</td>\n",
       "      <td>4.41</td>\n",
       "      <td>2021</td>\n",
       "      <td>4.03</td>\n",
       "    </tr>\n",
       "    <tr>\n",
       "      <th>106</th>\n",
       "      <td>Nigeria</td>\n",
       "      <td>107</td>\n",
       "      <td>Sub-Saharan Africa</td>\n",
       "      <td>Hybrid regime</td>\n",
       "      <td>5.17</td>\n",
       "      <td>3.93</td>\n",
       "      <td>3.89</td>\n",
       "      <td>3.75</td>\n",
       "      <td>3.82</td>\n",
       "      <td>2021</td>\n",
       "      <td>4.11</td>\n",
       "    </tr>\n",
       "    <tr>\n",
       "      <th>114</th>\n",
       "      <td>Kyrgyzstan</td>\n",
       "      <td>115</td>\n",
       "      <td>Central and Eastern Europe</td>\n",
       "      <td>Authoritarian</td>\n",
       "      <td>4.33</td>\n",
       "      <td>1.50</td>\n",
       "      <td>4.44</td>\n",
       "      <td>3.13</td>\n",
       "      <td>4.71</td>\n",
       "      <td>2021</td>\n",
       "      <td>3.62</td>\n",
       "    </tr>\n",
       "    <tr>\n",
       "      <th>0</th>\n",
       "      <td>Norway</td>\n",
       "      <td>1</td>\n",
       "      <td>Western Europe</td>\n",
       "      <td>Full democracy</td>\n",
       "      <td>10.00</td>\n",
       "      <td>9.64</td>\n",
       "      <td>10.00</td>\n",
       "      <td>10.00</td>\n",
       "      <td>9.12</td>\n",
       "      <td>2021</td>\n",
       "      <td>9.75</td>\n",
       "    </tr>\n",
       "  </tbody>\n",
       "</table>\n",
       "<p>2338 rows × 11 columns</p>\n",
       "</div>"
      ],
      "text/plain": [
       "          Country  Rank                           Region       Regime type  \\\n",
       "2337  Afghanistan   167             Asia and Australasia     Authoritarian   \n",
       "2229     Colombia    59  Latin America and the Caribbean  Flawed democracy   \n",
       "2228      Hungary    56       Central and Eastern Europe  Flawed democracy   \n",
       "2227      Croatia    56       Central and Eastern Europe  Flawed democracy   \n",
       "2226        Ghana    56               Sub-Saharan Africa  Flawed democracy   \n",
       "...           ...   ...                              ...               ...   \n",
       "108     Palestine   109     Middle East and North Africa     Authoritarian   \n",
       "107    Mauritania   108               Sub-Saharan Africa     Hybrid regime   \n",
       "106       Nigeria   107               Sub-Saharan Africa     Hybrid regime   \n",
       "114    Kyrgyzstan   115       Central and Eastern Europe     Authoritarian   \n",
       "0          Norway     1                   Western Europe    Full democracy   \n",
       "\n",
       "      Election  Government  Participate  Culture  Freedom  Year  \\\n",
       "2337      0.00        0.00         0.07     0.00     1.25  2006   \n",
       "2229      9.17        5.71         6.11     3.75     7.65  2006   \n",
       "2228      8.33        5.36         6.67     6.25     5.88  2006   \n",
       "2227      8.33        5.36         6.67     6.25     5.88  2006   \n",
       "2226      8.33        5.36         6.67     6.25     5.88  2006   \n",
       "...        ...         ...          ...      ...      ...   ...   \n",
       "108       3.33        0.14         8.33     4.38     3.53  2021   \n",
       "107       3.50        3.57         5.56     3.13     4.41  2021   \n",
       "106       5.17        3.93         3.89     3.75     3.82  2021   \n",
       "114       4.33        1.50         4.44     3.13     4.71  2021   \n",
       "0        10.00        9.64        10.00    10.00     9.12  2021   \n",
       "\n",
       "      Democracy Index  \n",
       "2337             3.06  \n",
       "2229             6.40  \n",
       "2228             7.53  \n",
       "2227             7.04  \n",
       "2226             5.35  \n",
       "...               ...  \n",
       "108              3.94  \n",
       "107              4.03  \n",
       "106              4.11  \n",
       "114              3.62  \n",
       "0                9.75  \n",
       "\n",
       "[2338 rows x 11 columns]"
      ]
     },
     "metadata": {},
     "output_type": "display_data"
    }
   ],
   "source": [
    "display(fdata, longdata)"
   ]
  },
  {
   "cell_type": "markdown",
   "metadata": {
    "id": "kFhvz-Dhl6vk"
   },
   "source": [
    "### Basic information"
   ]
  },
  {
   "cell_type": "code",
   "execution_count": 20,
   "metadata": {
    "colab": {
     "base_uri": "https://localhost:8080/"
    },
    "id": "OuD0KsJZmCpc",
    "outputId": "116d1dc2-3120-451a-d9ed-0f60b636f5c1"
   },
   "outputs": [
    {
     "name": "stdout",
     "output_type": "stream",
     "text": [
      "<class 'pandas.core.frame.DataFrame'>\n",
      "Int64Index: 167 entries, 0 to 208\n",
      "Data columns (total 23 columns):\n",
      " #   Column       Non-Null Count  Dtype  \n",
      "---  ------       --------------  -----  \n",
      " 0   Country      167 non-null    object \n",
      " 1   Rank         167 non-null    int64  \n",
      " 2   Region       167 non-null    object \n",
      " 3   Regime type  167 non-null    object \n",
      " 4   2021         167 non-null    float64\n",
      " 5   2020         167 non-null    float64\n",
      " 6   2019         167 non-null    float64\n",
      " 7   2018         167 non-null    float64\n",
      " 8   2017         167 non-null    float64\n",
      " 9   2016         167 non-null    float64\n",
      " 10  2015         167 non-null    float64\n",
      " 11  2014         167 non-null    float64\n",
      " 12  2013         167 non-null    float64\n",
      " 13  2012         167 non-null    float64\n",
      " 14  2011         167 non-null    float64\n",
      " 15  2010         167 non-null    float64\n",
      " 16  2008         167 non-null    float64\n",
      " 17  2006         167 non-null    float64\n",
      " 18  Election     167 non-null    float64\n",
      " 19  Government   167 non-null    float64\n",
      " 20  Participate  167 non-null    float64\n",
      " 21  Culture      167 non-null    float64\n",
      " 22  Freedom      167 non-null    float64\n",
      "dtypes: float64(19), int64(1), object(3)\n",
      "memory usage: 31.3+ KB\n"
     ]
    }
   ],
   "source": [
    "fdata.info()"
   ]
  },
  {
   "cell_type": "code",
   "execution_count": 21,
   "metadata": {
    "colab": {
     "base_uri": "https://localhost:8080/",
     "height": 361
    },
    "id": "XBFtGS-dmKdf",
    "outputId": "96bb21c5-39fc-4d1c-ddc0-1fcb6f593184"
   },
   "outputs": [
    {
     "data": {
      "text/html": [
       "<div>\n",
       "<style scoped>\n",
       "    .dataframe tbody tr th:only-of-type {\n",
       "        vertical-align: middle;\n",
       "    }\n",
       "\n",
       "    .dataframe tbody tr th {\n",
       "        vertical-align: top;\n",
       "    }\n",
       "\n",
       "    .dataframe thead th {\n",
       "        text-align: right;\n",
       "    }\n",
       "</style>\n",
       "<table border=\"1\" class=\"dataframe\">\n",
       "  <thead>\n",
       "    <tr style=\"text-align: right;\">\n",
       "      <th></th>\n",
       "      <th>Rank</th>\n",
       "      <th>2021</th>\n",
       "      <th>2020</th>\n",
       "      <th>2019</th>\n",
       "      <th>2018</th>\n",
       "      <th>2017</th>\n",
       "      <th>2016</th>\n",
       "      <th>2015</th>\n",
       "      <th>2014</th>\n",
       "      <th>2013</th>\n",
       "      <th>2012</th>\n",
       "      <th>2011</th>\n",
       "      <th>2010</th>\n",
       "      <th>2008</th>\n",
       "      <th>2006</th>\n",
       "      <th>Election</th>\n",
       "      <th>Government</th>\n",
       "      <th>Participate</th>\n",
       "      <th>Culture</th>\n",
       "      <th>Freedom</th>\n",
       "    </tr>\n",
       "  </thead>\n",
       "  <tbody>\n",
       "    <tr>\n",
       "      <th>count</th>\n",
       "      <td>167.000000</td>\n",
       "      <td>167.000000</td>\n",
       "      <td>167.000000</td>\n",
       "      <td>167.000000</td>\n",
       "      <td>167.000000</td>\n",
       "      <td>167.000000</td>\n",
       "      <td>167.000000</td>\n",
       "      <td>167.000000</td>\n",
       "      <td>167.000000</td>\n",
       "      <td>167.000000</td>\n",
       "      <td>167.000000</td>\n",
       "      <td>167.000000</td>\n",
       "      <td>167.000000</td>\n",
       "      <td>167.000000</td>\n",
       "      <td>167.000000</td>\n",
       "      <td>167.000000</td>\n",
       "      <td>167.000000</td>\n",
       "      <td>167.000000</td>\n",
       "      <td>167.000000</td>\n",
       "      <td>167.000000</td>\n",
       "    </tr>\n",
       "    <tr>\n",
       "      <th>mean</th>\n",
       "      <td>83.874251</td>\n",
       "      <td>5.281377</td>\n",
       "      <td>5.369760</td>\n",
       "      <td>5.439641</td>\n",
       "      <td>5.478563</td>\n",
       "      <td>5.475449</td>\n",
       "      <td>5.520299</td>\n",
       "      <td>5.552934</td>\n",
       "      <td>5.548024</td>\n",
       "      <td>5.534132</td>\n",
       "      <td>5.519401</td>\n",
       "      <td>5.490539</td>\n",
       "      <td>5.462335</td>\n",
       "      <td>5.547665</td>\n",
       "      <td>5.519281</td>\n",
       "      <td>5.667066</td>\n",
       "      <td>4.617904</td>\n",
       "      <td>5.376347</td>\n",
       "      <td>5.382036</td>\n",
       "      <td>5.363353</td>\n",
       "    </tr>\n",
       "    <tr>\n",
       "      <th>std</th>\n",
       "      <td>48.310888</td>\n",
       "      <td>2.314036</td>\n",
       "      <td>2.252275</td>\n",
       "      <td>2.241995</td>\n",
       "      <td>2.199400</td>\n",
       "      <td>2.188561</td>\n",
       "      <td>2.196357</td>\n",
       "      <td>2.194496</td>\n",
       "      <td>2.176814</td>\n",
       "      <td>2.191709</td>\n",
       "      <td>2.189409</td>\n",
       "      <td>2.179199</td>\n",
       "      <td>2.227067</td>\n",
       "      <td>2.245873</td>\n",
       "      <td>2.257950</td>\n",
       "      <td>3.837198</td>\n",
       "      <td>2.600851</td>\n",
       "      <td>1.964914</td>\n",
       "      <td>1.814678</td>\n",
       "      <td>2.712225</td>\n",
       "    </tr>\n",
       "    <tr>\n",
       "      <th>min</th>\n",
       "      <td>1.000000</td>\n",
       "      <td>0.320000</td>\n",
       "      <td>1.080000</td>\n",
       "      <td>1.080000</td>\n",
       "      <td>1.080000</td>\n",
       "      <td>1.080000</td>\n",
       "      <td>1.080000</td>\n",
       "      <td>1.080000</td>\n",
       "      <td>1.080000</td>\n",
       "      <td>1.080000</td>\n",
       "      <td>1.080000</td>\n",
       "      <td>1.080000</td>\n",
       "      <td>1.080000</td>\n",
       "      <td>0.860000</td>\n",
       "      <td>1.030000</td>\n",
       "      <td>0.000000</td>\n",
       "      <td>0.000000</td>\n",
       "      <td>0.070000</td>\n",
       "      <td>0.000000</td>\n",
       "      <td>0.000000</td>\n",
       "    </tr>\n",
       "    <tr>\n",
       "      <th>25%</th>\n",
       "      <td>42.500000</td>\n",
       "      <td>3.210000</td>\n",
       "      <td>3.265000</td>\n",
       "      <td>3.370000</td>\n",
       "      <td>3.545000</td>\n",
       "      <td>3.615000</td>\n",
       "      <td>3.580000</td>\n",
       "      <td>3.685000</td>\n",
       "      <td>3.610000</td>\n",
       "      <td>3.555000</td>\n",
       "      <td>3.580000</td>\n",
       "      <td>3.535000</td>\n",
       "      <td>3.425000</td>\n",
       "      <td>3.490000</td>\n",
       "      <td>3.470000</td>\n",
       "      <td>1.460000</td>\n",
       "      <td>2.785000</td>\n",
       "      <td>3.890000</td>\n",
       "      <td>3.750000</td>\n",
       "      <td>3.240000</td>\n",
       "    </tr>\n",
       "    <tr>\n",
       "      <th>50%</th>\n",
       "      <td>84.000000</td>\n",
       "      <td>5.610000</td>\n",
       "      <td>5.710000</td>\n",
       "      <td>5.650000</td>\n",
       "      <td>5.690000</td>\n",
       "      <td>5.690000</td>\n",
       "      <td>5.730000</td>\n",
       "      <td>5.840000</td>\n",
       "      <td>5.790000</td>\n",
       "      <td>5.860000</td>\n",
       "      <td>5.860000</td>\n",
       "      <td>5.840000</td>\n",
       "      <td>5.860000</td>\n",
       "      <td>5.850000</td>\n",
       "      <td>5.890000</td>\n",
       "      <td>7.000000</td>\n",
       "      <td>5.000000</td>\n",
       "      <td>5.560000</td>\n",
       "      <td>5.000000</td>\n",
       "      <td>5.590000</td>\n",
       "    </tr>\n",
       "    <tr>\n",
       "      <th>75%</th>\n",
       "      <td>125.500000</td>\n",
       "      <td>7.095000</td>\n",
       "      <td>7.130000</td>\n",
       "      <td>7.165000</td>\n",
       "      <td>7.175000</td>\n",
       "      <td>7.210000</td>\n",
       "      <td>7.265000</td>\n",
       "      <td>7.330000</td>\n",
       "      <td>7.395000</td>\n",
       "      <td>7.265000</td>\n",
       "      <td>7.200000</td>\n",
       "      <td>7.190000</td>\n",
       "      <td>7.215000</td>\n",
       "      <td>7.355000</td>\n",
       "      <td>7.375000</td>\n",
       "      <td>9.170000</td>\n",
       "      <td>6.430000</td>\n",
       "      <td>6.670000</td>\n",
       "      <td>6.250000</td>\n",
       "      <td>7.650000</td>\n",
       "    </tr>\n",
       "    <tr>\n",
       "      <th>max</th>\n",
       "      <td>167.000000</td>\n",
       "      <td>9.750000</td>\n",
       "      <td>9.810000</td>\n",
       "      <td>9.870000</td>\n",
       "      <td>9.870000</td>\n",
       "      <td>9.870000</td>\n",
       "      <td>9.930000</td>\n",
       "      <td>9.930000</td>\n",
       "      <td>9.930000</td>\n",
       "      <td>9.930000</td>\n",
       "      <td>9.930000</td>\n",
       "      <td>9.800000</td>\n",
       "      <td>9.800000</td>\n",
       "      <td>9.880000</td>\n",
       "      <td>9.880000</td>\n",
       "      <td>10.000000</td>\n",
       "      <td>9.640000</td>\n",
       "      <td>10.000000</td>\n",
       "      <td>10.000000</td>\n",
       "      <td>9.710000</td>\n",
       "    </tr>\n",
       "  </tbody>\n",
       "</table>\n",
       "</div>"
      ],
      "text/plain": [
       "             Rank        2021        2020        2019        2018        2017  \\\n",
       "count  167.000000  167.000000  167.000000  167.000000  167.000000  167.000000   \n",
       "mean    83.874251    5.281377    5.369760    5.439641    5.478563    5.475449   \n",
       "std     48.310888    2.314036    2.252275    2.241995    2.199400    2.188561   \n",
       "min      1.000000    0.320000    1.080000    1.080000    1.080000    1.080000   \n",
       "25%     42.500000    3.210000    3.265000    3.370000    3.545000    3.615000   \n",
       "50%     84.000000    5.610000    5.710000    5.650000    5.690000    5.690000   \n",
       "75%    125.500000    7.095000    7.130000    7.165000    7.175000    7.210000   \n",
       "max    167.000000    9.750000    9.810000    9.870000    9.870000    9.870000   \n",
       "\n",
       "             2016        2015        2014        2013        2012        2011  \\\n",
       "count  167.000000  167.000000  167.000000  167.000000  167.000000  167.000000   \n",
       "mean     5.520299    5.552934    5.548024    5.534132    5.519401    5.490539   \n",
       "std      2.196357    2.194496    2.176814    2.191709    2.189409    2.179199   \n",
       "min      1.080000    1.080000    1.080000    1.080000    1.080000    1.080000   \n",
       "25%      3.580000    3.685000    3.610000    3.555000    3.580000    3.535000   \n",
       "50%      5.730000    5.840000    5.790000    5.860000    5.860000    5.840000   \n",
       "75%      7.265000    7.330000    7.395000    7.265000    7.200000    7.190000   \n",
       "max      9.930000    9.930000    9.930000    9.930000    9.930000    9.800000   \n",
       "\n",
       "             2010        2008        2006    Election  Government  \\\n",
       "count  167.000000  167.000000  167.000000  167.000000  167.000000   \n",
       "mean     5.462335    5.547665    5.519281    5.667066    4.617904   \n",
       "std      2.227067    2.245873    2.257950    3.837198    2.600851   \n",
       "min      1.080000    0.860000    1.030000    0.000000    0.000000   \n",
       "25%      3.425000    3.490000    3.470000    1.460000    2.785000   \n",
       "50%      5.860000    5.850000    5.890000    7.000000    5.000000   \n",
       "75%      7.215000    7.355000    7.375000    9.170000    6.430000   \n",
       "max      9.800000    9.880000    9.880000   10.000000    9.640000   \n",
       "\n",
       "       Participate     Culture     Freedom  \n",
       "count   167.000000  167.000000  167.000000  \n",
       "mean      5.376347    5.382036    5.363353  \n",
       "std       1.964914    1.814678    2.712225  \n",
       "min       0.070000    0.000000    0.000000  \n",
       "25%       3.890000    3.750000    3.240000  \n",
       "50%       5.560000    5.000000    5.590000  \n",
       "75%       6.670000    6.250000    7.650000  \n",
       "max      10.000000   10.000000    9.710000  "
      ]
     },
     "execution_count": 21,
     "metadata": {},
     "output_type": "execute_result"
    }
   ],
   "source": [
    "# Summary of ratio variables in fdata\n",
    "fdata.describe()"
   ]
  },
  {
   "cell_type": "code",
   "execution_count": 22,
   "metadata": {
    "colab": {
     "base_uri": "https://localhost:8080/",
     "height": 238
    },
    "id": "-mAMp7KemVzp",
    "outputId": "37de82c3-82ad-4fca-f4fb-33c18560f328"
   },
   "outputs": [
    {
     "data": {
      "text/plain": [
       "Sub-Saharan Africa                 44\n",
       "Asia and Australasia               28\n",
       "Central and Eastern Europe         28\n",
       "Latin America and the Caribbean    24\n",
       "Western Europe                     21\n",
       "Middle East and North Africa       20\n",
       "North America                       2\n",
       "Name: Region, dtype: int64"
      ]
     },
     "metadata": {},
     "output_type": "display_data"
    },
    {
     "data": {
      "text/plain": [
       "Authoritarian       59\n",
       "Flawed democracy    53\n",
       "Hybrid regime       34\n",
       "Full democracy      21\n",
       "Name: Regime type, dtype: int64"
      ]
     },
     "metadata": {},
     "output_type": "display_data"
    }
   ],
   "source": [
    "# Frequency of nominal variables in fdata\n",
    "display(fdata['Region'].value_counts(), fdata['Regime type'].value_counts())"
   ]
  },
  {
   "cell_type": "markdown",
   "metadata": {
    "id": "heWBk3vpoJrQ"
   },
   "source": [
    "### Data visulization"
   ]
  },
  {
   "cell_type": "code",
   "execution_count": 23,
   "metadata": {
    "colab": {
     "base_uri": "https://localhost:8080/",
     "height": 1000
    },
    "id": "Jo-vr_foodjG",
    "outputId": "c1d82b79-77fc-4c99-e06c-414060dd8f69"
   },
   "outputs": [
    {
     "data": {
      "application/vnd.plotly.v1+json": {
       "config": {
        "plotlyServerURL": "https://plot.ly"
       },
       "data": [
        {
         "hovertemplate": "<b>%{hovertext}</b><br><br>Election=%{x}<br>2021=%{y}<extra></extra>",
         "hovertext": [
          "Norway",
          "New Zealand",
          "Finland",
          "Sweden",
          "Iceland",
          "Denmark",
          "Ireland",
          "Taiwan",
          "Australia",
          "Switzerland",
          "Netherlands",
          "Canada",
          "Uruguay",
          "Luxembourg",
          "Germany",
          "South Korea",
          "Japan",
          "United Kingdom",
          "Mauritius",
          "Costa Rica",
          "Austria",
          "France",
          "Israel",
          "Spain",
          "Chile",
          "United States",
          "Estonia",
          "Portugal",
          "Czech Republic",
          "Botswana",
          "Italy",
          "Cape Verde",
          "Malta",
          "Greece",
          "Slovenia",
          "Belgium",
          "Cyprus",
          "Latvia",
          "Malaysia",
          "Lithuania",
          "Trinidad and Tobago",
          "Jamaica",
          "East Timor",
          "South Africa",
          "Slovakia",
          "India",
          "Brazil",
          "Panama",
          "Suriname",
          "Argentina",
          "Poland",
          "Indonesia",
          "Bulgaria",
          "Philippines",
          "Namibia",
          "Ghana",
          "Croatia",
          "Hungary",
          "Colombia",
          "Dominican Republic",
          "Romania",
          "Mongolia",
          "Serbia",
          "Lesotho",
          "Guyana",
          "Singapore",
          "Sri Lanka",
          "Albania",
          "Papua New Guinea",
          "Moldova",
          "Peru",
          "Thailand",
          "North Macedonia",
          "Montenegro",
          "Tunisia",
          "Bangladesh",
          "Paraguay",
          "Malawi",
          "Zambia",
          "El Salvador",
          "Bhutan",
          "Ecuador",
          "Madagascar",
          "Fiji",
          "Hong Kong",
          "Mexico",
          "Ukraine",
          "Senegal",
          "Armenia",
          "Liberia",
          "Georgia",
          "Honduras",
          "Tanzania",
          "Kenya",
          "Bosnia and Herzegovina",
          "Morocco",
          "Sierra Leone",
          "Bolivia",
          "Guatemala",
          "Uganda",
          "Gambia",
          "Nepal",
          "Turkey",
          "Pakistan",
          "Ivory Coast",
          "Benin",
          "Nigeria",
          "Mauritania",
          "Palestine",
          "Kuwait",
          "Lebanon",
          "Burkina Faso",
          "Algeria",
          "Qatar",
          "Kyrgyzstan",
          "Mozambique",
          "Iraq",
          "Jordan",
          "Mali",
          "Haiti",
          "Gabon",
          "Angola",
          "Ethiopia",
          "Russia",
          "Niger",
          "Comoros",
          "Rwanda",
          "Kazakhstan",
          "Eswatini",
          "Oman",
          "Vietnam",
          "Egypt",
          "Zimbabwe",
          "Cambodia",
          "United Arab Emirates",
          "Togo",
          "Republic of the Congo",
          "Guinea-Bissau",
          "Djibouti",
          "Nicaragua",
          "Azerbaijan",
          "Cuba",
          "Cameroon",
          "Bahrain",
          "Sudan",
          "Belarus",
          "Guinea",
          "China",
          "Burundi",
          "Uzbekistan",
          "Venezuela",
          "Saudi Arabia",
          "Eritrea",
          "Libya",
          "Yemen",
          "Iran",
          "Tajikistan",
          "Equatorial Guinea",
          "Laos",
          "Chad",
          "Turkmenistan",
          "Syria",
          "Central African Republic",
          "Democratic Republic of the Congo",
          "North Korea",
          "Myanmar",
          "Afghanistan"
         ],
         "legendgroup": "",
         "marker": {
          "color": "#636efa",
          "symbol": "circle"
         },
         "mode": "markers",
         "name": "",
         "orientation": "v",
         "showlegend": false,
         "type": "scatter",
         "x": [
          10,
          10,
          10,
          9.58,
          10,
          10,
          10,
          10,
          10,
          10,
          9.58,
          10,
          10,
          10,
          9.58,
          9.58,
          9.17,
          9.58,
          9.17,
          9.58,
          9.58,
          9.58,
          9.58,
          9.58,
          9.58,
          9.17,
          9.58,
          9.58,
          9.58,
          9.17,
          9.58,
          9.17,
          9.17,
          9.58,
          9.58,
          9.58,
          9.17,
          9.58,
          9.58,
          9.58,
          9.58,
          8.75,
          9.58,
          7.42,
          9.58,
          8.67,
          9.58,
          9.58,
          9.58,
          9.17,
          9.17,
          7.92,
          9.17,
          9.17,
          7,
          8.33,
          8.33,
          8.33,
          9.17,
          9.17,
          9.17,
          8.75,
          8.25,
          9.17,
          6.92,
          4.83,
          7,
          7,
          7,
          7,
          8.75,
          7,
          7.42,
          7.42,
          7.42,
          7.42,
          8.75,
          7,
          9.17,
          9.17,
          8.75,
          8.75,
          7.92,
          6.58,
          2.5,
          6.92,
          6.92,
          5.67,
          7.5,
          7.42,
          7.83,
          8.75,
          8.75,
          3.5,
          7,
          7,
          6.58,
          4.75,
          6.92,
          3.42,
          3.58,
          3.58,
          3.5,
          5.67,
          4.33,
          1.67,
          5.17,
          3.5,
          3.33,
          3.58,
          3,
          3,
          3.08,
          1.5,
          4.33,
          5.25,
          5.25,
          2.67,
          3.08,
          3.08,
          2.17,
          1.33,
          0.42,
          1.75,
          2,
          2.08,
          1.42,
          0.92,
          0.92,
          0.08,
          0,
          1.33,
          0,
          0,
          0,
          0.92,
          0,
          4.92,
          0,
          0,
          0.5,
          0,
          0.33,
          0.42,
          0,
          0,
          1.25,
          0,
          0,
          0.08,
          0,
          0,
          0,
          0,
          0,
          0,
          0,
          0,
          0,
          0,
          0,
          0,
          0,
          0.75,
          0,
          0,
          0
         ],
         "xaxis": "x",
         "y": [
          9.75,
          9.37,
          9.27,
          9.26,
          9.18,
          9.09,
          9,
          8.99,
          8.9,
          8.9,
          8.88,
          8.87,
          8.85,
          8.68,
          8.67,
          8.16,
          8.15,
          8.1,
          8.08,
          8.07,
          8.07,
          7.99,
          7.97,
          7.94,
          7.92,
          7.85,
          7.84,
          7.82,
          7.74,
          7.73,
          7.68,
          7.65,
          7.57,
          7.56,
          7.54,
          7.51,
          7.43,
          7.31,
          7.24,
          7.18,
          7.16,
          7.13,
          7.06,
          7.05,
          7.03,
          6.91,
          6.86,
          6.85,
          6.82,
          6.81,
          6.8,
          6.71,
          6.64,
          6.62,
          6.52,
          6.5,
          6.5,
          6.5,
          6.48,
          6.45,
          6.43,
          6.42,
          6.36,
          6.3,
          6.25,
          6.23,
          6.14,
          6.11,
          6.1,
          6.1,
          6.09,
          6.04,
          6.03,
          6.02,
          5.99,
          5.99,
          5.86,
          5.74,
          5.72,
          5.72,
          5.71,
          5.71,
          5.7,
          5.61,
          5.6,
          5.57,
          5.57,
          5.53,
          5.49,
          5.43,
          5.12,
          5.1,
          5.1,
          5.05,
          5.04,
          5.04,
          4.97,
          4.65,
          4.62,
          4.48,
          4.41,
          4.41,
          4.35,
          4.31,
          4.22,
          4.19,
          4.11,
          4.03,
          3.94,
          3.91,
          3.84,
          3.84,
          3.77,
          3.65,
          3.62,
          3.51,
          3.51,
          3.49,
          3.48,
          3.48,
          3.4,
          3.37,
          3.3,
          3.24,
          3.22,
          3.2,
          3.1,
          3.08,
          3.08,
          3,
          2.94,
          2.93,
          2.92,
          2.9,
          2.9,
          2.8,
          2.79,
          2.75,
          2.74,
          2.69,
          2.68,
          2.59,
          2.56,
          2.52,
          2.47,
          2.41,
          2.28,
          2.21,
          2.13,
          2.12,
          2.11,
          2.08,
          2.03,
          1.95,
          1.95,
          1.95,
          1.94,
          1.92,
          1.77,
          1.67,
          1.66,
          1.43,
          1.43,
          1.4,
          1.08,
          1.02,
          0.32
         ],
         "yaxis": "y"
        },
        {
         "hovertemplate": "<b>OLS trendline</b><br>2021 = 0.565795 * Election + 2.07498<br>R<sup>2</sup>=0.880251<br><br>Election=%{x}<br>2021=%{y} <b>(trend)</b><extra></extra>",
         "legendgroup": "",
         "line": {
          "color": "red"
         },
         "marker": {
          "color": "#636efa",
          "symbol": "circle"
         },
         "mode": "lines",
         "name": "",
         "showlegend": false,
         "type": "scatter",
         "x": [
          0,
          0,
          0,
          0,
          0,
          0,
          0,
          0,
          0,
          0,
          0,
          0,
          0,
          0,
          0,
          0,
          0,
          0,
          0,
          0,
          0,
          0,
          0,
          0,
          0,
          0,
          0,
          0,
          0.08,
          0.08,
          0.33,
          0.42,
          0.42,
          0.5,
          0.75,
          0.92,
          0.92,
          0.92,
          1.25,
          1.33,
          1.33,
          1.42,
          1.5,
          1.67,
          1.75,
          2,
          2.08,
          2.17,
          2.5,
          2.67,
          3,
          3,
          3.08,
          3.08,
          3.08,
          3.33,
          3.42,
          3.5,
          3.5,
          3.5,
          3.58,
          3.58,
          3.58,
          4.33,
          4.33,
          4.75,
          4.83,
          4.92,
          5.17,
          5.25,
          5.25,
          5.67,
          5.67,
          6.58,
          6.58,
          6.92,
          6.92,
          6.92,
          6.92,
          7,
          7,
          7,
          7,
          7,
          7,
          7,
          7,
          7,
          7.42,
          7.42,
          7.42,
          7.42,
          7.42,
          7.42,
          7.5,
          7.83,
          7.92,
          7.92,
          8.25,
          8.33,
          8.33,
          8.33,
          8.67,
          8.75,
          8.75,
          8.75,
          8.75,
          8.75,
          8.75,
          8.75,
          8.75,
          9.17,
          9.17,
          9.17,
          9.17,
          9.17,
          9.17,
          9.17,
          9.17,
          9.17,
          9.17,
          9.17,
          9.17,
          9.17,
          9.17,
          9.17,
          9.17,
          9.17,
          9.58,
          9.58,
          9.58,
          9.58,
          9.58,
          9.58,
          9.58,
          9.58,
          9.58,
          9.58,
          9.58,
          9.58,
          9.58,
          9.58,
          9.58,
          9.58,
          9.58,
          9.58,
          9.58,
          9.58,
          9.58,
          9.58,
          9.58,
          9.58,
          9.58,
          9.58,
          9.58,
          10,
          10,
          10,
          10,
          10,
          10,
          10,
          10,
          10,
          10,
          10,
          10
         ],
         "xaxis": "x",
         "y": [
          2.0749795585977155,
          2.0749795585977155,
          2.0749795585977155,
          2.0749795585977155,
          2.0749795585977155,
          2.0749795585977155,
          2.0749795585977155,
          2.0749795585977155,
          2.0749795585977155,
          2.0749795585977155,
          2.0749795585977155,
          2.0749795585977155,
          2.0749795585977155,
          2.0749795585977155,
          2.0749795585977155,
          2.0749795585977155,
          2.0749795585977155,
          2.0749795585977155,
          2.0749795585977155,
          2.0749795585977155,
          2.0749795585977155,
          2.0749795585977155,
          2.0749795585977155,
          2.0749795585977155,
          2.0749795585977155,
          2.0749795585977155,
          2.0749795585977155,
          2.0749795585977155,
          2.1202431607713574,
          2.1202431607713574,
          2.2616919175639874,
          2.3126134700093344,
          2.3126134700093344,
          2.3578770721829763,
          2.4993258289756066,
          2.595510983594595,
          2.595510983594595,
          2.595510983594595,
          2.782223342560867,
          2.827486944734509,
          2.827486944734509,
          2.878408497179856,
          2.9236720993534973,
          3.0198572539724857,
          3.0651208561461276,
          3.206569612938758,
          3.2518332151123994,
          3.3027547675577464,
          3.4894671265240187,
          3.585652281143007,
          3.772364640109279,
          3.772364640109279,
          3.817628242282921,
          3.817628242282921,
          3.817628242282921,
          3.959076999075551,
          4.009998551520898,
          4.05526215369454,
          4.05526215369454,
          4.05526215369454,
          4.100525755868182,
          4.100525755868182,
          4.100525755868182,
          4.524872026246072,
          4.524872026246072,
          4.762505937657691,
          4.807769539831333,
          4.85869109227668,
          5.00013984906931,
          5.045403451242952,
          5.045403451242952,
          5.283037362654571,
          5.283037362654571,
          5.797910837379745,
          5.797910837379745,
          5.990281146617722,
          5.990281146617722,
          5.990281146617722,
          5.990281146617722,
          6.035544748791364,
          6.035544748791364,
          6.035544748791364,
          6.035544748791364,
          6.035544748791364,
          6.035544748791364,
          6.035544748791364,
          6.035544748791364,
          6.035544748791364,
          6.273178660202983,
          6.273178660202983,
          6.273178660202983,
          6.273178660202983,
          6.273178660202983,
          6.273178660202983,
          6.3184422623766245,
          6.505154621342896,
          6.556076173788243,
          6.556076173788243,
          6.742788532754515,
          6.788052134928157,
          6.788052134928157,
          6.788052134928157,
          6.980422444166134,
          7.025686046339776,
          7.025686046339776,
          7.025686046339776,
          7.025686046339776,
          7.025686046339776,
          7.025686046339776,
          7.025686046339776,
          7.025686046339776,
          7.263319957751395,
          7.263319957751395,
          7.263319957751395,
          7.263319957751395,
          7.263319957751395,
          7.263319957751395,
          7.263319957751395,
          7.263319957751395,
          7.263319957751395,
          7.263319957751395,
          7.263319957751395,
          7.263319957751395,
          7.263319957751395,
          7.263319957751395,
          7.263319957751395,
          7.263319957751395,
          7.263319957751395,
          7.495295918891308,
          7.495295918891308,
          7.495295918891308,
          7.495295918891308,
          7.495295918891308,
          7.495295918891308,
          7.495295918891308,
          7.495295918891308,
          7.495295918891308,
          7.495295918891308,
          7.495295918891308,
          7.495295918891308,
          7.495295918891308,
          7.495295918891308,
          7.495295918891308,
          7.495295918891308,
          7.495295918891308,
          7.495295918891308,
          7.495295918891308,
          7.495295918891308,
          7.495295918891308,
          7.495295918891308,
          7.495295918891308,
          7.495295918891308,
          7.495295918891308,
          7.495295918891308,
          7.495295918891308,
          7.732929830302928,
          7.732929830302928,
          7.732929830302928,
          7.732929830302928,
          7.732929830302928,
          7.732929830302928,
          7.732929830302928,
          7.732929830302928,
          7.732929830302928,
          7.732929830302928,
          7.732929830302928,
          7.732929830302928
         ],
         "yaxis": "y"
        }
       ],
       "layout": {
        "height": 300,
        "legend": {
         "tracegroupgap": 0
        },
        "margin": {
         "t": 60
        },
        "template": {
         "data": {
          "bar": [
           {
            "error_x": {
             "color": "#2a3f5f"
            },
            "error_y": {
             "color": "#2a3f5f"
            },
            "marker": {
             "line": {
              "color": "#E5ECF6",
              "width": 0.5
             },
             "pattern": {
              "fillmode": "overlay",
              "size": 10,
              "solidity": 0.2
             }
            },
            "type": "bar"
           }
          ],
          "barpolar": [
           {
            "marker": {
             "line": {
              "color": "#E5ECF6",
              "width": 0.5
             },
             "pattern": {
              "fillmode": "overlay",
              "size": 10,
              "solidity": 0.2
             }
            },
            "type": "barpolar"
           }
          ],
          "carpet": [
           {
            "aaxis": {
             "endlinecolor": "#2a3f5f",
             "gridcolor": "white",
             "linecolor": "white",
             "minorgridcolor": "white",
             "startlinecolor": "#2a3f5f"
            },
            "baxis": {
             "endlinecolor": "#2a3f5f",
             "gridcolor": "white",
             "linecolor": "white",
             "minorgridcolor": "white",
             "startlinecolor": "#2a3f5f"
            },
            "type": "carpet"
           }
          ],
          "choropleth": [
           {
            "colorbar": {
             "outlinewidth": 0,
             "ticks": ""
            },
            "type": "choropleth"
           }
          ],
          "contour": [
           {
            "colorbar": {
             "outlinewidth": 0,
             "ticks": ""
            },
            "colorscale": [
             [
              0,
              "#0d0887"
             ],
             [
              0.1111111111111111,
              "#46039f"
             ],
             [
              0.2222222222222222,
              "#7201a8"
             ],
             [
              0.3333333333333333,
              "#9c179e"
             ],
             [
              0.4444444444444444,
              "#bd3786"
             ],
             [
              0.5555555555555556,
              "#d8576b"
             ],
             [
              0.6666666666666666,
              "#ed7953"
             ],
             [
              0.7777777777777778,
              "#fb9f3a"
             ],
             [
              0.8888888888888888,
              "#fdca26"
             ],
             [
              1,
              "#f0f921"
             ]
            ],
            "type": "contour"
           }
          ],
          "contourcarpet": [
           {
            "colorbar": {
             "outlinewidth": 0,
             "ticks": ""
            },
            "type": "contourcarpet"
           }
          ],
          "heatmap": [
           {
            "colorbar": {
             "outlinewidth": 0,
             "ticks": ""
            },
            "colorscale": [
             [
              0,
              "#0d0887"
             ],
             [
              0.1111111111111111,
              "#46039f"
             ],
             [
              0.2222222222222222,
              "#7201a8"
             ],
             [
              0.3333333333333333,
              "#9c179e"
             ],
             [
              0.4444444444444444,
              "#bd3786"
             ],
             [
              0.5555555555555556,
              "#d8576b"
             ],
             [
              0.6666666666666666,
              "#ed7953"
             ],
             [
              0.7777777777777778,
              "#fb9f3a"
             ],
             [
              0.8888888888888888,
              "#fdca26"
             ],
             [
              1,
              "#f0f921"
             ]
            ],
            "type": "heatmap"
           }
          ],
          "heatmapgl": [
           {
            "colorbar": {
             "outlinewidth": 0,
             "ticks": ""
            },
            "colorscale": [
             [
              0,
              "#0d0887"
             ],
             [
              0.1111111111111111,
              "#46039f"
             ],
             [
              0.2222222222222222,
              "#7201a8"
             ],
             [
              0.3333333333333333,
              "#9c179e"
             ],
             [
              0.4444444444444444,
              "#bd3786"
             ],
             [
              0.5555555555555556,
              "#d8576b"
             ],
             [
              0.6666666666666666,
              "#ed7953"
             ],
             [
              0.7777777777777778,
              "#fb9f3a"
             ],
             [
              0.8888888888888888,
              "#fdca26"
             ],
             [
              1,
              "#f0f921"
             ]
            ],
            "type": "heatmapgl"
           }
          ],
          "histogram": [
           {
            "marker": {
             "pattern": {
              "fillmode": "overlay",
              "size": 10,
              "solidity": 0.2
             }
            },
            "type": "histogram"
           }
          ],
          "histogram2d": [
           {
            "colorbar": {
             "outlinewidth": 0,
             "ticks": ""
            },
            "colorscale": [
             [
              0,
              "#0d0887"
             ],
             [
              0.1111111111111111,
              "#46039f"
             ],
             [
              0.2222222222222222,
              "#7201a8"
             ],
             [
              0.3333333333333333,
              "#9c179e"
             ],
             [
              0.4444444444444444,
              "#bd3786"
             ],
             [
              0.5555555555555556,
              "#d8576b"
             ],
             [
              0.6666666666666666,
              "#ed7953"
             ],
             [
              0.7777777777777778,
              "#fb9f3a"
             ],
             [
              0.8888888888888888,
              "#fdca26"
             ],
             [
              1,
              "#f0f921"
             ]
            ],
            "type": "histogram2d"
           }
          ],
          "histogram2dcontour": [
           {
            "colorbar": {
             "outlinewidth": 0,
             "ticks": ""
            },
            "colorscale": [
             [
              0,
              "#0d0887"
             ],
             [
              0.1111111111111111,
              "#46039f"
             ],
             [
              0.2222222222222222,
              "#7201a8"
             ],
             [
              0.3333333333333333,
              "#9c179e"
             ],
             [
              0.4444444444444444,
              "#bd3786"
             ],
             [
              0.5555555555555556,
              "#d8576b"
             ],
             [
              0.6666666666666666,
              "#ed7953"
             ],
             [
              0.7777777777777778,
              "#fb9f3a"
             ],
             [
              0.8888888888888888,
              "#fdca26"
             ],
             [
              1,
              "#f0f921"
             ]
            ],
            "type": "histogram2dcontour"
           }
          ],
          "mesh3d": [
           {
            "colorbar": {
             "outlinewidth": 0,
             "ticks": ""
            },
            "type": "mesh3d"
           }
          ],
          "parcoords": [
           {
            "line": {
             "colorbar": {
              "outlinewidth": 0,
              "ticks": ""
             }
            },
            "type": "parcoords"
           }
          ],
          "pie": [
           {
            "automargin": true,
            "type": "pie"
           }
          ],
          "scatter": [
           {
            "fillpattern": {
             "fillmode": "overlay",
             "size": 10,
             "solidity": 0.2
            },
            "type": "scatter"
           }
          ],
          "scatter3d": [
           {
            "line": {
             "colorbar": {
              "outlinewidth": 0,
              "ticks": ""
             }
            },
            "marker": {
             "colorbar": {
              "outlinewidth": 0,
              "ticks": ""
             }
            },
            "type": "scatter3d"
           }
          ],
          "scattercarpet": [
           {
            "marker": {
             "colorbar": {
              "outlinewidth": 0,
              "ticks": ""
             }
            },
            "type": "scattercarpet"
           }
          ],
          "scattergeo": [
           {
            "marker": {
             "colorbar": {
              "outlinewidth": 0,
              "ticks": ""
             }
            },
            "type": "scattergeo"
           }
          ],
          "scattergl": [
           {
            "marker": {
             "colorbar": {
              "outlinewidth": 0,
              "ticks": ""
             }
            },
            "type": "scattergl"
           }
          ],
          "scattermapbox": [
           {
            "marker": {
             "colorbar": {
              "outlinewidth": 0,
              "ticks": ""
             }
            },
            "type": "scattermapbox"
           }
          ],
          "scatterpolar": [
           {
            "marker": {
             "colorbar": {
              "outlinewidth": 0,
              "ticks": ""
             }
            },
            "type": "scatterpolar"
           }
          ],
          "scatterpolargl": [
           {
            "marker": {
             "colorbar": {
              "outlinewidth": 0,
              "ticks": ""
             }
            },
            "type": "scatterpolargl"
           }
          ],
          "scatterternary": [
           {
            "marker": {
             "colorbar": {
              "outlinewidth": 0,
              "ticks": ""
             }
            },
            "type": "scatterternary"
           }
          ],
          "surface": [
           {
            "colorbar": {
             "outlinewidth": 0,
             "ticks": ""
            },
            "colorscale": [
             [
              0,
              "#0d0887"
             ],
             [
              0.1111111111111111,
              "#46039f"
             ],
             [
              0.2222222222222222,
              "#7201a8"
             ],
             [
              0.3333333333333333,
              "#9c179e"
             ],
             [
              0.4444444444444444,
              "#bd3786"
             ],
             [
              0.5555555555555556,
              "#d8576b"
             ],
             [
              0.6666666666666666,
              "#ed7953"
             ],
             [
              0.7777777777777778,
              "#fb9f3a"
             ],
             [
              0.8888888888888888,
              "#fdca26"
             ],
             [
              1,
              "#f0f921"
             ]
            ],
            "type": "surface"
           }
          ],
          "table": [
           {
            "cells": {
             "fill": {
              "color": "#EBF0F8"
             },
             "line": {
              "color": "white"
             }
            },
            "header": {
             "fill": {
              "color": "#C8D4E3"
             },
             "line": {
              "color": "white"
             }
            },
            "type": "table"
           }
          ]
         },
         "layout": {
          "annotationdefaults": {
           "arrowcolor": "#2a3f5f",
           "arrowhead": 0,
           "arrowwidth": 1
          },
          "autotypenumbers": "strict",
          "coloraxis": {
           "colorbar": {
            "outlinewidth": 0,
            "ticks": ""
           }
          },
          "colorscale": {
           "diverging": [
            [
             0,
             "#8e0152"
            ],
            [
             0.1,
             "#c51b7d"
            ],
            [
             0.2,
             "#de77ae"
            ],
            [
             0.3,
             "#f1b6da"
            ],
            [
             0.4,
             "#fde0ef"
            ],
            [
             0.5,
             "#f7f7f7"
            ],
            [
             0.6,
             "#e6f5d0"
            ],
            [
             0.7,
             "#b8e186"
            ],
            [
             0.8,
             "#7fbc41"
            ],
            [
             0.9,
             "#4d9221"
            ],
            [
             1,
             "#276419"
            ]
           ],
           "sequential": [
            [
             0,
             "#0d0887"
            ],
            [
             0.1111111111111111,
             "#46039f"
            ],
            [
             0.2222222222222222,
             "#7201a8"
            ],
            [
             0.3333333333333333,
             "#9c179e"
            ],
            [
             0.4444444444444444,
             "#bd3786"
            ],
            [
             0.5555555555555556,
             "#d8576b"
            ],
            [
             0.6666666666666666,
             "#ed7953"
            ],
            [
             0.7777777777777778,
             "#fb9f3a"
            ],
            [
             0.8888888888888888,
             "#fdca26"
            ],
            [
             1,
             "#f0f921"
            ]
           ],
           "sequentialminus": [
            [
             0,
             "#0d0887"
            ],
            [
             0.1111111111111111,
             "#46039f"
            ],
            [
             0.2222222222222222,
             "#7201a8"
            ],
            [
             0.3333333333333333,
             "#9c179e"
            ],
            [
             0.4444444444444444,
             "#bd3786"
            ],
            [
             0.5555555555555556,
             "#d8576b"
            ],
            [
             0.6666666666666666,
             "#ed7953"
            ],
            [
             0.7777777777777778,
             "#fb9f3a"
            ],
            [
             0.8888888888888888,
             "#fdca26"
            ],
            [
             1,
             "#f0f921"
            ]
           ]
          },
          "colorway": [
           "#636efa",
           "#EF553B",
           "#00cc96",
           "#ab63fa",
           "#FFA15A",
           "#19d3f3",
           "#FF6692",
           "#B6E880",
           "#FF97FF",
           "#FECB52"
          ],
          "font": {
           "color": "#2a3f5f"
          },
          "geo": {
           "bgcolor": "white",
           "lakecolor": "white",
           "landcolor": "#E5ECF6",
           "showlakes": true,
           "showland": true,
           "subunitcolor": "white"
          },
          "hoverlabel": {
           "align": "left"
          },
          "hovermode": "closest",
          "mapbox": {
           "style": "light"
          },
          "paper_bgcolor": "white",
          "plot_bgcolor": "#E5ECF6",
          "polar": {
           "angularaxis": {
            "gridcolor": "white",
            "linecolor": "white",
            "ticks": ""
           },
           "bgcolor": "#E5ECF6",
           "radialaxis": {
            "gridcolor": "white",
            "linecolor": "white",
            "ticks": ""
           }
          },
          "scene": {
           "xaxis": {
            "backgroundcolor": "#E5ECF6",
            "gridcolor": "white",
            "gridwidth": 2,
            "linecolor": "white",
            "showbackground": true,
            "ticks": "",
            "zerolinecolor": "white"
           },
           "yaxis": {
            "backgroundcolor": "#E5ECF6",
            "gridcolor": "white",
            "gridwidth": 2,
            "linecolor": "white",
            "showbackground": true,
            "ticks": "",
            "zerolinecolor": "white"
           },
           "zaxis": {
            "backgroundcolor": "#E5ECF6",
            "gridcolor": "white",
            "gridwidth": 2,
            "linecolor": "white",
            "showbackground": true,
            "ticks": "",
            "zerolinecolor": "white"
           }
          },
          "shapedefaults": {
           "line": {
            "color": "#2a3f5f"
           }
          },
          "ternary": {
           "aaxis": {
            "gridcolor": "white",
            "linecolor": "white",
            "ticks": ""
           },
           "baxis": {
            "gridcolor": "white",
            "linecolor": "white",
            "ticks": ""
           },
           "bgcolor": "#E5ECF6",
           "caxis": {
            "gridcolor": "white",
            "linecolor": "white",
            "ticks": ""
           }
          },
          "title": {
           "x": 0.05
          },
          "xaxis": {
           "automargin": true,
           "gridcolor": "white",
           "linecolor": "white",
           "ticks": "",
           "title": {
            "standoff": 15
           },
           "zerolinecolor": "white",
           "zerolinewidth": 2
          },
          "yaxis": {
           "automargin": true,
           "gridcolor": "white",
           "linecolor": "white",
           "ticks": "",
           "title": {
            "standoff": 15
           },
           "zerolinecolor": "white",
           "zerolinewidth": 2
          }
         }
        },
        "width": 500,
        "xaxis": {
         "anchor": "y",
         "domain": [
          0,
          1
         ],
         "title": {
          "text": "Election"
         }
        },
        "yaxis": {
         "anchor": "x",
         "domain": [
          0,
          1
         ],
         "title": {
          "text": "2021"
         }
        }
       }
      }
     },
     "metadata": {},
     "output_type": "display_data"
    },
    {
     "data": {
      "application/vnd.plotly.v1+json": {
       "config": {
        "plotlyServerURL": "https://plot.ly"
       },
       "data": [
        {
         "hovertemplate": "<b>%{hovertext}</b><br><br>Government=%{x}<br>2021=%{y}<extra></extra>",
         "hovertext": [
          "Norway",
          "New Zealand",
          "Finland",
          "Sweden",
          "Iceland",
          "Denmark",
          "Ireland",
          "Taiwan",
          "Australia",
          "Switzerland",
          "Netherlands",
          "Canada",
          "Uruguay",
          "Luxembourg",
          "Germany",
          "South Korea",
          "Japan",
          "United Kingdom",
          "Mauritius",
          "Costa Rica",
          "Austria",
          "France",
          "Israel",
          "Spain",
          "Chile",
          "United States",
          "Estonia",
          "Portugal",
          "Czech Republic",
          "Botswana",
          "Italy",
          "Cape Verde",
          "Malta",
          "Greece",
          "Slovenia",
          "Belgium",
          "Cyprus",
          "Latvia",
          "Malaysia",
          "Lithuania",
          "Trinidad and Tobago",
          "Jamaica",
          "East Timor",
          "South Africa",
          "Slovakia",
          "India",
          "Brazil",
          "Panama",
          "Suriname",
          "Argentina",
          "Poland",
          "Indonesia",
          "Bulgaria",
          "Philippines",
          "Namibia",
          "Ghana",
          "Croatia",
          "Hungary",
          "Colombia",
          "Dominican Republic",
          "Romania",
          "Mongolia",
          "Serbia",
          "Lesotho",
          "Guyana",
          "Singapore",
          "Sri Lanka",
          "Albania",
          "Papua New Guinea",
          "Moldova",
          "Peru",
          "Thailand",
          "North Macedonia",
          "Montenegro",
          "Tunisia",
          "Bangladesh",
          "Paraguay",
          "Malawi",
          "Zambia",
          "El Salvador",
          "Bhutan",
          "Ecuador",
          "Madagascar",
          "Fiji",
          "Hong Kong",
          "Mexico",
          "Ukraine",
          "Senegal",
          "Armenia",
          "Liberia",
          "Georgia",
          "Honduras",
          "Tanzania",
          "Kenya",
          "Bosnia and Herzegovina",
          "Morocco",
          "Sierra Leone",
          "Bolivia",
          "Guatemala",
          "Uganda",
          "Gambia",
          "Nepal",
          "Turkey",
          "Pakistan",
          "Ivory Coast",
          "Benin",
          "Nigeria",
          "Mauritania",
          "Palestine",
          "Kuwait",
          "Lebanon",
          "Burkina Faso",
          "Algeria",
          "Qatar",
          "Kyrgyzstan",
          "Mozambique",
          "Iraq",
          "Jordan",
          "Mali",
          "Haiti",
          "Gabon",
          "Angola",
          "Ethiopia",
          "Russia",
          "Niger",
          "Comoros",
          "Rwanda",
          "Kazakhstan",
          "Eswatini",
          "Oman",
          "Vietnam",
          "Egypt",
          "Zimbabwe",
          "Cambodia",
          "United Arab Emirates",
          "Togo",
          "Republic of the Congo",
          "Guinea-Bissau",
          "Djibouti",
          "Nicaragua",
          "Azerbaijan",
          "Cuba",
          "Cameroon",
          "Bahrain",
          "Sudan",
          "Belarus",
          "Guinea",
          "China",
          "Burundi",
          "Uzbekistan",
          "Venezuela",
          "Saudi Arabia",
          "Eritrea",
          "Libya",
          "Yemen",
          "Iran",
          "Tajikistan",
          "Equatorial Guinea",
          "Laos",
          "Chad",
          "Turkmenistan",
          "Syria",
          "Central African Republic",
          "Democratic Republic of the Congo",
          "North Korea",
          "Myanmar",
          "Afghanistan"
         ],
         "legendgroup": "",
         "marker": {
          "color": "#636efa",
          "symbol": "circle"
         },
         "mode": "markers",
         "name": "",
         "orientation": "v",
         "showlegend": false,
         "type": "scatter",
         "x": [
          9.64,
          8.93,
          9.29,
          9.29,
          8.21,
          8.93,
          7.86,
          9.64,
          8.57,
          8.57,
          8.93,
          8.21,
          8.57,
          8.57,
          8.21,
          8.57,
          8.57,
          7.5,
          7.86,
          6.79,
          6.43,
          7.5,
          7.5,
          7.14,
          7.86,
          6.43,
          7.86,
          7.14,
          6.43,
          6.79,
          6.43,
          7,
          6.79,
          6.07,
          6.43,
          7.86,
          5.36,
          6.07,
          7.86,
          6.07,
          7.14,
          7.14,
          5.93,
          7.14,
          6.43,
          7.5,
          5.36,
          6.07,
          6.07,
          5,
          6.07,
          7.5,
          5.36,
          5,
          5.36,
          5.36,
          5.36,
          5.36,
          5.71,
          5,
          6.07,
          5.71,
          6.07,
          4.14,
          6.07,
          8.21,
          5.71,
          6.43,
          5.71,
          5.71,
          5.36,
          5,
          6.43,
          6.43,
          6.07,
          6.07,
          5.36,
          4.29,
          3.93,
          3.93,
          6.79,
          6.79,
          3.57,
          5,
          3.64,
          5,
          5,
          5.71,
          5.71,
          2.71,
          3.57,
          3.93,
          3.93,
          5.36,
          3.29,
          3.29,
          2.86,
          4.29,
          3.93,
          3.21,
          4.29,
          4.29,
          5,
          5.36,
          2.86,
          5.36,
          3.93,
          3.57,
          0.14,
          3.93,
          2.36,
          2.36,
          2.5,
          4.29,
          1.5,
          0,
          0,
          3.93,
          0,
          0,
          1.86,
          2.86,
          3.21,
          2.14,
          1.14,
          2.21,
          4.29,
          2.86,
          2.86,
          3.93,
          2.86,
          3.21,
          2.5,
          3.21,
          3.21,
          1.79,
          2.5,
          0,
          1.29,
          2.5,
          2.86,
          3.21,
          2.14,
          2.71,
          1.43,
          2,
          0.43,
          4.29,
          0,
          1.86,
          1.79,
          3.57,
          2.14,
          0,
          0,
          0,
          2.21,
          0.43,
          2.86,
          0,
          0.79,
          0,
          0,
          0,
          2.5,
          0,
          0
         ],
         "xaxis": "x",
         "y": [
          9.75,
          9.37,
          9.27,
          9.26,
          9.18,
          9.09,
          9,
          8.99,
          8.9,
          8.9,
          8.88,
          8.87,
          8.85,
          8.68,
          8.67,
          8.16,
          8.15,
          8.1,
          8.08,
          8.07,
          8.07,
          7.99,
          7.97,
          7.94,
          7.92,
          7.85,
          7.84,
          7.82,
          7.74,
          7.73,
          7.68,
          7.65,
          7.57,
          7.56,
          7.54,
          7.51,
          7.43,
          7.31,
          7.24,
          7.18,
          7.16,
          7.13,
          7.06,
          7.05,
          7.03,
          6.91,
          6.86,
          6.85,
          6.82,
          6.81,
          6.8,
          6.71,
          6.64,
          6.62,
          6.52,
          6.5,
          6.5,
          6.5,
          6.48,
          6.45,
          6.43,
          6.42,
          6.36,
          6.3,
          6.25,
          6.23,
          6.14,
          6.11,
          6.1,
          6.1,
          6.09,
          6.04,
          6.03,
          6.02,
          5.99,
          5.99,
          5.86,
          5.74,
          5.72,
          5.72,
          5.71,
          5.71,
          5.7,
          5.61,
          5.6,
          5.57,
          5.57,
          5.53,
          5.49,
          5.43,
          5.12,
          5.1,
          5.1,
          5.05,
          5.04,
          5.04,
          4.97,
          4.65,
          4.62,
          4.48,
          4.41,
          4.41,
          4.35,
          4.31,
          4.22,
          4.19,
          4.11,
          4.03,
          3.94,
          3.91,
          3.84,
          3.84,
          3.77,
          3.65,
          3.62,
          3.51,
          3.51,
          3.49,
          3.48,
          3.48,
          3.4,
          3.37,
          3.3,
          3.24,
          3.22,
          3.2,
          3.1,
          3.08,
          3.08,
          3,
          2.94,
          2.93,
          2.92,
          2.9,
          2.9,
          2.8,
          2.79,
          2.75,
          2.74,
          2.69,
          2.68,
          2.59,
          2.56,
          2.52,
          2.47,
          2.41,
          2.28,
          2.21,
          2.13,
          2.12,
          2.11,
          2.08,
          2.03,
          1.95,
          1.95,
          1.95,
          1.94,
          1.92,
          1.77,
          1.67,
          1.66,
          1.43,
          1.43,
          1.4,
          1.08,
          1.02,
          0.32
         ],
         "yaxis": "y"
        },
        {
         "hovertemplate": "<b>OLS trendline</b><br>2021 = 0.814957 * Government + 1.51798<br>R<sup>2</sup>=0.838997<br><br>Government=%{x}<br>2021=%{y} <b>(trend)</b><extra></extra>",
         "legendgroup": "",
         "line": {
          "color": "red"
         },
         "marker": {
          "color": "#636efa",
          "symbol": "circle"
         },
         "mode": "lines",
         "name": "",
         "showlegend": false,
         "type": "scatter",
         "x": [
          0,
          0,
          0,
          0,
          0,
          0,
          0,
          0,
          0,
          0,
          0,
          0,
          0,
          0,
          0,
          0.14,
          0.43,
          0.43,
          0.79,
          1.14,
          1.29,
          1.43,
          1.5,
          1.79,
          1.79,
          1.86,
          1.86,
          2,
          2.14,
          2.14,
          2.14,
          2.21,
          2.21,
          2.36,
          2.36,
          2.5,
          2.5,
          2.5,
          2.5,
          2.5,
          2.71,
          2.71,
          2.86,
          2.86,
          2.86,
          2.86,
          2.86,
          2.86,
          2.86,
          2.86,
          3.21,
          3.21,
          3.21,
          3.21,
          3.21,
          3.21,
          3.29,
          3.29,
          3.57,
          3.57,
          3.57,
          3.57,
          3.64,
          3.93,
          3.93,
          3.93,
          3.93,
          3.93,
          3.93,
          3.93,
          3.93,
          3.93,
          4.14,
          4.29,
          4.29,
          4.29,
          4.29,
          4.29,
          4.29,
          4.29,
          5,
          5,
          5,
          5,
          5,
          5,
          5,
          5,
          5.36,
          5.36,
          5.36,
          5.36,
          5.36,
          5.36,
          5.36,
          5.36,
          5.36,
          5.36,
          5.36,
          5.36,
          5.71,
          5.71,
          5.71,
          5.71,
          5.71,
          5.71,
          5.71,
          5.93,
          6.07,
          6.07,
          6.07,
          6.07,
          6.07,
          6.07,
          6.07,
          6.07,
          6.07,
          6.07,
          6.07,
          6.43,
          6.43,
          6.43,
          6.43,
          6.43,
          6.43,
          6.43,
          6.43,
          6.43,
          6.79,
          6.79,
          6.79,
          6.79,
          6.79,
          7,
          7.14,
          7.14,
          7.14,
          7.14,
          7.14,
          7.5,
          7.5,
          7.5,
          7.5,
          7.5,
          7.86,
          7.86,
          7.86,
          7.86,
          7.86,
          7.86,
          8.21,
          8.21,
          8.21,
          8.21,
          8.57,
          8.57,
          8.57,
          8.57,
          8.57,
          8.57,
          8.93,
          8.93,
          8.93,
          9.29,
          9.29,
          9.64,
          9.64
         ],
         "xaxis": "x",
         "y": [
          1.517982016423901,
          1.517982016423901,
          1.517982016423901,
          1.517982016423901,
          1.517982016423901,
          1.517982016423901,
          1.517982016423901,
          1.517982016423901,
          1.517982016423901,
          1.517982016423901,
          1.517982016423901,
          1.517982016423901,
          1.517982016423901,
          1.517982016423901,
          1.517982016423901,
          1.6320760535042693,
          1.8684137017421747,
          1.8684137017421747,
          2.161798368520264,
          2.4470334612211846,
          2.569277072378722,
          2.68337110945909,
          2.7404181279992743,
          2.97675577623718,
          2.97675577623718,
          3.033802794777364,
          3.033802794777364,
          3.1478968318577323,
          3.2619908689381,
          3.2619908689381,
          3.2619908689381,
          3.3190378874782844,
          3.3190378874782844,
          3.4412814986358216,
          3.4412814986358216,
          3.5553755357161902,
          3.5553755357161902,
          3.5553755357161902,
          3.5553755357161902,
          3.5553755357161902,
          3.7265165913367424,
          3.7265165913367424,
          3.8487602024942795,
          3.8487602024942795,
          3.8487602024942795,
          3.8487602024942795,
          3.8487602024942795,
          3.8487602024942795,
          3.8487602024942795,
          3.8487602024942795,
          4.1339952951951995,
          4.1339952951951995,
          4.1339952951951995,
          4.1339952951951995,
          4.1339952951951995,
          4.1339952951951995,
          4.199191887812553,
          4.199191887812553,
          4.42737996197329,
          4.42737996197329,
          4.42737996197329,
          4.42737996197329,
          4.484426980513474,
          4.720764628751379,
          4.720764628751379,
          4.720764628751379,
          4.720764628751379,
          4.720764628751379,
          4.720764628751379,
          4.720764628751379,
          4.720764628751379,
          4.720764628751379,
          4.891905684371931,
          5.014149295529468,
          5.014149295529468,
          5.014149295529468,
          5.014149295529468,
          5.014149295529468,
          5.014149295529468,
          5.014149295529468,
          5.592769055008479,
          5.592769055008479,
          5.592769055008479,
          5.592769055008479,
          5.592769055008479,
          5.592769055008479,
          5.592769055008479,
          5.592769055008479,
          5.8861537217865685,
          5.8861537217865685,
          5.8861537217865685,
          5.8861537217865685,
          5.8861537217865685,
          5.8861537217865685,
          5.8861537217865685,
          5.8861537217865685,
          5.8861537217865685,
          5.8861537217865685,
          5.8861537217865685,
          5.8861537217865685,
          6.171388814487488,
          6.171388814487488,
          6.171388814487488,
          6.171388814487488,
          6.171388814487488,
          6.171388814487488,
          6.171388814487488,
          6.35067944418521,
          6.464773481265579,
          6.464773481265579,
          6.464773481265579,
          6.464773481265579,
          6.464773481265579,
          6.464773481265579,
          6.464773481265579,
          6.464773481265579,
          6.464773481265579,
          6.464773481265579,
          6.464773481265579,
          6.758158148043668,
          6.758158148043668,
          6.758158148043668,
          6.758158148043668,
          6.758158148043668,
          6.758158148043668,
          6.758158148043668,
          6.758158148043668,
          6.758158148043668,
          7.051542814821757,
          7.051542814821757,
          7.051542814821757,
          7.051542814821757,
          7.051542814821757,
          7.222683870442309,
          7.336777907522678,
          7.336777907522678,
          7.336777907522678,
          7.336777907522678,
          7.336777907522678,
          7.630162574300767,
          7.630162574300767,
          7.630162574300767,
          7.630162574300767,
          7.630162574300767,
          7.923547241078857,
          7.923547241078857,
          7.923547241078857,
          7.923547241078857,
          7.923547241078857,
          7.923547241078857,
          8.208782333779778,
          8.208782333779778,
          8.208782333779778,
          8.208782333779778,
          8.502167000557867,
          8.502167000557867,
          8.502167000557867,
          8.502167000557867,
          8.502167000557867,
          8.502167000557867,
          8.795551667335957,
          8.795551667335957,
          8.795551667335957,
          9.088936334114045,
          9.088936334114045,
          9.374171426814966,
          9.374171426814966
         ],
         "yaxis": "y"
        }
       ],
       "layout": {
        "height": 300,
        "legend": {
         "tracegroupgap": 0
        },
        "margin": {
         "t": 60
        },
        "template": {
         "data": {
          "bar": [
           {
            "error_x": {
             "color": "#2a3f5f"
            },
            "error_y": {
             "color": "#2a3f5f"
            },
            "marker": {
             "line": {
              "color": "#E5ECF6",
              "width": 0.5
             },
             "pattern": {
              "fillmode": "overlay",
              "size": 10,
              "solidity": 0.2
             }
            },
            "type": "bar"
           }
          ],
          "barpolar": [
           {
            "marker": {
             "line": {
              "color": "#E5ECF6",
              "width": 0.5
             },
             "pattern": {
              "fillmode": "overlay",
              "size": 10,
              "solidity": 0.2
             }
            },
            "type": "barpolar"
           }
          ],
          "carpet": [
           {
            "aaxis": {
             "endlinecolor": "#2a3f5f",
             "gridcolor": "white",
             "linecolor": "white",
             "minorgridcolor": "white",
             "startlinecolor": "#2a3f5f"
            },
            "baxis": {
             "endlinecolor": "#2a3f5f",
             "gridcolor": "white",
             "linecolor": "white",
             "minorgridcolor": "white",
             "startlinecolor": "#2a3f5f"
            },
            "type": "carpet"
           }
          ],
          "choropleth": [
           {
            "colorbar": {
             "outlinewidth": 0,
             "ticks": ""
            },
            "type": "choropleth"
           }
          ],
          "contour": [
           {
            "colorbar": {
             "outlinewidth": 0,
             "ticks": ""
            },
            "colorscale": [
             [
              0,
              "#0d0887"
             ],
             [
              0.1111111111111111,
              "#46039f"
             ],
             [
              0.2222222222222222,
              "#7201a8"
             ],
             [
              0.3333333333333333,
              "#9c179e"
             ],
             [
              0.4444444444444444,
              "#bd3786"
             ],
             [
              0.5555555555555556,
              "#d8576b"
             ],
             [
              0.6666666666666666,
              "#ed7953"
             ],
             [
              0.7777777777777778,
              "#fb9f3a"
             ],
             [
              0.8888888888888888,
              "#fdca26"
             ],
             [
              1,
              "#f0f921"
             ]
            ],
            "type": "contour"
           }
          ],
          "contourcarpet": [
           {
            "colorbar": {
             "outlinewidth": 0,
             "ticks": ""
            },
            "type": "contourcarpet"
           }
          ],
          "heatmap": [
           {
            "colorbar": {
             "outlinewidth": 0,
             "ticks": ""
            },
            "colorscale": [
             [
              0,
              "#0d0887"
             ],
             [
              0.1111111111111111,
              "#46039f"
             ],
             [
              0.2222222222222222,
              "#7201a8"
             ],
             [
              0.3333333333333333,
              "#9c179e"
             ],
             [
              0.4444444444444444,
              "#bd3786"
             ],
             [
              0.5555555555555556,
              "#d8576b"
             ],
             [
              0.6666666666666666,
              "#ed7953"
             ],
             [
              0.7777777777777778,
              "#fb9f3a"
             ],
             [
              0.8888888888888888,
              "#fdca26"
             ],
             [
              1,
              "#f0f921"
             ]
            ],
            "type": "heatmap"
           }
          ],
          "heatmapgl": [
           {
            "colorbar": {
             "outlinewidth": 0,
             "ticks": ""
            },
            "colorscale": [
             [
              0,
              "#0d0887"
             ],
             [
              0.1111111111111111,
              "#46039f"
             ],
             [
              0.2222222222222222,
              "#7201a8"
             ],
             [
              0.3333333333333333,
              "#9c179e"
             ],
             [
              0.4444444444444444,
              "#bd3786"
             ],
             [
              0.5555555555555556,
              "#d8576b"
             ],
             [
              0.6666666666666666,
              "#ed7953"
             ],
             [
              0.7777777777777778,
              "#fb9f3a"
             ],
             [
              0.8888888888888888,
              "#fdca26"
             ],
             [
              1,
              "#f0f921"
             ]
            ],
            "type": "heatmapgl"
           }
          ],
          "histogram": [
           {
            "marker": {
             "pattern": {
              "fillmode": "overlay",
              "size": 10,
              "solidity": 0.2
             }
            },
            "type": "histogram"
           }
          ],
          "histogram2d": [
           {
            "colorbar": {
             "outlinewidth": 0,
             "ticks": ""
            },
            "colorscale": [
             [
              0,
              "#0d0887"
             ],
             [
              0.1111111111111111,
              "#46039f"
             ],
             [
              0.2222222222222222,
              "#7201a8"
             ],
             [
              0.3333333333333333,
              "#9c179e"
             ],
             [
              0.4444444444444444,
              "#bd3786"
             ],
             [
              0.5555555555555556,
              "#d8576b"
             ],
             [
              0.6666666666666666,
              "#ed7953"
             ],
             [
              0.7777777777777778,
              "#fb9f3a"
             ],
             [
              0.8888888888888888,
              "#fdca26"
             ],
             [
              1,
              "#f0f921"
             ]
            ],
            "type": "histogram2d"
           }
          ],
          "histogram2dcontour": [
           {
            "colorbar": {
             "outlinewidth": 0,
             "ticks": ""
            },
            "colorscale": [
             [
              0,
              "#0d0887"
             ],
             [
              0.1111111111111111,
              "#46039f"
             ],
             [
              0.2222222222222222,
              "#7201a8"
             ],
             [
              0.3333333333333333,
              "#9c179e"
             ],
             [
              0.4444444444444444,
              "#bd3786"
             ],
             [
              0.5555555555555556,
              "#d8576b"
             ],
             [
              0.6666666666666666,
              "#ed7953"
             ],
             [
              0.7777777777777778,
              "#fb9f3a"
             ],
             [
              0.8888888888888888,
              "#fdca26"
             ],
             [
              1,
              "#f0f921"
             ]
            ],
            "type": "histogram2dcontour"
           }
          ],
          "mesh3d": [
           {
            "colorbar": {
             "outlinewidth": 0,
             "ticks": ""
            },
            "type": "mesh3d"
           }
          ],
          "parcoords": [
           {
            "line": {
             "colorbar": {
              "outlinewidth": 0,
              "ticks": ""
             }
            },
            "type": "parcoords"
           }
          ],
          "pie": [
           {
            "automargin": true,
            "type": "pie"
           }
          ],
          "scatter": [
           {
            "fillpattern": {
             "fillmode": "overlay",
             "size": 10,
             "solidity": 0.2
            },
            "type": "scatter"
           }
          ],
          "scatter3d": [
           {
            "line": {
             "colorbar": {
              "outlinewidth": 0,
              "ticks": ""
             }
            },
            "marker": {
             "colorbar": {
              "outlinewidth": 0,
              "ticks": ""
             }
            },
            "type": "scatter3d"
           }
          ],
          "scattercarpet": [
           {
            "marker": {
             "colorbar": {
              "outlinewidth": 0,
              "ticks": ""
             }
            },
            "type": "scattercarpet"
           }
          ],
          "scattergeo": [
           {
            "marker": {
             "colorbar": {
              "outlinewidth": 0,
              "ticks": ""
             }
            },
            "type": "scattergeo"
           }
          ],
          "scattergl": [
           {
            "marker": {
             "colorbar": {
              "outlinewidth": 0,
              "ticks": ""
             }
            },
            "type": "scattergl"
           }
          ],
          "scattermapbox": [
           {
            "marker": {
             "colorbar": {
              "outlinewidth": 0,
              "ticks": ""
             }
            },
            "type": "scattermapbox"
           }
          ],
          "scatterpolar": [
           {
            "marker": {
             "colorbar": {
              "outlinewidth": 0,
              "ticks": ""
             }
            },
            "type": "scatterpolar"
           }
          ],
          "scatterpolargl": [
           {
            "marker": {
             "colorbar": {
              "outlinewidth": 0,
              "ticks": ""
             }
            },
            "type": "scatterpolargl"
           }
          ],
          "scatterternary": [
           {
            "marker": {
             "colorbar": {
              "outlinewidth": 0,
              "ticks": ""
             }
            },
            "type": "scatterternary"
           }
          ],
          "surface": [
           {
            "colorbar": {
             "outlinewidth": 0,
             "ticks": ""
            },
            "colorscale": [
             [
              0,
              "#0d0887"
             ],
             [
              0.1111111111111111,
              "#46039f"
             ],
             [
              0.2222222222222222,
              "#7201a8"
             ],
             [
              0.3333333333333333,
              "#9c179e"
             ],
             [
              0.4444444444444444,
              "#bd3786"
             ],
             [
              0.5555555555555556,
              "#d8576b"
             ],
             [
              0.6666666666666666,
              "#ed7953"
             ],
             [
              0.7777777777777778,
              "#fb9f3a"
             ],
             [
              0.8888888888888888,
              "#fdca26"
             ],
             [
              1,
              "#f0f921"
             ]
            ],
            "type": "surface"
           }
          ],
          "table": [
           {
            "cells": {
             "fill": {
              "color": "#EBF0F8"
             },
             "line": {
              "color": "white"
             }
            },
            "header": {
             "fill": {
              "color": "#C8D4E3"
             },
             "line": {
              "color": "white"
             }
            },
            "type": "table"
           }
          ]
         },
         "layout": {
          "annotationdefaults": {
           "arrowcolor": "#2a3f5f",
           "arrowhead": 0,
           "arrowwidth": 1
          },
          "autotypenumbers": "strict",
          "coloraxis": {
           "colorbar": {
            "outlinewidth": 0,
            "ticks": ""
           }
          },
          "colorscale": {
           "diverging": [
            [
             0,
             "#8e0152"
            ],
            [
             0.1,
             "#c51b7d"
            ],
            [
             0.2,
             "#de77ae"
            ],
            [
             0.3,
             "#f1b6da"
            ],
            [
             0.4,
             "#fde0ef"
            ],
            [
             0.5,
             "#f7f7f7"
            ],
            [
             0.6,
             "#e6f5d0"
            ],
            [
             0.7,
             "#b8e186"
            ],
            [
             0.8,
             "#7fbc41"
            ],
            [
             0.9,
             "#4d9221"
            ],
            [
             1,
             "#276419"
            ]
           ],
           "sequential": [
            [
             0,
             "#0d0887"
            ],
            [
             0.1111111111111111,
             "#46039f"
            ],
            [
             0.2222222222222222,
             "#7201a8"
            ],
            [
             0.3333333333333333,
             "#9c179e"
            ],
            [
             0.4444444444444444,
             "#bd3786"
            ],
            [
             0.5555555555555556,
             "#d8576b"
            ],
            [
             0.6666666666666666,
             "#ed7953"
            ],
            [
             0.7777777777777778,
             "#fb9f3a"
            ],
            [
             0.8888888888888888,
             "#fdca26"
            ],
            [
             1,
             "#f0f921"
            ]
           ],
           "sequentialminus": [
            [
             0,
             "#0d0887"
            ],
            [
             0.1111111111111111,
             "#46039f"
            ],
            [
             0.2222222222222222,
             "#7201a8"
            ],
            [
             0.3333333333333333,
             "#9c179e"
            ],
            [
             0.4444444444444444,
             "#bd3786"
            ],
            [
             0.5555555555555556,
             "#d8576b"
            ],
            [
             0.6666666666666666,
             "#ed7953"
            ],
            [
             0.7777777777777778,
             "#fb9f3a"
            ],
            [
             0.8888888888888888,
             "#fdca26"
            ],
            [
             1,
             "#f0f921"
            ]
           ]
          },
          "colorway": [
           "#636efa",
           "#EF553B",
           "#00cc96",
           "#ab63fa",
           "#FFA15A",
           "#19d3f3",
           "#FF6692",
           "#B6E880",
           "#FF97FF",
           "#FECB52"
          ],
          "font": {
           "color": "#2a3f5f"
          },
          "geo": {
           "bgcolor": "white",
           "lakecolor": "white",
           "landcolor": "#E5ECF6",
           "showlakes": true,
           "showland": true,
           "subunitcolor": "white"
          },
          "hoverlabel": {
           "align": "left"
          },
          "hovermode": "closest",
          "mapbox": {
           "style": "light"
          },
          "paper_bgcolor": "white",
          "plot_bgcolor": "#E5ECF6",
          "polar": {
           "angularaxis": {
            "gridcolor": "white",
            "linecolor": "white",
            "ticks": ""
           },
           "bgcolor": "#E5ECF6",
           "radialaxis": {
            "gridcolor": "white",
            "linecolor": "white",
            "ticks": ""
           }
          },
          "scene": {
           "xaxis": {
            "backgroundcolor": "#E5ECF6",
            "gridcolor": "white",
            "gridwidth": 2,
            "linecolor": "white",
            "showbackground": true,
            "ticks": "",
            "zerolinecolor": "white"
           },
           "yaxis": {
            "backgroundcolor": "#E5ECF6",
            "gridcolor": "white",
            "gridwidth": 2,
            "linecolor": "white",
            "showbackground": true,
            "ticks": "",
            "zerolinecolor": "white"
           },
           "zaxis": {
            "backgroundcolor": "#E5ECF6",
            "gridcolor": "white",
            "gridwidth": 2,
            "linecolor": "white",
            "showbackground": true,
            "ticks": "",
            "zerolinecolor": "white"
           }
          },
          "shapedefaults": {
           "line": {
            "color": "#2a3f5f"
           }
          },
          "ternary": {
           "aaxis": {
            "gridcolor": "white",
            "linecolor": "white",
            "ticks": ""
           },
           "baxis": {
            "gridcolor": "white",
            "linecolor": "white",
            "ticks": ""
           },
           "bgcolor": "#E5ECF6",
           "caxis": {
            "gridcolor": "white",
            "linecolor": "white",
            "ticks": ""
           }
          },
          "title": {
           "x": 0.05
          },
          "xaxis": {
           "automargin": true,
           "gridcolor": "white",
           "linecolor": "white",
           "ticks": "",
           "title": {
            "standoff": 15
           },
           "zerolinecolor": "white",
           "zerolinewidth": 2
          },
          "yaxis": {
           "automargin": true,
           "gridcolor": "white",
           "linecolor": "white",
           "ticks": "",
           "title": {
            "standoff": 15
           },
           "zerolinecolor": "white",
           "zerolinewidth": 2
          }
         }
        },
        "width": 500,
        "xaxis": {
         "anchor": "y",
         "domain": [
          0,
          1
         ],
         "title": {
          "text": "Government"
         }
        },
        "yaxis": {
         "anchor": "x",
         "domain": [
          0,
          1
         ],
         "title": {
          "text": "2021"
         }
        }
       }
      }
     },
     "metadata": {},
     "output_type": "display_data"
    },
    {
     "data": {
      "application/vnd.plotly.v1+json": {
       "config": {
        "plotlyServerURL": "https://plot.ly"
       },
       "data": [
        {
         "hovertemplate": "<b>%{hovertext}</b><br><br>Participate=%{x}<br>2021=%{y}<extra></extra>",
         "hovertext": [
          "Norway",
          "New Zealand",
          "Finland",
          "Sweden",
          "Iceland",
          "Denmark",
          "Ireland",
          "Taiwan",
          "Australia",
          "Switzerland",
          "Netherlands",
          "Canada",
          "Uruguay",
          "Luxembourg",
          "Germany",
          "South Korea",
          "Japan",
          "United Kingdom",
          "Mauritius",
          "Costa Rica",
          "Austria",
          "France",
          "Israel",
          "Spain",
          "Chile",
          "United States",
          "Estonia",
          "Portugal",
          "Czech Republic",
          "Botswana",
          "Italy",
          "Cape Verde",
          "Malta",
          "Greece",
          "Slovenia",
          "Belgium",
          "Cyprus",
          "Latvia",
          "Malaysia",
          "Lithuania",
          "Trinidad and Tobago",
          "Jamaica",
          "East Timor",
          "South Africa",
          "Slovakia",
          "India",
          "Brazil",
          "Panama",
          "Suriname",
          "Argentina",
          "Poland",
          "Indonesia",
          "Bulgaria",
          "Philippines",
          "Namibia",
          "Ghana",
          "Croatia",
          "Hungary",
          "Colombia",
          "Dominican Republic",
          "Romania",
          "Mongolia",
          "Serbia",
          "Lesotho",
          "Guyana",
          "Singapore",
          "Sri Lanka",
          "Albania",
          "Papua New Guinea",
          "Moldova",
          "Peru",
          "Thailand",
          "North Macedonia",
          "Montenegro",
          "Tunisia",
          "Bangladesh",
          "Paraguay",
          "Malawi",
          "Zambia",
          "El Salvador",
          "Bhutan",
          "Ecuador",
          "Madagascar",
          "Fiji",
          "Hong Kong",
          "Mexico",
          "Ukraine",
          "Senegal",
          "Armenia",
          "Liberia",
          "Georgia",
          "Honduras",
          "Tanzania",
          "Kenya",
          "Bosnia and Herzegovina",
          "Morocco",
          "Sierra Leone",
          "Bolivia",
          "Guatemala",
          "Uganda",
          "Gambia",
          "Nepal",
          "Turkey",
          "Pakistan",
          "Ivory Coast",
          "Benin",
          "Nigeria",
          "Mauritania",
          "Palestine",
          "Kuwait",
          "Lebanon",
          "Burkina Faso",
          "Algeria",
          "Qatar",
          "Kyrgyzstan",
          "Mozambique",
          "Iraq",
          "Jordan",
          "Mali",
          "Haiti",
          "Gabon",
          "Angola",
          "Ethiopia",
          "Russia",
          "Niger",
          "Comoros",
          "Rwanda",
          "Kazakhstan",
          "Eswatini",
          "Oman",
          "Vietnam",
          "Egypt",
          "Zimbabwe",
          "Cambodia",
          "United Arab Emirates",
          "Togo",
          "Republic of the Congo",
          "Guinea-Bissau",
          "Djibouti",
          "Nicaragua",
          "Azerbaijan",
          "Cuba",
          "Cameroon",
          "Bahrain",
          "Sudan",
          "Belarus",
          "Guinea",
          "China",
          "Burundi",
          "Uzbekistan",
          "Venezuela",
          "Saudi Arabia",
          "Eritrea",
          "Libya",
          "Yemen",
          "Iran",
          "Tajikistan",
          "Equatorial Guinea",
          "Laos",
          "Chad",
          "Turkmenistan",
          "Syria",
          "Central African Republic",
          "Democratic Republic of the Congo",
          "North Korea",
          "Myanmar",
          "Afghanistan"
         ],
         "legendgroup": "",
         "marker": {
          "color": "#636efa",
          "symbol": "circle"
         },
         "mode": "markers",
         "name": "",
         "orientation": "v",
         "showlegend": false,
         "type": "scatter",
         "x": [
          10,
          9.44,
          8.89,
          8.33,
          8.89,
          8.33,
          8.33,
          7.78,
          7.78,
          7.78,
          8.33,
          8.89,
          7.22,
          6.67,
          8.33,
          7.22,
          6.67,
          8.33,
          6.11,
          8.89,
          7.78,
          7.78,
          10,
          7.22,
          5.56,
          8.89,
          6.67,
          6.67,
          6.67,
          6.67,
          7.22,
          6.67,
          5.56,
          6.11,
          7.22,
          5,
          7.22,
          6.11,
          7.22,
          6.11,
          6.11,
          5,
          5.56,
          8.33,
          5.56,
          7.22,
          6.11,
          7.22,
          6.11,
          7.22,
          6.67,
          6.11,
          7.22,
          7.78,
          6.67,
          6.67,
          6.67,
          6.67,
          6.11,
          6.67,
          6.67,
          6.11,
          6.67,
          6.11,
          5.56,
          4.44,
          5.56,
          4.44,
          6.67,
          6.67,
          5.56,
          6.67,
          6.11,
          6.67,
          5.56,
          5.56,
          5,
          5,
          5.56,
          5.56,
          3.33,
          3.33,
          6.67,
          5.56,
          5.56,
          7.22,
          7.22,
          4.44,
          6.11,
          6.11,
          5.56,
          4.44,
          4.44,
          6.67,
          5.56,
          5.56,
          3.89,
          6.11,
          3.89,
          3.89,
          4.44,
          4.44,
          5.56,
          3.33,
          4.44,
          3.89,
          3.89,
          5.56,
          8.33,
          4.44,
          5,
          5,
          4.44,
          3.33,
          4.44,
          6.11,
          6.11,
          3.89,
          2.78,
          2.78,
          4.44,
          5,
          6.11,
          4.44,
          3.89,
          4.44,
          2.78,
          2.78,
          2.78,
          2.78,
          3.89,
          3.33,
          3.89,
          3.89,
          3.89,
          3.33,
          4.44,
          3.33,
          4.44,
          3.33,
          3.33,
          3.33,
          3.89,
          3.33,
          4.44,
          3.89,
          3.33,
          2.78,
          3.89,
          2.78,
          3.89,
          2.22,
          0.56,
          3.33,
          3.33,
          3.33,
          2.22,
          3.33,
          1.67,
          2.22,
          2.22,
          2.78,
          2.78,
          2.22,
          1.67,
          1.67,
          0.07
         ],
         "xaxis": "x",
         "y": [
          9.75,
          9.37,
          9.27,
          9.26,
          9.18,
          9.09,
          9,
          8.99,
          8.9,
          8.9,
          8.88,
          8.87,
          8.85,
          8.68,
          8.67,
          8.16,
          8.15,
          8.1,
          8.08,
          8.07,
          8.07,
          7.99,
          7.97,
          7.94,
          7.92,
          7.85,
          7.84,
          7.82,
          7.74,
          7.73,
          7.68,
          7.65,
          7.57,
          7.56,
          7.54,
          7.51,
          7.43,
          7.31,
          7.24,
          7.18,
          7.16,
          7.13,
          7.06,
          7.05,
          7.03,
          6.91,
          6.86,
          6.85,
          6.82,
          6.81,
          6.8,
          6.71,
          6.64,
          6.62,
          6.52,
          6.5,
          6.5,
          6.5,
          6.48,
          6.45,
          6.43,
          6.42,
          6.36,
          6.3,
          6.25,
          6.23,
          6.14,
          6.11,
          6.1,
          6.1,
          6.09,
          6.04,
          6.03,
          6.02,
          5.99,
          5.99,
          5.86,
          5.74,
          5.72,
          5.72,
          5.71,
          5.71,
          5.7,
          5.61,
          5.6,
          5.57,
          5.57,
          5.53,
          5.49,
          5.43,
          5.12,
          5.1,
          5.1,
          5.05,
          5.04,
          5.04,
          4.97,
          4.65,
          4.62,
          4.48,
          4.41,
          4.41,
          4.35,
          4.31,
          4.22,
          4.19,
          4.11,
          4.03,
          3.94,
          3.91,
          3.84,
          3.84,
          3.77,
          3.65,
          3.62,
          3.51,
          3.51,
          3.49,
          3.48,
          3.48,
          3.4,
          3.37,
          3.3,
          3.24,
          3.22,
          3.2,
          3.1,
          3.08,
          3.08,
          3,
          2.94,
          2.93,
          2.92,
          2.9,
          2.9,
          2.8,
          2.79,
          2.75,
          2.74,
          2.69,
          2.68,
          2.59,
          2.56,
          2.52,
          2.47,
          2.41,
          2.28,
          2.21,
          2.13,
          2.12,
          2.11,
          2.08,
          2.03,
          1.95,
          1.95,
          1.95,
          1.94,
          1.92,
          1.77,
          1.67,
          1.66,
          1.43,
          1.43,
          1.4,
          1.08,
          1.02,
          0.32
         ],
         "yaxis": "y"
        },
        {
         "hovertemplate": "<b>OLS trendline</b><br>2021 = 1.03056 * Participate + -0.259267<br>R<sup>2</sup>=0.765760<br><br>Participate=%{x}<br>2021=%{y} <b>(trend)</b><extra></extra>",
         "legendgroup": "",
         "line": {
          "color": "red"
         },
         "marker": {
          "color": "#636efa",
          "symbol": "circle"
         },
         "mode": "lines",
         "name": "",
         "showlegend": false,
         "type": "scatter",
         "x": [
          0.07,
          0.56,
          1.67,
          1.67,
          1.67,
          2.22,
          2.22,
          2.22,
          2.22,
          2.22,
          2.78,
          2.78,
          2.78,
          2.78,
          2.78,
          2.78,
          2.78,
          2.78,
          2.78,
          2.78,
          3.33,
          3.33,
          3.33,
          3.33,
          3.33,
          3.33,
          3.33,
          3.33,
          3.33,
          3.33,
          3.33,
          3.33,
          3.33,
          3.33,
          3.33,
          3.33,
          3.89,
          3.89,
          3.89,
          3.89,
          3.89,
          3.89,
          3.89,
          3.89,
          3.89,
          3.89,
          3.89,
          3.89,
          3.89,
          3.89,
          3.89,
          4.44,
          4.44,
          4.44,
          4.44,
          4.44,
          4.44,
          4.44,
          4.44,
          4.44,
          4.44,
          4.44,
          4.44,
          4.44,
          4.44,
          4.44,
          4.44,
          4.44,
          5,
          5,
          5,
          5,
          5,
          5,
          5,
          5.56,
          5.56,
          5.56,
          5.56,
          5.56,
          5.56,
          5.56,
          5.56,
          5.56,
          5.56,
          5.56,
          5.56,
          5.56,
          5.56,
          5.56,
          5.56,
          5.56,
          5.56,
          6.11,
          6.11,
          6.11,
          6.11,
          6.11,
          6.11,
          6.11,
          6.11,
          6.11,
          6.11,
          6.11,
          6.11,
          6.11,
          6.11,
          6.11,
          6.11,
          6.11,
          6.11,
          6.67,
          6.67,
          6.67,
          6.67,
          6.67,
          6.67,
          6.67,
          6.67,
          6.67,
          6.67,
          6.67,
          6.67,
          6.67,
          6.67,
          6.67,
          6.67,
          6.67,
          6.67,
          6.67,
          6.67,
          6.67,
          7.22,
          7.22,
          7.22,
          7.22,
          7.22,
          7.22,
          7.22,
          7.22,
          7.22,
          7.22,
          7.22,
          7.22,
          7.22,
          7.78,
          7.78,
          7.78,
          7.78,
          7.78,
          7.78,
          8.33,
          8.33,
          8.33,
          8.33,
          8.33,
          8.33,
          8.33,
          8.33,
          8.89,
          8.89,
          8.89,
          8.89,
          8.89,
          9.44,
          10,
          10
         ],
         "xaxis": "x",
         "y": [
          -0.1871274139049306,
          0.31784655950826857,
          1.4617671931585767,
          1.4617671931585767,
          1.4617671931585767,
          2.0285747143366573,
          2.0285747143366573,
          2.0285747143366573,
          2.0285747143366573,
          2.0285747143366573,
          2.605687826808885,
          2.605687826808885,
          2.605687826808885,
          2.605687826808885,
          2.605687826808885,
          2.605687826808885,
          2.605687826808885,
          2.605687826808885,
          2.605687826808885,
          2.605687826808885,
          3.172495347986966,
          3.172495347986966,
          3.172495347986966,
          3.172495347986966,
          3.172495347986966,
          3.172495347986966,
          3.172495347986966,
          3.172495347986966,
          3.172495347986966,
          3.172495347986966,
          3.172495347986966,
          3.172495347986966,
          3.172495347986966,
          3.172495347986966,
          3.172495347986966,
          3.172495347986966,
          3.749608460459193,
          3.749608460459193,
          3.749608460459193,
          3.749608460459193,
          3.749608460459193,
          3.749608460459193,
          3.749608460459193,
          3.749608460459193,
          3.749608460459193,
          3.749608460459193,
          3.749608460459193,
          3.749608460459193,
          3.749608460459193,
          3.749608460459193,
          3.749608460459193,
          4.316415981637274,
          4.316415981637274,
          4.316415981637274,
          4.316415981637274,
          4.316415981637274,
          4.316415981637274,
          4.316415981637274,
          4.316415981637274,
          4.316415981637274,
          4.316415981637274,
          4.316415981637274,
          4.316415981637274,
          4.316415981637274,
          4.316415981637274,
          4.316415981637274,
          4.316415981637274,
          4.316415981637274,
          4.8935290941095015,
          4.8935290941095015,
          4.8935290941095015,
          4.8935290941095015,
          4.8935290941095015,
          4.8935290941095015,
          4.8935290941095015,
          5.470642206581728,
          5.470642206581728,
          5.470642206581728,
          5.470642206581728,
          5.470642206581728,
          5.470642206581728,
          5.470642206581728,
          5.470642206581728,
          5.470642206581728,
          5.470642206581728,
          5.470642206581728,
          5.470642206581728,
          5.470642206581728,
          5.470642206581728,
          5.470642206581728,
          5.470642206581728,
          5.470642206581728,
          5.470642206581728,
          6.037449727759809,
          6.037449727759809,
          6.037449727759809,
          6.037449727759809,
          6.037449727759809,
          6.037449727759809,
          6.037449727759809,
          6.037449727759809,
          6.037449727759809,
          6.037449727759809,
          6.037449727759809,
          6.037449727759809,
          6.037449727759809,
          6.037449727759809,
          6.037449727759809,
          6.037449727759809,
          6.037449727759809,
          6.037449727759809,
          6.614562840232037,
          6.614562840232037,
          6.614562840232037,
          6.614562840232037,
          6.614562840232037,
          6.614562840232037,
          6.614562840232037,
          6.614562840232037,
          6.614562840232037,
          6.614562840232037,
          6.614562840232037,
          6.614562840232037,
          6.614562840232037,
          6.614562840232037,
          6.614562840232037,
          6.614562840232037,
          6.614562840232037,
          6.614562840232037,
          6.614562840232037,
          6.614562840232037,
          6.614562840232037,
          7.181370361410117,
          7.181370361410117,
          7.181370361410117,
          7.181370361410117,
          7.181370361410117,
          7.181370361410117,
          7.181370361410117,
          7.181370361410117,
          7.181370361410117,
          7.181370361410117,
          7.181370361410117,
          7.181370361410117,
          7.181370361410117,
          7.758483473882345,
          7.758483473882345,
          7.758483473882345,
          7.758483473882345,
          7.758483473882345,
          7.758483473882345,
          8.325290995060426,
          8.325290995060426,
          8.325290995060426,
          8.325290995060426,
          8.325290995060426,
          8.325290995060426,
          8.325290995060426,
          8.325290995060426,
          8.902404107532654,
          8.902404107532654,
          8.902404107532654,
          8.902404107532654,
          8.902404107532654,
          9.469211628710733,
          10.046324741182962,
          10.046324741182962
         ],
         "yaxis": "y"
        }
       ],
       "layout": {
        "height": 300,
        "legend": {
         "tracegroupgap": 0
        },
        "margin": {
         "t": 60
        },
        "template": {
         "data": {
          "bar": [
           {
            "error_x": {
             "color": "#2a3f5f"
            },
            "error_y": {
             "color": "#2a3f5f"
            },
            "marker": {
             "line": {
              "color": "#E5ECF6",
              "width": 0.5
             },
             "pattern": {
              "fillmode": "overlay",
              "size": 10,
              "solidity": 0.2
             }
            },
            "type": "bar"
           }
          ],
          "barpolar": [
           {
            "marker": {
             "line": {
              "color": "#E5ECF6",
              "width": 0.5
             },
             "pattern": {
              "fillmode": "overlay",
              "size": 10,
              "solidity": 0.2
             }
            },
            "type": "barpolar"
           }
          ],
          "carpet": [
           {
            "aaxis": {
             "endlinecolor": "#2a3f5f",
             "gridcolor": "white",
             "linecolor": "white",
             "minorgridcolor": "white",
             "startlinecolor": "#2a3f5f"
            },
            "baxis": {
             "endlinecolor": "#2a3f5f",
             "gridcolor": "white",
             "linecolor": "white",
             "minorgridcolor": "white",
             "startlinecolor": "#2a3f5f"
            },
            "type": "carpet"
           }
          ],
          "choropleth": [
           {
            "colorbar": {
             "outlinewidth": 0,
             "ticks": ""
            },
            "type": "choropleth"
           }
          ],
          "contour": [
           {
            "colorbar": {
             "outlinewidth": 0,
             "ticks": ""
            },
            "colorscale": [
             [
              0,
              "#0d0887"
             ],
             [
              0.1111111111111111,
              "#46039f"
             ],
             [
              0.2222222222222222,
              "#7201a8"
             ],
             [
              0.3333333333333333,
              "#9c179e"
             ],
             [
              0.4444444444444444,
              "#bd3786"
             ],
             [
              0.5555555555555556,
              "#d8576b"
             ],
             [
              0.6666666666666666,
              "#ed7953"
             ],
             [
              0.7777777777777778,
              "#fb9f3a"
             ],
             [
              0.8888888888888888,
              "#fdca26"
             ],
             [
              1,
              "#f0f921"
             ]
            ],
            "type": "contour"
           }
          ],
          "contourcarpet": [
           {
            "colorbar": {
             "outlinewidth": 0,
             "ticks": ""
            },
            "type": "contourcarpet"
           }
          ],
          "heatmap": [
           {
            "colorbar": {
             "outlinewidth": 0,
             "ticks": ""
            },
            "colorscale": [
             [
              0,
              "#0d0887"
             ],
             [
              0.1111111111111111,
              "#46039f"
             ],
             [
              0.2222222222222222,
              "#7201a8"
             ],
             [
              0.3333333333333333,
              "#9c179e"
             ],
             [
              0.4444444444444444,
              "#bd3786"
             ],
             [
              0.5555555555555556,
              "#d8576b"
             ],
             [
              0.6666666666666666,
              "#ed7953"
             ],
             [
              0.7777777777777778,
              "#fb9f3a"
             ],
             [
              0.8888888888888888,
              "#fdca26"
             ],
             [
              1,
              "#f0f921"
             ]
            ],
            "type": "heatmap"
           }
          ],
          "heatmapgl": [
           {
            "colorbar": {
             "outlinewidth": 0,
             "ticks": ""
            },
            "colorscale": [
             [
              0,
              "#0d0887"
             ],
             [
              0.1111111111111111,
              "#46039f"
             ],
             [
              0.2222222222222222,
              "#7201a8"
             ],
             [
              0.3333333333333333,
              "#9c179e"
             ],
             [
              0.4444444444444444,
              "#bd3786"
             ],
             [
              0.5555555555555556,
              "#d8576b"
             ],
             [
              0.6666666666666666,
              "#ed7953"
             ],
             [
              0.7777777777777778,
              "#fb9f3a"
             ],
             [
              0.8888888888888888,
              "#fdca26"
             ],
             [
              1,
              "#f0f921"
             ]
            ],
            "type": "heatmapgl"
           }
          ],
          "histogram": [
           {
            "marker": {
             "pattern": {
              "fillmode": "overlay",
              "size": 10,
              "solidity": 0.2
             }
            },
            "type": "histogram"
           }
          ],
          "histogram2d": [
           {
            "colorbar": {
             "outlinewidth": 0,
             "ticks": ""
            },
            "colorscale": [
             [
              0,
              "#0d0887"
             ],
             [
              0.1111111111111111,
              "#46039f"
             ],
             [
              0.2222222222222222,
              "#7201a8"
             ],
             [
              0.3333333333333333,
              "#9c179e"
             ],
             [
              0.4444444444444444,
              "#bd3786"
             ],
             [
              0.5555555555555556,
              "#d8576b"
             ],
             [
              0.6666666666666666,
              "#ed7953"
             ],
             [
              0.7777777777777778,
              "#fb9f3a"
             ],
             [
              0.8888888888888888,
              "#fdca26"
             ],
             [
              1,
              "#f0f921"
             ]
            ],
            "type": "histogram2d"
           }
          ],
          "histogram2dcontour": [
           {
            "colorbar": {
             "outlinewidth": 0,
             "ticks": ""
            },
            "colorscale": [
             [
              0,
              "#0d0887"
             ],
             [
              0.1111111111111111,
              "#46039f"
             ],
             [
              0.2222222222222222,
              "#7201a8"
             ],
             [
              0.3333333333333333,
              "#9c179e"
             ],
             [
              0.4444444444444444,
              "#bd3786"
             ],
             [
              0.5555555555555556,
              "#d8576b"
             ],
             [
              0.6666666666666666,
              "#ed7953"
             ],
             [
              0.7777777777777778,
              "#fb9f3a"
             ],
             [
              0.8888888888888888,
              "#fdca26"
             ],
             [
              1,
              "#f0f921"
             ]
            ],
            "type": "histogram2dcontour"
           }
          ],
          "mesh3d": [
           {
            "colorbar": {
             "outlinewidth": 0,
             "ticks": ""
            },
            "type": "mesh3d"
           }
          ],
          "parcoords": [
           {
            "line": {
             "colorbar": {
              "outlinewidth": 0,
              "ticks": ""
             }
            },
            "type": "parcoords"
           }
          ],
          "pie": [
           {
            "automargin": true,
            "type": "pie"
           }
          ],
          "scatter": [
           {
            "fillpattern": {
             "fillmode": "overlay",
             "size": 10,
             "solidity": 0.2
            },
            "type": "scatter"
           }
          ],
          "scatter3d": [
           {
            "line": {
             "colorbar": {
              "outlinewidth": 0,
              "ticks": ""
             }
            },
            "marker": {
             "colorbar": {
              "outlinewidth": 0,
              "ticks": ""
             }
            },
            "type": "scatter3d"
           }
          ],
          "scattercarpet": [
           {
            "marker": {
             "colorbar": {
              "outlinewidth": 0,
              "ticks": ""
             }
            },
            "type": "scattercarpet"
           }
          ],
          "scattergeo": [
           {
            "marker": {
             "colorbar": {
              "outlinewidth": 0,
              "ticks": ""
             }
            },
            "type": "scattergeo"
           }
          ],
          "scattergl": [
           {
            "marker": {
             "colorbar": {
              "outlinewidth": 0,
              "ticks": ""
             }
            },
            "type": "scattergl"
           }
          ],
          "scattermapbox": [
           {
            "marker": {
             "colorbar": {
              "outlinewidth": 0,
              "ticks": ""
             }
            },
            "type": "scattermapbox"
           }
          ],
          "scatterpolar": [
           {
            "marker": {
             "colorbar": {
              "outlinewidth": 0,
              "ticks": ""
             }
            },
            "type": "scatterpolar"
           }
          ],
          "scatterpolargl": [
           {
            "marker": {
             "colorbar": {
              "outlinewidth": 0,
              "ticks": ""
             }
            },
            "type": "scatterpolargl"
           }
          ],
          "scatterternary": [
           {
            "marker": {
             "colorbar": {
              "outlinewidth": 0,
              "ticks": ""
             }
            },
            "type": "scatterternary"
           }
          ],
          "surface": [
           {
            "colorbar": {
             "outlinewidth": 0,
             "ticks": ""
            },
            "colorscale": [
             [
              0,
              "#0d0887"
             ],
             [
              0.1111111111111111,
              "#46039f"
             ],
             [
              0.2222222222222222,
              "#7201a8"
             ],
             [
              0.3333333333333333,
              "#9c179e"
             ],
             [
              0.4444444444444444,
              "#bd3786"
             ],
             [
              0.5555555555555556,
              "#d8576b"
             ],
             [
              0.6666666666666666,
              "#ed7953"
             ],
             [
              0.7777777777777778,
              "#fb9f3a"
             ],
             [
              0.8888888888888888,
              "#fdca26"
             ],
             [
              1,
              "#f0f921"
             ]
            ],
            "type": "surface"
           }
          ],
          "table": [
           {
            "cells": {
             "fill": {
              "color": "#EBF0F8"
             },
             "line": {
              "color": "white"
             }
            },
            "header": {
             "fill": {
              "color": "#C8D4E3"
             },
             "line": {
              "color": "white"
             }
            },
            "type": "table"
           }
          ]
         },
         "layout": {
          "annotationdefaults": {
           "arrowcolor": "#2a3f5f",
           "arrowhead": 0,
           "arrowwidth": 1
          },
          "autotypenumbers": "strict",
          "coloraxis": {
           "colorbar": {
            "outlinewidth": 0,
            "ticks": ""
           }
          },
          "colorscale": {
           "diverging": [
            [
             0,
             "#8e0152"
            ],
            [
             0.1,
             "#c51b7d"
            ],
            [
             0.2,
             "#de77ae"
            ],
            [
             0.3,
             "#f1b6da"
            ],
            [
             0.4,
             "#fde0ef"
            ],
            [
             0.5,
             "#f7f7f7"
            ],
            [
             0.6,
             "#e6f5d0"
            ],
            [
             0.7,
             "#b8e186"
            ],
            [
             0.8,
             "#7fbc41"
            ],
            [
             0.9,
             "#4d9221"
            ],
            [
             1,
             "#276419"
            ]
           ],
           "sequential": [
            [
             0,
             "#0d0887"
            ],
            [
             0.1111111111111111,
             "#46039f"
            ],
            [
             0.2222222222222222,
             "#7201a8"
            ],
            [
             0.3333333333333333,
             "#9c179e"
            ],
            [
             0.4444444444444444,
             "#bd3786"
            ],
            [
             0.5555555555555556,
             "#d8576b"
            ],
            [
             0.6666666666666666,
             "#ed7953"
            ],
            [
             0.7777777777777778,
             "#fb9f3a"
            ],
            [
             0.8888888888888888,
             "#fdca26"
            ],
            [
             1,
             "#f0f921"
            ]
           ],
           "sequentialminus": [
            [
             0,
             "#0d0887"
            ],
            [
             0.1111111111111111,
             "#46039f"
            ],
            [
             0.2222222222222222,
             "#7201a8"
            ],
            [
             0.3333333333333333,
             "#9c179e"
            ],
            [
             0.4444444444444444,
             "#bd3786"
            ],
            [
             0.5555555555555556,
             "#d8576b"
            ],
            [
             0.6666666666666666,
             "#ed7953"
            ],
            [
             0.7777777777777778,
             "#fb9f3a"
            ],
            [
             0.8888888888888888,
             "#fdca26"
            ],
            [
             1,
             "#f0f921"
            ]
           ]
          },
          "colorway": [
           "#636efa",
           "#EF553B",
           "#00cc96",
           "#ab63fa",
           "#FFA15A",
           "#19d3f3",
           "#FF6692",
           "#B6E880",
           "#FF97FF",
           "#FECB52"
          ],
          "font": {
           "color": "#2a3f5f"
          },
          "geo": {
           "bgcolor": "white",
           "lakecolor": "white",
           "landcolor": "#E5ECF6",
           "showlakes": true,
           "showland": true,
           "subunitcolor": "white"
          },
          "hoverlabel": {
           "align": "left"
          },
          "hovermode": "closest",
          "mapbox": {
           "style": "light"
          },
          "paper_bgcolor": "white",
          "plot_bgcolor": "#E5ECF6",
          "polar": {
           "angularaxis": {
            "gridcolor": "white",
            "linecolor": "white",
            "ticks": ""
           },
           "bgcolor": "#E5ECF6",
           "radialaxis": {
            "gridcolor": "white",
            "linecolor": "white",
            "ticks": ""
           }
          },
          "scene": {
           "xaxis": {
            "backgroundcolor": "#E5ECF6",
            "gridcolor": "white",
            "gridwidth": 2,
            "linecolor": "white",
            "showbackground": true,
            "ticks": "",
            "zerolinecolor": "white"
           },
           "yaxis": {
            "backgroundcolor": "#E5ECF6",
            "gridcolor": "white",
            "gridwidth": 2,
            "linecolor": "white",
            "showbackground": true,
            "ticks": "",
            "zerolinecolor": "white"
           },
           "zaxis": {
            "backgroundcolor": "#E5ECF6",
            "gridcolor": "white",
            "gridwidth": 2,
            "linecolor": "white",
            "showbackground": true,
            "ticks": "",
            "zerolinecolor": "white"
           }
          },
          "shapedefaults": {
           "line": {
            "color": "#2a3f5f"
           }
          },
          "ternary": {
           "aaxis": {
            "gridcolor": "white",
            "linecolor": "white",
            "ticks": ""
           },
           "baxis": {
            "gridcolor": "white",
            "linecolor": "white",
            "ticks": ""
           },
           "bgcolor": "#E5ECF6",
           "caxis": {
            "gridcolor": "white",
            "linecolor": "white",
            "ticks": ""
           }
          },
          "title": {
           "x": 0.05
          },
          "xaxis": {
           "automargin": true,
           "gridcolor": "white",
           "linecolor": "white",
           "ticks": "",
           "title": {
            "standoff": 15
           },
           "zerolinecolor": "white",
           "zerolinewidth": 2
          },
          "yaxis": {
           "automargin": true,
           "gridcolor": "white",
           "linecolor": "white",
           "ticks": "",
           "title": {
            "standoff": 15
           },
           "zerolinecolor": "white",
           "zerolinewidth": 2
          }
         }
        },
        "width": 500,
        "xaxis": {
         "anchor": "y",
         "domain": [
          0,
          1
         ],
         "title": {
          "text": "Participate"
         }
        },
        "yaxis": {
         "anchor": "x",
         "domain": [
          0,
          1
         ],
         "title": {
          "text": "2021"
         }
        }
       }
      }
     },
     "metadata": {},
     "output_type": "display_data"
    },
    {
     "data": {
      "application/vnd.plotly.v1+json": {
       "config": {
        "plotlyServerURL": "https://plot.ly"
       },
       "data": [
        {
         "hovertemplate": "<b>%{hovertext}</b><br><br>Culture=%{x}<br>2021=%{y}<extra></extra>",
         "hovertext": [
          "Norway",
          "New Zealand",
          "Finland",
          "Sweden",
          "Iceland",
          "Denmark",
          "Ireland",
          "Taiwan",
          "Australia",
          "Switzerland",
          "Netherlands",
          "Canada",
          "Uruguay",
          "Luxembourg",
          "Germany",
          "South Korea",
          "Japan",
          "United Kingdom",
          "Mauritius",
          "Costa Rica",
          "Austria",
          "France",
          "Israel",
          "Spain",
          "Chile",
          "United States",
          "Estonia",
          "Portugal",
          "Czech Republic",
          "Botswana",
          "Italy",
          "Cape Verde",
          "Malta",
          "Greece",
          "Slovenia",
          "Belgium",
          "Cyprus",
          "Latvia",
          "Malaysia",
          "Lithuania",
          "Trinidad and Tobago",
          "Jamaica",
          "East Timor",
          "South Africa",
          "Slovakia",
          "India",
          "Brazil",
          "Panama",
          "Suriname",
          "Argentina",
          "Poland",
          "Indonesia",
          "Bulgaria",
          "Philippines",
          "Namibia",
          "Ghana",
          "Croatia",
          "Hungary",
          "Colombia",
          "Dominican Republic",
          "Romania",
          "Mongolia",
          "Serbia",
          "Lesotho",
          "Guyana",
          "Singapore",
          "Sri Lanka",
          "Albania",
          "Papua New Guinea",
          "Moldova",
          "Peru",
          "Thailand",
          "North Macedonia",
          "Montenegro",
          "Tunisia",
          "Bangladesh",
          "Paraguay",
          "Malawi",
          "Zambia",
          "El Salvador",
          "Bhutan",
          "Ecuador",
          "Madagascar",
          "Fiji",
          "Hong Kong",
          "Mexico",
          "Ukraine",
          "Senegal",
          "Armenia",
          "Liberia",
          "Georgia",
          "Honduras",
          "Tanzania",
          "Kenya",
          "Bosnia and Herzegovina",
          "Morocco",
          "Sierra Leone",
          "Bolivia",
          "Guatemala",
          "Uganda",
          "Gambia",
          "Nepal",
          "Turkey",
          "Pakistan",
          "Ivory Coast",
          "Benin",
          "Nigeria",
          "Mauritania",
          "Palestine",
          "Kuwait",
          "Lebanon",
          "Burkina Faso",
          "Algeria",
          "Qatar",
          "Kyrgyzstan",
          "Mozambique",
          "Iraq",
          "Jordan",
          "Mali",
          "Haiti",
          "Gabon",
          "Angola",
          "Ethiopia",
          "Russia",
          "Niger",
          "Comoros",
          "Rwanda",
          "Kazakhstan",
          "Eswatini",
          "Oman",
          "Vietnam",
          "Egypt",
          "Zimbabwe",
          "Cambodia",
          "United Arab Emirates",
          "Togo",
          "Republic of the Congo",
          "Guinea-Bissau",
          "Djibouti",
          "Nicaragua",
          "Azerbaijan",
          "Cuba",
          "Cameroon",
          "Bahrain",
          "Sudan",
          "Belarus",
          "Guinea",
          "China",
          "Burundi",
          "Uzbekistan",
          "Venezuela",
          "Saudi Arabia",
          "Eritrea",
          "Libya",
          "Yemen",
          "Iran",
          "Tajikistan",
          "Equatorial Guinea",
          "Laos",
          "Chad",
          "Turkmenistan",
          "Syria",
          "Central African Republic",
          "Democratic Republic of the Congo",
          "North Korea",
          "Myanmar",
          "Afghanistan"
         ],
         "legendgroup": "",
         "marker": {
          "color": "#636efa",
          "symbol": "circle"
         },
         "mode": "markers",
         "name": "",
         "orientation": "v",
         "showlegend": false,
         "type": "scatter",
         "x": [
          10,
          8.75,
          8.75,
          10,
          9.38,
          9.38,
          9.38,
          8.13,
          8.75,
          8.75,
          8.75,
          8.13,
          8.75,
          8.75,
          8.13,
          7.5,
          8.13,
          6.25,
          8.75,
          6.88,
          6.88,
          6.88,
          6.88,
          7.5,
          7.5,
          6.25,
          6.88,
          6.88,
          7.5,
          7.5,
          7.5,
          6.88,
          8.13,
          7.5,
          6.25,
          6.88,
          6.88,
          6.25,
          6.25,
          5.63,
          5.63,
          6.25,
          6.88,
          5,
          5.63,
          5,
          5.63,
          3.75,
          5,
          5,
          5.63,
          4.38,
          4.38,
          4.38,
          5.63,
          6.25,
          6.25,
          6.25,
          3.75,
          4.38,
          3.75,
          5.63,
          3.75,
          5.63,
          5.63,
          7.5,
          6.25,
          6.53,
          4.38,
          4.38,
          3.75,
          6.25,
          3.13,
          3.13,
          5.63,
          5.63,
          3.13,
          6.25,
          3.75,
          3.75,
          5,
          5,
          5.63,
          5.63,
          7.5,
          3.13,
          3.13,
          6.25,
          3.13,
          5.63,
          3.75,
          2.5,
          2.5,
          5.63,
          3.75,
          3.75,
          6.25,
          2.5,
          2.5,
          6.88,
          5.63,
          5.63,
          5.63,
          2.5,
          5.63,
          5.63,
          3.75,
          3.13,
          4.38,
          4.38,
          5,
          5,
          5,
          5.63,
          3.13,
          5,
          5,
          3.75,
          6.25,
          6.25,
          5,
          5,
          5,
          3.75,
          4.38,
          3.75,
          4.38,
          5.63,
          5.63,
          4.38,
          5.63,
          5,
          5,
          5.63,
          5.63,
          5,
          3.75,
          3.13,
          5.63,
          4.38,
          3.75,
          3.75,
          4.38,
          4.38,
          5,
          4.38,
          3.75,
          3.13,
          5,
          5,
          2.5,
          3.13,
          6.88,
          3.75,
          3.75,
          3.75,
          4.38,
          4.38,
          3.75,
          3.75,
          5,
          4.38,
          4.38,
          3.13,
          1.25,
          3.13,
          0
         ],
         "xaxis": "x",
         "y": [
          9.75,
          9.37,
          9.27,
          9.26,
          9.18,
          9.09,
          9,
          8.99,
          8.9,
          8.9,
          8.88,
          8.87,
          8.85,
          8.68,
          8.67,
          8.16,
          8.15,
          8.1,
          8.08,
          8.07,
          8.07,
          7.99,
          7.97,
          7.94,
          7.92,
          7.85,
          7.84,
          7.82,
          7.74,
          7.73,
          7.68,
          7.65,
          7.57,
          7.56,
          7.54,
          7.51,
          7.43,
          7.31,
          7.24,
          7.18,
          7.16,
          7.13,
          7.06,
          7.05,
          7.03,
          6.91,
          6.86,
          6.85,
          6.82,
          6.81,
          6.8,
          6.71,
          6.64,
          6.62,
          6.52,
          6.5,
          6.5,
          6.5,
          6.48,
          6.45,
          6.43,
          6.42,
          6.36,
          6.3,
          6.25,
          6.23,
          6.14,
          6.11,
          6.1,
          6.1,
          6.09,
          6.04,
          6.03,
          6.02,
          5.99,
          5.99,
          5.86,
          5.74,
          5.72,
          5.72,
          5.71,
          5.71,
          5.7,
          5.61,
          5.6,
          5.57,
          5.57,
          5.53,
          5.49,
          5.43,
          5.12,
          5.1,
          5.1,
          5.05,
          5.04,
          5.04,
          4.97,
          4.65,
          4.62,
          4.48,
          4.41,
          4.41,
          4.35,
          4.31,
          4.22,
          4.19,
          4.11,
          4.03,
          3.94,
          3.91,
          3.84,
          3.84,
          3.77,
          3.65,
          3.62,
          3.51,
          3.51,
          3.49,
          3.48,
          3.48,
          3.4,
          3.37,
          3.3,
          3.24,
          3.22,
          3.2,
          3.1,
          3.08,
          3.08,
          3,
          2.94,
          2.93,
          2.92,
          2.9,
          2.9,
          2.8,
          2.79,
          2.75,
          2.74,
          2.69,
          2.68,
          2.59,
          2.56,
          2.52,
          2.47,
          2.41,
          2.28,
          2.21,
          2.13,
          2.12,
          2.11,
          2.08,
          2.03,
          1.95,
          1.95,
          1.95,
          1.94,
          1.92,
          1.77,
          1.67,
          1.66,
          1.43,
          1.43,
          1.4,
          1.08,
          1.02,
          0.32
         ],
         "yaxis": "y"
        },
        {
         "hovertemplate": "<b>OLS trendline</b><br>2021 = 0.902015 * Culture + 0.426703<br>R<sup>2</sup>=0.500364<br><br>Culture=%{x}<br>2021=%{y} <b>(trend)</b><extra></extra>",
         "legendgroup": "",
         "line": {
          "color": "red"
         },
         "marker": {
          "color": "#636efa",
          "symbol": "circle"
         },
         "mode": "lines",
         "name": "",
         "showlegend": false,
         "type": "scatter",
         "x": [
          0,
          1.25,
          2.5,
          2.5,
          2.5,
          2.5,
          2.5,
          2.5,
          3.13,
          3.13,
          3.13,
          3.13,
          3.13,
          3.13,
          3.13,
          3.13,
          3.13,
          3.13,
          3.13,
          3.13,
          3.13,
          3.75,
          3.75,
          3.75,
          3.75,
          3.75,
          3.75,
          3.75,
          3.75,
          3.75,
          3.75,
          3.75,
          3.75,
          3.75,
          3.75,
          3.75,
          3.75,
          3.75,
          3.75,
          3.75,
          3.75,
          3.75,
          3.75,
          3.75,
          4.38,
          4.38,
          4.38,
          4.38,
          4.38,
          4.38,
          4.38,
          4.38,
          4.38,
          4.38,
          4.38,
          4.38,
          4.38,
          4.38,
          4.38,
          4.38,
          4.38,
          4.38,
          4.38,
          5,
          5,
          5,
          5,
          5,
          5,
          5,
          5,
          5,
          5,
          5,
          5,
          5,
          5,
          5,
          5,
          5,
          5,
          5,
          5,
          5,
          5.63,
          5.63,
          5.63,
          5.63,
          5.63,
          5.63,
          5.63,
          5.63,
          5.63,
          5.63,
          5.63,
          5.63,
          5.63,
          5.63,
          5.63,
          5.63,
          5.63,
          5.63,
          5.63,
          5.63,
          5.63,
          5.63,
          5.63,
          5.63,
          5.63,
          5.63,
          5.63,
          6.25,
          6.25,
          6.25,
          6.25,
          6.25,
          6.25,
          6.25,
          6.25,
          6.25,
          6.25,
          6.25,
          6.25,
          6.25,
          6.25,
          6.25,
          6.25,
          6.53,
          6.88,
          6.88,
          6.88,
          6.88,
          6.88,
          6.88,
          6.88,
          6.88,
          6.88,
          6.88,
          6.88,
          6.88,
          7.5,
          7.5,
          7.5,
          7.5,
          7.5,
          7.5,
          7.5,
          7.5,
          7.5,
          8.13,
          8.13,
          8.13,
          8.13,
          8.13,
          8.75,
          8.75,
          8.75,
          8.75,
          8.75,
          8.75,
          8.75,
          8.75,
          9.38,
          9.38,
          9.38,
          10,
          10
         ],
         "xaxis": "x",
         "y": [
          0.4267026596661364,
          1.554220816981105,
          2.6817389742960738,
          2.6817389742960738,
          2.6817389742960738,
          2.6817389742960738,
          2.6817389742960738,
          2.6817389742960738,
          3.2500081255828177,
          3.2500081255828177,
          3.2500081255828177,
          3.2500081255828177,
          3.2500081255828177,
          3.2500081255828177,
          3.2500081255828177,
          3.2500081255828177,
          3.2500081255828177,
          3.2500081255828177,
          3.2500081255828177,
          3.2500081255828177,
          3.2500081255828177,
          3.809257131611042,
          3.809257131611042,
          3.809257131611042,
          3.809257131611042,
          3.809257131611042,
          3.809257131611042,
          3.809257131611042,
          3.809257131611042,
          3.809257131611042,
          3.809257131611042,
          3.809257131611042,
          3.809257131611042,
          3.809257131611042,
          3.809257131611042,
          3.809257131611042,
          3.809257131611042,
          3.809257131611042,
          3.809257131611042,
          3.809257131611042,
          3.809257131611042,
          3.809257131611042,
          3.809257131611042,
          3.809257131611042,
          4.377526282897786,
          4.377526282897786,
          4.377526282897786,
          4.377526282897786,
          4.377526282897786,
          4.377526282897786,
          4.377526282897786,
          4.377526282897786,
          4.377526282897786,
          4.377526282897786,
          4.377526282897786,
          4.377526282897786,
          4.377526282897786,
          4.377526282897786,
          4.377526282897786,
          4.377526282897786,
          4.377526282897786,
          4.377526282897786,
          4.377526282897786,
          4.936775288926011,
          4.936775288926011,
          4.936775288926011,
          4.936775288926011,
          4.936775288926011,
          4.936775288926011,
          4.936775288926011,
          4.936775288926011,
          4.936775288926011,
          4.936775288926011,
          4.936775288926011,
          4.936775288926011,
          4.936775288926011,
          4.936775288926011,
          4.936775288926011,
          4.936775288926011,
          4.936775288926011,
          4.936775288926011,
          4.936775288926011,
          4.936775288926011,
          4.936775288926011,
          5.505044440212755,
          5.505044440212755,
          5.505044440212755,
          5.505044440212755,
          5.505044440212755,
          5.505044440212755,
          5.505044440212755,
          5.505044440212755,
          5.505044440212755,
          5.505044440212755,
          5.505044440212755,
          5.505044440212755,
          5.505044440212755,
          5.505044440212755,
          5.505044440212755,
          5.505044440212755,
          5.505044440212755,
          5.505044440212755,
          5.505044440212755,
          5.505044440212755,
          5.505044440212755,
          5.505044440212755,
          5.505044440212755,
          5.505044440212755,
          5.505044440212755,
          5.505044440212755,
          5.505044440212755,
          6.064293446240979,
          6.064293446240979,
          6.064293446240979,
          6.064293446240979,
          6.064293446240979,
          6.064293446240979,
          6.064293446240979,
          6.064293446240979,
          6.064293446240979,
          6.064293446240979,
          6.064293446240979,
          6.064293446240979,
          6.064293446240979,
          6.064293446240979,
          6.064293446240979,
          6.064293446240979,
          6.316857513479532,
          6.632562597527723,
          6.632562597527723,
          6.632562597527723,
          6.632562597527723,
          6.632562597527723,
          6.632562597527723,
          6.632562597527723,
          6.632562597527723,
          6.632562597527723,
          6.632562597527723,
          6.632562597527723,
          6.632562597527723,
          7.191811603555948,
          7.191811603555948,
          7.191811603555948,
          7.191811603555948,
          7.191811603555948,
          7.191811603555948,
          7.191811603555948,
          7.191811603555948,
          7.191811603555948,
          7.760080754842693,
          7.760080754842693,
          7.760080754842693,
          7.760080754842693,
          7.760080754842693,
          8.319329760870916,
          8.319329760870916,
          8.319329760870916,
          8.319329760870916,
          8.319329760870916,
          8.319329760870916,
          8.319329760870916,
          8.319329760870916,
          8.88759891215766,
          8.88759891215766,
          8.88759891215766,
          9.446847918185885,
          9.446847918185885
         ],
         "yaxis": "y"
        }
       ],
       "layout": {
        "height": 300,
        "legend": {
         "tracegroupgap": 0
        },
        "margin": {
         "t": 60
        },
        "template": {
         "data": {
          "bar": [
           {
            "error_x": {
             "color": "#2a3f5f"
            },
            "error_y": {
             "color": "#2a3f5f"
            },
            "marker": {
             "line": {
              "color": "#E5ECF6",
              "width": 0.5
             },
             "pattern": {
              "fillmode": "overlay",
              "size": 10,
              "solidity": 0.2
             }
            },
            "type": "bar"
           }
          ],
          "barpolar": [
           {
            "marker": {
             "line": {
              "color": "#E5ECF6",
              "width": 0.5
             },
             "pattern": {
              "fillmode": "overlay",
              "size": 10,
              "solidity": 0.2
             }
            },
            "type": "barpolar"
           }
          ],
          "carpet": [
           {
            "aaxis": {
             "endlinecolor": "#2a3f5f",
             "gridcolor": "white",
             "linecolor": "white",
             "minorgridcolor": "white",
             "startlinecolor": "#2a3f5f"
            },
            "baxis": {
             "endlinecolor": "#2a3f5f",
             "gridcolor": "white",
             "linecolor": "white",
             "minorgridcolor": "white",
             "startlinecolor": "#2a3f5f"
            },
            "type": "carpet"
           }
          ],
          "choropleth": [
           {
            "colorbar": {
             "outlinewidth": 0,
             "ticks": ""
            },
            "type": "choropleth"
           }
          ],
          "contour": [
           {
            "colorbar": {
             "outlinewidth": 0,
             "ticks": ""
            },
            "colorscale": [
             [
              0,
              "#0d0887"
             ],
             [
              0.1111111111111111,
              "#46039f"
             ],
             [
              0.2222222222222222,
              "#7201a8"
             ],
             [
              0.3333333333333333,
              "#9c179e"
             ],
             [
              0.4444444444444444,
              "#bd3786"
             ],
             [
              0.5555555555555556,
              "#d8576b"
             ],
             [
              0.6666666666666666,
              "#ed7953"
             ],
             [
              0.7777777777777778,
              "#fb9f3a"
             ],
             [
              0.8888888888888888,
              "#fdca26"
             ],
             [
              1,
              "#f0f921"
             ]
            ],
            "type": "contour"
           }
          ],
          "contourcarpet": [
           {
            "colorbar": {
             "outlinewidth": 0,
             "ticks": ""
            },
            "type": "contourcarpet"
           }
          ],
          "heatmap": [
           {
            "colorbar": {
             "outlinewidth": 0,
             "ticks": ""
            },
            "colorscale": [
             [
              0,
              "#0d0887"
             ],
             [
              0.1111111111111111,
              "#46039f"
             ],
             [
              0.2222222222222222,
              "#7201a8"
             ],
             [
              0.3333333333333333,
              "#9c179e"
             ],
             [
              0.4444444444444444,
              "#bd3786"
             ],
             [
              0.5555555555555556,
              "#d8576b"
             ],
             [
              0.6666666666666666,
              "#ed7953"
             ],
             [
              0.7777777777777778,
              "#fb9f3a"
             ],
             [
              0.8888888888888888,
              "#fdca26"
             ],
             [
              1,
              "#f0f921"
             ]
            ],
            "type": "heatmap"
           }
          ],
          "heatmapgl": [
           {
            "colorbar": {
             "outlinewidth": 0,
             "ticks": ""
            },
            "colorscale": [
             [
              0,
              "#0d0887"
             ],
             [
              0.1111111111111111,
              "#46039f"
             ],
             [
              0.2222222222222222,
              "#7201a8"
             ],
             [
              0.3333333333333333,
              "#9c179e"
             ],
             [
              0.4444444444444444,
              "#bd3786"
             ],
             [
              0.5555555555555556,
              "#d8576b"
             ],
             [
              0.6666666666666666,
              "#ed7953"
             ],
             [
              0.7777777777777778,
              "#fb9f3a"
             ],
             [
              0.8888888888888888,
              "#fdca26"
             ],
             [
              1,
              "#f0f921"
             ]
            ],
            "type": "heatmapgl"
           }
          ],
          "histogram": [
           {
            "marker": {
             "pattern": {
              "fillmode": "overlay",
              "size": 10,
              "solidity": 0.2
             }
            },
            "type": "histogram"
           }
          ],
          "histogram2d": [
           {
            "colorbar": {
             "outlinewidth": 0,
             "ticks": ""
            },
            "colorscale": [
             [
              0,
              "#0d0887"
             ],
             [
              0.1111111111111111,
              "#46039f"
             ],
             [
              0.2222222222222222,
              "#7201a8"
             ],
             [
              0.3333333333333333,
              "#9c179e"
             ],
             [
              0.4444444444444444,
              "#bd3786"
             ],
             [
              0.5555555555555556,
              "#d8576b"
             ],
             [
              0.6666666666666666,
              "#ed7953"
             ],
             [
              0.7777777777777778,
              "#fb9f3a"
             ],
             [
              0.8888888888888888,
              "#fdca26"
             ],
             [
              1,
              "#f0f921"
             ]
            ],
            "type": "histogram2d"
           }
          ],
          "histogram2dcontour": [
           {
            "colorbar": {
             "outlinewidth": 0,
             "ticks": ""
            },
            "colorscale": [
             [
              0,
              "#0d0887"
             ],
             [
              0.1111111111111111,
              "#46039f"
             ],
             [
              0.2222222222222222,
              "#7201a8"
             ],
             [
              0.3333333333333333,
              "#9c179e"
             ],
             [
              0.4444444444444444,
              "#bd3786"
             ],
             [
              0.5555555555555556,
              "#d8576b"
             ],
             [
              0.6666666666666666,
              "#ed7953"
             ],
             [
              0.7777777777777778,
              "#fb9f3a"
             ],
             [
              0.8888888888888888,
              "#fdca26"
             ],
             [
              1,
              "#f0f921"
             ]
            ],
            "type": "histogram2dcontour"
           }
          ],
          "mesh3d": [
           {
            "colorbar": {
             "outlinewidth": 0,
             "ticks": ""
            },
            "type": "mesh3d"
           }
          ],
          "parcoords": [
           {
            "line": {
             "colorbar": {
              "outlinewidth": 0,
              "ticks": ""
             }
            },
            "type": "parcoords"
           }
          ],
          "pie": [
           {
            "automargin": true,
            "type": "pie"
           }
          ],
          "scatter": [
           {
            "fillpattern": {
             "fillmode": "overlay",
             "size": 10,
             "solidity": 0.2
            },
            "type": "scatter"
           }
          ],
          "scatter3d": [
           {
            "line": {
             "colorbar": {
              "outlinewidth": 0,
              "ticks": ""
             }
            },
            "marker": {
             "colorbar": {
              "outlinewidth": 0,
              "ticks": ""
             }
            },
            "type": "scatter3d"
           }
          ],
          "scattercarpet": [
           {
            "marker": {
             "colorbar": {
              "outlinewidth": 0,
              "ticks": ""
             }
            },
            "type": "scattercarpet"
           }
          ],
          "scattergeo": [
           {
            "marker": {
             "colorbar": {
              "outlinewidth": 0,
              "ticks": ""
             }
            },
            "type": "scattergeo"
           }
          ],
          "scattergl": [
           {
            "marker": {
             "colorbar": {
              "outlinewidth": 0,
              "ticks": ""
             }
            },
            "type": "scattergl"
           }
          ],
          "scattermapbox": [
           {
            "marker": {
             "colorbar": {
              "outlinewidth": 0,
              "ticks": ""
             }
            },
            "type": "scattermapbox"
           }
          ],
          "scatterpolar": [
           {
            "marker": {
             "colorbar": {
              "outlinewidth": 0,
              "ticks": ""
             }
            },
            "type": "scatterpolar"
           }
          ],
          "scatterpolargl": [
           {
            "marker": {
             "colorbar": {
              "outlinewidth": 0,
              "ticks": ""
             }
            },
            "type": "scatterpolargl"
           }
          ],
          "scatterternary": [
           {
            "marker": {
             "colorbar": {
              "outlinewidth": 0,
              "ticks": ""
             }
            },
            "type": "scatterternary"
           }
          ],
          "surface": [
           {
            "colorbar": {
             "outlinewidth": 0,
             "ticks": ""
            },
            "colorscale": [
             [
              0,
              "#0d0887"
             ],
             [
              0.1111111111111111,
              "#46039f"
             ],
             [
              0.2222222222222222,
              "#7201a8"
             ],
             [
              0.3333333333333333,
              "#9c179e"
             ],
             [
              0.4444444444444444,
              "#bd3786"
             ],
             [
              0.5555555555555556,
              "#d8576b"
             ],
             [
              0.6666666666666666,
              "#ed7953"
             ],
             [
              0.7777777777777778,
              "#fb9f3a"
             ],
             [
              0.8888888888888888,
              "#fdca26"
             ],
             [
              1,
              "#f0f921"
             ]
            ],
            "type": "surface"
           }
          ],
          "table": [
           {
            "cells": {
             "fill": {
              "color": "#EBF0F8"
             },
             "line": {
              "color": "white"
             }
            },
            "header": {
             "fill": {
              "color": "#C8D4E3"
             },
             "line": {
              "color": "white"
             }
            },
            "type": "table"
           }
          ]
         },
         "layout": {
          "annotationdefaults": {
           "arrowcolor": "#2a3f5f",
           "arrowhead": 0,
           "arrowwidth": 1
          },
          "autotypenumbers": "strict",
          "coloraxis": {
           "colorbar": {
            "outlinewidth": 0,
            "ticks": ""
           }
          },
          "colorscale": {
           "diverging": [
            [
             0,
             "#8e0152"
            ],
            [
             0.1,
             "#c51b7d"
            ],
            [
             0.2,
             "#de77ae"
            ],
            [
             0.3,
             "#f1b6da"
            ],
            [
             0.4,
             "#fde0ef"
            ],
            [
             0.5,
             "#f7f7f7"
            ],
            [
             0.6,
             "#e6f5d0"
            ],
            [
             0.7,
             "#b8e186"
            ],
            [
             0.8,
             "#7fbc41"
            ],
            [
             0.9,
             "#4d9221"
            ],
            [
             1,
             "#276419"
            ]
           ],
           "sequential": [
            [
             0,
             "#0d0887"
            ],
            [
             0.1111111111111111,
             "#46039f"
            ],
            [
             0.2222222222222222,
             "#7201a8"
            ],
            [
             0.3333333333333333,
             "#9c179e"
            ],
            [
             0.4444444444444444,
             "#bd3786"
            ],
            [
             0.5555555555555556,
             "#d8576b"
            ],
            [
             0.6666666666666666,
             "#ed7953"
            ],
            [
             0.7777777777777778,
             "#fb9f3a"
            ],
            [
             0.8888888888888888,
             "#fdca26"
            ],
            [
             1,
             "#f0f921"
            ]
           ],
           "sequentialminus": [
            [
             0,
             "#0d0887"
            ],
            [
             0.1111111111111111,
             "#46039f"
            ],
            [
             0.2222222222222222,
             "#7201a8"
            ],
            [
             0.3333333333333333,
             "#9c179e"
            ],
            [
             0.4444444444444444,
             "#bd3786"
            ],
            [
             0.5555555555555556,
             "#d8576b"
            ],
            [
             0.6666666666666666,
             "#ed7953"
            ],
            [
             0.7777777777777778,
             "#fb9f3a"
            ],
            [
             0.8888888888888888,
             "#fdca26"
            ],
            [
             1,
             "#f0f921"
            ]
           ]
          },
          "colorway": [
           "#636efa",
           "#EF553B",
           "#00cc96",
           "#ab63fa",
           "#FFA15A",
           "#19d3f3",
           "#FF6692",
           "#B6E880",
           "#FF97FF",
           "#FECB52"
          ],
          "font": {
           "color": "#2a3f5f"
          },
          "geo": {
           "bgcolor": "white",
           "lakecolor": "white",
           "landcolor": "#E5ECF6",
           "showlakes": true,
           "showland": true,
           "subunitcolor": "white"
          },
          "hoverlabel": {
           "align": "left"
          },
          "hovermode": "closest",
          "mapbox": {
           "style": "light"
          },
          "paper_bgcolor": "white",
          "plot_bgcolor": "#E5ECF6",
          "polar": {
           "angularaxis": {
            "gridcolor": "white",
            "linecolor": "white",
            "ticks": ""
           },
           "bgcolor": "#E5ECF6",
           "radialaxis": {
            "gridcolor": "white",
            "linecolor": "white",
            "ticks": ""
           }
          },
          "scene": {
           "xaxis": {
            "backgroundcolor": "#E5ECF6",
            "gridcolor": "white",
            "gridwidth": 2,
            "linecolor": "white",
            "showbackground": true,
            "ticks": "",
            "zerolinecolor": "white"
           },
           "yaxis": {
            "backgroundcolor": "#E5ECF6",
            "gridcolor": "white",
            "gridwidth": 2,
            "linecolor": "white",
            "showbackground": true,
            "ticks": "",
            "zerolinecolor": "white"
           },
           "zaxis": {
            "backgroundcolor": "#E5ECF6",
            "gridcolor": "white",
            "gridwidth": 2,
            "linecolor": "white",
            "showbackground": true,
            "ticks": "",
            "zerolinecolor": "white"
           }
          },
          "shapedefaults": {
           "line": {
            "color": "#2a3f5f"
           }
          },
          "ternary": {
           "aaxis": {
            "gridcolor": "white",
            "linecolor": "white",
            "ticks": ""
           },
           "baxis": {
            "gridcolor": "white",
            "linecolor": "white",
            "ticks": ""
           },
           "bgcolor": "#E5ECF6",
           "caxis": {
            "gridcolor": "white",
            "linecolor": "white",
            "ticks": ""
           }
          },
          "title": {
           "x": 0.05
          },
          "xaxis": {
           "automargin": true,
           "gridcolor": "white",
           "linecolor": "white",
           "ticks": "",
           "title": {
            "standoff": 15
           },
           "zerolinecolor": "white",
           "zerolinewidth": 2
          },
          "yaxis": {
           "automargin": true,
           "gridcolor": "white",
           "linecolor": "white",
           "ticks": "",
           "title": {
            "standoff": 15
           },
           "zerolinecolor": "white",
           "zerolinewidth": 2
          }
         }
        },
        "width": 500,
        "xaxis": {
         "anchor": "y",
         "domain": [
          0,
          1
         ],
         "title": {
          "text": "Culture"
         }
        },
        "yaxis": {
         "anchor": "x",
         "domain": [
          0,
          1
         ],
         "title": {
          "text": "2021"
         }
        }
       }
      }
     },
     "metadata": {},
     "output_type": "display_data"
    },
    {
     "data": {
      "application/vnd.plotly.v1+json": {
       "config": {
        "plotlyServerURL": "https://plot.ly"
       },
       "data": [
        {
         "hovertemplate": "<b>%{hovertext}</b><br><br>Freedom=%{x}<br>2021=%{y}<extra></extra>",
         "hovertext": [
          "Norway",
          "New Zealand",
          "Finland",
          "Sweden",
          "Iceland",
          "Denmark",
          "Ireland",
          "Taiwan",
          "Australia",
          "Switzerland",
          "Netherlands",
          "Canada",
          "Uruguay",
          "Luxembourg",
          "Germany",
          "South Korea",
          "Japan",
          "United Kingdom",
          "Mauritius",
          "Costa Rica",
          "Austria",
          "France",
          "Israel",
          "Spain",
          "Chile",
          "United States",
          "Estonia",
          "Portugal",
          "Czech Republic",
          "Botswana",
          "Italy",
          "Cape Verde",
          "Malta",
          "Greece",
          "Slovenia",
          "Belgium",
          "Cyprus",
          "Latvia",
          "Malaysia",
          "Lithuania",
          "Trinidad and Tobago",
          "Jamaica",
          "East Timor",
          "South Africa",
          "Slovakia",
          "India",
          "Brazil",
          "Panama",
          "Suriname",
          "Argentina",
          "Poland",
          "Indonesia",
          "Bulgaria",
          "Philippines",
          "Namibia",
          "Ghana",
          "Croatia",
          "Hungary",
          "Colombia",
          "Dominican Republic",
          "Romania",
          "Mongolia",
          "Serbia",
          "Lesotho",
          "Guyana",
          "Singapore",
          "Sri Lanka",
          "Albania",
          "Papua New Guinea",
          "Moldova",
          "Peru",
          "Thailand",
          "North Macedonia",
          "Montenegro",
          "Tunisia",
          "Bangladesh",
          "Paraguay",
          "Malawi",
          "Zambia",
          "El Salvador",
          "Bhutan",
          "Ecuador",
          "Madagascar",
          "Fiji",
          "Hong Kong",
          "Mexico",
          "Ukraine",
          "Senegal",
          "Armenia",
          "Liberia",
          "Georgia",
          "Honduras",
          "Tanzania",
          "Kenya",
          "Bosnia and Herzegovina",
          "Morocco",
          "Sierra Leone",
          "Bolivia",
          "Guatemala",
          "Uganda",
          "Gambia",
          "Nepal",
          "Turkey",
          "Pakistan",
          "Ivory Coast",
          "Benin",
          "Nigeria",
          "Mauritania",
          "Palestine",
          "Kuwait",
          "Lebanon",
          "Burkina Faso",
          "Algeria",
          "Qatar",
          "Kyrgyzstan",
          "Mozambique",
          "Iraq",
          "Jordan",
          "Mali",
          "Haiti",
          "Gabon",
          "Angola",
          "Ethiopia",
          "Russia",
          "Niger",
          "Comoros",
          "Rwanda",
          "Kazakhstan",
          "Eswatini",
          "Oman",
          "Vietnam",
          "Egypt",
          "Zimbabwe",
          "Cambodia",
          "United Arab Emirates",
          "Togo",
          "Republic of the Congo",
          "Guinea-Bissau",
          "Djibouti",
          "Nicaragua",
          "Azerbaijan",
          "Cuba",
          "Cameroon",
          "Bahrain",
          "Sudan",
          "Belarus",
          "Guinea",
          "China",
          "Burundi",
          "Uzbekistan",
          "Venezuela",
          "Saudi Arabia",
          "Eritrea",
          "Libya",
          "Yemen",
          "Iran",
          "Tajikistan",
          "Equatorial Guinea",
          "Laos",
          "Chad",
          "Turkmenistan",
          "Syria",
          "Central African Republic",
          "Democratic Republic of the Congo",
          "North Korea",
          "Myanmar",
          "Afghanistan"
         ],
         "legendgroup": "",
         "marker": {
          "color": "#636efa",
          "symbol": "circle"
         },
         "mode": "markers",
         "name": "",
         "orientation": "v",
         "showlegend": false,
         "type": "scatter",
         "x": [
          9.12,
          9.71,
          9.41,
          9.12,
          9.41,
          8.82,
          9.41,
          9.41,
          9.41,
          9.41,
          8.82,
          9.12,
          9.71,
          9.41,
          9.12,
          7.94,
          8.24,
          8.82,
          8.53,
          8.24,
          9.71,
          8.24,
          5.88,
          8.24,
          9.12,
          8.53,
          8.24,
          8.82,
          8.53,
          8.53,
          7.65,
          8.53,
          8.24,
          8.53,
          8.24,
          8.24,
          8.53,
          8.53,
          5.29,
          8.53,
          7.35,
          8.53,
          7.35,
          7.35,
          7.65,
          6.18,
          7.65,
          7.65,
          7.35,
          7.65,
          6.47,
          5.59,
          7.06,
          6.76,
          7.94,
          5.88,
          5.88,
          5.88,
          7.65,
          7.06,
          7.06,
          5.88,
          7.06,
          6.47,
          7.06,
          6.18,
          6.18,
          7.06,
          6.76,
          6.76,
          7.06,
          5.29,
          7.06,
          6.47,
          5.29,
          5.29,
          7.06,
          6.18,
          6.18,
          6.18,
          4.71,
          4.71,
          4.71,
          5.29,
          8.53,
          5.59,
          5.59,
          5.59,
          5,
          5.29,
          5.29,
          5.88,
          5.88,
          4.12,
          5.59,
          5.59,
          5.29,
          5.59,
          5.88,
          5.29,
          4.12,
          4.12,
          2.06,
          4.71,
          3.82,
          4.41,
          3.82,
          4.41,
          3.53,
          3.24,
          3.82,
          3.82,
          3.82,
          3.53,
          4.71,
          1.18,
          1.18,
          3.24,
          5.29,
          5.29,
          3.53,
          2.65,
          1.76,
          4.12,
          4.71,
          3.53,
          2.65,
          3.24,
          3.24,
          3.82,
          2.35,
          1.76,
          3.24,
          1.76,
          1.76,
          2.94,
          3.24,
          2.35,
          2.35,
          3.24,
          2.94,
          2.65,
          2.06,
          1.76,
          1.47,
          1.76,
          2.65,
          0.88,
          1.76,
          0.88,
          2.35,
          1.47,
          0.59,
          2.65,
          2.65,
          2.65,
          0.88,
          1.47,
          0.59,
          2.35,
          0.29,
          0,
          0,
          0.88,
          0,
          0.29,
          1.25
         ],
         "xaxis": "x",
         "y": [
          9.75,
          9.37,
          9.27,
          9.26,
          9.18,
          9.09,
          9,
          8.99,
          8.9,
          8.9,
          8.88,
          8.87,
          8.85,
          8.68,
          8.67,
          8.16,
          8.15,
          8.1,
          8.08,
          8.07,
          8.07,
          7.99,
          7.97,
          7.94,
          7.92,
          7.85,
          7.84,
          7.82,
          7.74,
          7.73,
          7.68,
          7.65,
          7.57,
          7.56,
          7.54,
          7.51,
          7.43,
          7.31,
          7.24,
          7.18,
          7.16,
          7.13,
          7.06,
          7.05,
          7.03,
          6.91,
          6.86,
          6.85,
          6.82,
          6.81,
          6.8,
          6.71,
          6.64,
          6.62,
          6.52,
          6.5,
          6.5,
          6.5,
          6.48,
          6.45,
          6.43,
          6.42,
          6.36,
          6.3,
          6.25,
          6.23,
          6.14,
          6.11,
          6.1,
          6.1,
          6.09,
          6.04,
          6.03,
          6.02,
          5.99,
          5.99,
          5.86,
          5.74,
          5.72,
          5.72,
          5.71,
          5.71,
          5.7,
          5.61,
          5.6,
          5.57,
          5.57,
          5.53,
          5.49,
          5.43,
          5.12,
          5.1,
          5.1,
          5.05,
          5.04,
          5.04,
          4.97,
          4.65,
          4.62,
          4.48,
          4.41,
          4.41,
          4.35,
          4.31,
          4.22,
          4.19,
          4.11,
          4.03,
          3.94,
          3.91,
          3.84,
          3.84,
          3.77,
          3.65,
          3.62,
          3.51,
          3.51,
          3.49,
          3.48,
          3.48,
          3.4,
          3.37,
          3.3,
          3.24,
          3.22,
          3.2,
          3.1,
          3.08,
          3.08,
          3,
          2.94,
          2.93,
          2.92,
          2.9,
          2.9,
          2.8,
          2.79,
          2.75,
          2.74,
          2.69,
          2.68,
          2.59,
          2.56,
          2.52,
          2.47,
          2.41,
          2.28,
          2.21,
          2.13,
          2.12,
          2.11,
          2.08,
          2.03,
          1.95,
          1.95,
          1.95,
          1.94,
          1.92,
          1.77,
          1.67,
          1.66,
          1.43,
          1.43,
          1.4,
          1.08,
          1.02,
          0.32
         ],
         "yaxis": "y"
        },
        {
         "hovertemplate": "<b>OLS trendline</b><br>2021 = 0.813069 * Freedom + 0.9206<br>R<sup>2</sup>=0.908168<br><br>Freedom=%{x}<br>2021=%{y} <b>(trend)</b><extra></extra>",
         "legendgroup": "",
         "line": {
          "color": "red"
         },
         "marker": {
          "color": "#636efa",
          "symbol": "circle"
         },
         "mode": "lines",
         "name": "",
         "showlegend": false,
         "type": "scatter",
         "x": [
          0,
          0,
          0,
          0.29,
          0.29,
          0.59,
          0.59,
          0.88,
          0.88,
          0.88,
          0.88,
          1.18,
          1.18,
          1.25,
          1.47,
          1.47,
          1.47,
          1.76,
          1.76,
          1.76,
          1.76,
          1.76,
          1.76,
          1.76,
          2.06,
          2.06,
          2.35,
          2.35,
          2.35,
          2.35,
          2.35,
          2.65,
          2.65,
          2.65,
          2.65,
          2.65,
          2.65,
          2.65,
          2.94,
          2.94,
          3.24,
          3.24,
          3.24,
          3.24,
          3.24,
          3.24,
          3.24,
          3.53,
          3.53,
          3.53,
          3.53,
          3.82,
          3.82,
          3.82,
          3.82,
          3.82,
          3.82,
          4.12,
          4.12,
          4.12,
          4.12,
          4.41,
          4.41,
          4.71,
          4.71,
          4.71,
          4.71,
          4.71,
          4.71,
          5,
          5.29,
          5.29,
          5.29,
          5.29,
          5.29,
          5.29,
          5.29,
          5.29,
          5.29,
          5.29,
          5.29,
          5.59,
          5.59,
          5.59,
          5.59,
          5.59,
          5.59,
          5.59,
          5.88,
          5.88,
          5.88,
          5.88,
          5.88,
          5.88,
          5.88,
          5.88,
          6.18,
          6.18,
          6.18,
          6.18,
          6.18,
          6.18,
          6.47,
          6.47,
          6.47,
          6.76,
          6.76,
          6.76,
          7.06,
          7.06,
          7.06,
          7.06,
          7.06,
          7.06,
          7.06,
          7.06,
          7.06,
          7.35,
          7.35,
          7.35,
          7.35,
          7.65,
          7.65,
          7.65,
          7.65,
          7.65,
          7.65,
          7.94,
          7.94,
          8.24,
          8.24,
          8.24,
          8.24,
          8.24,
          8.24,
          8.24,
          8.24,
          8.53,
          8.53,
          8.53,
          8.53,
          8.53,
          8.53,
          8.53,
          8.53,
          8.53,
          8.53,
          8.53,
          8.82,
          8.82,
          8.82,
          8.82,
          9.12,
          9.12,
          9.12,
          9.12,
          9.12,
          9.41,
          9.41,
          9.41,
          9.41,
          9.41,
          9.41,
          9.41,
          9.71,
          9.71,
          9.71
         ],
         "xaxis": "x",
         "y": [
          0.9206001336309129,
          0.9206001336309129,
          0.9206001336309129,
          1.1563901875879676,
          1.1563901875879676,
          1.4003109330607828,
          1.4003109330607828,
          1.6361009870178376,
          1.6361009870178376,
          1.6361009870178376,
          1.6361009870178376,
          1.8800217324906527,
          1.8800217324906527,
          1.9369365731009764,
          2.1158117864477077,
          2.1158117864477077,
          2.1158117864477077,
          2.3516018404047623,
          2.3516018404047623,
          2.3516018404047623,
          2.3516018404047623,
          2.3516018404047623,
          2.3516018404047623,
          2.3516018404047623,
          2.5955225858775774,
          2.5955225858775774,
          2.8313126398346324,
          2.8313126398346324,
          2.8313126398346324,
          2.8313126398346324,
          2.8313126398346324,
          3.0752333853074476,
          3.0752333853074476,
          3.0752333853074476,
          3.0752333853074476,
          3.0752333853074476,
          3.0752333853074476,
          3.0752333853074476,
          3.311023439264502,
          3.311023439264502,
          3.5549441847373178,
          3.5549441847373178,
          3.5549441847373178,
          3.5549441847373178,
          3.5549441847373178,
          3.5549441847373178,
          3.5549441847373178,
          3.7907342386943723,
          3.7907342386943723,
          3.7907342386943723,
          3.7907342386943723,
          4.026524292651427,
          4.026524292651427,
          4.026524292651427,
          4.026524292651427,
          4.026524292651427,
          4.026524292651427,
          4.270445038124242,
          4.270445038124242,
          4.270445038124242,
          4.270445038124242,
          4.5062350920812975,
          4.5062350920812975,
          4.750155837554113,
          4.750155837554113,
          4.750155837554113,
          4.750155837554113,
          4.750155837554113,
          4.750155837554113,
          4.985945891511167,
          5.221735945468222,
          5.221735945468222,
          5.221735945468222,
          5.221735945468222,
          5.221735945468222,
          5.221735945468222,
          5.221735945468222,
          5.221735945468222,
          5.221735945468222,
          5.221735945468222,
          5.221735945468222,
          5.465656690941037,
          5.465656690941037,
          5.465656690941037,
          5.465656690941037,
          5.465656690941037,
          5.465656690941037,
          5.465656690941037,
          5.7014467448980914,
          5.7014467448980914,
          5.7014467448980914,
          5.7014467448980914,
          5.7014467448980914,
          5.7014467448980914,
          5.7014467448980914,
          5.7014467448980914,
          5.945367490370907,
          5.945367490370907,
          5.945367490370907,
          5.945367490370907,
          5.945367490370907,
          5.945367490370907,
          6.181157544327962,
          6.181157544327962,
          6.181157544327962,
          6.416947598285017,
          6.416947598285017,
          6.416947598285017,
          6.660868343757832,
          6.660868343757832,
          6.660868343757832,
          6.660868343757832,
          6.660868343757832,
          6.660868343757832,
          6.660868343757832,
          6.660868343757832,
          6.660868343757832,
          6.896658397714886,
          6.896658397714886,
          6.896658397714886,
          6.896658397714886,
          7.140579143187702,
          7.140579143187702,
          7.140579143187702,
          7.140579143187702,
          7.140579143187702,
          7.140579143187702,
          7.376369197144757,
          7.376369197144757,
          7.620289942617572,
          7.620289942617572,
          7.620289942617572,
          7.620289942617572,
          7.620289942617572,
          7.620289942617572,
          7.620289942617572,
          7.620289942617572,
          7.856079996574627,
          7.856079996574627,
          7.856079996574627,
          7.856079996574627,
          7.856079996574627,
          7.856079996574627,
          7.856079996574627,
          7.856079996574627,
          7.856079996574627,
          7.856079996574627,
          7.856079996574627,
          8.091870050531682,
          8.091870050531682,
          8.091870050531682,
          8.091870050531682,
          8.335790796004495,
          8.335790796004495,
          8.335790796004495,
          8.335790796004495,
          8.335790796004495,
          8.571580849961553,
          8.571580849961553,
          8.571580849961553,
          8.571580849961553,
          8.571580849961553,
          8.571580849961553,
          8.571580849961553,
          8.815501595434368,
          8.815501595434368,
          8.815501595434368
         ],
         "yaxis": "y"
        }
       ],
       "layout": {
        "height": 300,
        "legend": {
         "tracegroupgap": 0
        },
        "margin": {
         "t": 60
        },
        "template": {
         "data": {
          "bar": [
           {
            "error_x": {
             "color": "#2a3f5f"
            },
            "error_y": {
             "color": "#2a3f5f"
            },
            "marker": {
             "line": {
              "color": "#E5ECF6",
              "width": 0.5
             },
             "pattern": {
              "fillmode": "overlay",
              "size": 10,
              "solidity": 0.2
             }
            },
            "type": "bar"
           }
          ],
          "barpolar": [
           {
            "marker": {
             "line": {
              "color": "#E5ECF6",
              "width": 0.5
             },
             "pattern": {
              "fillmode": "overlay",
              "size": 10,
              "solidity": 0.2
             }
            },
            "type": "barpolar"
           }
          ],
          "carpet": [
           {
            "aaxis": {
             "endlinecolor": "#2a3f5f",
             "gridcolor": "white",
             "linecolor": "white",
             "minorgridcolor": "white",
             "startlinecolor": "#2a3f5f"
            },
            "baxis": {
             "endlinecolor": "#2a3f5f",
             "gridcolor": "white",
             "linecolor": "white",
             "minorgridcolor": "white",
             "startlinecolor": "#2a3f5f"
            },
            "type": "carpet"
           }
          ],
          "choropleth": [
           {
            "colorbar": {
             "outlinewidth": 0,
             "ticks": ""
            },
            "type": "choropleth"
           }
          ],
          "contour": [
           {
            "colorbar": {
             "outlinewidth": 0,
             "ticks": ""
            },
            "colorscale": [
             [
              0,
              "#0d0887"
             ],
             [
              0.1111111111111111,
              "#46039f"
             ],
             [
              0.2222222222222222,
              "#7201a8"
             ],
             [
              0.3333333333333333,
              "#9c179e"
             ],
             [
              0.4444444444444444,
              "#bd3786"
             ],
             [
              0.5555555555555556,
              "#d8576b"
             ],
             [
              0.6666666666666666,
              "#ed7953"
             ],
             [
              0.7777777777777778,
              "#fb9f3a"
             ],
             [
              0.8888888888888888,
              "#fdca26"
             ],
             [
              1,
              "#f0f921"
             ]
            ],
            "type": "contour"
           }
          ],
          "contourcarpet": [
           {
            "colorbar": {
             "outlinewidth": 0,
             "ticks": ""
            },
            "type": "contourcarpet"
           }
          ],
          "heatmap": [
           {
            "colorbar": {
             "outlinewidth": 0,
             "ticks": ""
            },
            "colorscale": [
             [
              0,
              "#0d0887"
             ],
             [
              0.1111111111111111,
              "#46039f"
             ],
             [
              0.2222222222222222,
              "#7201a8"
             ],
             [
              0.3333333333333333,
              "#9c179e"
             ],
             [
              0.4444444444444444,
              "#bd3786"
             ],
             [
              0.5555555555555556,
              "#d8576b"
             ],
             [
              0.6666666666666666,
              "#ed7953"
             ],
             [
              0.7777777777777778,
              "#fb9f3a"
             ],
             [
              0.8888888888888888,
              "#fdca26"
             ],
             [
              1,
              "#f0f921"
             ]
            ],
            "type": "heatmap"
           }
          ],
          "heatmapgl": [
           {
            "colorbar": {
             "outlinewidth": 0,
             "ticks": ""
            },
            "colorscale": [
             [
              0,
              "#0d0887"
             ],
             [
              0.1111111111111111,
              "#46039f"
             ],
             [
              0.2222222222222222,
              "#7201a8"
             ],
             [
              0.3333333333333333,
              "#9c179e"
             ],
             [
              0.4444444444444444,
              "#bd3786"
             ],
             [
              0.5555555555555556,
              "#d8576b"
             ],
             [
              0.6666666666666666,
              "#ed7953"
             ],
             [
              0.7777777777777778,
              "#fb9f3a"
             ],
             [
              0.8888888888888888,
              "#fdca26"
             ],
             [
              1,
              "#f0f921"
             ]
            ],
            "type": "heatmapgl"
           }
          ],
          "histogram": [
           {
            "marker": {
             "pattern": {
              "fillmode": "overlay",
              "size": 10,
              "solidity": 0.2
             }
            },
            "type": "histogram"
           }
          ],
          "histogram2d": [
           {
            "colorbar": {
             "outlinewidth": 0,
             "ticks": ""
            },
            "colorscale": [
             [
              0,
              "#0d0887"
             ],
             [
              0.1111111111111111,
              "#46039f"
             ],
             [
              0.2222222222222222,
              "#7201a8"
             ],
             [
              0.3333333333333333,
              "#9c179e"
             ],
             [
              0.4444444444444444,
              "#bd3786"
             ],
             [
              0.5555555555555556,
              "#d8576b"
             ],
             [
              0.6666666666666666,
              "#ed7953"
             ],
             [
              0.7777777777777778,
              "#fb9f3a"
             ],
             [
              0.8888888888888888,
              "#fdca26"
             ],
             [
              1,
              "#f0f921"
             ]
            ],
            "type": "histogram2d"
           }
          ],
          "histogram2dcontour": [
           {
            "colorbar": {
             "outlinewidth": 0,
             "ticks": ""
            },
            "colorscale": [
             [
              0,
              "#0d0887"
             ],
             [
              0.1111111111111111,
              "#46039f"
             ],
             [
              0.2222222222222222,
              "#7201a8"
             ],
             [
              0.3333333333333333,
              "#9c179e"
             ],
             [
              0.4444444444444444,
              "#bd3786"
             ],
             [
              0.5555555555555556,
              "#d8576b"
             ],
             [
              0.6666666666666666,
              "#ed7953"
             ],
             [
              0.7777777777777778,
              "#fb9f3a"
             ],
             [
              0.8888888888888888,
              "#fdca26"
             ],
             [
              1,
              "#f0f921"
             ]
            ],
            "type": "histogram2dcontour"
           }
          ],
          "mesh3d": [
           {
            "colorbar": {
             "outlinewidth": 0,
             "ticks": ""
            },
            "type": "mesh3d"
           }
          ],
          "parcoords": [
           {
            "line": {
             "colorbar": {
              "outlinewidth": 0,
              "ticks": ""
             }
            },
            "type": "parcoords"
           }
          ],
          "pie": [
           {
            "automargin": true,
            "type": "pie"
           }
          ],
          "scatter": [
           {
            "fillpattern": {
             "fillmode": "overlay",
             "size": 10,
             "solidity": 0.2
            },
            "type": "scatter"
           }
          ],
          "scatter3d": [
           {
            "line": {
             "colorbar": {
              "outlinewidth": 0,
              "ticks": ""
             }
            },
            "marker": {
             "colorbar": {
              "outlinewidth": 0,
              "ticks": ""
             }
            },
            "type": "scatter3d"
           }
          ],
          "scattercarpet": [
           {
            "marker": {
             "colorbar": {
              "outlinewidth": 0,
              "ticks": ""
             }
            },
            "type": "scattercarpet"
           }
          ],
          "scattergeo": [
           {
            "marker": {
             "colorbar": {
              "outlinewidth": 0,
              "ticks": ""
             }
            },
            "type": "scattergeo"
           }
          ],
          "scattergl": [
           {
            "marker": {
             "colorbar": {
              "outlinewidth": 0,
              "ticks": ""
             }
            },
            "type": "scattergl"
           }
          ],
          "scattermapbox": [
           {
            "marker": {
             "colorbar": {
              "outlinewidth": 0,
              "ticks": ""
             }
            },
            "type": "scattermapbox"
           }
          ],
          "scatterpolar": [
           {
            "marker": {
             "colorbar": {
              "outlinewidth": 0,
              "ticks": ""
             }
            },
            "type": "scatterpolar"
           }
          ],
          "scatterpolargl": [
           {
            "marker": {
             "colorbar": {
              "outlinewidth": 0,
              "ticks": ""
             }
            },
            "type": "scatterpolargl"
           }
          ],
          "scatterternary": [
           {
            "marker": {
             "colorbar": {
              "outlinewidth": 0,
              "ticks": ""
             }
            },
            "type": "scatterternary"
           }
          ],
          "surface": [
           {
            "colorbar": {
             "outlinewidth": 0,
             "ticks": ""
            },
            "colorscale": [
             [
              0,
              "#0d0887"
             ],
             [
              0.1111111111111111,
              "#46039f"
             ],
             [
              0.2222222222222222,
              "#7201a8"
             ],
             [
              0.3333333333333333,
              "#9c179e"
             ],
             [
              0.4444444444444444,
              "#bd3786"
             ],
             [
              0.5555555555555556,
              "#d8576b"
             ],
             [
              0.6666666666666666,
              "#ed7953"
             ],
             [
              0.7777777777777778,
              "#fb9f3a"
             ],
             [
              0.8888888888888888,
              "#fdca26"
             ],
             [
              1,
              "#f0f921"
             ]
            ],
            "type": "surface"
           }
          ],
          "table": [
           {
            "cells": {
             "fill": {
              "color": "#EBF0F8"
             },
             "line": {
              "color": "white"
             }
            },
            "header": {
             "fill": {
              "color": "#C8D4E3"
             },
             "line": {
              "color": "white"
             }
            },
            "type": "table"
           }
          ]
         },
         "layout": {
          "annotationdefaults": {
           "arrowcolor": "#2a3f5f",
           "arrowhead": 0,
           "arrowwidth": 1
          },
          "autotypenumbers": "strict",
          "coloraxis": {
           "colorbar": {
            "outlinewidth": 0,
            "ticks": ""
           }
          },
          "colorscale": {
           "diverging": [
            [
             0,
             "#8e0152"
            ],
            [
             0.1,
             "#c51b7d"
            ],
            [
             0.2,
             "#de77ae"
            ],
            [
             0.3,
             "#f1b6da"
            ],
            [
             0.4,
             "#fde0ef"
            ],
            [
             0.5,
             "#f7f7f7"
            ],
            [
             0.6,
             "#e6f5d0"
            ],
            [
             0.7,
             "#b8e186"
            ],
            [
             0.8,
             "#7fbc41"
            ],
            [
             0.9,
             "#4d9221"
            ],
            [
             1,
             "#276419"
            ]
           ],
           "sequential": [
            [
             0,
             "#0d0887"
            ],
            [
             0.1111111111111111,
             "#46039f"
            ],
            [
             0.2222222222222222,
             "#7201a8"
            ],
            [
             0.3333333333333333,
             "#9c179e"
            ],
            [
             0.4444444444444444,
             "#bd3786"
            ],
            [
             0.5555555555555556,
             "#d8576b"
            ],
            [
             0.6666666666666666,
             "#ed7953"
            ],
            [
             0.7777777777777778,
             "#fb9f3a"
            ],
            [
             0.8888888888888888,
             "#fdca26"
            ],
            [
             1,
             "#f0f921"
            ]
           ],
           "sequentialminus": [
            [
             0,
             "#0d0887"
            ],
            [
             0.1111111111111111,
             "#46039f"
            ],
            [
             0.2222222222222222,
             "#7201a8"
            ],
            [
             0.3333333333333333,
             "#9c179e"
            ],
            [
             0.4444444444444444,
             "#bd3786"
            ],
            [
             0.5555555555555556,
             "#d8576b"
            ],
            [
             0.6666666666666666,
             "#ed7953"
            ],
            [
             0.7777777777777778,
             "#fb9f3a"
            ],
            [
             0.8888888888888888,
             "#fdca26"
            ],
            [
             1,
             "#f0f921"
            ]
           ]
          },
          "colorway": [
           "#636efa",
           "#EF553B",
           "#00cc96",
           "#ab63fa",
           "#FFA15A",
           "#19d3f3",
           "#FF6692",
           "#B6E880",
           "#FF97FF",
           "#FECB52"
          ],
          "font": {
           "color": "#2a3f5f"
          },
          "geo": {
           "bgcolor": "white",
           "lakecolor": "white",
           "landcolor": "#E5ECF6",
           "showlakes": true,
           "showland": true,
           "subunitcolor": "white"
          },
          "hoverlabel": {
           "align": "left"
          },
          "hovermode": "closest",
          "mapbox": {
           "style": "light"
          },
          "paper_bgcolor": "white",
          "plot_bgcolor": "#E5ECF6",
          "polar": {
           "angularaxis": {
            "gridcolor": "white",
            "linecolor": "white",
            "ticks": ""
           },
           "bgcolor": "#E5ECF6",
           "radialaxis": {
            "gridcolor": "white",
            "linecolor": "white",
            "ticks": ""
           }
          },
          "scene": {
           "xaxis": {
            "backgroundcolor": "#E5ECF6",
            "gridcolor": "white",
            "gridwidth": 2,
            "linecolor": "white",
            "showbackground": true,
            "ticks": "",
            "zerolinecolor": "white"
           },
           "yaxis": {
            "backgroundcolor": "#E5ECF6",
            "gridcolor": "white",
            "gridwidth": 2,
            "linecolor": "white",
            "showbackground": true,
            "ticks": "",
            "zerolinecolor": "white"
           },
           "zaxis": {
            "backgroundcolor": "#E5ECF6",
            "gridcolor": "white",
            "gridwidth": 2,
            "linecolor": "white",
            "showbackground": true,
            "ticks": "",
            "zerolinecolor": "white"
           }
          },
          "shapedefaults": {
           "line": {
            "color": "#2a3f5f"
           }
          },
          "ternary": {
           "aaxis": {
            "gridcolor": "white",
            "linecolor": "white",
            "ticks": ""
           },
           "baxis": {
            "gridcolor": "white",
            "linecolor": "white",
            "ticks": ""
           },
           "bgcolor": "#E5ECF6",
           "caxis": {
            "gridcolor": "white",
            "linecolor": "white",
            "ticks": ""
           }
          },
          "title": {
           "x": 0.05
          },
          "xaxis": {
           "automargin": true,
           "gridcolor": "white",
           "linecolor": "white",
           "ticks": "",
           "title": {
            "standoff": 15
           },
           "zerolinecolor": "white",
           "zerolinewidth": 2
          },
          "yaxis": {
           "automargin": true,
           "gridcolor": "white",
           "linecolor": "white",
           "ticks": "",
           "title": {
            "standoff": 15
           },
           "zerolinecolor": "white",
           "zerolinewidth": 2
          }
         }
        },
        "width": 500,
        "xaxis": {
         "anchor": "y",
         "domain": [
          0,
          1
         ],
         "title": {
          "text": "Freedom"
         }
        },
        "yaxis": {
         "anchor": "x",
         "domain": [
          0,
          1
         ],
         "title": {
          "text": "2021"
         }
        }
       }
      }
     },
     "metadata": {},
     "output_type": "display_data"
    }
   ],
   "source": [
    "fig1 = px.scatter(fdata,\n",
    "             height=300, width= 500, \n",
    "             x = 'Election', y = '2021',\n",
    "             hover_name='Country',\n",
    "             trendline=\"ols\", trendline_color_override=\"red\")\n",
    "fig2 = px.scatter(fdata,\n",
    "             height=300, width= 500, \n",
    "             x = 'Government', y = '2021',\n",
    "             hover_name='Country',\n",
    "             trendline=\"ols\", trendline_color_override=\"red\")\n",
    "fig3 = px.scatter(fdata,\n",
    "             height=300, width= 500, \n",
    "             x = 'Participate', y = '2021',\n",
    "             hover_name='Country',\n",
    "             trendline=\"ols\", trendline_color_override=\"red\")\n",
    "fig4 = px.scatter(fdata,\n",
    "             height=300, width= 500, \n",
    "             x = 'Culture', y = '2021',\n",
    "             hover_name='Country',\n",
    "             trendline=\"ols\", trendline_color_override=\"red\")\n",
    "fig5 = px.scatter(fdata,\n",
    "             height=300, width= 500, \n",
    "             x = 'Freedom', y = '2021',\n",
    "             hover_name='Country',\n",
    "             trendline=\"ols\", trendline_color_override=\"red\")\n",
    "display(fig1, fig2, fig3, fig4, fig5)"
   ]
  },
  {
   "cell_type": "markdown",
   "metadata": {
    "id": "UGmWjiJr3fGz"
   },
   "source": [
    "* 由各個指標與2021年民主指數的關係圖可以看到，各指標與與2021年民主指數皆呈現正相關"
   ]
  },
  {
   "cell_type": "code",
   "execution_count": 24,
   "metadata": {
    "colab": {
     "base_uri": "https://localhost:8080/",
     "height": 517
    },
    "id": "XQ897gA4PszK",
    "outputId": "bc5a6b62-5dd2-4c35-af64-a35cf2fbdc60"
   },
   "outputs": [
    {
     "data": {
      "application/vnd.plotly.v1+json": {
       "config": {
        "plotlyServerURL": "https://plot.ly"
       },
       "data": [
        {
         "hovertemplate": "<b>%{hovertext}</b><br><br>Region=Western Europe<br>Freedom=%{x}<br>Election=%{y}<br>2021=%{marker.size}<extra></extra>",
         "hovertext": [
          "Norway",
          "Finland",
          "Sweden",
          "Iceland",
          "Denmark",
          "Ireland",
          "Switzerland",
          "Netherlands",
          "Luxembourg",
          "Germany",
          "United Kingdom",
          "Austria",
          "France",
          "Spain",
          "Portugal",
          "Italy",
          "Malta",
          "Greece",
          "Belgium",
          "Cyprus",
          "Turkey"
         ],
         "legendgroup": "Western Europe",
         "marker": {
          "color": "#636efa",
          "size": [
           9.75,
           9.27,
           9.26,
           9.18,
           9.09,
           9,
           8.9,
           8.88,
           8.68,
           8.67,
           8.1,
           8.07,
           7.99,
           7.94,
           7.82,
           7.68,
           7.57,
           7.56,
           7.51,
           7.43,
           4.35
          ],
          "sizemode": "area",
          "sizeref": 0.024375,
          "symbol": "circle"
         },
         "mode": "markers",
         "name": "Western Europe",
         "orientation": "v",
         "showlegend": true,
         "type": "scatter",
         "x": [
          9.12,
          9.41,
          9.12,
          9.41,
          8.82,
          9.41,
          9.41,
          8.82,
          9.41,
          9.12,
          8.82,
          9.71,
          8.24,
          8.24,
          8.82,
          7.65,
          8.24,
          8.53,
          8.24,
          8.53,
          2.06
         ],
         "xaxis": "x",
         "y": [
          10,
          10,
          9.58,
          10,
          10,
          10,
          10,
          9.58,
          10,
          9.58,
          9.58,
          9.58,
          9.58,
          9.58,
          9.58,
          9.58,
          9.17,
          9.58,
          9.58,
          9.17,
          3.5
         ],
         "yaxis": "y"
        },
        {
         "hovertemplate": "<b>%{hovertext}</b><br><br>Region=Asia and Australasia<br>Freedom=%{x}<br>Election=%{y}<br>2021=%{marker.size}<extra></extra>",
         "hovertext": [
          "New Zealand",
          "Taiwan",
          "Australia",
          "South Korea",
          "Japan",
          "Malaysia",
          "East Timor",
          "India",
          "Indonesia",
          "Philippines",
          "Mongolia",
          "Singapore",
          "Sri Lanka",
          "Papua New Guinea",
          "Thailand",
          "Bangladesh",
          "Bhutan",
          "Fiji",
          "Hong Kong",
          "Nepal",
          "Pakistan",
          "Vietnam",
          "Cambodia",
          "China",
          "Laos",
          "North Korea",
          "Myanmar",
          "Afghanistan"
         ],
         "legendgroup": "Asia and Australasia",
         "marker": {
          "color": "#EF553B",
          "size": [
           9.37,
           8.99,
           8.9,
           8.16,
           8.15,
           7.24,
           7.06,
           6.91,
           6.71,
           6.62,
           6.42,
           6.23,
           6.14,
           6.1,
           6.04,
           5.99,
           5.71,
           5.61,
           5.6,
           4.41,
           4.31,
           2.94,
           2.9,
           2.21,
           1.77,
           1.08,
           1.02,
           0.32
          ],
          "sizemode": "area",
          "sizeref": 0.024375,
          "symbol": "circle"
         },
         "mode": "markers",
         "name": "Asia and Australasia",
         "orientation": "v",
         "showlegend": true,
         "type": "scatter",
         "x": [
          9.71,
          9.41,
          9.41,
          7.94,
          8.24,
          5.29,
          7.35,
          6.18,
          5.59,
          6.76,
          5.88,
          6.18,
          6.18,
          6.76,
          5.29,
          5.29,
          4.71,
          5.29,
          8.53,
          4.12,
          4.71,
          2.35,
          1.76,
          0.88,
          0.59,
          0,
          0.29,
          1.25
         ],
         "xaxis": "x",
         "y": [
          10,
          10,
          10,
          9.58,
          9.17,
          9.58,
          9.58,
          8.67,
          7.92,
          9.17,
          8.75,
          4.83,
          7,
          7,
          7,
          7.42,
          8.75,
          6.58,
          2.5,
          3.58,
          5.67,
          0,
          0,
          0,
          0,
          0,
          0,
          0
         ],
         "yaxis": "y"
        },
        {
         "hovertemplate": "<b>%{hovertext}</b><br><br>Region=North America<br>Freedom=%{x}<br>Election=%{y}<br>2021=%{marker.size}<extra></extra>",
         "hovertext": [
          "Canada",
          "United States"
         ],
         "legendgroup": "North America",
         "marker": {
          "color": "#00cc96",
          "size": [
           8.87,
           7.85
          ],
          "sizemode": "area",
          "sizeref": 0.024375,
          "symbol": "circle"
         },
         "mode": "markers",
         "name": "North America",
         "orientation": "v",
         "showlegend": true,
         "type": "scatter",
         "x": [
          9.12,
          8.53
         ],
         "xaxis": "x",
         "y": [
          10,
          9.17
         ],
         "yaxis": "y"
        },
        {
         "hovertemplate": "<b>%{hovertext}</b><br><br>Region=Latin America and the Caribbean<br>Freedom=%{x}<br>Election=%{y}<br>2021=%{marker.size}<extra></extra>",
         "hovertext": [
          "Uruguay",
          "Costa Rica",
          "Chile",
          "Trinidad and Tobago",
          "Jamaica",
          "Brazil",
          "Panama",
          "Suriname",
          "Argentina",
          "Colombia",
          "Dominican Republic",
          "Guyana",
          "Peru",
          "Paraguay",
          "El Salvador",
          "Ecuador",
          "Mexico",
          "Honduras",
          "Bolivia",
          "Guatemala",
          "Haiti",
          "Nicaragua",
          "Cuba",
          "Venezuela"
         ],
         "legendgroup": "Latin America and the Caribbean",
         "marker": {
          "color": "#ab63fa",
          "size": [
           8.85,
           8.07,
           7.92,
           7.16,
           7.13,
           6.86,
           6.85,
           6.82,
           6.81,
           6.48,
           6.45,
           6.25,
           6.09,
           5.86,
           5.72,
           5.71,
           5.57,
           5.1,
           4.65,
           4.62,
           3.48,
           2.69,
           2.59,
           2.11
          ],
          "sizemode": "area",
          "sizeref": 0.024375,
          "symbol": "circle"
         },
         "mode": "markers",
         "name": "Latin America and the Caribbean",
         "orientation": "v",
         "showlegend": true,
         "type": "scatter",
         "x": [
          9.71,
          8.24,
          9.12,
          7.35,
          8.53,
          7.65,
          7.65,
          7.35,
          7.65,
          7.65,
          7.06,
          7.06,
          7.06,
          7.06,
          6.18,
          4.71,
          5.59,
          5.88,
          5.59,
          5.88,
          5.29,
          3.24,
          2.65,
          2.35
         ],
         "xaxis": "x",
         "y": [
          10,
          9.58,
          9.58,
          9.58,
          8.75,
          9.58,
          9.58,
          9.58,
          9.17,
          9.17,
          9.17,
          6.92,
          8.75,
          8.75,
          9.17,
          8.75,
          6.92,
          8.75,
          4.75,
          6.92,
          3.08,
          0,
          0,
          0
         ],
         "yaxis": "y"
        },
        {
         "hovertemplate": "<b>%{hovertext}</b><br><br>Region=Sub-Saharan Africa<br>Freedom=%{x}<br>Election=%{y}<br>2021=%{marker.size}<extra></extra>",
         "hovertext": [
          "Mauritius",
          "Botswana",
          "Cape Verde",
          "South Africa",
          "Namibia",
          "Ghana",
          "Lesotho",
          "Malawi",
          "Zambia",
          "Madagascar",
          "Senegal",
          "Liberia",
          "Tanzania",
          "Kenya",
          "Sierra Leone",
          "Uganda",
          "Gambia",
          "Ivory Coast",
          "Benin",
          "Nigeria",
          "Mauritania",
          "Burkina Faso",
          "Mozambique",
          "Mali",
          "Gabon",
          "Angola",
          "Ethiopia",
          "Niger",
          "Comoros",
          "Rwanda",
          "Eswatini",
          "Zimbabwe",
          "Togo",
          "Republic of the Congo",
          "Guinea-Bissau",
          "Djibouti",
          "Cameroon",
          "Guinea",
          "Burundi",
          "Eritrea",
          "Equatorial Guinea",
          "Chad",
          "Central African Republic",
          "Democratic Republic of the Congo"
         ],
         "legendgroup": "Sub-Saharan Africa",
         "marker": {
          "color": "#FFA15A",
          "size": [
           8.08,
           7.73,
           7.65,
           7.05,
           6.52,
           6.5,
           6.3,
           5.74,
           5.72,
           5.7,
           5.53,
           5.43,
           5.1,
           5.05,
           4.97,
           4.48,
           4.41,
           4.22,
           4.19,
           4.11,
           4.03,
           3.84,
           3.51,
           3.48,
           3.4,
           3.37,
           3.3,
           3.22,
           3.2,
           3.1,
           3.08,
           2.92,
           2.8,
           2.79,
           2.75,
           2.74,
           2.56,
           2.28,
           2.13,
           2.03,
           1.92,
           1.67,
           1.43,
           1.4
          ],
          "sizemode": "area",
          "sizeref": 0.024375,
          "symbol": "circle"
         },
         "mode": "markers",
         "name": "Sub-Saharan Africa",
         "orientation": "v",
         "showlegend": true,
         "type": "scatter",
         "x": [
          8.53,
          8.53,
          8.53,
          7.35,
          7.94,
          5.88,
          6.47,
          6.18,
          6.18,
          4.71,
          5.59,
          5.29,
          5.88,
          4.12,
          5.29,
          5.29,
          4.12,
          3.82,
          4.41,
          3.82,
          4.41,
          3.82,
          1.18,
          5.29,
          3.53,
          2.65,
          1.76,
          4.71,
          3.53,
          2.65,
          3.24,
          3.24,
          2.94,
          3.24,
          2.35,
          2.35,
          2.06,
          2.65,
          1.76,
          0.59,
          1.47,
          2.35,
          0,
          0.88
         ],
         "xaxis": "x",
         "y": [
          9.17,
          9.17,
          9.17,
          7.42,
          7,
          8.33,
          9.17,
          7,
          9.17,
          7.92,
          5.67,
          7.42,
          8.75,
          3.5,
          6.58,
          3.42,
          3.58,
          4.33,
          1.67,
          5.17,
          3.5,
          3,
          5.25,
          3.08,
          2.17,
          1.33,
          0.42,
          2,
          2.08,
          1.42,
          0.92,
          0,
          0.92,
          0,
          4.92,
          0,
          0.33,
          1.25,
          0,
          0,
          0,
          0,
          0,
          0.75
         ],
         "yaxis": "y"
        },
        {
         "hovertemplate": "<b>%{hovertext}</b><br><br>Region=Middle East and North Africa<br>Freedom=%{x}<br>Election=%{y}<br>2021=%{marker.size}<extra></extra>",
         "hovertext": [
          "Israel",
          "Tunisia",
          "Morocco",
          "Palestine",
          "Kuwait",
          "Lebanon",
          "Algeria",
          "Qatar",
          "Iraq",
          "Jordan",
          "Oman",
          "Egypt",
          "United Arab Emirates",
          "Bahrain",
          "Sudan",
          "Saudi Arabia",
          "Libya",
          "Yemen",
          "Iran",
          "Syria"
         ],
         "legendgroup": "Middle East and North Africa",
         "marker": {
          "color": "#19d3f3",
          "size": [
           7.97,
           5.99,
           5.04,
           3.94,
           3.91,
           3.84,
           3.77,
           3.65,
           3.51,
           3.49,
           3,
           2.93,
           2.9,
           2.52,
           2.47,
           2.08,
           1.95,
           1.95,
           1.95,
           1.43
          ],
          "sizemode": "area",
          "sizeref": 0.024375,
          "symbol": "circle"
         },
         "mode": "markers",
         "name": "Middle East and North Africa",
         "orientation": "v",
         "showlegend": true,
         "type": "scatter",
         "x": [
          5.88,
          5.29,
          5.59,
          3.53,
          3.24,
          3.82,
          3.82,
          3.53,
          1.18,
          3.24,
          3.82,
          1.76,
          1.76,
          1.76,
          1.47,
          1.47,
          2.65,
          2.65,
          2.65,
          0
         ],
         "xaxis": "x",
         "y": [
          9.58,
          7.42,
          7,
          3.33,
          3.58,
          3,
          3.08,
          1.5,
          5.25,
          2.67,
          0.08,
          1.33,
          0,
          0.42,
          0,
          0,
          0,
          0,
          0,
          0
         ],
         "yaxis": "y"
        },
        {
         "hovertemplate": "<b>%{hovertext}</b><br><br>Region=Central and Eastern Europe<br>Freedom=%{x}<br>Election=%{y}<br>2021=%{marker.size}<extra></extra>",
         "hovertext": [
          "Estonia",
          "Czech Republic",
          "Slovenia",
          "Latvia",
          "Lithuania",
          "Slovakia",
          "Poland",
          "Bulgaria",
          "Croatia",
          "Hungary",
          "Romania",
          "Serbia",
          "Albania",
          "Moldova",
          "North Macedonia",
          "Montenegro",
          "Ukraine",
          "Armenia",
          "Georgia",
          "Bosnia and Herzegovina",
          "Kyrgyzstan",
          "Russia",
          "Kazakhstan",
          "Azerbaijan",
          "Belarus",
          "Uzbekistan",
          "Tajikistan",
          "Turkmenistan"
         ],
         "legendgroup": "Central and Eastern Europe",
         "marker": {
          "color": "#FF6692",
          "size": [
           7.84,
           7.74,
           7.54,
           7.31,
           7.18,
           7.03,
           6.8,
           6.64,
           6.5,
           6.5,
           6.43,
           6.36,
           6.11,
           6.1,
           6.03,
           6.02,
           5.57,
           5.49,
           5.12,
           5.04,
           3.62,
           3.24,
           3.08,
           2.68,
           2.41,
           2.12,
           1.94,
           1.66
          ],
          "sizemode": "area",
          "sizeref": 0.024375,
          "symbol": "circle"
         },
         "mode": "markers",
         "name": "Central and Eastern Europe",
         "orientation": "v",
         "showlegend": true,
         "type": "scatter",
         "x": [
          8.24,
          8.53,
          8.24,
          8.53,
          8.53,
          7.65,
          6.47,
          7.06,
          5.88,
          5.88,
          7.06,
          7.06,
          7.06,
          6.76,
          7.06,
          6.47,
          5.59,
          5,
          5.29,
          5.59,
          4.71,
          4.12,
          3.24,
          2.94,
          1.76,
          0.88,
          0.88,
          0.29
         ],
         "xaxis": "x",
         "y": [
          9.58,
          9.58,
          9.58,
          9.58,
          9.58,
          9.58,
          9.17,
          9.17,
          8.33,
          8.33,
          9.17,
          8.25,
          7,
          7,
          7.42,
          7.42,
          6.92,
          7.5,
          7.83,
          7,
          4.33,
          1.75,
          0.92,
          0.5,
          0,
          0.08,
          0,
          0
         ],
         "yaxis": "y"
        }
       ],
       "layout": {
        "height": 500,
        "legend": {
         "itemsizing": "constant",
         "title": {
          "text": "Region"
         },
         "tracegroupgap": 0
        },
        "margin": {
         "t": 60
        },
        "template": {
         "data": {
          "bar": [
           {
            "error_x": {
             "color": "#2a3f5f"
            },
            "error_y": {
             "color": "#2a3f5f"
            },
            "marker": {
             "line": {
              "color": "#E5ECF6",
              "width": 0.5
             },
             "pattern": {
              "fillmode": "overlay",
              "size": 10,
              "solidity": 0.2
             }
            },
            "type": "bar"
           }
          ],
          "barpolar": [
           {
            "marker": {
             "line": {
              "color": "#E5ECF6",
              "width": 0.5
             },
             "pattern": {
              "fillmode": "overlay",
              "size": 10,
              "solidity": 0.2
             }
            },
            "type": "barpolar"
           }
          ],
          "carpet": [
           {
            "aaxis": {
             "endlinecolor": "#2a3f5f",
             "gridcolor": "white",
             "linecolor": "white",
             "minorgridcolor": "white",
             "startlinecolor": "#2a3f5f"
            },
            "baxis": {
             "endlinecolor": "#2a3f5f",
             "gridcolor": "white",
             "linecolor": "white",
             "minorgridcolor": "white",
             "startlinecolor": "#2a3f5f"
            },
            "type": "carpet"
           }
          ],
          "choropleth": [
           {
            "colorbar": {
             "outlinewidth": 0,
             "ticks": ""
            },
            "type": "choropleth"
           }
          ],
          "contour": [
           {
            "colorbar": {
             "outlinewidth": 0,
             "ticks": ""
            },
            "colorscale": [
             [
              0,
              "#0d0887"
             ],
             [
              0.1111111111111111,
              "#46039f"
             ],
             [
              0.2222222222222222,
              "#7201a8"
             ],
             [
              0.3333333333333333,
              "#9c179e"
             ],
             [
              0.4444444444444444,
              "#bd3786"
             ],
             [
              0.5555555555555556,
              "#d8576b"
             ],
             [
              0.6666666666666666,
              "#ed7953"
             ],
             [
              0.7777777777777778,
              "#fb9f3a"
             ],
             [
              0.8888888888888888,
              "#fdca26"
             ],
             [
              1,
              "#f0f921"
             ]
            ],
            "type": "contour"
           }
          ],
          "contourcarpet": [
           {
            "colorbar": {
             "outlinewidth": 0,
             "ticks": ""
            },
            "type": "contourcarpet"
           }
          ],
          "heatmap": [
           {
            "colorbar": {
             "outlinewidth": 0,
             "ticks": ""
            },
            "colorscale": [
             [
              0,
              "#0d0887"
             ],
             [
              0.1111111111111111,
              "#46039f"
             ],
             [
              0.2222222222222222,
              "#7201a8"
             ],
             [
              0.3333333333333333,
              "#9c179e"
             ],
             [
              0.4444444444444444,
              "#bd3786"
             ],
             [
              0.5555555555555556,
              "#d8576b"
             ],
             [
              0.6666666666666666,
              "#ed7953"
             ],
             [
              0.7777777777777778,
              "#fb9f3a"
             ],
             [
              0.8888888888888888,
              "#fdca26"
             ],
             [
              1,
              "#f0f921"
             ]
            ],
            "type": "heatmap"
           }
          ],
          "heatmapgl": [
           {
            "colorbar": {
             "outlinewidth": 0,
             "ticks": ""
            },
            "colorscale": [
             [
              0,
              "#0d0887"
             ],
             [
              0.1111111111111111,
              "#46039f"
             ],
             [
              0.2222222222222222,
              "#7201a8"
             ],
             [
              0.3333333333333333,
              "#9c179e"
             ],
             [
              0.4444444444444444,
              "#bd3786"
             ],
             [
              0.5555555555555556,
              "#d8576b"
             ],
             [
              0.6666666666666666,
              "#ed7953"
             ],
             [
              0.7777777777777778,
              "#fb9f3a"
             ],
             [
              0.8888888888888888,
              "#fdca26"
             ],
             [
              1,
              "#f0f921"
             ]
            ],
            "type": "heatmapgl"
           }
          ],
          "histogram": [
           {
            "marker": {
             "pattern": {
              "fillmode": "overlay",
              "size": 10,
              "solidity": 0.2
             }
            },
            "type": "histogram"
           }
          ],
          "histogram2d": [
           {
            "colorbar": {
             "outlinewidth": 0,
             "ticks": ""
            },
            "colorscale": [
             [
              0,
              "#0d0887"
             ],
             [
              0.1111111111111111,
              "#46039f"
             ],
             [
              0.2222222222222222,
              "#7201a8"
             ],
             [
              0.3333333333333333,
              "#9c179e"
             ],
             [
              0.4444444444444444,
              "#bd3786"
             ],
             [
              0.5555555555555556,
              "#d8576b"
             ],
             [
              0.6666666666666666,
              "#ed7953"
             ],
             [
              0.7777777777777778,
              "#fb9f3a"
             ],
             [
              0.8888888888888888,
              "#fdca26"
             ],
             [
              1,
              "#f0f921"
             ]
            ],
            "type": "histogram2d"
           }
          ],
          "histogram2dcontour": [
           {
            "colorbar": {
             "outlinewidth": 0,
             "ticks": ""
            },
            "colorscale": [
             [
              0,
              "#0d0887"
             ],
             [
              0.1111111111111111,
              "#46039f"
             ],
             [
              0.2222222222222222,
              "#7201a8"
             ],
             [
              0.3333333333333333,
              "#9c179e"
             ],
             [
              0.4444444444444444,
              "#bd3786"
             ],
             [
              0.5555555555555556,
              "#d8576b"
             ],
             [
              0.6666666666666666,
              "#ed7953"
             ],
             [
              0.7777777777777778,
              "#fb9f3a"
             ],
             [
              0.8888888888888888,
              "#fdca26"
             ],
             [
              1,
              "#f0f921"
             ]
            ],
            "type": "histogram2dcontour"
           }
          ],
          "mesh3d": [
           {
            "colorbar": {
             "outlinewidth": 0,
             "ticks": ""
            },
            "type": "mesh3d"
           }
          ],
          "parcoords": [
           {
            "line": {
             "colorbar": {
              "outlinewidth": 0,
              "ticks": ""
             }
            },
            "type": "parcoords"
           }
          ],
          "pie": [
           {
            "automargin": true,
            "type": "pie"
           }
          ],
          "scatter": [
           {
            "fillpattern": {
             "fillmode": "overlay",
             "size": 10,
             "solidity": 0.2
            },
            "type": "scatter"
           }
          ],
          "scatter3d": [
           {
            "line": {
             "colorbar": {
              "outlinewidth": 0,
              "ticks": ""
             }
            },
            "marker": {
             "colorbar": {
              "outlinewidth": 0,
              "ticks": ""
             }
            },
            "type": "scatter3d"
           }
          ],
          "scattercarpet": [
           {
            "marker": {
             "colorbar": {
              "outlinewidth": 0,
              "ticks": ""
             }
            },
            "type": "scattercarpet"
           }
          ],
          "scattergeo": [
           {
            "marker": {
             "colorbar": {
              "outlinewidth": 0,
              "ticks": ""
             }
            },
            "type": "scattergeo"
           }
          ],
          "scattergl": [
           {
            "marker": {
             "colorbar": {
              "outlinewidth": 0,
              "ticks": ""
             }
            },
            "type": "scattergl"
           }
          ],
          "scattermapbox": [
           {
            "marker": {
             "colorbar": {
              "outlinewidth": 0,
              "ticks": ""
             }
            },
            "type": "scattermapbox"
           }
          ],
          "scatterpolar": [
           {
            "marker": {
             "colorbar": {
              "outlinewidth": 0,
              "ticks": ""
             }
            },
            "type": "scatterpolar"
           }
          ],
          "scatterpolargl": [
           {
            "marker": {
             "colorbar": {
              "outlinewidth": 0,
              "ticks": ""
             }
            },
            "type": "scatterpolargl"
           }
          ],
          "scatterternary": [
           {
            "marker": {
             "colorbar": {
              "outlinewidth": 0,
              "ticks": ""
             }
            },
            "type": "scatterternary"
           }
          ],
          "surface": [
           {
            "colorbar": {
             "outlinewidth": 0,
             "ticks": ""
            },
            "colorscale": [
             [
              0,
              "#0d0887"
             ],
             [
              0.1111111111111111,
              "#46039f"
             ],
             [
              0.2222222222222222,
              "#7201a8"
             ],
             [
              0.3333333333333333,
              "#9c179e"
             ],
             [
              0.4444444444444444,
              "#bd3786"
             ],
             [
              0.5555555555555556,
              "#d8576b"
             ],
             [
              0.6666666666666666,
              "#ed7953"
             ],
             [
              0.7777777777777778,
              "#fb9f3a"
             ],
             [
              0.8888888888888888,
              "#fdca26"
             ],
             [
              1,
              "#f0f921"
             ]
            ],
            "type": "surface"
           }
          ],
          "table": [
           {
            "cells": {
             "fill": {
              "color": "#EBF0F8"
             },
             "line": {
              "color": "white"
             }
            },
            "header": {
             "fill": {
              "color": "#C8D4E3"
             },
             "line": {
              "color": "white"
             }
            },
            "type": "table"
           }
          ]
         },
         "layout": {
          "annotationdefaults": {
           "arrowcolor": "#2a3f5f",
           "arrowhead": 0,
           "arrowwidth": 1
          },
          "autotypenumbers": "strict",
          "coloraxis": {
           "colorbar": {
            "outlinewidth": 0,
            "ticks": ""
           }
          },
          "colorscale": {
           "diverging": [
            [
             0,
             "#8e0152"
            ],
            [
             0.1,
             "#c51b7d"
            ],
            [
             0.2,
             "#de77ae"
            ],
            [
             0.3,
             "#f1b6da"
            ],
            [
             0.4,
             "#fde0ef"
            ],
            [
             0.5,
             "#f7f7f7"
            ],
            [
             0.6,
             "#e6f5d0"
            ],
            [
             0.7,
             "#b8e186"
            ],
            [
             0.8,
             "#7fbc41"
            ],
            [
             0.9,
             "#4d9221"
            ],
            [
             1,
             "#276419"
            ]
           ],
           "sequential": [
            [
             0,
             "#0d0887"
            ],
            [
             0.1111111111111111,
             "#46039f"
            ],
            [
             0.2222222222222222,
             "#7201a8"
            ],
            [
             0.3333333333333333,
             "#9c179e"
            ],
            [
             0.4444444444444444,
             "#bd3786"
            ],
            [
             0.5555555555555556,
             "#d8576b"
            ],
            [
             0.6666666666666666,
             "#ed7953"
            ],
            [
             0.7777777777777778,
             "#fb9f3a"
            ],
            [
             0.8888888888888888,
             "#fdca26"
            ],
            [
             1,
             "#f0f921"
            ]
           ],
           "sequentialminus": [
            [
             0,
             "#0d0887"
            ],
            [
             0.1111111111111111,
             "#46039f"
            ],
            [
             0.2222222222222222,
             "#7201a8"
            ],
            [
             0.3333333333333333,
             "#9c179e"
            ],
            [
             0.4444444444444444,
             "#bd3786"
            ],
            [
             0.5555555555555556,
             "#d8576b"
            ],
            [
             0.6666666666666666,
             "#ed7953"
            ],
            [
             0.7777777777777778,
             "#fb9f3a"
            ],
            [
             0.8888888888888888,
             "#fdca26"
            ],
            [
             1,
             "#f0f921"
            ]
           ]
          },
          "colorway": [
           "#636efa",
           "#EF553B",
           "#00cc96",
           "#ab63fa",
           "#FFA15A",
           "#19d3f3",
           "#FF6692",
           "#B6E880",
           "#FF97FF",
           "#FECB52"
          ],
          "font": {
           "color": "#2a3f5f"
          },
          "geo": {
           "bgcolor": "white",
           "lakecolor": "white",
           "landcolor": "#E5ECF6",
           "showlakes": true,
           "showland": true,
           "subunitcolor": "white"
          },
          "hoverlabel": {
           "align": "left"
          },
          "hovermode": "closest",
          "mapbox": {
           "style": "light"
          },
          "paper_bgcolor": "white",
          "plot_bgcolor": "#E5ECF6",
          "polar": {
           "angularaxis": {
            "gridcolor": "white",
            "linecolor": "white",
            "ticks": ""
           },
           "bgcolor": "#E5ECF6",
           "radialaxis": {
            "gridcolor": "white",
            "linecolor": "white",
            "ticks": ""
           }
          },
          "scene": {
           "xaxis": {
            "backgroundcolor": "#E5ECF6",
            "gridcolor": "white",
            "gridwidth": 2,
            "linecolor": "white",
            "showbackground": true,
            "ticks": "",
            "zerolinecolor": "white"
           },
           "yaxis": {
            "backgroundcolor": "#E5ECF6",
            "gridcolor": "white",
            "gridwidth": 2,
            "linecolor": "white",
            "showbackground": true,
            "ticks": "",
            "zerolinecolor": "white"
           },
           "zaxis": {
            "backgroundcolor": "#E5ECF6",
            "gridcolor": "white",
            "gridwidth": 2,
            "linecolor": "white",
            "showbackground": true,
            "ticks": "",
            "zerolinecolor": "white"
           }
          },
          "shapedefaults": {
           "line": {
            "color": "#2a3f5f"
           }
          },
          "ternary": {
           "aaxis": {
            "gridcolor": "white",
            "linecolor": "white",
            "ticks": ""
           },
           "baxis": {
            "gridcolor": "white",
            "linecolor": "white",
            "ticks": ""
           },
           "bgcolor": "#E5ECF6",
           "caxis": {
            "gridcolor": "white",
            "linecolor": "white",
            "ticks": ""
           }
          },
          "title": {
           "x": 0.05
          },
          "xaxis": {
           "automargin": true,
           "gridcolor": "white",
           "linecolor": "white",
           "ticks": "",
           "title": {
            "standoff": 15
           },
           "zerolinecolor": "white",
           "zerolinewidth": 2
          },
          "yaxis": {
           "automargin": true,
           "gridcolor": "white",
           "linecolor": "white",
           "ticks": "",
           "title": {
            "standoff": 15
           },
           "zerolinecolor": "white",
           "zerolinewidth": 2
          }
         }
        },
        "width": 1000,
        "xaxis": {
         "anchor": "y",
         "domain": [
          0,
          1
         ],
         "title": {
          "text": "Freedom"
         }
        },
        "yaxis": {
         "anchor": "x",
         "domain": [
          0,
          1
         ],
         "title": {
          "text": "Election"
         }
        }
       }
      }
     },
     "metadata": {},
     "output_type": "display_data"
    }
   ],
   "source": [
    "fig6 = px.scatter(fdata,height=500,width=1000,x='Freedom',y='Election',color='Region',hover_name='Country',size='2021')\n",
    "fig6.show()"
   ]
  },
  {
   "cell_type": "markdown",
   "metadata": {
    "id": "Tt60tRIvAOsf"
   },
   "source": [
    "* 一般來說我們會說選舉與自由是存在絕對關係的關係的，也就是說有選舉必定伴隨著自由，但由上圖可以發現 **香港 (高自由指標、低選舉指標)** 和 **伊拉克 (低自由指標、高選舉指標)** 分別是兩種不同形式的違背了前段論述"
   ]
  },
  {
   "cell_type": "code",
   "execution_count": 25,
   "metadata": {
    "colab": {
     "base_uri": "https://localhost:8080/",
     "height": 1000
    },
    "id": "ArALko-0chZR",
    "outputId": "65c7f4e6-9a2d-40f6-aa3a-326dda6eae83"
   },
   "outputs": [
    {
     "data": {
      "application/vnd.plotly.v1+json": {
       "config": {
        "plotlyServerURL": "https://plot.ly"
       },
       "data": [
        {
         "alignmentgroup": "True",
         "hovertemplate": "Region=%{x}<br>count=%{y}<extra></extra>",
         "legendgroup": "Western Europe",
         "marker": {
          "color": "#636efa",
          "pattern": {
           "shape": ""
          }
         },
         "name": "Western Europe",
         "offsetgroup": "Western Europe",
         "orientation": "v",
         "showlegend": true,
         "textposition": "auto",
         "type": "bar",
         "x": [
          "Western Europe",
          "Western Europe",
          "Western Europe",
          "Western Europe",
          "Western Europe",
          "Western Europe",
          "Western Europe",
          "Western Europe",
          "Western Europe",
          "Western Europe",
          "Western Europe",
          "Western Europe",
          "Western Europe",
          "Western Europe",
          "Western Europe",
          "Western Europe",
          "Western Europe",
          "Western Europe",
          "Western Europe",
          "Western Europe",
          "Western Europe"
         ],
         "xaxis": "x",
         "y": [
          1,
          1,
          1,
          1,
          1,
          1,
          1,
          1,
          1,
          1,
          1,
          1,
          1,
          1,
          1,
          1,
          1,
          1,
          1,
          1,
          1
         ],
         "yaxis": "y"
        },
        {
         "alignmentgroup": "True",
         "hovertemplate": "Region=%{x}<br>count=%{y}<extra></extra>",
         "legendgroup": "Asia and Australasia",
         "marker": {
          "color": "#EF553B",
          "pattern": {
           "shape": ""
          }
         },
         "name": "Asia and Australasia",
         "offsetgroup": "Asia and Australasia",
         "orientation": "v",
         "showlegend": true,
         "textposition": "auto",
         "type": "bar",
         "x": [
          "Asia and Australasia",
          "Asia and Australasia",
          "Asia and Australasia",
          "Asia and Australasia",
          "Asia and Australasia",
          "Asia and Australasia",
          "Asia and Australasia",
          "Asia and Australasia",
          "Asia and Australasia",
          "Asia and Australasia",
          "Asia and Australasia",
          "Asia and Australasia",
          "Asia and Australasia",
          "Asia and Australasia",
          "Asia and Australasia",
          "Asia and Australasia",
          "Asia and Australasia",
          "Asia and Australasia",
          "Asia and Australasia",
          "Asia and Australasia",
          "Asia and Australasia",
          "Asia and Australasia",
          "Asia and Australasia",
          "Asia and Australasia",
          "Asia and Australasia",
          "Asia and Australasia",
          "Asia and Australasia",
          "Asia and Australasia"
         ],
         "xaxis": "x",
         "y": [
          1,
          1,
          1,
          1,
          1,
          1,
          1,
          1,
          1,
          1,
          1,
          1,
          1,
          1,
          1,
          1,
          1,
          1,
          1,
          1,
          1,
          1,
          1,
          1,
          1,
          1,
          1,
          1
         ],
         "yaxis": "y"
        },
        {
         "alignmentgroup": "True",
         "hovertemplate": "Region=%{x}<br>count=%{y}<extra></extra>",
         "legendgroup": "North America",
         "marker": {
          "color": "#00cc96",
          "pattern": {
           "shape": ""
          }
         },
         "name": "North America",
         "offsetgroup": "North America",
         "orientation": "v",
         "showlegend": true,
         "textposition": "auto",
         "type": "bar",
         "x": [
          "North America",
          "North America"
         ],
         "xaxis": "x",
         "y": [
          1,
          1
         ],
         "yaxis": "y"
        },
        {
         "alignmentgroup": "True",
         "hovertemplate": "Region=%{x}<br>count=%{y}<extra></extra>",
         "legendgroup": "Latin America and the Caribbean",
         "marker": {
          "color": "#ab63fa",
          "pattern": {
           "shape": ""
          }
         },
         "name": "Latin America and the Caribbean",
         "offsetgroup": "Latin America and the Caribbean",
         "orientation": "v",
         "showlegend": true,
         "textposition": "auto",
         "type": "bar",
         "x": [
          "Latin America and the Caribbean",
          "Latin America and the Caribbean",
          "Latin America and the Caribbean",
          "Latin America and the Caribbean",
          "Latin America and the Caribbean",
          "Latin America and the Caribbean",
          "Latin America and the Caribbean",
          "Latin America and the Caribbean",
          "Latin America and the Caribbean",
          "Latin America and the Caribbean",
          "Latin America and the Caribbean",
          "Latin America and the Caribbean",
          "Latin America and the Caribbean",
          "Latin America and the Caribbean",
          "Latin America and the Caribbean",
          "Latin America and the Caribbean",
          "Latin America and the Caribbean",
          "Latin America and the Caribbean",
          "Latin America and the Caribbean",
          "Latin America and the Caribbean",
          "Latin America and the Caribbean",
          "Latin America and the Caribbean",
          "Latin America and the Caribbean",
          "Latin America and the Caribbean"
         ],
         "xaxis": "x",
         "y": [
          1,
          1,
          1,
          1,
          1,
          1,
          1,
          1,
          1,
          1,
          1,
          1,
          1,
          1,
          1,
          1,
          1,
          1,
          1,
          1,
          1,
          1,
          1,
          1
         ],
         "yaxis": "y"
        },
        {
         "alignmentgroup": "True",
         "hovertemplate": "Region=%{x}<br>count=%{y}<extra></extra>",
         "legendgroup": "Sub-Saharan Africa",
         "marker": {
          "color": "#FFA15A",
          "pattern": {
           "shape": ""
          }
         },
         "name": "Sub-Saharan Africa",
         "offsetgroup": "Sub-Saharan Africa",
         "orientation": "v",
         "showlegend": true,
         "textposition": "auto",
         "type": "bar",
         "x": [
          "Sub-Saharan Africa",
          "Sub-Saharan Africa",
          "Sub-Saharan Africa",
          "Sub-Saharan Africa",
          "Sub-Saharan Africa",
          "Sub-Saharan Africa",
          "Sub-Saharan Africa",
          "Sub-Saharan Africa",
          "Sub-Saharan Africa",
          "Sub-Saharan Africa",
          "Sub-Saharan Africa",
          "Sub-Saharan Africa",
          "Sub-Saharan Africa",
          "Sub-Saharan Africa",
          "Sub-Saharan Africa",
          "Sub-Saharan Africa",
          "Sub-Saharan Africa",
          "Sub-Saharan Africa",
          "Sub-Saharan Africa",
          "Sub-Saharan Africa",
          "Sub-Saharan Africa",
          "Sub-Saharan Africa",
          "Sub-Saharan Africa",
          "Sub-Saharan Africa",
          "Sub-Saharan Africa",
          "Sub-Saharan Africa",
          "Sub-Saharan Africa",
          "Sub-Saharan Africa",
          "Sub-Saharan Africa",
          "Sub-Saharan Africa",
          "Sub-Saharan Africa",
          "Sub-Saharan Africa",
          "Sub-Saharan Africa",
          "Sub-Saharan Africa",
          "Sub-Saharan Africa",
          "Sub-Saharan Africa",
          "Sub-Saharan Africa",
          "Sub-Saharan Africa",
          "Sub-Saharan Africa",
          "Sub-Saharan Africa",
          "Sub-Saharan Africa",
          "Sub-Saharan Africa",
          "Sub-Saharan Africa",
          "Sub-Saharan Africa"
         ],
         "xaxis": "x",
         "y": [
          1,
          1,
          1,
          1,
          1,
          1,
          1,
          1,
          1,
          1,
          1,
          1,
          1,
          1,
          1,
          1,
          1,
          1,
          1,
          1,
          1,
          1,
          1,
          1,
          1,
          1,
          1,
          1,
          1,
          1,
          1,
          1,
          1,
          1,
          1,
          1,
          1,
          1,
          1,
          1,
          1,
          1,
          1,
          1
         ],
         "yaxis": "y"
        },
        {
         "alignmentgroup": "True",
         "hovertemplate": "Region=%{x}<br>count=%{y}<extra></extra>",
         "legendgroup": "Middle East and North Africa",
         "marker": {
          "color": "#19d3f3",
          "pattern": {
           "shape": ""
          }
         },
         "name": "Middle East and North Africa",
         "offsetgroup": "Middle East and North Africa",
         "orientation": "v",
         "showlegend": true,
         "textposition": "auto",
         "type": "bar",
         "x": [
          "Middle East and North Africa",
          "Middle East and North Africa",
          "Middle East and North Africa",
          "Middle East and North Africa",
          "Middle East and North Africa",
          "Middle East and North Africa",
          "Middle East and North Africa",
          "Middle East and North Africa",
          "Middle East and North Africa",
          "Middle East and North Africa",
          "Middle East and North Africa",
          "Middle East and North Africa",
          "Middle East and North Africa",
          "Middle East and North Africa",
          "Middle East and North Africa",
          "Middle East and North Africa",
          "Middle East and North Africa",
          "Middle East and North Africa",
          "Middle East and North Africa",
          "Middle East and North Africa"
         ],
         "xaxis": "x",
         "y": [
          1,
          1,
          1,
          1,
          1,
          1,
          1,
          1,
          1,
          1,
          1,
          1,
          1,
          1,
          1,
          1,
          1,
          1,
          1,
          1
         ],
         "yaxis": "y"
        },
        {
         "alignmentgroup": "True",
         "hovertemplate": "Region=%{x}<br>count=%{y}<extra></extra>",
         "legendgroup": "Central and Eastern Europe",
         "marker": {
          "color": "#FF6692",
          "pattern": {
           "shape": ""
          }
         },
         "name": "Central and Eastern Europe",
         "offsetgroup": "Central and Eastern Europe",
         "orientation": "v",
         "showlegend": true,
         "textposition": "auto",
         "type": "bar",
         "x": [
          "Central and Eastern Europe",
          "Central and Eastern Europe",
          "Central and Eastern Europe",
          "Central and Eastern Europe",
          "Central and Eastern Europe",
          "Central and Eastern Europe",
          "Central and Eastern Europe",
          "Central and Eastern Europe",
          "Central and Eastern Europe",
          "Central and Eastern Europe",
          "Central and Eastern Europe",
          "Central and Eastern Europe",
          "Central and Eastern Europe",
          "Central and Eastern Europe",
          "Central and Eastern Europe",
          "Central and Eastern Europe",
          "Central and Eastern Europe",
          "Central and Eastern Europe",
          "Central and Eastern Europe",
          "Central and Eastern Europe",
          "Central and Eastern Europe",
          "Central and Eastern Europe",
          "Central and Eastern Europe",
          "Central and Eastern Europe",
          "Central and Eastern Europe",
          "Central and Eastern Europe",
          "Central and Eastern Europe",
          "Central and Eastern Europe"
         ],
         "xaxis": "x",
         "y": [
          1,
          1,
          1,
          1,
          1,
          1,
          1,
          1,
          1,
          1,
          1,
          1,
          1,
          1,
          1,
          1,
          1,
          1,
          1,
          1,
          1,
          1,
          1,
          1,
          1,
          1,
          1,
          1
         ],
         "yaxis": "y"
        }
       ],
       "layout": {
        "barmode": "relative",
        "height": 500,
        "legend": {
         "title": {
          "text": "Region"
         },
         "tracegroupgap": 0
        },
        "margin": {
         "t": 60
        },
        "template": {
         "data": {
          "bar": [
           {
            "error_x": {
             "color": "#2a3f5f"
            },
            "error_y": {
             "color": "#2a3f5f"
            },
            "marker": {
             "line": {
              "color": "#E5ECF6",
              "width": 0.5
             },
             "pattern": {
              "fillmode": "overlay",
              "size": 10,
              "solidity": 0.2
             }
            },
            "type": "bar"
           }
          ],
          "barpolar": [
           {
            "marker": {
             "line": {
              "color": "#E5ECF6",
              "width": 0.5
             },
             "pattern": {
              "fillmode": "overlay",
              "size": 10,
              "solidity": 0.2
             }
            },
            "type": "barpolar"
           }
          ],
          "carpet": [
           {
            "aaxis": {
             "endlinecolor": "#2a3f5f",
             "gridcolor": "white",
             "linecolor": "white",
             "minorgridcolor": "white",
             "startlinecolor": "#2a3f5f"
            },
            "baxis": {
             "endlinecolor": "#2a3f5f",
             "gridcolor": "white",
             "linecolor": "white",
             "minorgridcolor": "white",
             "startlinecolor": "#2a3f5f"
            },
            "type": "carpet"
           }
          ],
          "choropleth": [
           {
            "colorbar": {
             "outlinewidth": 0,
             "ticks": ""
            },
            "type": "choropleth"
           }
          ],
          "contour": [
           {
            "colorbar": {
             "outlinewidth": 0,
             "ticks": ""
            },
            "colorscale": [
             [
              0,
              "#0d0887"
             ],
             [
              0.1111111111111111,
              "#46039f"
             ],
             [
              0.2222222222222222,
              "#7201a8"
             ],
             [
              0.3333333333333333,
              "#9c179e"
             ],
             [
              0.4444444444444444,
              "#bd3786"
             ],
             [
              0.5555555555555556,
              "#d8576b"
             ],
             [
              0.6666666666666666,
              "#ed7953"
             ],
             [
              0.7777777777777778,
              "#fb9f3a"
             ],
             [
              0.8888888888888888,
              "#fdca26"
             ],
             [
              1,
              "#f0f921"
             ]
            ],
            "type": "contour"
           }
          ],
          "contourcarpet": [
           {
            "colorbar": {
             "outlinewidth": 0,
             "ticks": ""
            },
            "type": "contourcarpet"
           }
          ],
          "heatmap": [
           {
            "colorbar": {
             "outlinewidth": 0,
             "ticks": ""
            },
            "colorscale": [
             [
              0,
              "#0d0887"
             ],
             [
              0.1111111111111111,
              "#46039f"
             ],
             [
              0.2222222222222222,
              "#7201a8"
             ],
             [
              0.3333333333333333,
              "#9c179e"
             ],
             [
              0.4444444444444444,
              "#bd3786"
             ],
             [
              0.5555555555555556,
              "#d8576b"
             ],
             [
              0.6666666666666666,
              "#ed7953"
             ],
             [
              0.7777777777777778,
              "#fb9f3a"
             ],
             [
              0.8888888888888888,
              "#fdca26"
             ],
             [
              1,
              "#f0f921"
             ]
            ],
            "type": "heatmap"
           }
          ],
          "heatmapgl": [
           {
            "colorbar": {
             "outlinewidth": 0,
             "ticks": ""
            },
            "colorscale": [
             [
              0,
              "#0d0887"
             ],
             [
              0.1111111111111111,
              "#46039f"
             ],
             [
              0.2222222222222222,
              "#7201a8"
             ],
             [
              0.3333333333333333,
              "#9c179e"
             ],
             [
              0.4444444444444444,
              "#bd3786"
             ],
             [
              0.5555555555555556,
              "#d8576b"
             ],
             [
              0.6666666666666666,
              "#ed7953"
             ],
             [
              0.7777777777777778,
              "#fb9f3a"
             ],
             [
              0.8888888888888888,
              "#fdca26"
             ],
             [
              1,
              "#f0f921"
             ]
            ],
            "type": "heatmapgl"
           }
          ],
          "histogram": [
           {
            "marker": {
             "pattern": {
              "fillmode": "overlay",
              "size": 10,
              "solidity": 0.2
             }
            },
            "type": "histogram"
           }
          ],
          "histogram2d": [
           {
            "colorbar": {
             "outlinewidth": 0,
             "ticks": ""
            },
            "colorscale": [
             [
              0,
              "#0d0887"
             ],
             [
              0.1111111111111111,
              "#46039f"
             ],
             [
              0.2222222222222222,
              "#7201a8"
             ],
             [
              0.3333333333333333,
              "#9c179e"
             ],
             [
              0.4444444444444444,
              "#bd3786"
             ],
             [
              0.5555555555555556,
              "#d8576b"
             ],
             [
              0.6666666666666666,
              "#ed7953"
             ],
             [
              0.7777777777777778,
              "#fb9f3a"
             ],
             [
              0.8888888888888888,
              "#fdca26"
             ],
             [
              1,
              "#f0f921"
             ]
            ],
            "type": "histogram2d"
           }
          ],
          "histogram2dcontour": [
           {
            "colorbar": {
             "outlinewidth": 0,
             "ticks": ""
            },
            "colorscale": [
             [
              0,
              "#0d0887"
             ],
             [
              0.1111111111111111,
              "#46039f"
             ],
             [
              0.2222222222222222,
              "#7201a8"
             ],
             [
              0.3333333333333333,
              "#9c179e"
             ],
             [
              0.4444444444444444,
              "#bd3786"
             ],
             [
              0.5555555555555556,
              "#d8576b"
             ],
             [
              0.6666666666666666,
              "#ed7953"
             ],
             [
              0.7777777777777778,
              "#fb9f3a"
             ],
             [
              0.8888888888888888,
              "#fdca26"
             ],
             [
              1,
              "#f0f921"
             ]
            ],
            "type": "histogram2dcontour"
           }
          ],
          "mesh3d": [
           {
            "colorbar": {
             "outlinewidth": 0,
             "ticks": ""
            },
            "type": "mesh3d"
           }
          ],
          "parcoords": [
           {
            "line": {
             "colorbar": {
              "outlinewidth": 0,
              "ticks": ""
             }
            },
            "type": "parcoords"
           }
          ],
          "pie": [
           {
            "automargin": true,
            "type": "pie"
           }
          ],
          "scatter": [
           {
            "fillpattern": {
             "fillmode": "overlay",
             "size": 10,
             "solidity": 0.2
            },
            "type": "scatter"
           }
          ],
          "scatter3d": [
           {
            "line": {
             "colorbar": {
              "outlinewidth": 0,
              "ticks": ""
             }
            },
            "marker": {
             "colorbar": {
              "outlinewidth": 0,
              "ticks": ""
             }
            },
            "type": "scatter3d"
           }
          ],
          "scattercarpet": [
           {
            "marker": {
             "colorbar": {
              "outlinewidth": 0,
              "ticks": ""
             }
            },
            "type": "scattercarpet"
           }
          ],
          "scattergeo": [
           {
            "marker": {
             "colorbar": {
              "outlinewidth": 0,
              "ticks": ""
             }
            },
            "type": "scattergeo"
           }
          ],
          "scattergl": [
           {
            "marker": {
             "colorbar": {
              "outlinewidth": 0,
              "ticks": ""
             }
            },
            "type": "scattergl"
           }
          ],
          "scattermapbox": [
           {
            "marker": {
             "colorbar": {
              "outlinewidth": 0,
              "ticks": ""
             }
            },
            "type": "scattermapbox"
           }
          ],
          "scatterpolar": [
           {
            "marker": {
             "colorbar": {
              "outlinewidth": 0,
              "ticks": ""
             }
            },
            "type": "scatterpolar"
           }
          ],
          "scatterpolargl": [
           {
            "marker": {
             "colorbar": {
              "outlinewidth": 0,
              "ticks": ""
             }
            },
            "type": "scatterpolargl"
           }
          ],
          "scatterternary": [
           {
            "marker": {
             "colorbar": {
              "outlinewidth": 0,
              "ticks": ""
             }
            },
            "type": "scatterternary"
           }
          ],
          "surface": [
           {
            "colorbar": {
             "outlinewidth": 0,
             "ticks": ""
            },
            "colorscale": [
             [
              0,
              "#0d0887"
             ],
             [
              0.1111111111111111,
              "#46039f"
             ],
             [
              0.2222222222222222,
              "#7201a8"
             ],
             [
              0.3333333333333333,
              "#9c179e"
             ],
             [
              0.4444444444444444,
              "#bd3786"
             ],
             [
              0.5555555555555556,
              "#d8576b"
             ],
             [
              0.6666666666666666,
              "#ed7953"
             ],
             [
              0.7777777777777778,
              "#fb9f3a"
             ],
             [
              0.8888888888888888,
              "#fdca26"
             ],
             [
              1,
              "#f0f921"
             ]
            ],
            "type": "surface"
           }
          ],
          "table": [
           {
            "cells": {
             "fill": {
              "color": "#EBF0F8"
             },
             "line": {
              "color": "white"
             }
            },
            "header": {
             "fill": {
              "color": "#C8D4E3"
             },
             "line": {
              "color": "white"
             }
            },
            "type": "table"
           }
          ]
         },
         "layout": {
          "annotationdefaults": {
           "arrowcolor": "#2a3f5f",
           "arrowhead": 0,
           "arrowwidth": 1
          },
          "autotypenumbers": "strict",
          "coloraxis": {
           "colorbar": {
            "outlinewidth": 0,
            "ticks": ""
           }
          },
          "colorscale": {
           "diverging": [
            [
             0,
             "#8e0152"
            ],
            [
             0.1,
             "#c51b7d"
            ],
            [
             0.2,
             "#de77ae"
            ],
            [
             0.3,
             "#f1b6da"
            ],
            [
             0.4,
             "#fde0ef"
            ],
            [
             0.5,
             "#f7f7f7"
            ],
            [
             0.6,
             "#e6f5d0"
            ],
            [
             0.7,
             "#b8e186"
            ],
            [
             0.8,
             "#7fbc41"
            ],
            [
             0.9,
             "#4d9221"
            ],
            [
             1,
             "#276419"
            ]
           ],
           "sequential": [
            [
             0,
             "#0d0887"
            ],
            [
             0.1111111111111111,
             "#46039f"
            ],
            [
             0.2222222222222222,
             "#7201a8"
            ],
            [
             0.3333333333333333,
             "#9c179e"
            ],
            [
             0.4444444444444444,
             "#bd3786"
            ],
            [
             0.5555555555555556,
             "#d8576b"
            ],
            [
             0.6666666666666666,
             "#ed7953"
            ],
            [
             0.7777777777777778,
             "#fb9f3a"
            ],
            [
             0.8888888888888888,
             "#fdca26"
            ],
            [
             1,
             "#f0f921"
            ]
           ],
           "sequentialminus": [
            [
             0,
             "#0d0887"
            ],
            [
             0.1111111111111111,
             "#46039f"
            ],
            [
             0.2222222222222222,
             "#7201a8"
            ],
            [
             0.3333333333333333,
             "#9c179e"
            ],
            [
             0.4444444444444444,
             "#bd3786"
            ],
            [
             0.5555555555555556,
             "#d8576b"
            ],
            [
             0.6666666666666666,
             "#ed7953"
            ],
            [
             0.7777777777777778,
             "#fb9f3a"
            ],
            [
             0.8888888888888888,
             "#fdca26"
            ],
            [
             1,
             "#f0f921"
            ]
           ]
          },
          "colorway": [
           "#636efa",
           "#EF553B",
           "#00cc96",
           "#ab63fa",
           "#FFA15A",
           "#19d3f3",
           "#FF6692",
           "#B6E880",
           "#FF97FF",
           "#FECB52"
          ],
          "font": {
           "color": "#2a3f5f"
          },
          "geo": {
           "bgcolor": "white",
           "lakecolor": "white",
           "landcolor": "#E5ECF6",
           "showlakes": true,
           "showland": true,
           "subunitcolor": "white"
          },
          "hoverlabel": {
           "align": "left"
          },
          "hovermode": "closest",
          "mapbox": {
           "style": "light"
          },
          "paper_bgcolor": "white",
          "plot_bgcolor": "#E5ECF6",
          "polar": {
           "angularaxis": {
            "gridcolor": "white",
            "linecolor": "white",
            "ticks": ""
           },
           "bgcolor": "#E5ECF6",
           "radialaxis": {
            "gridcolor": "white",
            "linecolor": "white",
            "ticks": ""
           }
          },
          "scene": {
           "xaxis": {
            "backgroundcolor": "#E5ECF6",
            "gridcolor": "white",
            "gridwidth": 2,
            "linecolor": "white",
            "showbackground": true,
            "ticks": "",
            "zerolinecolor": "white"
           },
           "yaxis": {
            "backgroundcolor": "#E5ECF6",
            "gridcolor": "white",
            "gridwidth": 2,
            "linecolor": "white",
            "showbackground": true,
            "ticks": "",
            "zerolinecolor": "white"
           },
           "zaxis": {
            "backgroundcolor": "#E5ECF6",
            "gridcolor": "white",
            "gridwidth": 2,
            "linecolor": "white",
            "showbackground": true,
            "ticks": "",
            "zerolinecolor": "white"
           }
          },
          "shapedefaults": {
           "line": {
            "color": "#2a3f5f"
           }
          },
          "ternary": {
           "aaxis": {
            "gridcolor": "white",
            "linecolor": "white",
            "ticks": ""
           },
           "baxis": {
            "gridcolor": "white",
            "linecolor": "white",
            "ticks": ""
           },
           "bgcolor": "#E5ECF6",
           "caxis": {
            "gridcolor": "white",
            "linecolor": "white",
            "ticks": ""
           }
          },
          "title": {
           "x": 0.05
          },
          "xaxis": {
           "automargin": true,
           "gridcolor": "white",
           "linecolor": "white",
           "ticks": "",
           "title": {
            "standoff": 15
           },
           "zerolinecolor": "white",
           "zerolinewidth": 2
          },
          "yaxis": {
           "automargin": true,
           "gridcolor": "white",
           "linecolor": "white",
           "ticks": "",
           "title": {
            "standoff": 15
           },
           "zerolinecolor": "white",
           "zerolinewidth": 2
          }
         }
        },
        "width": 1000,
        "xaxis": {
         "anchor": "y",
         "categoryarray": [
          "Western Europe",
          "Asia and Australasia",
          "North America",
          "Latin America and the Caribbean",
          "Sub-Saharan Africa",
          "Middle East and North Africa",
          "Central and Eastern Europe"
         ],
         "categoryorder": "array",
         "domain": [
          0,
          1
         ],
         "title": {
          "text": "Region"
         }
        },
        "yaxis": {
         "anchor": "x",
         "domain": [
          0,
          1
         ],
         "title": {
          "text": "count"
         }
        }
       }
      }
     },
     "metadata": {},
     "output_type": "display_data"
    },
    {
     "data": {
      "application/vnd.plotly.v1+json": {
       "config": {
        "plotlyServerURL": "https://plot.ly"
       },
       "data": [
        {
         "alignmentgroup": "True",
         "hovertemplate": "<b>%{hovertext}</b><br><br>Region=Western Europe<br>Regime type=%{x}<br>count=%{y}<extra></extra>",
         "hovertext": [
          "Norway",
          "Finland",
          "Sweden",
          "Iceland",
          "Denmark",
          "Ireland",
          "Switzerland",
          "Netherlands",
          "Luxembourg",
          "Germany",
          "United Kingdom",
          "Austria",
          "France",
          "Spain",
          "Portugal",
          "Italy",
          "Malta",
          "Greece",
          "Belgium",
          "Cyprus",
          "Turkey"
         ],
         "legendgroup": "Western Europe",
         "marker": {
          "color": "#636efa",
          "pattern": {
           "shape": ""
          }
         },
         "name": "Western Europe",
         "offsetgroup": "Western Europe",
         "orientation": "v",
         "showlegend": true,
         "textposition": "auto",
         "type": "bar",
         "x": [
          "Full democracy",
          "Full democracy",
          "Full democracy",
          "Full democracy",
          "Full democracy",
          "Full democracy",
          "Full democracy",
          "Full democracy",
          "Full democracy",
          "Full democracy",
          "Full democracy",
          "Full democracy",
          "Flawed democracy",
          "Flawed democracy",
          "Flawed democracy",
          "Flawed democracy",
          "Flawed democracy",
          "Flawed democracy",
          "Flawed democracy",
          "Flawed democracy",
          "Hybrid regime"
         ],
         "xaxis": "x",
         "y": [
          1,
          1,
          1,
          1,
          1,
          1,
          1,
          1,
          1,
          1,
          1,
          1,
          1,
          1,
          1,
          1,
          1,
          1,
          1,
          1,
          1
         ],
         "yaxis": "y"
        },
        {
         "alignmentgroup": "True",
         "hovertemplate": "<b>%{hovertext}</b><br><br>Region=Asia and Australasia<br>Regime type=%{x}<br>count=%{y}<extra></extra>",
         "hovertext": [
          "New Zealand",
          "Taiwan",
          "Australia",
          "South Korea",
          "Japan",
          "Malaysia",
          "East Timor",
          "India",
          "Indonesia",
          "Philippines",
          "Mongolia",
          "Singapore",
          "Sri Lanka",
          "Papua New Guinea",
          "Thailand",
          "Bangladesh",
          "Bhutan",
          "Fiji",
          "Hong Kong",
          "Nepal",
          "Pakistan",
          "Vietnam",
          "Cambodia",
          "China",
          "Laos",
          "North Korea",
          "Myanmar",
          "Afghanistan"
         ],
         "legendgroup": "Asia and Australasia",
         "marker": {
          "color": "#EF553B",
          "pattern": {
           "shape": ""
          }
         },
         "name": "Asia and Australasia",
         "offsetgroup": "Asia and Australasia",
         "orientation": "v",
         "showlegend": true,
         "textposition": "auto",
         "type": "bar",
         "x": [
          "Full democracy",
          "Full democracy",
          "Full democracy",
          "Full democracy",
          "Full democracy",
          "Flawed democracy",
          "Flawed democracy",
          "Flawed democracy",
          "Flawed democracy",
          "Flawed democracy",
          "Flawed democracy",
          "Flawed democracy",
          "Flawed democracy",
          "Flawed democracy",
          "Flawed democracy",
          "Hybrid regime",
          "Hybrid regime",
          "Hybrid regime",
          "Hybrid regime",
          "Hybrid regime",
          "Hybrid regime",
          "Authoritarian",
          "Authoritarian",
          "Authoritarian",
          "Authoritarian",
          "Authoritarian",
          "Authoritarian",
          "Authoritarian"
         ],
         "xaxis": "x",
         "y": [
          1,
          1,
          1,
          1,
          1,
          1,
          1,
          1,
          1,
          1,
          1,
          1,
          1,
          1,
          1,
          1,
          1,
          1,
          1,
          1,
          1,
          1,
          1,
          1,
          1,
          1,
          1,
          1
         ],
         "yaxis": "y"
        },
        {
         "alignmentgroup": "True",
         "hovertemplate": "<b>%{hovertext}</b><br><br>Region=North America<br>Regime type=%{x}<br>count=%{y}<extra></extra>",
         "hovertext": [
          "Canada",
          "United States"
         ],
         "legendgroup": "North America",
         "marker": {
          "color": "#00cc96",
          "pattern": {
           "shape": ""
          }
         },
         "name": "North America",
         "offsetgroup": "North America",
         "orientation": "v",
         "showlegend": true,
         "textposition": "auto",
         "type": "bar",
         "x": [
          "Full democracy",
          "Flawed democracy"
         ],
         "xaxis": "x",
         "y": [
          1,
          1
         ],
         "yaxis": "y"
        },
        {
         "alignmentgroup": "True",
         "hovertemplate": "<b>%{hovertext}</b><br><br>Region=Latin America and the Caribbean<br>Regime type=%{x}<br>count=%{y}<extra></extra>",
         "hovertext": [
          "Uruguay",
          "Costa Rica",
          "Chile",
          "Trinidad and Tobago",
          "Jamaica",
          "Brazil",
          "Panama",
          "Suriname",
          "Argentina",
          "Colombia",
          "Dominican Republic",
          "Guyana",
          "Peru",
          "Paraguay",
          "El Salvador",
          "Ecuador",
          "Mexico",
          "Honduras",
          "Bolivia",
          "Guatemala",
          "Haiti",
          "Nicaragua",
          "Cuba",
          "Venezuela"
         ],
         "legendgroup": "Latin America and the Caribbean",
         "marker": {
          "color": "#ab63fa",
          "pattern": {
           "shape": ""
          }
         },
         "name": "Latin America and the Caribbean",
         "offsetgroup": "Latin America and the Caribbean",
         "orientation": "v",
         "showlegend": true,
         "textposition": "auto",
         "type": "bar",
         "x": [
          "Full democracy",
          "Full democracy",
          "Flawed democracy",
          "Flawed democracy",
          "Flawed democracy",
          "Flawed democracy",
          "Flawed democracy",
          "Flawed democracy",
          "Flawed democracy",
          "Flawed democracy",
          "Flawed democracy",
          "Flawed democracy",
          "Flawed democracy",
          "Hybrid regime",
          "Hybrid regime",
          "Hybrid regime",
          "Hybrid regime",
          "Hybrid regime",
          "Hybrid regime",
          "Hybrid regime",
          "Authoritarian",
          "Authoritarian",
          "Authoritarian",
          "Authoritarian"
         ],
         "xaxis": "x",
         "y": [
          1,
          1,
          1,
          1,
          1,
          1,
          1,
          1,
          1,
          1,
          1,
          1,
          1,
          1,
          1,
          1,
          1,
          1,
          1,
          1,
          1,
          1,
          1,
          1
         ],
         "yaxis": "y"
        },
        {
         "alignmentgroup": "True",
         "hovertemplate": "<b>%{hovertext}</b><br><br>Region=Sub-Saharan Africa<br>Regime type=%{x}<br>count=%{y}<extra></extra>",
         "hovertext": [
          "Mauritius",
          "Botswana",
          "Cape Verde",
          "South Africa",
          "Namibia",
          "Ghana",
          "Lesotho",
          "Malawi",
          "Zambia",
          "Madagascar",
          "Senegal",
          "Liberia",
          "Tanzania",
          "Kenya",
          "Sierra Leone",
          "Uganda",
          "Gambia",
          "Ivory Coast",
          "Benin",
          "Nigeria",
          "Mauritania",
          "Burkina Faso",
          "Mozambique",
          "Mali",
          "Gabon",
          "Angola",
          "Ethiopia",
          "Niger",
          "Comoros",
          "Rwanda",
          "Eswatini",
          "Zimbabwe",
          "Togo",
          "Republic of the Congo",
          "Guinea-Bissau",
          "Djibouti",
          "Cameroon",
          "Guinea",
          "Burundi",
          "Eritrea",
          "Equatorial Guinea",
          "Chad",
          "Central African Republic",
          "Democratic Republic of the Congo"
         ],
         "legendgroup": "Sub-Saharan Africa",
         "marker": {
          "color": "#FFA15A",
          "pattern": {
           "shape": ""
          }
         },
         "name": "Sub-Saharan Africa",
         "offsetgroup": "Sub-Saharan Africa",
         "orientation": "v",
         "showlegend": true,
         "textposition": "auto",
         "type": "bar",
         "x": [
          "Full democracy",
          "Flawed democracy",
          "Flawed democracy",
          "Flawed democracy",
          "Flawed democracy",
          "Flawed democracy",
          "Flawed democracy",
          "Hybrid regime",
          "Hybrid regime",
          "Hybrid regime",
          "Hybrid regime",
          "Hybrid regime",
          "Hybrid regime",
          "Hybrid regime",
          "Hybrid regime",
          "Hybrid regime",
          "Hybrid regime",
          "Hybrid regime",
          "Hybrid regime",
          "Hybrid regime",
          "Hybrid regime",
          "Authoritarian",
          "Authoritarian",
          "Authoritarian",
          "Authoritarian",
          "Authoritarian",
          "Authoritarian",
          "Authoritarian",
          "Authoritarian",
          "Authoritarian",
          "Authoritarian",
          "Authoritarian",
          "Authoritarian",
          "Authoritarian",
          "Authoritarian",
          "Authoritarian",
          "Authoritarian",
          "Authoritarian",
          "Authoritarian",
          "Authoritarian",
          "Authoritarian",
          "Authoritarian",
          "Authoritarian",
          "Authoritarian"
         ],
         "xaxis": "x",
         "y": [
          1,
          1,
          1,
          1,
          1,
          1,
          1,
          1,
          1,
          1,
          1,
          1,
          1,
          1,
          1,
          1,
          1,
          1,
          1,
          1,
          1,
          1,
          1,
          1,
          1,
          1,
          1,
          1,
          1,
          1,
          1,
          1,
          1,
          1,
          1,
          1,
          1,
          1,
          1,
          1,
          1,
          1,
          1,
          1
         ],
         "yaxis": "y"
        },
        {
         "alignmentgroup": "True",
         "hovertemplate": "<b>%{hovertext}</b><br><br>Region=Middle East and North Africa<br>Regime type=%{x}<br>count=%{y}<extra></extra>",
         "hovertext": [
          "Israel",
          "Tunisia",
          "Morocco",
          "Palestine",
          "Kuwait",
          "Lebanon",
          "Algeria",
          "Qatar",
          "Iraq",
          "Jordan",
          "Oman",
          "Egypt",
          "United Arab Emirates",
          "Bahrain",
          "Sudan",
          "Saudi Arabia",
          "Libya",
          "Yemen",
          "Iran",
          "Syria"
         ],
         "legendgroup": "Middle East and North Africa",
         "marker": {
          "color": "#19d3f3",
          "pattern": {
           "shape": ""
          }
         },
         "name": "Middle East and North Africa",
         "offsetgroup": "Middle East and North Africa",
         "orientation": "v",
         "showlegend": true,
         "textposition": "auto",
         "type": "bar",
         "x": [
          "Flawed democracy",
          "Hybrid regime",
          "Hybrid regime",
          "Authoritarian",
          "Authoritarian",
          "Authoritarian",
          "Authoritarian",
          "Authoritarian",
          "Authoritarian",
          "Authoritarian",
          "Authoritarian",
          "Authoritarian",
          "Authoritarian",
          "Authoritarian",
          "Authoritarian",
          "Authoritarian",
          "Authoritarian",
          "Authoritarian",
          "Authoritarian",
          "Authoritarian"
         ],
         "xaxis": "x",
         "y": [
          1,
          1,
          1,
          1,
          1,
          1,
          1,
          1,
          1,
          1,
          1,
          1,
          1,
          1,
          1,
          1,
          1,
          1,
          1,
          1
         ],
         "yaxis": "y"
        },
        {
         "alignmentgroup": "True",
         "hovertemplate": "<b>%{hovertext}</b><br><br>Region=Central and Eastern Europe<br>Regime type=%{x}<br>count=%{y}<extra></extra>",
         "hovertext": [
          "Estonia",
          "Czech Republic",
          "Slovenia",
          "Latvia",
          "Lithuania",
          "Slovakia",
          "Poland",
          "Bulgaria",
          "Croatia",
          "Hungary",
          "Romania",
          "Serbia",
          "Albania",
          "Moldova",
          "North Macedonia",
          "Montenegro",
          "Ukraine",
          "Armenia",
          "Georgia",
          "Bosnia and Herzegovina",
          "Kyrgyzstan",
          "Russia",
          "Kazakhstan",
          "Azerbaijan",
          "Belarus",
          "Uzbekistan",
          "Tajikistan",
          "Turkmenistan"
         ],
         "legendgroup": "Central and Eastern Europe",
         "marker": {
          "color": "#FF6692",
          "pattern": {
           "shape": ""
          }
         },
         "name": "Central and Eastern Europe",
         "offsetgroup": "Central and Eastern Europe",
         "orientation": "v",
         "showlegend": true,
         "textposition": "auto",
         "type": "bar",
         "x": [
          "Flawed democracy",
          "Flawed democracy",
          "Flawed democracy",
          "Flawed democracy",
          "Flawed democracy",
          "Flawed democracy",
          "Flawed democracy",
          "Flawed democracy",
          "Flawed democracy",
          "Flawed democracy",
          "Flawed democracy",
          "Flawed democracy",
          "Flawed democracy",
          "Flawed democracy",
          "Flawed democracy",
          "Flawed democracy",
          "Hybrid regime",
          "Hybrid regime",
          "Hybrid regime",
          "Hybrid regime",
          "Authoritarian",
          "Authoritarian",
          "Authoritarian",
          "Authoritarian",
          "Authoritarian",
          "Authoritarian",
          "Authoritarian",
          "Authoritarian"
         ],
         "xaxis": "x",
         "y": [
          1,
          1,
          1,
          1,
          1,
          1,
          1,
          1,
          1,
          1,
          1,
          1,
          1,
          1,
          1,
          1,
          1,
          1,
          1,
          1,
          1,
          1,
          1,
          1,
          1,
          1,
          1,
          1
         ],
         "yaxis": "y"
        }
       ],
       "layout": {
        "barmode": "relative",
        "height": 500,
        "legend": {
         "title": {
          "text": "Region"
         },
         "tracegroupgap": 0
        },
        "margin": {
         "t": 60
        },
        "template": {
         "data": {
          "bar": [
           {
            "error_x": {
             "color": "#2a3f5f"
            },
            "error_y": {
             "color": "#2a3f5f"
            },
            "marker": {
             "line": {
              "color": "#E5ECF6",
              "width": 0.5
             },
             "pattern": {
              "fillmode": "overlay",
              "size": 10,
              "solidity": 0.2
             }
            },
            "type": "bar"
           }
          ],
          "barpolar": [
           {
            "marker": {
             "line": {
              "color": "#E5ECF6",
              "width": 0.5
             },
             "pattern": {
              "fillmode": "overlay",
              "size": 10,
              "solidity": 0.2
             }
            },
            "type": "barpolar"
           }
          ],
          "carpet": [
           {
            "aaxis": {
             "endlinecolor": "#2a3f5f",
             "gridcolor": "white",
             "linecolor": "white",
             "minorgridcolor": "white",
             "startlinecolor": "#2a3f5f"
            },
            "baxis": {
             "endlinecolor": "#2a3f5f",
             "gridcolor": "white",
             "linecolor": "white",
             "minorgridcolor": "white",
             "startlinecolor": "#2a3f5f"
            },
            "type": "carpet"
           }
          ],
          "choropleth": [
           {
            "colorbar": {
             "outlinewidth": 0,
             "ticks": ""
            },
            "type": "choropleth"
           }
          ],
          "contour": [
           {
            "colorbar": {
             "outlinewidth": 0,
             "ticks": ""
            },
            "colorscale": [
             [
              0,
              "#0d0887"
             ],
             [
              0.1111111111111111,
              "#46039f"
             ],
             [
              0.2222222222222222,
              "#7201a8"
             ],
             [
              0.3333333333333333,
              "#9c179e"
             ],
             [
              0.4444444444444444,
              "#bd3786"
             ],
             [
              0.5555555555555556,
              "#d8576b"
             ],
             [
              0.6666666666666666,
              "#ed7953"
             ],
             [
              0.7777777777777778,
              "#fb9f3a"
             ],
             [
              0.8888888888888888,
              "#fdca26"
             ],
             [
              1,
              "#f0f921"
             ]
            ],
            "type": "contour"
           }
          ],
          "contourcarpet": [
           {
            "colorbar": {
             "outlinewidth": 0,
             "ticks": ""
            },
            "type": "contourcarpet"
           }
          ],
          "heatmap": [
           {
            "colorbar": {
             "outlinewidth": 0,
             "ticks": ""
            },
            "colorscale": [
             [
              0,
              "#0d0887"
             ],
             [
              0.1111111111111111,
              "#46039f"
             ],
             [
              0.2222222222222222,
              "#7201a8"
             ],
             [
              0.3333333333333333,
              "#9c179e"
             ],
             [
              0.4444444444444444,
              "#bd3786"
             ],
             [
              0.5555555555555556,
              "#d8576b"
             ],
             [
              0.6666666666666666,
              "#ed7953"
             ],
             [
              0.7777777777777778,
              "#fb9f3a"
             ],
             [
              0.8888888888888888,
              "#fdca26"
             ],
             [
              1,
              "#f0f921"
             ]
            ],
            "type": "heatmap"
           }
          ],
          "heatmapgl": [
           {
            "colorbar": {
             "outlinewidth": 0,
             "ticks": ""
            },
            "colorscale": [
             [
              0,
              "#0d0887"
             ],
             [
              0.1111111111111111,
              "#46039f"
             ],
             [
              0.2222222222222222,
              "#7201a8"
             ],
             [
              0.3333333333333333,
              "#9c179e"
             ],
             [
              0.4444444444444444,
              "#bd3786"
             ],
             [
              0.5555555555555556,
              "#d8576b"
             ],
             [
              0.6666666666666666,
              "#ed7953"
             ],
             [
              0.7777777777777778,
              "#fb9f3a"
             ],
             [
              0.8888888888888888,
              "#fdca26"
             ],
             [
              1,
              "#f0f921"
             ]
            ],
            "type": "heatmapgl"
           }
          ],
          "histogram": [
           {
            "marker": {
             "pattern": {
              "fillmode": "overlay",
              "size": 10,
              "solidity": 0.2
             }
            },
            "type": "histogram"
           }
          ],
          "histogram2d": [
           {
            "colorbar": {
             "outlinewidth": 0,
             "ticks": ""
            },
            "colorscale": [
             [
              0,
              "#0d0887"
             ],
             [
              0.1111111111111111,
              "#46039f"
             ],
             [
              0.2222222222222222,
              "#7201a8"
             ],
             [
              0.3333333333333333,
              "#9c179e"
             ],
             [
              0.4444444444444444,
              "#bd3786"
             ],
             [
              0.5555555555555556,
              "#d8576b"
             ],
             [
              0.6666666666666666,
              "#ed7953"
             ],
             [
              0.7777777777777778,
              "#fb9f3a"
             ],
             [
              0.8888888888888888,
              "#fdca26"
             ],
             [
              1,
              "#f0f921"
             ]
            ],
            "type": "histogram2d"
           }
          ],
          "histogram2dcontour": [
           {
            "colorbar": {
             "outlinewidth": 0,
             "ticks": ""
            },
            "colorscale": [
             [
              0,
              "#0d0887"
             ],
             [
              0.1111111111111111,
              "#46039f"
             ],
             [
              0.2222222222222222,
              "#7201a8"
             ],
             [
              0.3333333333333333,
              "#9c179e"
             ],
             [
              0.4444444444444444,
              "#bd3786"
             ],
             [
              0.5555555555555556,
              "#d8576b"
             ],
             [
              0.6666666666666666,
              "#ed7953"
             ],
             [
              0.7777777777777778,
              "#fb9f3a"
             ],
             [
              0.8888888888888888,
              "#fdca26"
             ],
             [
              1,
              "#f0f921"
             ]
            ],
            "type": "histogram2dcontour"
           }
          ],
          "mesh3d": [
           {
            "colorbar": {
             "outlinewidth": 0,
             "ticks": ""
            },
            "type": "mesh3d"
           }
          ],
          "parcoords": [
           {
            "line": {
             "colorbar": {
              "outlinewidth": 0,
              "ticks": ""
             }
            },
            "type": "parcoords"
           }
          ],
          "pie": [
           {
            "automargin": true,
            "type": "pie"
           }
          ],
          "scatter": [
           {
            "fillpattern": {
             "fillmode": "overlay",
             "size": 10,
             "solidity": 0.2
            },
            "type": "scatter"
           }
          ],
          "scatter3d": [
           {
            "line": {
             "colorbar": {
              "outlinewidth": 0,
              "ticks": ""
             }
            },
            "marker": {
             "colorbar": {
              "outlinewidth": 0,
              "ticks": ""
             }
            },
            "type": "scatter3d"
           }
          ],
          "scattercarpet": [
           {
            "marker": {
             "colorbar": {
              "outlinewidth": 0,
              "ticks": ""
             }
            },
            "type": "scattercarpet"
           }
          ],
          "scattergeo": [
           {
            "marker": {
             "colorbar": {
              "outlinewidth": 0,
              "ticks": ""
             }
            },
            "type": "scattergeo"
           }
          ],
          "scattergl": [
           {
            "marker": {
             "colorbar": {
              "outlinewidth": 0,
              "ticks": ""
             }
            },
            "type": "scattergl"
           }
          ],
          "scattermapbox": [
           {
            "marker": {
             "colorbar": {
              "outlinewidth": 0,
              "ticks": ""
             }
            },
            "type": "scattermapbox"
           }
          ],
          "scatterpolar": [
           {
            "marker": {
             "colorbar": {
              "outlinewidth": 0,
              "ticks": ""
             }
            },
            "type": "scatterpolar"
           }
          ],
          "scatterpolargl": [
           {
            "marker": {
             "colorbar": {
              "outlinewidth": 0,
              "ticks": ""
             }
            },
            "type": "scatterpolargl"
           }
          ],
          "scatterternary": [
           {
            "marker": {
             "colorbar": {
              "outlinewidth": 0,
              "ticks": ""
             }
            },
            "type": "scatterternary"
           }
          ],
          "surface": [
           {
            "colorbar": {
             "outlinewidth": 0,
             "ticks": ""
            },
            "colorscale": [
             [
              0,
              "#0d0887"
             ],
             [
              0.1111111111111111,
              "#46039f"
             ],
             [
              0.2222222222222222,
              "#7201a8"
             ],
             [
              0.3333333333333333,
              "#9c179e"
             ],
             [
              0.4444444444444444,
              "#bd3786"
             ],
             [
              0.5555555555555556,
              "#d8576b"
             ],
             [
              0.6666666666666666,
              "#ed7953"
             ],
             [
              0.7777777777777778,
              "#fb9f3a"
             ],
             [
              0.8888888888888888,
              "#fdca26"
             ],
             [
              1,
              "#f0f921"
             ]
            ],
            "type": "surface"
           }
          ],
          "table": [
           {
            "cells": {
             "fill": {
              "color": "#EBF0F8"
             },
             "line": {
              "color": "white"
             }
            },
            "header": {
             "fill": {
              "color": "#C8D4E3"
             },
             "line": {
              "color": "white"
             }
            },
            "type": "table"
           }
          ]
         },
         "layout": {
          "annotationdefaults": {
           "arrowcolor": "#2a3f5f",
           "arrowhead": 0,
           "arrowwidth": 1
          },
          "autotypenumbers": "strict",
          "coloraxis": {
           "colorbar": {
            "outlinewidth": 0,
            "ticks": ""
           }
          },
          "colorscale": {
           "diverging": [
            [
             0,
             "#8e0152"
            ],
            [
             0.1,
             "#c51b7d"
            ],
            [
             0.2,
             "#de77ae"
            ],
            [
             0.3,
             "#f1b6da"
            ],
            [
             0.4,
             "#fde0ef"
            ],
            [
             0.5,
             "#f7f7f7"
            ],
            [
             0.6,
             "#e6f5d0"
            ],
            [
             0.7,
             "#b8e186"
            ],
            [
             0.8,
             "#7fbc41"
            ],
            [
             0.9,
             "#4d9221"
            ],
            [
             1,
             "#276419"
            ]
           ],
           "sequential": [
            [
             0,
             "#0d0887"
            ],
            [
             0.1111111111111111,
             "#46039f"
            ],
            [
             0.2222222222222222,
             "#7201a8"
            ],
            [
             0.3333333333333333,
             "#9c179e"
            ],
            [
             0.4444444444444444,
             "#bd3786"
            ],
            [
             0.5555555555555556,
             "#d8576b"
            ],
            [
             0.6666666666666666,
             "#ed7953"
            ],
            [
             0.7777777777777778,
             "#fb9f3a"
            ],
            [
             0.8888888888888888,
             "#fdca26"
            ],
            [
             1,
             "#f0f921"
            ]
           ],
           "sequentialminus": [
            [
             0,
             "#0d0887"
            ],
            [
             0.1111111111111111,
             "#46039f"
            ],
            [
             0.2222222222222222,
             "#7201a8"
            ],
            [
             0.3333333333333333,
             "#9c179e"
            ],
            [
             0.4444444444444444,
             "#bd3786"
            ],
            [
             0.5555555555555556,
             "#d8576b"
            ],
            [
             0.6666666666666666,
             "#ed7953"
            ],
            [
             0.7777777777777778,
             "#fb9f3a"
            ],
            [
             0.8888888888888888,
             "#fdca26"
            ],
            [
             1,
             "#f0f921"
            ]
           ]
          },
          "colorway": [
           "#636efa",
           "#EF553B",
           "#00cc96",
           "#ab63fa",
           "#FFA15A",
           "#19d3f3",
           "#FF6692",
           "#B6E880",
           "#FF97FF",
           "#FECB52"
          ],
          "font": {
           "color": "#2a3f5f"
          },
          "geo": {
           "bgcolor": "white",
           "lakecolor": "white",
           "landcolor": "#E5ECF6",
           "showlakes": true,
           "showland": true,
           "subunitcolor": "white"
          },
          "hoverlabel": {
           "align": "left"
          },
          "hovermode": "closest",
          "mapbox": {
           "style": "light"
          },
          "paper_bgcolor": "white",
          "plot_bgcolor": "#E5ECF6",
          "polar": {
           "angularaxis": {
            "gridcolor": "white",
            "linecolor": "white",
            "ticks": ""
           },
           "bgcolor": "#E5ECF6",
           "radialaxis": {
            "gridcolor": "white",
            "linecolor": "white",
            "ticks": ""
           }
          },
          "scene": {
           "xaxis": {
            "backgroundcolor": "#E5ECF6",
            "gridcolor": "white",
            "gridwidth": 2,
            "linecolor": "white",
            "showbackground": true,
            "ticks": "",
            "zerolinecolor": "white"
           },
           "yaxis": {
            "backgroundcolor": "#E5ECF6",
            "gridcolor": "white",
            "gridwidth": 2,
            "linecolor": "white",
            "showbackground": true,
            "ticks": "",
            "zerolinecolor": "white"
           },
           "zaxis": {
            "backgroundcolor": "#E5ECF6",
            "gridcolor": "white",
            "gridwidth": 2,
            "linecolor": "white",
            "showbackground": true,
            "ticks": "",
            "zerolinecolor": "white"
           }
          },
          "shapedefaults": {
           "line": {
            "color": "#2a3f5f"
           }
          },
          "ternary": {
           "aaxis": {
            "gridcolor": "white",
            "linecolor": "white",
            "ticks": ""
           },
           "baxis": {
            "gridcolor": "white",
            "linecolor": "white",
            "ticks": ""
           },
           "bgcolor": "#E5ECF6",
           "caxis": {
            "gridcolor": "white",
            "linecolor": "white",
            "ticks": ""
           }
          },
          "title": {
           "x": 0.05
          },
          "xaxis": {
           "automargin": true,
           "gridcolor": "white",
           "linecolor": "white",
           "ticks": "",
           "title": {
            "standoff": 15
           },
           "zerolinecolor": "white",
           "zerolinewidth": 2
          },
          "yaxis": {
           "automargin": true,
           "gridcolor": "white",
           "linecolor": "white",
           "ticks": "",
           "title": {
            "standoff": 15
           },
           "zerolinecolor": "white",
           "zerolinewidth": 2
          }
         }
        },
        "width": 1000,
        "xaxis": {
         "anchor": "y",
         "domain": [
          0,
          1
         ],
         "title": {
          "text": "Regime type"
         }
        },
        "yaxis": {
         "anchor": "x",
         "domain": [
          0,
          1
         ],
         "title": {
          "text": "count"
         }
        }
       }
      }
     },
     "metadata": {},
     "output_type": "display_data"
    }
   ],
   "source": [
    "fig7 = px.bar(fdata, height=500, width= 1000, \n",
    "              x='Region',\n",
    "              color = 'Region')\n",
    "\n",
    "fig8 = px.bar(fdata, height=500, width= 1000, \n",
    "              x='Regime type',\n",
    "              color = 'Region',\n",
    "              hover_name='Country'\n",
    "              )\n",
    "display(fig7, fig8)"
   ]
  },
  {
   "cell_type": "markdown",
   "metadata": {
    "id": "QDN21EeqBtra"
   },
   "source": [
    "* 依據民主指數的分類可以發現佔比最高的類型還是專制政權，而這些專制政權國家大多來自於 **非洲**"
   ]
  },
  {
   "cell_type": "code",
   "execution_count": 26,
   "metadata": {
    "colab": {
     "base_uri": "https://localhost:8080/",
     "height": 617
    },
    "id": "mKMXVgacHmFH",
    "outputId": "52e41645-d81b-4a9c-f558-9f89f1f1da09"
   },
   "outputs": [
    {
     "data": {
      "application/vnd.plotly.v1+json": {
       "config": {
        "plotlyServerURL": "https://plot.ly"
       },
       "data": [
        {
         "hovertemplate": "Country=Singapore<br>Year=%{x}<br>Democracy Index=%{text}<extra></extra>",
         "legendgroup": "Singapore",
         "line": {
          "color": "#636efa",
          "dash": "solid"
         },
         "marker": {
          "symbol": "circle"
         },
         "mode": "text+markers+lines",
         "name": "Singapore",
         "orientation": "v",
         "showlegend": true,
         "text": [
          5.89,
          5.89,
          5.89,
          5.89,
          5.88,
          5.92,
          6.03,
          6.14,
          6.38,
          6.32,
          6.38,
          6.02,
          6.03,
          6.23
         ],
         "type": "scatter",
         "x": [
          "2006",
          "2008",
          "2010",
          "2011",
          "2012",
          "2013",
          "2014",
          "2015",
          "2016",
          "2017",
          "2018",
          "2019",
          "2020",
          "2021"
         ],
         "xaxis": "x",
         "y": [
          5.89,
          5.89,
          5.89,
          5.89,
          5.88,
          5.92,
          6.03,
          6.14,
          6.38,
          6.32,
          6.38,
          6.02,
          6.03,
          6.23
         ],
         "yaxis": "y"
        },
        {
         "hovertemplate": "Country=South Korea<br>Year=%{x}<br>Democracy Index=%{text}<extra></extra>",
         "legendgroup": "South Korea",
         "line": {
          "color": "#EF553B",
          "dash": "solid"
         },
         "marker": {
          "symbol": "circle"
         },
         "mode": "text+markers+lines",
         "name": "South Korea",
         "orientation": "v",
         "showlegend": true,
         "text": [
          7.88,
          8.01,
          8.11,
          8.06,
          8.13,
          8.06,
          8.06,
          7.97,
          7.92,
          8,
          8,
          8,
          8.01,
          8.16
         ],
         "type": "scatter",
         "x": [
          "2006",
          "2008",
          "2010",
          "2011",
          "2012",
          "2013",
          "2014",
          "2015",
          "2016",
          "2017",
          "2018",
          "2019",
          "2020",
          "2021"
         ],
         "xaxis": "x",
         "y": [
          7.88,
          8.01,
          8.11,
          8.06,
          8.13,
          8.06,
          8.06,
          7.97,
          7.92,
          8,
          8,
          8,
          8.01,
          8.16
         ],
         "yaxis": "y"
        },
        {
         "hovertemplate": "Country=Taiwan<br>Year=%{x}<br>Democracy Index=%{text}<extra></extra>",
         "legendgroup": "Taiwan",
         "line": {
          "color": "#00cc96",
          "dash": "solid"
         },
         "marker": {
          "symbol": "circle"
         },
         "mode": "text+markers+lines",
         "name": "Taiwan",
         "orientation": "v",
         "showlegend": true,
         "text": [
          7.82,
          7.82,
          7.52,
          7.46,
          7.57,
          7.57,
          7.65,
          7.83,
          7.79,
          7.73,
          7.73,
          7.73,
          8.94,
          8.99
         ],
         "type": "scatter",
         "x": [
          "2006",
          "2008",
          "2010",
          "2011",
          "2012",
          "2013",
          "2014",
          "2015",
          "2016",
          "2017",
          "2018",
          "2019",
          "2020",
          "2021"
         ],
         "xaxis": "x",
         "y": [
          7.82,
          7.82,
          7.52,
          7.46,
          7.57,
          7.57,
          7.65,
          7.83,
          7.79,
          7.73,
          7.73,
          7.73,
          8.94,
          8.99
         ],
         "yaxis": "y"
        },
        {
         "hovertemplate": "Country=Hong Kong<br>Year=%{x}<br>Democracy Index=%{text}<extra></extra>",
         "legendgroup": "Hong Kong",
         "line": {
          "color": "#ab63fa",
          "dash": "solid"
         },
         "marker": {
          "symbol": "circle"
         },
         "mode": "text+markers+lines",
         "name": "Hong Kong",
         "orientation": "v",
         "showlegend": true,
         "text": [
          6.03,
          5.85,
          5.92,
          5.92,
          6.42,
          6.42,
          6.46,
          6.5,
          6.42,
          6.31,
          6.15,
          6.02,
          5.57,
          5.6
         ],
         "type": "scatter",
         "x": [
          "2006",
          "2008",
          "2010",
          "2011",
          "2012",
          "2013",
          "2014",
          "2015",
          "2016",
          "2017",
          "2018",
          "2019",
          "2020",
          "2021"
         ],
         "xaxis": "x",
         "y": [
          6.03,
          5.85,
          5.92,
          5.92,
          6.42,
          6.42,
          6.46,
          6.5,
          6.42,
          6.31,
          6.15,
          6.02,
          5.57,
          5.6
         ],
         "yaxis": "y"
        }
       ],
       "layout": {
        "height": 600,
        "legend": {
         "title": {
          "text": "Country"
         },
         "tracegroupgap": 0
        },
        "template": {
         "data": {
          "bar": [
           {
            "error_x": {
             "color": "#2a3f5f"
            },
            "error_y": {
             "color": "#2a3f5f"
            },
            "marker": {
             "line": {
              "color": "#E5ECF6",
              "width": 0.5
             },
             "pattern": {
              "fillmode": "overlay",
              "size": 10,
              "solidity": 0.2
             }
            },
            "type": "bar"
           }
          ],
          "barpolar": [
           {
            "marker": {
             "line": {
              "color": "#E5ECF6",
              "width": 0.5
             },
             "pattern": {
              "fillmode": "overlay",
              "size": 10,
              "solidity": 0.2
             }
            },
            "type": "barpolar"
           }
          ],
          "carpet": [
           {
            "aaxis": {
             "endlinecolor": "#2a3f5f",
             "gridcolor": "white",
             "linecolor": "white",
             "minorgridcolor": "white",
             "startlinecolor": "#2a3f5f"
            },
            "baxis": {
             "endlinecolor": "#2a3f5f",
             "gridcolor": "white",
             "linecolor": "white",
             "minorgridcolor": "white",
             "startlinecolor": "#2a3f5f"
            },
            "type": "carpet"
           }
          ],
          "choropleth": [
           {
            "colorbar": {
             "outlinewidth": 0,
             "ticks": ""
            },
            "type": "choropleth"
           }
          ],
          "contour": [
           {
            "colorbar": {
             "outlinewidth": 0,
             "ticks": ""
            },
            "colorscale": [
             [
              0,
              "#0d0887"
             ],
             [
              0.1111111111111111,
              "#46039f"
             ],
             [
              0.2222222222222222,
              "#7201a8"
             ],
             [
              0.3333333333333333,
              "#9c179e"
             ],
             [
              0.4444444444444444,
              "#bd3786"
             ],
             [
              0.5555555555555556,
              "#d8576b"
             ],
             [
              0.6666666666666666,
              "#ed7953"
             ],
             [
              0.7777777777777778,
              "#fb9f3a"
             ],
             [
              0.8888888888888888,
              "#fdca26"
             ],
             [
              1,
              "#f0f921"
             ]
            ],
            "type": "contour"
           }
          ],
          "contourcarpet": [
           {
            "colorbar": {
             "outlinewidth": 0,
             "ticks": ""
            },
            "type": "contourcarpet"
           }
          ],
          "heatmap": [
           {
            "colorbar": {
             "outlinewidth": 0,
             "ticks": ""
            },
            "colorscale": [
             [
              0,
              "#0d0887"
             ],
             [
              0.1111111111111111,
              "#46039f"
             ],
             [
              0.2222222222222222,
              "#7201a8"
             ],
             [
              0.3333333333333333,
              "#9c179e"
             ],
             [
              0.4444444444444444,
              "#bd3786"
             ],
             [
              0.5555555555555556,
              "#d8576b"
             ],
             [
              0.6666666666666666,
              "#ed7953"
             ],
             [
              0.7777777777777778,
              "#fb9f3a"
             ],
             [
              0.8888888888888888,
              "#fdca26"
             ],
             [
              1,
              "#f0f921"
             ]
            ],
            "type": "heatmap"
           }
          ],
          "heatmapgl": [
           {
            "colorbar": {
             "outlinewidth": 0,
             "ticks": ""
            },
            "colorscale": [
             [
              0,
              "#0d0887"
             ],
             [
              0.1111111111111111,
              "#46039f"
             ],
             [
              0.2222222222222222,
              "#7201a8"
             ],
             [
              0.3333333333333333,
              "#9c179e"
             ],
             [
              0.4444444444444444,
              "#bd3786"
             ],
             [
              0.5555555555555556,
              "#d8576b"
             ],
             [
              0.6666666666666666,
              "#ed7953"
             ],
             [
              0.7777777777777778,
              "#fb9f3a"
             ],
             [
              0.8888888888888888,
              "#fdca26"
             ],
             [
              1,
              "#f0f921"
             ]
            ],
            "type": "heatmapgl"
           }
          ],
          "histogram": [
           {
            "marker": {
             "pattern": {
              "fillmode": "overlay",
              "size": 10,
              "solidity": 0.2
             }
            },
            "type": "histogram"
           }
          ],
          "histogram2d": [
           {
            "colorbar": {
             "outlinewidth": 0,
             "ticks": ""
            },
            "colorscale": [
             [
              0,
              "#0d0887"
             ],
             [
              0.1111111111111111,
              "#46039f"
             ],
             [
              0.2222222222222222,
              "#7201a8"
             ],
             [
              0.3333333333333333,
              "#9c179e"
             ],
             [
              0.4444444444444444,
              "#bd3786"
             ],
             [
              0.5555555555555556,
              "#d8576b"
             ],
             [
              0.6666666666666666,
              "#ed7953"
             ],
             [
              0.7777777777777778,
              "#fb9f3a"
             ],
             [
              0.8888888888888888,
              "#fdca26"
             ],
             [
              1,
              "#f0f921"
             ]
            ],
            "type": "histogram2d"
           }
          ],
          "histogram2dcontour": [
           {
            "colorbar": {
             "outlinewidth": 0,
             "ticks": ""
            },
            "colorscale": [
             [
              0,
              "#0d0887"
             ],
             [
              0.1111111111111111,
              "#46039f"
             ],
             [
              0.2222222222222222,
              "#7201a8"
             ],
             [
              0.3333333333333333,
              "#9c179e"
             ],
             [
              0.4444444444444444,
              "#bd3786"
             ],
             [
              0.5555555555555556,
              "#d8576b"
             ],
             [
              0.6666666666666666,
              "#ed7953"
             ],
             [
              0.7777777777777778,
              "#fb9f3a"
             ],
             [
              0.8888888888888888,
              "#fdca26"
             ],
             [
              1,
              "#f0f921"
             ]
            ],
            "type": "histogram2dcontour"
           }
          ],
          "mesh3d": [
           {
            "colorbar": {
             "outlinewidth": 0,
             "ticks": ""
            },
            "type": "mesh3d"
           }
          ],
          "parcoords": [
           {
            "line": {
             "colorbar": {
              "outlinewidth": 0,
              "ticks": ""
             }
            },
            "type": "parcoords"
           }
          ],
          "pie": [
           {
            "automargin": true,
            "type": "pie"
           }
          ],
          "scatter": [
           {
            "fillpattern": {
             "fillmode": "overlay",
             "size": 10,
             "solidity": 0.2
            },
            "type": "scatter"
           }
          ],
          "scatter3d": [
           {
            "line": {
             "colorbar": {
              "outlinewidth": 0,
              "ticks": ""
             }
            },
            "marker": {
             "colorbar": {
              "outlinewidth": 0,
              "ticks": ""
             }
            },
            "type": "scatter3d"
           }
          ],
          "scattercarpet": [
           {
            "marker": {
             "colorbar": {
              "outlinewidth": 0,
              "ticks": ""
             }
            },
            "type": "scattercarpet"
           }
          ],
          "scattergeo": [
           {
            "marker": {
             "colorbar": {
              "outlinewidth": 0,
              "ticks": ""
             }
            },
            "type": "scattergeo"
           }
          ],
          "scattergl": [
           {
            "marker": {
             "colorbar": {
              "outlinewidth": 0,
              "ticks": ""
             }
            },
            "type": "scattergl"
           }
          ],
          "scattermapbox": [
           {
            "marker": {
             "colorbar": {
              "outlinewidth": 0,
              "ticks": ""
             }
            },
            "type": "scattermapbox"
           }
          ],
          "scatterpolar": [
           {
            "marker": {
             "colorbar": {
              "outlinewidth": 0,
              "ticks": ""
             }
            },
            "type": "scatterpolar"
           }
          ],
          "scatterpolargl": [
           {
            "marker": {
             "colorbar": {
              "outlinewidth": 0,
              "ticks": ""
             }
            },
            "type": "scatterpolargl"
           }
          ],
          "scatterternary": [
           {
            "marker": {
             "colorbar": {
              "outlinewidth": 0,
              "ticks": ""
             }
            },
            "type": "scatterternary"
           }
          ],
          "surface": [
           {
            "colorbar": {
             "outlinewidth": 0,
             "ticks": ""
            },
            "colorscale": [
             [
              0,
              "#0d0887"
             ],
             [
              0.1111111111111111,
              "#46039f"
             ],
             [
              0.2222222222222222,
              "#7201a8"
             ],
             [
              0.3333333333333333,
              "#9c179e"
             ],
             [
              0.4444444444444444,
              "#bd3786"
             ],
             [
              0.5555555555555556,
              "#d8576b"
             ],
             [
              0.6666666666666666,
              "#ed7953"
             ],
             [
              0.7777777777777778,
              "#fb9f3a"
             ],
             [
              0.8888888888888888,
              "#fdca26"
             ],
             [
              1,
              "#f0f921"
             ]
            ],
            "type": "surface"
           }
          ],
          "table": [
           {
            "cells": {
             "fill": {
              "color": "#EBF0F8"
             },
             "line": {
              "color": "white"
             }
            },
            "header": {
             "fill": {
              "color": "#C8D4E3"
             },
             "line": {
              "color": "white"
             }
            },
            "type": "table"
           }
          ]
         },
         "layout": {
          "annotationdefaults": {
           "arrowcolor": "#2a3f5f",
           "arrowhead": 0,
           "arrowwidth": 1
          },
          "autotypenumbers": "strict",
          "coloraxis": {
           "colorbar": {
            "outlinewidth": 0,
            "ticks": ""
           }
          },
          "colorscale": {
           "diverging": [
            [
             0,
             "#8e0152"
            ],
            [
             0.1,
             "#c51b7d"
            ],
            [
             0.2,
             "#de77ae"
            ],
            [
             0.3,
             "#f1b6da"
            ],
            [
             0.4,
             "#fde0ef"
            ],
            [
             0.5,
             "#f7f7f7"
            ],
            [
             0.6,
             "#e6f5d0"
            ],
            [
             0.7,
             "#b8e186"
            ],
            [
             0.8,
             "#7fbc41"
            ],
            [
             0.9,
             "#4d9221"
            ],
            [
             1,
             "#276419"
            ]
           ],
           "sequential": [
            [
             0,
             "#0d0887"
            ],
            [
             0.1111111111111111,
             "#46039f"
            ],
            [
             0.2222222222222222,
             "#7201a8"
            ],
            [
             0.3333333333333333,
             "#9c179e"
            ],
            [
             0.4444444444444444,
             "#bd3786"
            ],
            [
             0.5555555555555556,
             "#d8576b"
            ],
            [
             0.6666666666666666,
             "#ed7953"
            ],
            [
             0.7777777777777778,
             "#fb9f3a"
            ],
            [
             0.8888888888888888,
             "#fdca26"
            ],
            [
             1,
             "#f0f921"
            ]
           ],
           "sequentialminus": [
            [
             0,
             "#0d0887"
            ],
            [
             0.1111111111111111,
             "#46039f"
            ],
            [
             0.2222222222222222,
             "#7201a8"
            ],
            [
             0.3333333333333333,
             "#9c179e"
            ],
            [
             0.4444444444444444,
             "#bd3786"
            ],
            [
             0.5555555555555556,
             "#d8576b"
            ],
            [
             0.6666666666666666,
             "#ed7953"
            ],
            [
             0.7777777777777778,
             "#fb9f3a"
            ],
            [
             0.8888888888888888,
             "#fdca26"
            ],
            [
             1,
             "#f0f921"
            ]
           ]
          },
          "colorway": [
           "#636efa",
           "#EF553B",
           "#00cc96",
           "#ab63fa",
           "#FFA15A",
           "#19d3f3",
           "#FF6692",
           "#B6E880",
           "#FF97FF",
           "#FECB52"
          ],
          "font": {
           "color": "#2a3f5f"
          },
          "geo": {
           "bgcolor": "white",
           "lakecolor": "white",
           "landcolor": "#E5ECF6",
           "showlakes": true,
           "showland": true,
           "subunitcolor": "white"
          },
          "hoverlabel": {
           "align": "left"
          },
          "hovermode": "closest",
          "mapbox": {
           "style": "light"
          },
          "paper_bgcolor": "white",
          "plot_bgcolor": "#E5ECF6",
          "polar": {
           "angularaxis": {
            "gridcolor": "white",
            "linecolor": "white",
            "ticks": ""
           },
           "bgcolor": "#E5ECF6",
           "radialaxis": {
            "gridcolor": "white",
            "linecolor": "white",
            "ticks": ""
           }
          },
          "scene": {
           "xaxis": {
            "backgroundcolor": "#E5ECF6",
            "gridcolor": "white",
            "gridwidth": 2,
            "linecolor": "white",
            "showbackground": true,
            "ticks": "",
            "zerolinecolor": "white"
           },
           "yaxis": {
            "backgroundcolor": "#E5ECF6",
            "gridcolor": "white",
            "gridwidth": 2,
            "linecolor": "white",
            "showbackground": true,
            "ticks": "",
            "zerolinecolor": "white"
           },
           "zaxis": {
            "backgroundcolor": "#E5ECF6",
            "gridcolor": "white",
            "gridwidth": 2,
            "linecolor": "white",
            "showbackground": true,
            "ticks": "",
            "zerolinecolor": "white"
           }
          },
          "shapedefaults": {
           "line": {
            "color": "#2a3f5f"
           }
          },
          "ternary": {
           "aaxis": {
            "gridcolor": "white",
            "linecolor": "white",
            "ticks": ""
           },
           "baxis": {
            "gridcolor": "white",
            "linecolor": "white",
            "ticks": ""
           },
           "bgcolor": "#E5ECF6",
           "caxis": {
            "gridcolor": "white",
            "linecolor": "white",
            "ticks": ""
           }
          },
          "title": {
           "x": 0.05
          },
          "xaxis": {
           "automargin": true,
           "gridcolor": "white",
           "linecolor": "white",
           "ticks": "",
           "title": {
            "standoff": 15
           },
           "zerolinecolor": "white",
           "zerolinewidth": 2
          },
          "yaxis": {
           "automargin": true,
           "gridcolor": "white",
           "linecolor": "white",
           "ticks": "",
           "title": {
            "standoff": 15
           },
           "zerolinecolor": "white",
           "zerolinewidth": 2
          }
         }
        },
        "title": {
         "text": "Four Asian Tigers Democracy index changing"
        },
        "width": 1000,
        "xaxis": {
         "anchor": "y",
         "domain": [
          0,
          1
         ],
         "title": {
          "text": "Year"
         }
        },
        "yaxis": {
         "anchor": "x",
         "domain": [
          0,
          1
         ],
         "title": {
          "text": "Democracy Index"
         }
        }
       }
      }
     },
     "metadata": {},
     "output_type": "display_data"
    }
   ],
   "source": [
    "fig9 = px.line(longdata.loc[longdata['Country'].isin(['Taiwan', 'South Korea', 'Singapore', 'Hong Kong'])],\n",
    "         x = 'Year', y = 'Democracy Index',\n",
    "         height = 600, width = 1000, \n",
    "         color = 'Country',\n",
    "         title = 'Four Asian Tigers Democracy index changing',\n",
    "         text = 'Democracy Index',\n",
    "         )\n",
    "\n",
    "fig9.show()"
   ]
  },
  {
   "cell_type": "markdown",
   "metadata": {
    "id": "0ews-wcNBfcQ"
   },
   "source": [
    "* 亞洲四小龍中 **台灣** 在2021年的民主指數表現是最好的"
   ]
  },
  {
   "attachments": {},
   "cell_type": "markdown",
   "metadata": {},
   "source": [
    "## Predict 2022 Democracy Index"
   ]
  },
  {
   "attachments": {},
   "cell_type": "markdown",
   "metadata": {},
   "source": [
    "### Split data"
   ]
  },
  {
   "cell_type": "code",
   "execution_count": 27,
   "metadata": {},
   "outputs": [
    {
     "data": {
      "text/html": [
       "<div>\n",
       "<style scoped>\n",
       "    .dataframe tbody tr th:only-of-type {\n",
       "        vertical-align: middle;\n",
       "    }\n",
       "\n",
       "    .dataframe tbody tr th {\n",
       "        vertical-align: top;\n",
       "    }\n",
       "\n",
       "    .dataframe thead th {\n",
       "        text-align: right;\n",
       "    }\n",
       "</style>\n",
       "<table border=\"1\" class=\"dataframe\">\n",
       "  <thead>\n",
       "    <tr style=\"text-align: right;\">\n",
       "      <th></th>\n",
       "      <th>Country</th>\n",
       "      <th>Rank</th>\n",
       "      <th>Region</th>\n",
       "      <th>Regime type</th>\n",
       "      <th>2021</th>\n",
       "      <th>2020</th>\n",
       "      <th>2019</th>\n",
       "      <th>2018</th>\n",
       "      <th>2017</th>\n",
       "      <th>2016</th>\n",
       "      <th>...</th>\n",
       "      <th>2012</th>\n",
       "      <th>2011</th>\n",
       "      <th>2010</th>\n",
       "      <th>2008</th>\n",
       "      <th>2006</th>\n",
       "      <th>Election</th>\n",
       "      <th>Government</th>\n",
       "      <th>Participate</th>\n",
       "      <th>Culture</th>\n",
       "      <th>Freedom</th>\n",
       "    </tr>\n",
       "  </thead>\n",
       "  <tbody>\n",
       "    <tr>\n",
       "      <th>0</th>\n",
       "      <td>Norway</td>\n",
       "      <td>1</td>\n",
       "      <td>Western Europe</td>\n",
       "      <td>Full democracy</td>\n",
       "      <td>9.75</td>\n",
       "      <td>9.81</td>\n",
       "      <td>9.87</td>\n",
       "      <td>9.87</td>\n",
       "      <td>9.87</td>\n",
       "      <td>9.93</td>\n",
       "      <td>...</td>\n",
       "      <td>9.93</td>\n",
       "      <td>9.80</td>\n",
       "      <td>9.80</td>\n",
       "      <td>9.68</td>\n",
       "      <td>9.55</td>\n",
       "      <td>10.00</td>\n",
       "      <td>9.64</td>\n",
       "      <td>10.00</td>\n",
       "      <td>10.00</td>\n",
       "      <td>9.12</td>\n",
       "    </tr>\n",
       "    <tr>\n",
       "      <th>1</th>\n",
       "      <td>New Zealand</td>\n",
       "      <td>2</td>\n",
       "      <td>Asia and Australasia</td>\n",
       "      <td>Full democracy</td>\n",
       "      <td>9.37</td>\n",
       "      <td>9.25</td>\n",
       "      <td>9.26</td>\n",
       "      <td>9.26</td>\n",
       "      <td>9.26</td>\n",
       "      <td>9.26</td>\n",
       "      <td>...</td>\n",
       "      <td>9.26</td>\n",
       "      <td>9.26</td>\n",
       "      <td>9.26</td>\n",
       "      <td>9.19</td>\n",
       "      <td>9.01</td>\n",
       "      <td>10.00</td>\n",
       "      <td>8.93</td>\n",
       "      <td>9.44</td>\n",
       "      <td>8.75</td>\n",
       "      <td>9.71</td>\n",
       "    </tr>\n",
       "    <tr>\n",
       "      <th>2</th>\n",
       "      <td>Finland</td>\n",
       "      <td>3</td>\n",
       "      <td>Western Europe</td>\n",
       "      <td>Full democracy</td>\n",
       "      <td>9.27</td>\n",
       "      <td>9.20</td>\n",
       "      <td>9.25</td>\n",
       "      <td>9.14</td>\n",
       "      <td>9.03</td>\n",
       "      <td>9.03</td>\n",
       "      <td>...</td>\n",
       "      <td>9.06</td>\n",
       "      <td>9.06</td>\n",
       "      <td>9.19</td>\n",
       "      <td>9.25</td>\n",
       "      <td>9.25</td>\n",
       "      <td>10.00</td>\n",
       "      <td>9.29</td>\n",
       "      <td>8.89</td>\n",
       "      <td>8.75</td>\n",
       "      <td>9.41</td>\n",
       "    </tr>\n",
       "    <tr>\n",
       "      <th>3</th>\n",
       "      <td>Sweden</td>\n",
       "      <td>4</td>\n",
       "      <td>Western Europe</td>\n",
       "      <td>Full democracy</td>\n",
       "      <td>9.26</td>\n",
       "      <td>9.26</td>\n",
       "      <td>9.39</td>\n",
       "      <td>9.39</td>\n",
       "      <td>9.39</td>\n",
       "      <td>9.39</td>\n",
       "      <td>...</td>\n",
       "      <td>9.73</td>\n",
       "      <td>9.50</td>\n",
       "      <td>9.50</td>\n",
       "      <td>9.88</td>\n",
       "      <td>9.88</td>\n",
       "      <td>9.58</td>\n",
       "      <td>9.29</td>\n",
       "      <td>8.33</td>\n",
       "      <td>10.00</td>\n",
       "      <td>9.12</td>\n",
       "    </tr>\n",
       "    <tr>\n",
       "      <th>4</th>\n",
       "      <td>Iceland</td>\n",
       "      <td>5</td>\n",
       "      <td>Western Europe</td>\n",
       "      <td>Full democracy</td>\n",
       "      <td>9.18</td>\n",
       "      <td>9.37</td>\n",
       "      <td>9.58</td>\n",
       "      <td>9.58</td>\n",
       "      <td>9.58</td>\n",
       "      <td>9.50</td>\n",
       "      <td>...</td>\n",
       "      <td>9.65</td>\n",
       "      <td>9.65</td>\n",
       "      <td>9.65</td>\n",
       "      <td>9.65</td>\n",
       "      <td>9.71</td>\n",
       "      <td>10.00</td>\n",
       "      <td>8.21</td>\n",
       "      <td>8.89</td>\n",
       "      <td>9.38</td>\n",
       "      <td>9.41</td>\n",
       "    </tr>\n",
       "    <tr>\n",
       "      <th>...</th>\n",
       "      <td>...</td>\n",
       "      <td>...</td>\n",
       "      <td>...</td>\n",
       "      <td>...</td>\n",
       "      <td>...</td>\n",
       "      <td>...</td>\n",
       "      <td>...</td>\n",
       "      <td>...</td>\n",
       "      <td>...</td>\n",
       "      <td>...</td>\n",
       "      <td>...</td>\n",
       "      <td>...</td>\n",
       "      <td>...</td>\n",
       "      <td>...</td>\n",
       "      <td>...</td>\n",
       "      <td>...</td>\n",
       "      <td>...</td>\n",
       "      <td>...</td>\n",
       "      <td>...</td>\n",
       "      <td>...</td>\n",
       "      <td>...</td>\n",
       "    </tr>\n",
       "    <tr>\n",
       "      <th>203</th>\n",
       "      <td>Central African Republic</td>\n",
       "      <td>162</td>\n",
       "      <td>Sub-Saharan Africa</td>\n",
       "      <td>Authoritarian</td>\n",
       "      <td>1.43</td>\n",
       "      <td>1.32</td>\n",
       "      <td>1.32</td>\n",
       "      <td>1.52</td>\n",
       "      <td>1.52</td>\n",
       "      <td>1.61</td>\n",
       "      <td>...</td>\n",
       "      <td>1.99</td>\n",
       "      <td>1.82</td>\n",
       "      <td>1.82</td>\n",
       "      <td>1.86</td>\n",
       "      <td>1.61</td>\n",
       "      <td>0.00</td>\n",
       "      <td>0.00</td>\n",
       "      <td>2.78</td>\n",
       "      <td>4.38</td>\n",
       "      <td>0.00</td>\n",
       "    </tr>\n",
       "    <tr>\n",
       "      <th>205</th>\n",
       "      <td>Democratic Republic of the Congo</td>\n",
       "      <td>164</td>\n",
       "      <td>Sub-Saharan Africa</td>\n",
       "      <td>Authoritarian</td>\n",
       "      <td>1.40</td>\n",
       "      <td>1.13</td>\n",
       "      <td>1.13</td>\n",
       "      <td>1.49</td>\n",
       "      <td>1.61</td>\n",
       "      <td>1.93</td>\n",
       "      <td>...</td>\n",
       "      <td>1.92</td>\n",
       "      <td>2.15</td>\n",
       "      <td>2.15</td>\n",
       "      <td>2.28</td>\n",
       "      <td>2.76</td>\n",
       "      <td>0.75</td>\n",
       "      <td>0.00</td>\n",
       "      <td>2.22</td>\n",
       "      <td>3.13</td>\n",
       "      <td>0.88</td>\n",
       "    </tr>\n",
       "    <tr>\n",
       "      <th>206</th>\n",
       "      <td>North Korea</td>\n",
       "      <td>165</td>\n",
       "      <td>Asia and Australasia</td>\n",
       "      <td>Authoritarian</td>\n",
       "      <td>1.08</td>\n",
       "      <td>1.08</td>\n",
       "      <td>1.08</td>\n",
       "      <td>1.08</td>\n",
       "      <td>1.08</td>\n",
       "      <td>1.08</td>\n",
       "      <td>...</td>\n",
       "      <td>1.08</td>\n",
       "      <td>1.08</td>\n",
       "      <td>1.08</td>\n",
       "      <td>0.86</td>\n",
       "      <td>1.03</td>\n",
       "      <td>0.00</td>\n",
       "      <td>2.50</td>\n",
       "      <td>1.67</td>\n",
       "      <td>1.25</td>\n",
       "      <td>0.00</td>\n",
       "    </tr>\n",
       "    <tr>\n",
       "      <th>207</th>\n",
       "      <td>Myanmar</td>\n",
       "      <td>166</td>\n",
       "      <td>Asia and Australasia</td>\n",
       "      <td>Authoritarian</td>\n",
       "      <td>1.02</td>\n",
       "      <td>3.04</td>\n",
       "      <td>3.55</td>\n",
       "      <td>3.83</td>\n",
       "      <td>3.83</td>\n",
       "      <td>4.20</td>\n",
       "      <td>...</td>\n",
       "      <td>2.35</td>\n",
       "      <td>1.77</td>\n",
       "      <td>1.77</td>\n",
       "      <td>1.77</td>\n",
       "      <td>1.77</td>\n",
       "      <td>0.00</td>\n",
       "      <td>0.00</td>\n",
       "      <td>1.67</td>\n",
       "      <td>3.13</td>\n",
       "      <td>0.29</td>\n",
       "    </tr>\n",
       "    <tr>\n",
       "      <th>208</th>\n",
       "      <td>Afghanistan</td>\n",
       "      <td>167</td>\n",
       "      <td>Asia and Australasia</td>\n",
       "      <td>Authoritarian</td>\n",
       "      <td>0.32</td>\n",
       "      <td>2.85</td>\n",
       "      <td>2.85</td>\n",
       "      <td>2.97</td>\n",
       "      <td>2.55</td>\n",
       "      <td>2.55</td>\n",
       "      <td>...</td>\n",
       "      <td>2.48</td>\n",
       "      <td>2.48</td>\n",
       "      <td>2.48</td>\n",
       "      <td>3.02</td>\n",
       "      <td>3.06</td>\n",
       "      <td>0.00</td>\n",
       "      <td>0.00</td>\n",
       "      <td>0.07</td>\n",
       "      <td>0.00</td>\n",
       "      <td>1.25</td>\n",
       "    </tr>\n",
       "  </tbody>\n",
       "</table>\n",
       "<p>167 rows × 23 columns</p>\n",
       "</div>"
      ],
      "text/plain": [
       "                              Country  Rank                Region  \\\n",
       "0                              Norway     1        Western Europe   \n",
       "1                         New Zealand     2  Asia and Australasia   \n",
       "2                             Finland     3        Western Europe   \n",
       "3                              Sweden     4        Western Europe   \n",
       "4                             Iceland     5        Western Europe   \n",
       "..                                ...   ...                   ...   \n",
       "203          Central African Republic   162    Sub-Saharan Africa   \n",
       "205  Democratic Republic of the Congo   164    Sub-Saharan Africa   \n",
       "206                       North Korea   165  Asia and Australasia   \n",
       "207                           Myanmar   166  Asia and Australasia   \n",
       "208                       Afghanistan   167  Asia and Australasia   \n",
       "\n",
       "        Regime type  2021  2020  2019  2018  2017  2016  ...  2012  2011  \\\n",
       "0    Full democracy  9.75  9.81  9.87  9.87  9.87  9.93  ...  9.93  9.80   \n",
       "1    Full democracy  9.37  9.25  9.26  9.26  9.26  9.26  ...  9.26  9.26   \n",
       "2    Full democracy  9.27  9.20  9.25  9.14  9.03  9.03  ...  9.06  9.06   \n",
       "3    Full democracy  9.26  9.26  9.39  9.39  9.39  9.39  ...  9.73  9.50   \n",
       "4    Full democracy  9.18  9.37  9.58  9.58  9.58  9.50  ...  9.65  9.65   \n",
       "..              ...   ...   ...   ...   ...   ...   ...  ...   ...   ...   \n",
       "203   Authoritarian  1.43  1.32  1.32  1.52  1.52  1.61  ...  1.99  1.82   \n",
       "205   Authoritarian  1.40  1.13  1.13  1.49  1.61  1.93  ...  1.92  2.15   \n",
       "206   Authoritarian  1.08  1.08  1.08  1.08  1.08  1.08  ...  1.08  1.08   \n",
       "207   Authoritarian  1.02  3.04  3.55  3.83  3.83  4.20  ...  2.35  1.77   \n",
       "208   Authoritarian  0.32  2.85  2.85  2.97  2.55  2.55  ...  2.48  2.48   \n",
       "\n",
       "     2010  2008  2006  Election  Government  Participate  Culture  Freedom  \n",
       "0    9.80  9.68  9.55     10.00        9.64        10.00    10.00     9.12  \n",
       "1    9.26  9.19  9.01     10.00        8.93         9.44     8.75     9.71  \n",
       "2    9.19  9.25  9.25     10.00        9.29         8.89     8.75     9.41  \n",
       "3    9.50  9.88  9.88      9.58        9.29         8.33    10.00     9.12  \n",
       "4    9.65  9.65  9.71     10.00        8.21         8.89     9.38     9.41  \n",
       "..    ...   ...   ...       ...         ...          ...      ...      ...  \n",
       "203  1.82  1.86  1.61      0.00        0.00         2.78     4.38     0.00  \n",
       "205  2.15  2.28  2.76      0.75        0.00         2.22     3.13     0.88  \n",
       "206  1.08  0.86  1.03      0.00        2.50         1.67     1.25     0.00  \n",
       "207  1.77  1.77  1.77      0.00        0.00         1.67     3.13     0.29  \n",
       "208  2.48  3.02  3.06      0.00        0.00         0.07     0.00     1.25  \n",
       "\n",
       "[167 rows x 23 columns]"
      ]
     },
     "execution_count": 27,
     "metadata": {},
     "output_type": "execute_result"
    }
   ],
   "source": [
    "fdata"
   ]
  },
  {
   "cell_type": "code",
   "execution_count": 28,
   "metadata": {},
   "outputs": [
    {
     "name": "stdout",
     "output_type": "stream",
     "text": [
      "x_train: (108, 17)\n",
      "y_train: (108,)\n",
      "x_test: (59, 17)\n",
      "y_test: (59,)\n"
     ]
    }
   ],
   "source": [
    "# split out predcit variable\n",
    "indexy = fdata.iloc[:,4]\n",
    "indexx= fdata.iloc[:,5:22]\n",
    "# split the data to test and train data\n",
    "x_train, x_test, y_train, y_test = train_test_split(indexx, indexy, \n",
    "                                                    test_size = 0.35,\n",
    "                                                    random_state = 1)\n",
    "print('x_train:', x_train.shape)\n",
    "print('y_train:', y_train.shape)\n",
    "print('x_test:', x_test.shape)\n",
    "print('y_test:', y_test.shape)"
   ]
  },
  {
   "attachments": {},
   "cell_type": "markdown",
   "metadata": {},
   "source": [
    "* Linear regression"
   ]
  },
  {
   "cell_type": "code",
   "execution_count": 29,
   "metadata": {},
   "outputs": [
    {
     "data": {
      "text/html": [
       "<style>#sk-container-id-1 {color: black;background-color: white;}#sk-container-id-1 pre{padding: 0;}#sk-container-id-1 div.sk-toggleable {background-color: white;}#sk-container-id-1 label.sk-toggleable__label {cursor: pointer;display: block;width: 100%;margin-bottom: 0;padding: 0.3em;box-sizing: border-box;text-align: center;}#sk-container-id-1 label.sk-toggleable__label-arrow:before {content: \"▸\";float: left;margin-right: 0.25em;color: #696969;}#sk-container-id-1 label.sk-toggleable__label-arrow:hover:before {color: black;}#sk-container-id-1 div.sk-estimator:hover label.sk-toggleable__label-arrow:before {color: black;}#sk-container-id-1 div.sk-toggleable__content {max-height: 0;max-width: 0;overflow: hidden;text-align: left;background-color: #f0f8ff;}#sk-container-id-1 div.sk-toggleable__content pre {margin: 0.2em;color: black;border-radius: 0.25em;background-color: #f0f8ff;}#sk-container-id-1 input.sk-toggleable__control:checked~div.sk-toggleable__content {max-height: 200px;max-width: 100%;overflow: auto;}#sk-container-id-1 input.sk-toggleable__control:checked~label.sk-toggleable__label-arrow:before {content: \"▾\";}#sk-container-id-1 div.sk-estimator input.sk-toggleable__control:checked~label.sk-toggleable__label {background-color: #d4ebff;}#sk-container-id-1 div.sk-label input.sk-toggleable__control:checked~label.sk-toggleable__label {background-color: #d4ebff;}#sk-container-id-1 input.sk-hidden--visually {border: 0;clip: rect(1px 1px 1px 1px);clip: rect(1px, 1px, 1px, 1px);height: 1px;margin: -1px;overflow: hidden;padding: 0;position: absolute;width: 1px;}#sk-container-id-1 div.sk-estimator {font-family: monospace;background-color: #f0f8ff;border: 1px dotted black;border-radius: 0.25em;box-sizing: border-box;margin-bottom: 0.5em;}#sk-container-id-1 div.sk-estimator:hover {background-color: #d4ebff;}#sk-container-id-1 div.sk-parallel-item::after {content: \"\";width: 100%;border-bottom: 1px solid gray;flex-grow: 1;}#sk-container-id-1 div.sk-label:hover label.sk-toggleable__label {background-color: #d4ebff;}#sk-container-id-1 div.sk-serial::before {content: \"\";position: absolute;border-left: 1px solid gray;box-sizing: border-box;top: 0;bottom: 0;left: 50%;z-index: 0;}#sk-container-id-1 div.sk-serial {display: flex;flex-direction: column;align-items: center;background-color: white;padding-right: 0.2em;padding-left: 0.2em;position: relative;}#sk-container-id-1 div.sk-item {position: relative;z-index: 1;}#sk-container-id-1 div.sk-parallel {display: flex;align-items: stretch;justify-content: center;background-color: white;position: relative;}#sk-container-id-1 div.sk-item::before, #sk-container-id-1 div.sk-parallel-item::before {content: \"\";position: absolute;border-left: 1px solid gray;box-sizing: border-box;top: 0;bottom: 0;left: 50%;z-index: -1;}#sk-container-id-1 div.sk-parallel-item {display: flex;flex-direction: column;z-index: 1;position: relative;background-color: white;}#sk-container-id-1 div.sk-parallel-item:first-child::after {align-self: flex-end;width: 50%;}#sk-container-id-1 div.sk-parallel-item:last-child::after {align-self: flex-start;width: 50%;}#sk-container-id-1 div.sk-parallel-item:only-child::after {width: 0;}#sk-container-id-1 div.sk-dashed-wrapped {border: 1px dashed gray;margin: 0 0.4em 0.5em 0.4em;box-sizing: border-box;padding-bottom: 0.4em;background-color: white;}#sk-container-id-1 div.sk-label label {font-family: monospace;font-weight: bold;display: inline-block;line-height: 1.2em;}#sk-container-id-1 div.sk-label-container {text-align: center;}#sk-container-id-1 div.sk-container {/* jupyter's `normalize.less` sets `[hidden] { display: none; }` but bootstrap.min.css set `[hidden] { display: none !important; }` so we also need the `!important` here to be able to override the default hidden behavior on the sphinx rendered scikit-learn.org. See: https://github.com/scikit-learn/scikit-learn/issues/21755 */display: inline-block !important;position: relative;}#sk-container-id-1 div.sk-text-repr-fallback {display: none;}</style><div id=\"sk-container-id-1\" class=\"sk-top-container\"><div class=\"sk-text-repr-fallback\"><pre>LinearRegression()</pre><b>In a Jupyter environment, please rerun this cell to show the HTML representation or trust the notebook. <br />On GitHub, the HTML representation is unable to render, please try loading this page with nbviewer.org.</b></div><div class=\"sk-container\" hidden><div class=\"sk-item\"><div class=\"sk-estimator sk-toggleable\"><input class=\"sk-toggleable__control sk-hidden--visually\" id=\"sk-estimator-id-1\" type=\"checkbox\" checked><label for=\"sk-estimator-id-1\" class=\"sk-toggleable__label sk-toggleable__label-arrow\">LinearRegression</label><div class=\"sk-toggleable__content\"><pre>LinearRegression()</pre></div></div></div></div></div>"
      ],
      "text/plain": [
       "LinearRegression()"
      ]
     },
     "execution_count": 29,
     "metadata": {},
     "output_type": "execute_result"
    }
   ],
   "source": [
    "LR = LinearRegression()\n",
    "LR.fit(x_train, y_train)"
   ]
  },
  {
   "cell_type": "code",
   "execution_count": 30,
   "metadata": {},
   "outputs": [
    {
     "name": "stdout",
     "output_type": "stream",
     "text": [
      "Linear Regressor's score: 0.9913557670122928\n"
     ]
    },
    {
     "data": {
      "text/html": [
       "<div>\n",
       "<style scoped>\n",
       "    .dataframe tbody tr th:only-of-type {\n",
       "        vertical-align: middle;\n",
       "    }\n",
       "\n",
       "    .dataframe tbody tr th {\n",
       "        vertical-align: top;\n",
       "    }\n",
       "\n",
       "    .dataframe thead th {\n",
       "        text-align: right;\n",
       "    }\n",
       "</style>\n",
       "<table border=\"1\" class=\"dataframe\">\n",
       "  <thead>\n",
       "    <tr style=\"text-align: right;\">\n",
       "      <th></th>\n",
       "      <th>R-square</th>\n",
       "      <th>MAE</th>\n",
       "      <th>MSE</th>\n",
       "      <th>RMSE</th>\n",
       "    </tr>\n",
       "  </thead>\n",
       "  <tbody>\n",
       "    <tr>\n",
       "      <th>value</th>\n",
       "      <td>0.991356</td>\n",
       "      <td>0.144045</td>\n",
       "      <td>0.039671</td>\n",
       "      <td>0.199176</td>\n",
       "    </tr>\n",
       "  </tbody>\n",
       "</table>\n",
       "</div>"
      ],
      "text/plain": [
       "       R-square       MAE       MSE      RMSE\n",
       "value  0.991356  0.144045  0.039671  0.199176"
      ]
     },
     "execution_count": 30,
     "metadata": {},
     "output_type": "execute_result"
    }
   ],
   "source": [
    "LRpred = LR.predict(x_test)\n",
    "print(f'Linear Regressor\\'s score: {LR.score(x_test, y_test)}') \n",
    "pd.DataFrame({'R-square': r2_score(y_test, LRpred), 'MAE': mean_absolute_error(y_test, LRpred), 'MSE': mean_squared_error(y_test, LRpred), 'RMSE': mean_squared_error(y_test, LRpred, squared=False)}, index=['value'])"
   ]
  },
  {
   "cell_type": "code",
   "execution_count": 31,
   "metadata": {},
   "outputs": [
    {
     "data": {
      "image/png": "[encoded data removed]",
      "text/plain": [
       "<Figure size 1440x1080 with 1 Axes>"
      ]
     },
     "metadata": {
      "needs_background": "light"
     },
     "output_type": "display_data"
    }
   ],
   "source": [
    "plt.figure(figsize=(20,15))\n",
    "plt.plot(LRpred)\n",
    "plt.plot(np.array(y_test))\n",
    "plt.legend(['Predicted','Actual'])\n",
    "plt.show()"
   ]
  },
  {
   "cell_type": "code",
   "execution_count": null,
   "metadata": {},
   "outputs": [],
   "source": []
  }
 ],
 "metadata": {
  "colab": {
   "collapsed_sections": [],
   "name": "Dataframe of Summit for Democracy and Democracy index.ipynb",
   "provenance": [],
   "toc_visible": true
  },
  "kernelspec": {
   "display_name": "base",
   "language": "python",
   "name": "python3"
  },
  "language_info": {
   "codemirror_mode": {
    "name": "ipython",
    "version": 3
   },
   "file_extension": ".py",
   "mimetype": "text/x-python",
   "name": "python",
   "nbconvert_exporter": "python",
   "pygments_lexer": "ipython3",
   "version": "3.9.12"
  },
  "vscode": {
   "interpreter": {
    "hash": "6602c2885c02d123719f05763fdd31327dda850adf85d09c83d4eb769f341e41"
   }
  }
 },
 "nbformat": 4,
 "nbformat_minor": 4
}
